{
 "cells": [
  {
   "cell_type": "markdown",
   "id": "826f913f",
   "metadata": {},
   "source": [
    "# **High Value Customer Identification (Insiders)**"
   ]
  },
  {
   "cell_type": "markdown",
   "id": "03d4b8ea",
   "metadata": {
    "ExecuteTime": {
     "end_time": "2022-03-21T22:31:08.134542Z",
     "start_time": "2022-03-21T22:31:08.129541Z"
    }
   },
   "source": [
    "## Solution Planning"
   ]
  },
  {
   "cell_type": "markdown",
   "id": "6dbb638b",
   "metadata": {},
   "source": [
    "### Input"
   ]
  },
  {
   "cell_type": "markdown",
   "id": "794fa322",
   "metadata": {},
   "source": [
    "**1. Business Problem**\n",
    "- Select the most valuable customers to join a loyalty program.\n",
    "\n",
    "**2. Dataset**\n",
    "- E-commerce sales throughout one year."
   ]
  },
  {
   "cell_type": "markdown",
   "id": "254f252c",
   "metadata": {},
   "source": [
    "### Output"
   ]
  },
  {
   "cell_type": "markdown",
   "id": "73bd23d7",
   "metadata": {},
   "source": [
    "**1. A list with the seleced customers.**\n",
    "   - Format: \n",
    "   \n",
    "|      client_id  |   is_insider  |  \n",
    "|:---------------:|:-------------:|\n",
    "|  10323          |   yes/1       | \n",
    "|  32415\t\t  |    no/1       | \n",
    "\n",
    "**2. Report with the business questions' answers:**\n",
    "- Who are the eligible customers to the program?\n",
    "- How many customers will be part of the group?\n",
    "- What are the main characteristics of these customers?\n",
    "- What is the percentage of revenue contribution from the Insiders?\n",
    "- What is the expected revenue from the Insiders for the next few months?\n",
    "- What are the conditions for a person to be eligible as an Insider?\n",
    "- What are the conditions for a person to be removed from the Insiders?\n",
    "- What is the guarantee that the Insiders are better than the rest?\n",
    "- What actions could be done by the marketing team to increase the revenue?"
   ]
  },
  {
   "cell_type": "markdown",
   "id": "a0ec819a",
   "metadata": {},
   "source": [
    "### Tasks"
   ]
  },
  {
   "cell_type": "markdown",
   "id": "9be3b4d8",
   "metadata": {
    "ExecuteTime": {
     "end_time": "2022-03-21T22:58:04.642732Z",
     "start_time": "2022-03-21T22:58:04.611725Z"
    }
   },
   "source": [
    "**1. Who are the eligible customers to the program?**\n",
    "- What is being eligible? What is \"the most valuable customers\"?\n",
    "- Valuable customers as:\n",
    "    - Revenue:\n",
    "        - High average ticket;\n",
    "        - High life time value (LTV);\n",
    "        - Low recency;\n",
    "        - High basket size;\n",
    "        - Low churn probability;\n",
    "        - High LTV prediction;\n",
    "        - High propensity to buy.\n",
    "        \n",
    "    - Cost:\n",
    "        - Low return rate.  \n",
    "   \n",
    "    - Shopping experience:\n",
    "        - High evaluation score.\n",
    "\n",
    "**2. How many customers will be part of the group?**\n",
    "- Customers that are Insiders divided by total customers.\n",
    "\n",
    "**3. What are the main attributes of these customers?**\n",
    "- Get customers characteristcs, such as:\n",
    "    - Age;\n",
    "    - Location;\n",
    "    - ...\n",
    "- Get consuption characteristics, such as:\n",
    "    - Clustering attributes.\n",
    "    \n",
    "    \n",
    "**4. What is the percentage of revenue contribution from the Insiders?**\n",
    "- Revenue contribution from the Insiders divided by total revenue.\n",
    "\n",
    "**5. What is the expected revenue from the Insiders for the next few months?**\n",
    "- Insiders' LTV;\n",
    "- Cohort analysis.\n",
    "\n",
    "**6. What are the conditions for a person to be eligible as an Insider?**\n",
    "- Define periodicity;\n",
    "- The person needs to be similiar to an Insider.\n",
    "\n",
    "\n",
    "**7. What are the conditions for a person to be removed from the Insiders?**\n",
    "- Define periodicity;\n",
    "- The person needs to be different in a certain level to an Insider.\n",
    "\n",
    "**8. What is the guarantee that the Insiders are better than the rest?**\n",
    "- A/B Testing;\n",
    "- A/B Bayesian Testing;\n",
    "- Hypothesis Testing.\n",
    "\n",
    "**9. What actions could be done by the marketing team to increase the revenue?**\n",
    "- Discount;\n",
    "- Purchase preference;\n",
    "- Low shipping;\n",
    "- ..."
   ]
  },
  {
   "cell_type": "markdown",
   "id": "1592a746",
   "metadata": {},
   "source": [
    "## Solution Benchmark"
   ]
  },
  {
   "cell_type": "markdown",
   "id": "88910dd0",
   "metadata": {},
   "source": [
    "### RFM Model"
   ]
  },
  {
   "cell_type": "markdown",
   "id": "2ba2304c",
   "metadata": {},
   "source": [
    "**1. Recency:**\n",
    "- Time since the last purchase;\n",
    "- Responsiveness.\n",
    "\n",
    "**2. Frequency:**\n",
    "- Mean time between transactions;\n",
    "- Engagement.\n",
    "\n",
    "**3. Monetary:**\n",
    "- Total spent;\n",
    "- Revenue."
   ]
  },
  {
   "cell_type": "markdown",
   "id": "f91b0568",
   "metadata": {},
   "source": [
    "![](../img/rfm.png)"
   ]
  },
  {
   "cell_type": "markdown",
   "id": "b1e84a85",
   "metadata": {},
   "source": [
    "**1. Champions**\n",
    "- Recent and frequent purchases, with high value;\n",
    "- Prizes for these customers.\n",
    "\n",
    "**2. Potential Loyalists**\n",
    "- Recent purchases, with a good frequency and good value;\n",
    "- Loyalty program and Upsell.\n",
    "\n",
    "**3. New Customers**\n",
    "- Recent purchase and low frequency;\n",
    "- Relationship building and offers.\n",
    "\n",
    "**4. At Risk Customer**\n",
    "- It has been a long time since the last purchase;\n",
    "- Reactivation campaigns, offers and products.\n",
    "\n",
    "**5. Can't Lose Them**\n",
    "- Understand the causes and offer some benefits."
   ]
  },
  {
   "cell_type": "markdown",
   "id": "baf5b796",
   "metadata": {
    "ExecuteTime": {
     "end_time": "2022-03-23T00:25:21.044668Z",
     "start_time": "2022-03-23T00:25:21.029162Z"
    }
   },
   "source": [
    "# 1. Imports"
   ]
  },
  {
   "cell_type": "code",
   "execution_count": 89,
   "id": "7d9ebd13",
   "metadata": {
    "ExecuteTime": {
     "end_time": "2022-06-15T23:34:22.288801Z",
     "start_time": "2022-06-15T23:34:22.275795Z"
    }
   },
   "outputs": [],
   "source": [
    "import re\n",
    "import sqlite3\n",
    "import s3fs\n",
    "import os\n",
    "import pickle\n",
    "import warnings\n",
    "\n",
    "import pandas       as pd\n",
    "import numpy        as np\n",
    "import seaborn      as sns\n",
    "import umap.umap_   as umap\n",
    "\n",
    "from matplotlib              import pyplot        as plt\n",
    "from plotly                  import express       as px\n",
    "from sklearn                 import preprocessing as pp\n",
    "from matplotlib              import cm\n",
    "from sqlalchemy              import create_engine\n",
    "from dotenv                  import load_dotenv, find_dotenv\n",
    "\n",
    "from pandas_profiling        import ProfileReport\n",
    "from IPython.core.display    import HTML\n",
    "from IPython.display         import Image\n",
    "\n",
    "from sklearn.metrics         import silhouette_score, silhouette_samples\n",
    "from sklearn.cluster         import KMeans, DBSCAN\n",
    "from sklearn.preprocessing   import MinMaxScaler\n",
    "from sklearn.decomposition   import PCA\n",
    "from sklearn.manifold        import TSNE\n",
    "from sklearn.ensemble        import RandomForestRegressor\n",
    "from sklearn.mixture         import GaussianMixture\n",
    "from sklearn.neighbors       import NearestNeighbors\n",
    "\n",
    "from scipy.cluster.hierarchy import linkage, dendrogram, fcluster"
   ]
  },
  {
   "cell_type": "markdown",
   "id": "e0063f7f",
   "metadata": {},
   "source": [
    "## 1.1. Helper Functions"
   ]
  },
  {
   "cell_type": "code",
   "execution_count": 90,
   "id": "7c2292f2",
   "metadata": {
    "ExecuteTime": {
     "end_time": "2022-06-15T23:34:23.168745Z",
     "start_time": "2022-06-15T23:34:23.150741Z"
    }
   },
   "outputs": [],
   "source": [
    "def jupyter_settings():\n",
    "    %matplotlib inline\n",
    "\n",
    "    plt.style.use( 'bmh' )\n",
    "    plt.rcParams['figure.figsize'] = [20,8]\n",
    "    plt.rcParams['font.size'] = 11\n",
    "\n",
    "    display( HTML( '<style>.container { width:80% !important; }</style>' ) )\n",
    "    pd.options.display.max_columns = None\n",
    "    pd.options.display.max_rows = None\n",
    "    pd.set_option( 'display.expand_frame_repr', False )\n",
    "    pd.set_option( 'display.max_columns', None )\n",
    "\n",
    "    sns.set_style(\"darkgrid\")\n",
    "    sns.set_palette(\"muted\")\n",
    "    \n",
    "    \n",
    "    warnings.filterwarnings('ignore')"
   ]
  },
  {
   "cell_type": "code",
   "execution_count": 91,
   "id": "0ead5f91",
   "metadata": {
    "ExecuteTime": {
     "end_time": "2022-06-15T23:34:23.672043Z",
     "start_time": "2022-06-15T23:34:23.654040Z"
    }
   },
   "outputs": [
    {
     "data": {
      "text/html": [
       "<style>.container { width:80% !important; }</style>"
      ],
      "text/plain": [
       "<IPython.core.display.HTML object>"
      ]
     },
     "metadata": {},
     "output_type": "display_data"
    }
   ],
   "source": [
    "jupyter_settings()"
   ]
  },
  {
   "cell_type": "markdown",
   "id": "ac35f79b",
   "metadata": {},
   "source": [
    "## 1.2. Load Dataset"
   ]
  },
  {
   "cell_type": "code",
   "execution_count": 44,
   "id": "ec475856",
   "metadata": {
    "ExecuteTime": {
     "end_time": "2022-06-15T23:30:43.787024Z",
     "start_time": "2022-06-15T23:30:43.773022Z"
    }
   },
   "outputs": [],
   "source": [
    "# load env variables\n",
    "load_dotenv(override=True)\n",
    "\n",
    "# get credentials\n",
    "aws_access_key_id = os.environ.get( 'aws_access_key_id' )\n",
    "aws_secret_access_key = os.environ.get( 'aws_secret_access_key' )\n",
    "region = os.environ.get( 'region' )\n",
    "\n",
    "# connect to S3\n",
    "path_s3 = 's3://insiders-dataset-gcs/'\n",
    "\n",
    "fs = s3fs.S3FileSystem( anon=False, key=aws_access_key_id, secret=aws_secret_access_key );"
   ]
  },
  {
   "cell_type": "code",
   "execution_count": 45,
   "id": "9b8f06fe",
   "metadata": {
    "ExecuteTime": {
     "end_time": "2022-06-15T23:30:54.397826Z",
     "start_time": "2022-06-15T23:30:43.788024Z"
    }
   },
   "outputs": [],
   "source": [
    "# load data\n",
    "df_raw = pd.read_csv( fs.open( path_s3 + 'Ecommerce.csv', 'rb' ),  encoding= 'unicode_escape' )\n",
    "\n",
    "# drop extra column\n",
    "df_raw.drop( columns='Unnamed: 8', axis=1, inplace=True)"
   ]
  },
  {
   "cell_type": "code",
   "execution_count": 46,
   "id": "106e92fe",
   "metadata": {
    "ExecuteTime": {
     "end_time": "2022-06-15T23:30:54.413831Z",
     "start_time": "2022-06-15T23:30:54.399828Z"
    }
   },
   "outputs": [
    {
     "data": {
      "text/html": [
       "<div>\n",
       "<style scoped>\n",
       "    .dataframe tbody tr th:only-of-type {\n",
       "        vertical-align: middle;\n",
       "    }\n",
       "\n",
       "    .dataframe tbody tr th {\n",
       "        vertical-align: top;\n",
       "    }\n",
       "\n",
       "    .dataframe thead th {\n",
       "        text-align: right;\n",
       "    }\n",
       "</style>\n",
       "<table border=\"1\" class=\"dataframe\">\n",
       "  <thead>\n",
       "    <tr style=\"text-align: right;\">\n",
       "      <th></th>\n",
       "      <th>InvoiceNo</th>\n",
       "      <th>StockCode</th>\n",
       "      <th>Description</th>\n",
       "      <th>Quantity</th>\n",
       "      <th>InvoiceDate</th>\n",
       "      <th>UnitPrice</th>\n",
       "      <th>CustomerID</th>\n",
       "      <th>Country</th>\n",
       "    </tr>\n",
       "  </thead>\n",
       "  <tbody>\n",
       "    <tr>\n",
       "      <th>0</th>\n",
       "      <td>536365</td>\n",
       "      <td>85123A</td>\n",
       "      <td>WHITE HANGING HEART T-LIGHT HOLDER</td>\n",
       "      <td>6</td>\n",
       "      <td>29-Nov-16</td>\n",
       "      <td>2.55</td>\n",
       "      <td>17850.0</td>\n",
       "      <td>United Kingdom</td>\n",
       "    </tr>\n",
       "    <tr>\n",
       "      <th>1</th>\n",
       "      <td>536365</td>\n",
       "      <td>71053</td>\n",
       "      <td>WHITE METAL LANTERN</td>\n",
       "      <td>6</td>\n",
       "      <td>29-Nov-16</td>\n",
       "      <td>3.39</td>\n",
       "      <td>17850.0</td>\n",
       "      <td>United Kingdom</td>\n",
       "    </tr>\n",
       "    <tr>\n",
       "      <th>2</th>\n",
       "      <td>536365</td>\n",
       "      <td>84406B</td>\n",
       "      <td>CREAM CUPID HEARTS COAT HANGER</td>\n",
       "      <td>8</td>\n",
       "      <td>29-Nov-16</td>\n",
       "      <td>2.75</td>\n",
       "      <td>17850.0</td>\n",
       "      <td>United Kingdom</td>\n",
       "    </tr>\n",
       "    <tr>\n",
       "      <th>3</th>\n",
       "      <td>536365</td>\n",
       "      <td>84029G</td>\n",
       "      <td>KNITTED UNION FLAG HOT WATER BOTTLE</td>\n",
       "      <td>6</td>\n",
       "      <td>29-Nov-16</td>\n",
       "      <td>3.39</td>\n",
       "      <td>17850.0</td>\n",
       "      <td>United Kingdom</td>\n",
       "    </tr>\n",
       "    <tr>\n",
       "      <th>4</th>\n",
       "      <td>536365</td>\n",
       "      <td>84029E</td>\n",
       "      <td>RED WOOLLY HOTTIE WHITE HEART.</td>\n",
       "      <td>6</td>\n",
       "      <td>29-Nov-16</td>\n",
       "      <td>3.39</td>\n",
       "      <td>17850.0</td>\n",
       "      <td>United Kingdom</td>\n",
       "    </tr>\n",
       "  </tbody>\n",
       "</table>\n",
       "</div>"
      ],
      "text/plain": [
       "  InvoiceNo StockCode                          Description  Quantity  \\\n",
       "0    536365    85123A   WHITE HANGING HEART T-LIGHT HOLDER         6   \n",
       "1    536365     71053                  WHITE METAL LANTERN         6   \n",
       "2    536365    84406B       CREAM CUPID HEARTS COAT HANGER         8   \n",
       "3    536365    84029G  KNITTED UNION FLAG HOT WATER BOTTLE         6   \n",
       "4    536365    84029E       RED WOOLLY HOTTIE WHITE HEART.         6   \n",
       "\n",
       "  InvoiceDate  UnitPrice  CustomerID         Country  \n",
       "0   29-Nov-16       2.55     17850.0  United Kingdom  \n",
       "1   29-Nov-16       3.39     17850.0  United Kingdom  \n",
       "2   29-Nov-16       2.75     17850.0  United Kingdom  \n",
       "3   29-Nov-16       3.39     17850.0  United Kingdom  \n",
       "4   29-Nov-16       3.39     17850.0  United Kingdom  "
      ]
     },
     "execution_count": 46,
     "metadata": {},
     "output_type": "execute_result"
    }
   ],
   "source": [
    "df_raw.head()"
   ]
  },
  {
   "cell_type": "markdown",
   "id": "eb0991ff",
   "metadata": {},
   "source": [
    "# 2. Data Description"
   ]
  },
  {
   "cell_type": "code",
   "execution_count": 47,
   "id": "6000d0cb",
   "metadata": {
    "ExecuteTime": {
     "end_time": "2022-06-15T23:30:54.429833Z",
     "start_time": "2022-06-15T23:30:54.415831Z"
    }
   },
   "outputs": [],
   "source": [
    "df2 = df_raw.copy()"
   ]
  },
  {
   "cell_type": "markdown",
   "id": "d1419773",
   "metadata": {},
   "source": [
    "## 2.1. Rename Columns"
   ]
  },
  {
   "cell_type": "code",
   "execution_count": 48,
   "id": "4d993c29",
   "metadata": {
    "ExecuteTime": {
     "end_time": "2022-06-15T23:30:54.445838Z",
     "start_time": "2022-06-15T23:30:54.430834Z"
    }
   },
   "outputs": [
    {
     "data": {
      "text/html": [
       "<div>\n",
       "<style scoped>\n",
       "    .dataframe tbody tr th:only-of-type {\n",
       "        vertical-align: middle;\n",
       "    }\n",
       "\n",
       "    .dataframe tbody tr th {\n",
       "        vertical-align: top;\n",
       "    }\n",
       "\n",
       "    .dataframe thead th {\n",
       "        text-align: right;\n",
       "    }\n",
       "</style>\n",
       "<table border=\"1\" class=\"dataframe\">\n",
       "  <thead>\n",
       "    <tr style=\"text-align: right;\">\n",
       "      <th></th>\n",
       "      <th>invoice_no</th>\n",
       "      <th>stock_code</th>\n",
       "      <th>description</th>\n",
       "      <th>quantity</th>\n",
       "      <th>invoice_date</th>\n",
       "      <th>unit_price</th>\n",
       "      <th>customer_id</th>\n",
       "      <th>country</th>\n",
       "    </tr>\n",
       "  </thead>\n",
       "  <tbody>\n",
       "    <tr>\n",
       "      <th>0</th>\n",
       "      <td>536365</td>\n",
       "      <td>85123A</td>\n",
       "      <td>WHITE HANGING HEART T-LIGHT HOLDER</td>\n",
       "      <td>6</td>\n",
       "      <td>29-Nov-16</td>\n",
       "      <td>2.55</td>\n",
       "      <td>17850.0</td>\n",
       "      <td>United Kingdom</td>\n",
       "    </tr>\n",
       "    <tr>\n",
       "      <th>1</th>\n",
       "      <td>536365</td>\n",
       "      <td>71053</td>\n",
       "      <td>WHITE METAL LANTERN</td>\n",
       "      <td>6</td>\n",
       "      <td>29-Nov-16</td>\n",
       "      <td>3.39</td>\n",
       "      <td>17850.0</td>\n",
       "      <td>United Kingdom</td>\n",
       "    </tr>\n",
       "    <tr>\n",
       "      <th>2</th>\n",
       "      <td>536365</td>\n",
       "      <td>84406B</td>\n",
       "      <td>CREAM CUPID HEARTS COAT HANGER</td>\n",
       "      <td>8</td>\n",
       "      <td>29-Nov-16</td>\n",
       "      <td>2.75</td>\n",
       "      <td>17850.0</td>\n",
       "      <td>United Kingdom</td>\n",
       "    </tr>\n",
       "    <tr>\n",
       "      <th>3</th>\n",
       "      <td>536365</td>\n",
       "      <td>84029G</td>\n",
       "      <td>KNITTED UNION FLAG HOT WATER BOTTLE</td>\n",
       "      <td>6</td>\n",
       "      <td>29-Nov-16</td>\n",
       "      <td>3.39</td>\n",
       "      <td>17850.0</td>\n",
       "      <td>United Kingdom</td>\n",
       "    </tr>\n",
       "    <tr>\n",
       "      <th>4</th>\n",
       "      <td>536365</td>\n",
       "      <td>84029E</td>\n",
       "      <td>RED WOOLLY HOTTIE WHITE HEART.</td>\n",
       "      <td>6</td>\n",
       "      <td>29-Nov-16</td>\n",
       "      <td>3.39</td>\n",
       "      <td>17850.0</td>\n",
       "      <td>United Kingdom</td>\n",
       "    </tr>\n",
       "  </tbody>\n",
       "</table>\n",
       "</div>"
      ],
      "text/plain": [
       "  invoice_no stock_code                          description  quantity  \\\n",
       "0     536365     85123A   WHITE HANGING HEART T-LIGHT HOLDER         6   \n",
       "1     536365      71053                  WHITE METAL LANTERN         6   \n",
       "2     536365     84406B       CREAM CUPID HEARTS COAT HANGER         8   \n",
       "3     536365     84029G  KNITTED UNION FLAG HOT WATER BOTTLE         6   \n",
       "4     536365     84029E       RED WOOLLY HOTTIE WHITE HEART.         6   \n",
       "\n",
       "  invoice_date  unit_price  customer_id         country  \n",
       "0    29-Nov-16        2.55      17850.0  United Kingdom  \n",
       "1    29-Nov-16        3.39      17850.0  United Kingdom  \n",
       "2    29-Nov-16        2.75      17850.0  United Kingdom  \n",
       "3    29-Nov-16        3.39      17850.0  United Kingdom  \n",
       "4    29-Nov-16        3.39      17850.0  United Kingdom  "
      ]
     },
     "execution_count": 48,
     "metadata": {},
     "output_type": "execute_result"
    }
   ],
   "source": [
    "cols_new = ['invoice_no', 'stock_code', 'description', 'quantity', 'invoice_date', 'unit_price', 'customer_id', 'country']\n",
    "\n",
    "# rename columns\n",
    "df2.columns = cols_new\n",
    "df2.head()"
   ]
  },
  {
   "cell_type": "markdown",
   "id": "3232b8e7",
   "metadata": {},
   "source": [
    "## 2.2. Data Dimensions"
   ]
  },
  {
   "cell_type": "code",
   "execution_count": 49,
   "id": "0972cafd",
   "metadata": {
    "ExecuteTime": {
     "end_time": "2022-06-15T23:30:54.461842Z",
     "start_time": "2022-06-15T23:30:54.446839Z"
    }
   },
   "outputs": [
    {
     "name": "stdout",
     "output_type": "stream",
     "text": [
      "Number of rows: 541909\n",
      "Number of columns: 8\n"
     ]
    }
   ],
   "source": [
    "print( 'Number of rows: {}'.format( df2.shape[0] ) )\n",
    "print( 'Number of columns: {}'.format( df2.shape[1] ) )"
   ]
  },
  {
   "cell_type": "markdown",
   "id": "819d18a4",
   "metadata": {},
   "source": [
    "## 2.3. Data Types"
   ]
  },
  {
   "cell_type": "code",
   "execution_count": 50,
   "id": "3208575b",
   "metadata": {
    "ExecuteTime": {
     "end_time": "2022-06-15T23:30:54.476844Z",
     "start_time": "2022-06-15T23:30:54.462842Z"
    }
   },
   "outputs": [
    {
     "data": {
      "text/plain": [
       "invoice_no       object\n",
       "stock_code       object\n",
       "description      object\n",
       "quantity          int64\n",
       "invoice_date     object\n",
       "unit_price      float64\n",
       "customer_id     float64\n",
       "country          object\n",
       "dtype: object"
      ]
     },
     "execution_count": 50,
     "metadata": {},
     "output_type": "execute_result"
    }
   ],
   "source": [
    "df2.dtypes"
   ]
  },
  {
   "cell_type": "markdown",
   "id": "4e5abbf5",
   "metadata": {},
   "source": [
    "## 2.4. Check NA"
   ]
  },
  {
   "cell_type": "code",
   "execution_count": 51,
   "id": "d58df37e",
   "metadata": {
    "ExecuteTime": {
     "end_time": "2022-06-15T23:30:54.827923Z",
     "start_time": "2022-06-15T23:30:54.478845Z"
    }
   },
   "outputs": [
    {
     "data": {
      "text/plain": [
       "invoice_no           0\n",
       "stock_code           0\n",
       "description       1454\n",
       "quantity             0\n",
       "invoice_date         0\n",
       "unit_price           0\n",
       "customer_id     135080\n",
       "country              0\n",
       "dtype: int64"
      ]
     },
     "execution_count": 51,
     "metadata": {},
     "output_type": "execute_result"
    }
   ],
   "source": [
    "df2.isna().sum()"
   ]
  },
  {
   "cell_type": "markdown",
   "id": "1890d61e",
   "metadata": {},
   "source": [
    "## 2.5. Replace NA"
   ]
  },
  {
   "cell_type": "code",
   "execution_count": 52,
   "id": "c1f5ff92",
   "metadata": {
    "ExecuteTime": {
     "end_time": "2022-06-15T23:30:54.875933Z",
     "start_time": "2022-06-15T23:30:54.830926Z"
    }
   },
   "outputs": [],
   "source": [
    "df_missing = df2.loc[df2['customer_id'].isna(), :]\n",
    "df_not_missing = df2.loc[~df2['customer_id'].isna(), :]"
   ]
  },
  {
   "cell_type": "code",
   "execution_count": 53,
   "id": "077c6824",
   "metadata": {
    "ExecuteTime": {
     "end_time": "2022-06-15T23:30:54.891941Z",
     "start_time": "2022-06-15T23:30:54.876934Z"
    }
   },
   "outputs": [
    {
     "data": {
      "text/plain": [
       "18287.0"
      ]
     },
     "execution_count": 53,
     "metadata": {},
     "output_type": "execute_result"
    }
   ],
   "source": [
    "# max customer_id\n",
    "df_not_missing['customer_id'].max()"
   ]
  },
  {
   "cell_type": "code",
   "execution_count": 54,
   "id": "5b1b6ce2",
   "metadata": {
    "ExecuteTime": {
     "end_time": "2022-06-15T23:30:54.907947Z",
     "start_time": "2022-06-15T23:30:54.892942Z"
    }
   },
   "outputs": [
    {
     "data": {
      "text/html": [
       "<div>\n",
       "<style scoped>\n",
       "    .dataframe tbody tr th:only-of-type {\n",
       "        vertical-align: middle;\n",
       "    }\n",
       "\n",
       "    .dataframe tbody tr th {\n",
       "        vertical-align: top;\n",
       "    }\n",
       "\n",
       "    .dataframe thead th {\n",
       "        text-align: right;\n",
       "    }\n",
       "</style>\n",
       "<table border=\"1\" class=\"dataframe\">\n",
       "  <thead>\n",
       "    <tr style=\"text-align: right;\">\n",
       "      <th></th>\n",
       "      <th>invoice_no</th>\n",
       "      <th>customer_id</th>\n",
       "    </tr>\n",
       "  </thead>\n",
       "  <tbody>\n",
       "    <tr>\n",
       "      <th>622</th>\n",
       "      <td>536414</td>\n",
       "      <td>19000</td>\n",
       "    </tr>\n",
       "    <tr>\n",
       "      <th>1443</th>\n",
       "      <td>536544</td>\n",
       "      <td>19001</td>\n",
       "    </tr>\n",
       "    <tr>\n",
       "      <th>1970</th>\n",
       "      <td>536545</td>\n",
       "      <td>19002</td>\n",
       "    </tr>\n",
       "    <tr>\n",
       "      <th>1971</th>\n",
       "      <td>536546</td>\n",
       "      <td>19003</td>\n",
       "    </tr>\n",
       "    <tr>\n",
       "      <th>1972</th>\n",
       "      <td>536547</td>\n",
       "      <td>19004</td>\n",
       "    </tr>\n",
       "  </tbody>\n",
       "</table>\n",
       "</div>"
      ],
      "text/plain": [
       "     invoice_no  customer_id\n",
       "622      536414        19000\n",
       "1443     536544        19001\n",
       "1970     536545        19002\n",
       "1971     536546        19003\n",
       "1972     536547        19004"
      ]
     },
     "execution_count": 54,
     "metadata": {},
     "output_type": "execute_result"
    }
   ],
   "source": [
    "# create reference\n",
    "df_backup = pd.DataFrame( df_missing['invoice_no'].drop_duplicates() )\n",
    "df_backup['customer_id'] = np.arange( 19000, 19000 + len(df_backup), 1 )\n",
    "df_backup.head()"
   ]
  },
  {
   "cell_type": "code",
   "execution_count": 55,
   "id": "791f56e1",
   "metadata": {
    "ExecuteTime": {
     "end_time": "2022-06-15T23:30:55.019969Z",
     "start_time": "2022-06-15T23:30:54.909946Z"
    }
   },
   "outputs": [
    {
     "data": {
      "text/html": [
       "<div>\n",
       "<style scoped>\n",
       "    .dataframe tbody tr th:only-of-type {\n",
       "        vertical-align: middle;\n",
       "    }\n",
       "\n",
       "    .dataframe tbody tr th {\n",
       "        vertical-align: top;\n",
       "    }\n",
       "\n",
       "    .dataframe thead th {\n",
       "        text-align: right;\n",
       "    }\n",
       "</style>\n",
       "<table border=\"1\" class=\"dataframe\">\n",
       "  <thead>\n",
       "    <tr style=\"text-align: right;\">\n",
       "      <th></th>\n",
       "      <th>invoice_no</th>\n",
       "      <th>stock_code</th>\n",
       "      <th>description</th>\n",
       "      <th>quantity</th>\n",
       "      <th>invoice_date</th>\n",
       "      <th>unit_price</th>\n",
       "      <th>customer_id_x</th>\n",
       "      <th>country</th>\n",
       "      <th>customer_id_y</th>\n",
       "    </tr>\n",
       "  </thead>\n",
       "  <tbody>\n",
       "    <tr>\n",
       "      <th>0</th>\n",
       "      <td>536365</td>\n",
       "      <td>85123A</td>\n",
       "      <td>WHITE HANGING HEART T-LIGHT HOLDER</td>\n",
       "      <td>6</td>\n",
       "      <td>29-Nov-16</td>\n",
       "      <td>2.55</td>\n",
       "      <td>17850.0</td>\n",
       "      <td>United Kingdom</td>\n",
       "      <td>NaN</td>\n",
       "    </tr>\n",
       "    <tr>\n",
       "      <th>1</th>\n",
       "      <td>536365</td>\n",
       "      <td>71053</td>\n",
       "      <td>WHITE METAL LANTERN</td>\n",
       "      <td>6</td>\n",
       "      <td>29-Nov-16</td>\n",
       "      <td>3.39</td>\n",
       "      <td>17850.0</td>\n",
       "      <td>United Kingdom</td>\n",
       "      <td>NaN</td>\n",
       "    </tr>\n",
       "    <tr>\n",
       "      <th>2</th>\n",
       "      <td>536365</td>\n",
       "      <td>84406B</td>\n",
       "      <td>CREAM CUPID HEARTS COAT HANGER</td>\n",
       "      <td>8</td>\n",
       "      <td>29-Nov-16</td>\n",
       "      <td>2.75</td>\n",
       "      <td>17850.0</td>\n",
       "      <td>United Kingdom</td>\n",
       "      <td>NaN</td>\n",
       "    </tr>\n",
       "    <tr>\n",
       "      <th>3</th>\n",
       "      <td>536365</td>\n",
       "      <td>84029G</td>\n",
       "      <td>KNITTED UNION FLAG HOT WATER BOTTLE</td>\n",
       "      <td>6</td>\n",
       "      <td>29-Nov-16</td>\n",
       "      <td>3.39</td>\n",
       "      <td>17850.0</td>\n",
       "      <td>United Kingdom</td>\n",
       "      <td>NaN</td>\n",
       "    </tr>\n",
       "    <tr>\n",
       "      <th>4</th>\n",
       "      <td>536365</td>\n",
       "      <td>84029E</td>\n",
       "      <td>RED WOOLLY HOTTIE WHITE HEART.</td>\n",
       "      <td>6</td>\n",
       "      <td>29-Nov-16</td>\n",
       "      <td>3.39</td>\n",
       "      <td>17850.0</td>\n",
       "      <td>United Kingdom</td>\n",
       "      <td>NaN</td>\n",
       "    </tr>\n",
       "  </tbody>\n",
       "</table>\n",
       "</div>"
      ],
      "text/plain": [
       "  invoice_no stock_code                          description  quantity  \\\n",
       "0     536365     85123A   WHITE HANGING HEART T-LIGHT HOLDER         6   \n",
       "1     536365      71053                  WHITE METAL LANTERN         6   \n",
       "2     536365     84406B       CREAM CUPID HEARTS COAT HANGER         8   \n",
       "3     536365     84029G  KNITTED UNION FLAG HOT WATER BOTTLE         6   \n",
       "4     536365     84029E       RED WOOLLY HOTTIE WHITE HEART.         6   \n",
       "\n",
       "  invoice_date  unit_price  customer_id_x         country  customer_id_y  \n",
       "0    29-Nov-16        2.55        17850.0  United Kingdom            NaN  \n",
       "1    29-Nov-16        3.39        17850.0  United Kingdom            NaN  \n",
       "2    29-Nov-16        2.75        17850.0  United Kingdom            NaN  \n",
       "3    29-Nov-16        3.39        17850.0  United Kingdom            NaN  \n",
       "4    29-Nov-16        3.39        17850.0  United Kingdom            NaN  "
      ]
     },
     "execution_count": 55,
     "metadata": {},
     "output_type": "execute_result"
    }
   ],
   "source": [
    "# merge original with reference\n",
    "df2 = pd.merge( df2, df_backup, on='invoice_no', how='left' )\n",
    "df2.head()"
   ]
  },
  {
   "cell_type": "code",
   "execution_count": 56,
   "id": "1e20720f",
   "metadata": {
    "ExecuteTime": {
     "end_time": "2022-06-15T23:30:55.067980Z",
     "start_time": "2022-06-15T23:30:55.020970Z"
    }
   },
   "outputs": [
    {
     "data": {
      "text/html": [
       "<div>\n",
       "<style scoped>\n",
       "    .dataframe tbody tr th:only-of-type {\n",
       "        vertical-align: middle;\n",
       "    }\n",
       "\n",
       "    .dataframe tbody tr th {\n",
       "        vertical-align: top;\n",
       "    }\n",
       "\n",
       "    .dataframe thead th {\n",
       "        text-align: right;\n",
       "    }\n",
       "</style>\n",
       "<table border=\"1\" class=\"dataframe\">\n",
       "  <thead>\n",
       "    <tr style=\"text-align: right;\">\n",
       "      <th></th>\n",
       "      <th>invoice_no</th>\n",
       "      <th>stock_code</th>\n",
       "      <th>description</th>\n",
       "      <th>quantity</th>\n",
       "      <th>invoice_date</th>\n",
       "      <th>unit_price</th>\n",
       "      <th>country</th>\n",
       "      <th>customer_id</th>\n",
       "    </tr>\n",
       "  </thead>\n",
       "  <tbody>\n",
       "    <tr>\n",
       "      <th>0</th>\n",
       "      <td>536365</td>\n",
       "      <td>85123A</td>\n",
       "      <td>WHITE HANGING HEART T-LIGHT HOLDER</td>\n",
       "      <td>6</td>\n",
       "      <td>29-Nov-16</td>\n",
       "      <td>2.55</td>\n",
       "      <td>United Kingdom</td>\n",
       "      <td>17850.0</td>\n",
       "    </tr>\n",
       "    <tr>\n",
       "      <th>1</th>\n",
       "      <td>536365</td>\n",
       "      <td>71053</td>\n",
       "      <td>WHITE METAL LANTERN</td>\n",
       "      <td>6</td>\n",
       "      <td>29-Nov-16</td>\n",
       "      <td>3.39</td>\n",
       "      <td>United Kingdom</td>\n",
       "      <td>17850.0</td>\n",
       "    </tr>\n",
       "    <tr>\n",
       "      <th>2</th>\n",
       "      <td>536365</td>\n",
       "      <td>84406B</td>\n",
       "      <td>CREAM CUPID HEARTS COAT HANGER</td>\n",
       "      <td>8</td>\n",
       "      <td>29-Nov-16</td>\n",
       "      <td>2.75</td>\n",
       "      <td>United Kingdom</td>\n",
       "      <td>17850.0</td>\n",
       "    </tr>\n",
       "    <tr>\n",
       "      <th>3</th>\n",
       "      <td>536365</td>\n",
       "      <td>84029G</td>\n",
       "      <td>KNITTED UNION FLAG HOT WATER BOTTLE</td>\n",
       "      <td>6</td>\n",
       "      <td>29-Nov-16</td>\n",
       "      <td>3.39</td>\n",
       "      <td>United Kingdom</td>\n",
       "      <td>17850.0</td>\n",
       "    </tr>\n",
       "    <tr>\n",
       "      <th>4</th>\n",
       "      <td>536365</td>\n",
       "      <td>84029E</td>\n",
       "      <td>RED WOOLLY HOTTIE WHITE HEART.</td>\n",
       "      <td>6</td>\n",
       "      <td>29-Nov-16</td>\n",
       "      <td>3.39</td>\n",
       "      <td>United Kingdom</td>\n",
       "      <td>17850.0</td>\n",
       "    </tr>\n",
       "  </tbody>\n",
       "</table>\n",
       "</div>"
      ],
      "text/plain": [
       "  invoice_no stock_code                          description  quantity  \\\n",
       "0     536365     85123A   WHITE HANGING HEART T-LIGHT HOLDER         6   \n",
       "1     536365      71053                  WHITE METAL LANTERN         6   \n",
       "2     536365     84406B       CREAM CUPID HEARTS COAT HANGER         8   \n",
       "3     536365     84029G  KNITTED UNION FLAG HOT WATER BOTTLE         6   \n",
       "4     536365     84029E       RED WOOLLY HOTTIE WHITE HEART.         6   \n",
       "\n",
       "  invoice_date  unit_price         country  customer_id  \n",
       "0    29-Nov-16        2.55  United Kingdom      17850.0  \n",
       "1    29-Nov-16        3.39  United Kingdom      17850.0  \n",
       "2    29-Nov-16        2.75  United Kingdom      17850.0  \n",
       "3    29-Nov-16        3.39  United Kingdom      17850.0  \n",
       "4    29-Nov-16        3.39  United Kingdom      17850.0  "
      ]
     },
     "execution_count": 56,
     "metadata": {},
     "output_type": "execute_result"
    }
   ],
   "source": [
    "# coalesce\n",
    "df2['customer_id'] = df2['customer_id_x'].combine_first( df2['customer_id_y'] )\n",
    "\n",
    "# drop extra columns\n",
    "df2.drop( columns=['customer_id_x', 'customer_id_y'], axis=1, inplace=True )\n",
    "df2.head()"
   ]
  },
  {
   "cell_type": "code",
   "execution_count": 57,
   "id": "4d166356",
   "metadata": {
    "ExecuteTime": {
     "end_time": "2022-06-15T23:30:55.431063Z",
     "start_time": "2022-06-15T23:30:55.068981Z"
    }
   },
   "outputs": [
    {
     "data": {
      "text/plain": [
       "invoice_no         0\n",
       "stock_code         0\n",
       "description     1454\n",
       "quantity           0\n",
       "invoice_date       0\n",
       "unit_price         0\n",
       "country            0\n",
       "customer_id        0\n",
       "dtype: int64"
      ]
     },
     "execution_count": 57,
     "metadata": {},
     "output_type": "execute_result"
    }
   ],
   "source": [
    "df2.isna().sum()"
   ]
  },
  {
   "cell_type": "code",
   "execution_count": 58,
   "id": "bc6ec42f",
   "metadata": {
    "ExecuteTime": {
     "end_time": "2022-06-15T23:30:55.446067Z",
     "start_time": "2022-06-15T23:30:55.433063Z"
    }
   },
   "outputs": [
    {
     "data": {
      "text/plain": [
       "invoice_no       object\n",
       "stock_code       object\n",
       "description      object\n",
       "quantity          int64\n",
       "invoice_date     object\n",
       "unit_price      float64\n",
       "country          object\n",
       "customer_id     float64\n",
       "dtype: object"
      ]
     },
     "execution_count": 58,
     "metadata": {},
     "output_type": "execute_result"
    }
   ],
   "source": [
    "df2.dtypes"
   ]
  },
  {
   "cell_type": "markdown",
   "id": "19b8a8c4",
   "metadata": {},
   "source": [
    "## 2.6. Change dtypes"
   ]
  },
  {
   "cell_type": "code",
   "execution_count": 59,
   "id": "a316bb83",
   "metadata": {
    "ExecuteTime": {
     "end_time": "2022-06-15T23:30:55.524083Z",
     "start_time": "2022-06-15T23:30:55.447066Z"
    }
   },
   "outputs": [
    {
     "data": {
      "text/html": [
       "<div>\n",
       "<style scoped>\n",
       "    .dataframe tbody tr th:only-of-type {\n",
       "        vertical-align: middle;\n",
       "    }\n",
       "\n",
       "    .dataframe tbody tr th {\n",
       "        vertical-align: top;\n",
       "    }\n",
       "\n",
       "    .dataframe thead th {\n",
       "        text-align: right;\n",
       "    }\n",
       "</style>\n",
       "<table border=\"1\" class=\"dataframe\">\n",
       "  <thead>\n",
       "    <tr style=\"text-align: right;\">\n",
       "      <th></th>\n",
       "      <th>invoice_no</th>\n",
       "      <th>stock_code</th>\n",
       "      <th>description</th>\n",
       "      <th>quantity</th>\n",
       "      <th>invoice_date</th>\n",
       "      <th>unit_price</th>\n",
       "      <th>country</th>\n",
       "      <th>customer_id</th>\n",
       "    </tr>\n",
       "  </thead>\n",
       "  <tbody>\n",
       "    <tr>\n",
       "      <th>0</th>\n",
       "      <td>536365</td>\n",
       "      <td>85123A</td>\n",
       "      <td>WHITE HANGING HEART T-LIGHT HOLDER</td>\n",
       "      <td>6</td>\n",
       "      <td>2016-11-29</td>\n",
       "      <td>2.55</td>\n",
       "      <td>United Kingdom</td>\n",
       "      <td>17850</td>\n",
       "    </tr>\n",
       "    <tr>\n",
       "      <th>1</th>\n",
       "      <td>536365</td>\n",
       "      <td>71053</td>\n",
       "      <td>WHITE METAL LANTERN</td>\n",
       "      <td>6</td>\n",
       "      <td>2016-11-29</td>\n",
       "      <td>3.39</td>\n",
       "      <td>United Kingdom</td>\n",
       "      <td>17850</td>\n",
       "    </tr>\n",
       "    <tr>\n",
       "      <th>2</th>\n",
       "      <td>536365</td>\n",
       "      <td>84406B</td>\n",
       "      <td>CREAM CUPID HEARTS COAT HANGER</td>\n",
       "      <td>8</td>\n",
       "      <td>2016-11-29</td>\n",
       "      <td>2.75</td>\n",
       "      <td>United Kingdom</td>\n",
       "      <td>17850</td>\n",
       "    </tr>\n",
       "    <tr>\n",
       "      <th>3</th>\n",
       "      <td>536365</td>\n",
       "      <td>84029G</td>\n",
       "      <td>KNITTED UNION FLAG HOT WATER BOTTLE</td>\n",
       "      <td>6</td>\n",
       "      <td>2016-11-29</td>\n",
       "      <td>3.39</td>\n",
       "      <td>United Kingdom</td>\n",
       "      <td>17850</td>\n",
       "    </tr>\n",
       "    <tr>\n",
       "      <th>4</th>\n",
       "      <td>536365</td>\n",
       "      <td>84029E</td>\n",
       "      <td>RED WOOLLY HOTTIE WHITE HEART.</td>\n",
       "      <td>6</td>\n",
       "      <td>2016-11-29</td>\n",
       "      <td>3.39</td>\n",
       "      <td>United Kingdom</td>\n",
       "      <td>17850</td>\n",
       "    </tr>\n",
       "  </tbody>\n",
       "</table>\n",
       "</div>"
      ],
      "text/plain": [
       "  invoice_no stock_code                          description  quantity  \\\n",
       "0     536365     85123A   WHITE HANGING HEART T-LIGHT HOLDER         6   \n",
       "1     536365      71053                  WHITE METAL LANTERN         6   \n",
       "2     536365     84406B       CREAM CUPID HEARTS COAT HANGER         8   \n",
       "3     536365     84029G  KNITTED UNION FLAG HOT WATER BOTTLE         6   \n",
       "4     536365     84029E       RED WOOLLY HOTTIE WHITE HEART.         6   \n",
       "\n",
       "  invoice_date  unit_price         country  customer_id  \n",
       "0   2016-11-29        2.55  United Kingdom        17850  \n",
       "1   2016-11-29        3.39  United Kingdom        17850  \n",
       "2   2016-11-29        2.75  United Kingdom        17850  \n",
       "3   2016-11-29        3.39  United Kingdom        17850  \n",
       "4   2016-11-29        3.39  United Kingdom        17850  "
      ]
     },
     "execution_count": 59,
     "metadata": {},
     "output_type": "execute_result"
    }
   ],
   "source": [
    "# invoice date\n",
    "df2['invoice_date'] = pd.to_datetime( df2['invoice_date'], format='%d-%b-%y' )\n",
    "\n",
    "# customer_id\n",
    "df2['customer_id'] = df2['customer_id'].astype( int )\n",
    "df2.head()"
   ]
  },
  {
   "cell_type": "code",
   "execution_count": 60,
   "id": "508d1ef1",
   "metadata": {
    "ExecuteTime": {
     "end_time": "2022-06-15T23:30:55.540087Z",
     "start_time": "2022-06-15T23:30:55.526084Z"
    }
   },
   "outputs": [
    {
     "data": {
      "text/plain": [
       "invoice_no              object\n",
       "stock_code              object\n",
       "description             object\n",
       "quantity                 int64\n",
       "invoice_date    datetime64[ns]\n",
       "unit_price             float64\n",
       "country                 object\n",
       "customer_id              int32\n",
       "dtype: object"
      ]
     },
     "execution_count": 60,
     "metadata": {},
     "output_type": "execute_result"
    }
   ],
   "source": [
    "df2.dtypes"
   ]
  },
  {
   "cell_type": "markdown",
   "id": "32ade075",
   "metadata": {},
   "source": [
    "## 2.7. Descriptive Statistics"
   ]
  },
  {
   "cell_type": "code",
   "execution_count": 61,
   "id": "7baf76c3",
   "metadata": {
    "ExecuteTime": {
     "end_time": "2022-06-15T23:30:55.556093Z",
     "start_time": "2022-06-15T23:30:55.541088Z"
    }
   },
   "outputs": [],
   "source": [
    "num_attributes = df2.select_dtypes( include=['int32', 'int64', 'float64'] )\n",
    "cat_attributes = df2.select_dtypes( exclude=['int32', 'int64', 'float64', 'datetime64[ns]'] )"
   ]
  },
  {
   "cell_type": "markdown",
   "id": "77945845",
   "metadata": {},
   "source": [
    "### 2.7.1. Numerical Attributes"
   ]
  },
  {
   "cell_type": "code",
   "execution_count": 62,
   "id": "d960dd9e",
   "metadata": {
    "ExecuteTime": {
     "end_time": "2022-06-15T23:30:55.634111Z",
     "start_time": "2022-06-15T23:30:55.557093Z"
    }
   },
   "outputs": [
    {
     "data": {
      "text/html": [
       "<div>\n",
       "<style scoped>\n",
       "    .dataframe tbody tr th:only-of-type {\n",
       "        vertical-align: middle;\n",
       "    }\n",
       "\n",
       "    .dataframe tbody tr th {\n",
       "        vertical-align: top;\n",
       "    }\n",
       "\n",
       "    .dataframe thead th {\n",
       "        text-align: right;\n",
       "    }\n",
       "</style>\n",
       "<table border=\"1\" class=\"dataframe\">\n",
       "  <thead>\n",
       "    <tr style=\"text-align: right;\">\n",
       "      <th></th>\n",
       "      <th>attributes</th>\n",
       "      <th>min</th>\n",
       "      <th>max</th>\n",
       "      <th>range</th>\n",
       "      <th>mean</th>\n",
       "      <th>median</th>\n",
       "      <th>std</th>\n",
       "      <th>skew</th>\n",
       "      <th>kurtosis</th>\n",
       "    </tr>\n",
       "  </thead>\n",
       "  <tbody>\n",
       "    <tr>\n",
       "      <th>0</th>\n",
       "      <td>quantity</td>\n",
       "      <td>-80995.00</td>\n",
       "      <td>80995.0</td>\n",
       "      <td>161990.00</td>\n",
       "      <td>9.552250</td>\n",
       "      <td>3.00</td>\n",
       "      <td>218.080957</td>\n",
       "      <td>-0.264076</td>\n",
       "      <td>119769.160031</td>\n",
       "    </tr>\n",
       "    <tr>\n",
       "      <th>1</th>\n",
       "      <td>unit_price</td>\n",
       "      <td>-11062.06</td>\n",
       "      <td>38970.0</td>\n",
       "      <td>50032.06</td>\n",
       "      <td>4.611114</td>\n",
       "      <td>2.08</td>\n",
       "      <td>96.759764</td>\n",
       "      <td>186.506972</td>\n",
       "      <td>59005.719097</td>\n",
       "    </tr>\n",
       "    <tr>\n",
       "      <th>2</th>\n",
       "      <td>customer_id</td>\n",
       "      <td>12346.00</td>\n",
       "      <td>22709.0</td>\n",
       "      <td>10363.00</td>\n",
       "      <td>16688.840453</td>\n",
       "      <td>16249.00</td>\n",
       "      <td>2911.408666</td>\n",
       "      <td>0.487449</td>\n",
       "      <td>-0.804287</td>\n",
       "    </tr>\n",
       "  </tbody>\n",
       "</table>\n",
       "</div>"
      ],
      "text/plain": [
       "    attributes       min      max      range          mean    median  \\\n",
       "0     quantity -80995.00  80995.0  161990.00      9.552250      3.00   \n",
       "1   unit_price -11062.06  38970.0   50032.06      4.611114      2.08   \n",
       "2  customer_id  12346.00  22709.0   10363.00  16688.840453  16249.00   \n",
       "\n",
       "           std        skew       kurtosis  \n",
       "0   218.080957   -0.264076  119769.160031  \n",
       "1    96.759764  186.506972   59005.719097  \n",
       "2  2911.408666    0.487449      -0.804287  "
      ]
     },
     "execution_count": 62,
     "metadata": {},
     "output_type": "execute_result"
    }
   ],
   "source": [
    "# central tendency\n",
    "_mean   = pd.DataFrame( num_attributes.apply( np.mean ) ).T\n",
    "_median = pd.DataFrame( num_attributes.apply( np.median ) ).T\n",
    "\n",
    "# dispersion\n",
    "_std   = pd.DataFrame( num_attributes.apply( np.std ) ).T\n",
    "_min   = pd.DataFrame( num_attributes.apply( np.min ) ).T\n",
    "_max   = pd.DataFrame( num_attributes.apply( np.max ) ).T\n",
    "_range = pd.DataFrame( num_attributes.apply( lambda x: x.max() - x.min() ) ).T\n",
    "_skew  = pd.DataFrame( num_attributes.apply( lambda x: x.skew() ) ).T\n",
    "_kurtosis  = pd.DataFrame( num_attributes.apply( lambda x: x.kurtosis() ) ).T\n",
    "\n",
    "# concatenate\n",
    "summary = pd.concat( [_min, _max, _range, _mean, _median, _std, _skew, _kurtosis] ).T.reset_index()\n",
    "summary.columns = ['attributes', 'min', 'max', 'range', 'mean', 'median', 'std', 'skew', 'kurtosis']\n",
    "summary"
   ]
  },
  {
   "cell_type": "markdown",
   "id": "e47a9177",
   "metadata": {},
   "source": [
    "* **Negative quantity** - It could mean a returning.\n",
    "* **Unit price equal to zero** - Could it mean a promotion?"
   ]
  },
  {
   "cell_type": "markdown",
   "id": "6694850a",
   "metadata": {},
   "source": [
    "### 2.7.2. Categorical Attributes"
   ]
  },
  {
   "cell_type": "code",
   "execution_count": 63,
   "id": "4bcf075f",
   "metadata": {
    "ExecuteTime": {
     "end_time": "2022-06-15T23:30:55.650114Z",
     "start_time": "2022-06-15T23:30:55.635110Z"
    }
   },
   "outputs": [
    {
     "data": {
      "text/html": [
       "<div>\n",
       "<style scoped>\n",
       "    .dataframe tbody tr th:only-of-type {\n",
       "        vertical-align: middle;\n",
       "    }\n",
       "\n",
       "    .dataframe tbody tr th {\n",
       "        vertical-align: top;\n",
       "    }\n",
       "\n",
       "    .dataframe thead th {\n",
       "        text-align: right;\n",
       "    }\n",
       "</style>\n",
       "<table border=\"1\" class=\"dataframe\">\n",
       "  <thead>\n",
       "    <tr style=\"text-align: right;\">\n",
       "      <th></th>\n",
       "      <th>invoice_no</th>\n",
       "      <th>stock_code</th>\n",
       "      <th>description</th>\n",
       "      <th>country</th>\n",
       "    </tr>\n",
       "  </thead>\n",
       "  <tbody>\n",
       "    <tr>\n",
       "      <th>0</th>\n",
       "      <td>536365</td>\n",
       "      <td>85123A</td>\n",
       "      <td>WHITE HANGING HEART T-LIGHT HOLDER</td>\n",
       "      <td>United Kingdom</td>\n",
       "    </tr>\n",
       "    <tr>\n",
       "      <th>1</th>\n",
       "      <td>536365</td>\n",
       "      <td>71053</td>\n",
       "      <td>WHITE METAL LANTERN</td>\n",
       "      <td>United Kingdom</td>\n",
       "    </tr>\n",
       "    <tr>\n",
       "      <th>2</th>\n",
       "      <td>536365</td>\n",
       "      <td>84406B</td>\n",
       "      <td>CREAM CUPID HEARTS COAT HANGER</td>\n",
       "      <td>United Kingdom</td>\n",
       "    </tr>\n",
       "    <tr>\n",
       "      <th>3</th>\n",
       "      <td>536365</td>\n",
       "      <td>84029G</td>\n",
       "      <td>KNITTED UNION FLAG HOT WATER BOTTLE</td>\n",
       "      <td>United Kingdom</td>\n",
       "    </tr>\n",
       "    <tr>\n",
       "      <th>4</th>\n",
       "      <td>536365</td>\n",
       "      <td>84029E</td>\n",
       "      <td>RED WOOLLY HOTTIE WHITE HEART.</td>\n",
       "      <td>United Kingdom</td>\n",
       "    </tr>\n",
       "  </tbody>\n",
       "</table>\n",
       "</div>"
      ],
      "text/plain": [
       "  invoice_no stock_code                          description         country\n",
       "0     536365     85123A   WHITE HANGING HEART T-LIGHT HOLDER  United Kingdom\n",
       "1     536365      71053                  WHITE METAL LANTERN  United Kingdom\n",
       "2     536365     84406B       CREAM CUPID HEARTS COAT HANGER  United Kingdom\n",
       "3     536365     84029G  KNITTED UNION FLAG HOT WATER BOTTLE  United Kingdom\n",
       "4     536365     84029E       RED WOOLLY HOTTIE WHITE HEART.  United Kingdom"
      ]
     },
     "execution_count": 63,
     "metadata": {},
     "output_type": "execute_result"
    }
   ],
   "source": [
    "cat_attributes.head()"
   ]
  },
  {
   "cell_type": "markdown",
   "id": "f2ddd253",
   "metadata": {
    "ExecuteTime": {
     "end_time": "2022-04-15T15:06:14.613143Z",
     "start_time": "2022-04-15T15:06:14.608214Z"
    }
   },
   "source": [
    "#### 2.7.2.1. Invoice_no"
   ]
  },
  {
   "cell_type": "code",
   "execution_count": 64,
   "id": "88669ce3",
   "metadata": {
    "ExecuteTime": {
     "end_time": "2022-06-15T23:30:56.374276Z",
     "start_time": "2022-06-15T23:30:55.652114Z"
    }
   },
   "outputs": [
    {
     "data": {
      "text/html": [
       "<div>\n",
       "<style scoped>\n",
       "    .dataframe tbody tr th:only-of-type {\n",
       "        vertical-align: middle;\n",
       "    }\n",
       "\n",
       "    .dataframe tbody tr th {\n",
       "        vertical-align: top;\n",
       "    }\n",
       "\n",
       "    .dataframe thead th {\n",
       "        text-align: right;\n",
       "    }\n",
       "</style>\n",
       "<table border=\"1\" class=\"dataframe\">\n",
       "  <thead>\n",
       "    <tr style=\"text-align: right;\">\n",
       "      <th></th>\n",
       "      <th>invoice_no</th>\n",
       "      <th>stock_code</th>\n",
       "      <th>description</th>\n",
       "      <th>quantity</th>\n",
       "      <th>invoice_date</th>\n",
       "      <th>unit_price</th>\n",
       "      <th>country</th>\n",
       "      <th>customer_id</th>\n",
       "    </tr>\n",
       "  </thead>\n",
       "  <tbody>\n",
       "    <tr>\n",
       "      <th>141</th>\n",
       "      <td>C536379</td>\n",
       "      <td>D</td>\n",
       "      <td>Discount</td>\n",
       "      <td>-1</td>\n",
       "      <td>2016-11-29</td>\n",
       "      <td>27.50</td>\n",
       "      <td>United Kingdom</td>\n",
       "      <td>14527</td>\n",
       "    </tr>\n",
       "    <tr>\n",
       "      <th>154</th>\n",
       "      <td>C536383</td>\n",
       "      <td>35004C</td>\n",
       "      <td>SET OF 3 COLOURED  FLYING DUCKS</td>\n",
       "      <td>-1</td>\n",
       "      <td>2016-11-29</td>\n",
       "      <td>4.65</td>\n",
       "      <td>United Kingdom</td>\n",
       "      <td>15311</td>\n",
       "    </tr>\n",
       "    <tr>\n",
       "      <th>235</th>\n",
       "      <td>C536391</td>\n",
       "      <td>22556</td>\n",
       "      <td>PLASTERS IN TIN CIRCUS PARADE</td>\n",
       "      <td>-12</td>\n",
       "      <td>2016-11-29</td>\n",
       "      <td>1.65</td>\n",
       "      <td>United Kingdom</td>\n",
       "      <td>17548</td>\n",
       "    </tr>\n",
       "    <tr>\n",
       "      <th>236</th>\n",
       "      <td>C536391</td>\n",
       "      <td>21984</td>\n",
       "      <td>PACK OF 12 PINK PAISLEY TISSUES</td>\n",
       "      <td>-24</td>\n",
       "      <td>2016-11-29</td>\n",
       "      <td>0.29</td>\n",
       "      <td>United Kingdom</td>\n",
       "      <td>17548</td>\n",
       "    </tr>\n",
       "    <tr>\n",
       "      <th>237</th>\n",
       "      <td>C536391</td>\n",
       "      <td>21983</td>\n",
       "      <td>PACK OF 12 BLUE PAISLEY TISSUES</td>\n",
       "      <td>-24</td>\n",
       "      <td>2016-11-29</td>\n",
       "      <td>0.29</td>\n",
       "      <td>United Kingdom</td>\n",
       "      <td>17548</td>\n",
       "    </tr>\n",
       "    <tr>\n",
       "      <th>238</th>\n",
       "      <td>C536391</td>\n",
       "      <td>21980</td>\n",
       "      <td>PACK OF 12 RED RETROSPOT TISSUES</td>\n",
       "      <td>-24</td>\n",
       "      <td>2016-11-29</td>\n",
       "      <td>0.29</td>\n",
       "      <td>United Kingdom</td>\n",
       "      <td>17548</td>\n",
       "    </tr>\n",
       "    <tr>\n",
       "      <th>239</th>\n",
       "      <td>C536391</td>\n",
       "      <td>21484</td>\n",
       "      <td>CHICK GREY HOT WATER BOTTLE</td>\n",
       "      <td>-12</td>\n",
       "      <td>2016-11-29</td>\n",
       "      <td>3.45</td>\n",
       "      <td>United Kingdom</td>\n",
       "      <td>17548</td>\n",
       "    </tr>\n",
       "    <tr>\n",
       "      <th>240</th>\n",
       "      <td>C536391</td>\n",
       "      <td>22557</td>\n",
       "      <td>PLASTERS IN TIN VINTAGE PAISLEY</td>\n",
       "      <td>-12</td>\n",
       "      <td>2016-11-29</td>\n",
       "      <td>1.65</td>\n",
       "      <td>United Kingdom</td>\n",
       "      <td>17548</td>\n",
       "    </tr>\n",
       "    <tr>\n",
       "      <th>241</th>\n",
       "      <td>C536391</td>\n",
       "      <td>22553</td>\n",
       "      <td>PLASTERS IN TIN SKULLS</td>\n",
       "      <td>-24</td>\n",
       "      <td>2016-11-29</td>\n",
       "      <td>1.65</td>\n",
       "      <td>United Kingdom</td>\n",
       "      <td>17548</td>\n",
       "    </tr>\n",
       "    <tr>\n",
       "      <th>939</th>\n",
       "      <td>C536506</td>\n",
       "      <td>22960</td>\n",
       "      <td>JAM MAKING SET WITH JARS</td>\n",
       "      <td>-6</td>\n",
       "      <td>2016-11-29</td>\n",
       "      <td>4.25</td>\n",
       "      <td>United Kingdom</td>\n",
       "      <td>17897</td>\n",
       "    </tr>\n",
       "  </tbody>\n",
       "</table>\n",
       "</div>"
      ],
      "text/plain": [
       "    invoice_no stock_code                        description  quantity  \\\n",
       "141    C536379          D                           Discount        -1   \n",
       "154    C536383     35004C    SET OF 3 COLOURED  FLYING DUCKS        -1   \n",
       "235    C536391      22556     PLASTERS IN TIN CIRCUS PARADE        -12   \n",
       "236    C536391      21984   PACK OF 12 PINK PAISLEY TISSUES        -24   \n",
       "237    C536391      21983   PACK OF 12 BLUE PAISLEY TISSUES        -24   \n",
       "238    C536391      21980  PACK OF 12 RED RETROSPOT TISSUES        -24   \n",
       "239    C536391      21484        CHICK GREY HOT WATER BOTTLE       -12   \n",
       "240    C536391      22557   PLASTERS IN TIN VINTAGE PAISLEY        -12   \n",
       "241    C536391      22553             PLASTERS IN TIN SKULLS       -24   \n",
       "939    C536506      22960           JAM MAKING SET WITH JARS        -6   \n",
       "\n",
       "    invoice_date  unit_price         country  customer_id  \n",
       "141   2016-11-29       27.50  United Kingdom        14527  \n",
       "154   2016-11-29        4.65  United Kingdom        15311  \n",
       "235   2016-11-29        1.65  United Kingdom        17548  \n",
       "236   2016-11-29        0.29  United Kingdom        17548  \n",
       "237   2016-11-29        0.29  United Kingdom        17548  \n",
       "238   2016-11-29        0.29  United Kingdom        17548  \n",
       "239   2016-11-29        3.45  United Kingdom        17548  \n",
       "240   2016-11-29        1.65  United Kingdom        17548  \n",
       "241   2016-11-29        1.65  United Kingdom        17548  \n",
       "939   2016-11-29        4.25  United Kingdom        17897  "
      ]
     },
     "execution_count": 64,
     "metadata": {},
     "output_type": "execute_result"
    }
   ],
   "source": [
    "# cat_attributes['invoice_no'].astype( int ) # It throws an error\n",
    "index = df2['invoice_no'].apply( lambda x: bool( re.search( '[^0-9]+', x ) ) )\n",
    "df2[index].head(10)"
   ]
  },
  {
   "cell_type": "code",
   "execution_count": 65,
   "id": "39be9eab",
   "metadata": {
    "ExecuteTime": {
     "end_time": "2022-06-15T23:30:56.390286Z",
     "start_time": "2022-06-15T23:30:56.376278Z"
    }
   },
   "outputs": [
    {
     "data": {
      "text/plain": [
       "3839"
      ]
     },
     "execution_count": 65,
     "metadata": {},
     "output_type": "execute_result"
    }
   ],
   "source": [
    "# unique values\n",
    "len( df2.loc[index, 'invoice_no'].drop_duplicates()  )"
   ]
  },
  {
   "cell_type": "code",
   "execution_count": 66,
   "id": "90cf40bd",
   "metadata": {
    "ExecuteTime": {
     "end_time": "2022-06-15T23:30:56.406290Z",
     "start_time": "2022-06-15T23:30:56.391286Z"
    }
   },
   "outputs": [
    {
     "name": "stdout",
     "output_type": "stream",
     "text": [
      "Total number of invoices with a letter: 9291\n",
      "Total number of invoices with a letter and negative quantity: 9288\n"
     ]
    }
   ],
   "source": [
    "# checking if all invoices with a letter indicates has a negative quantity\n",
    "df_letter_invoices = df2[index]\n",
    "print( 'Total number of invoices with a letter: {}'.format( len( df_letter_invoices ) ) )\n",
    "print( 'Total number of invoices with a letter and negative quantity: {}'.format( len( df_letter_invoices[ df_letter_invoices['quantity'] < 0 ] ) ) )"
   ]
  },
  {
   "cell_type": "markdown",
   "id": "6d09c229",
   "metadata": {},
   "source": [
    "#### 2.7.2.2. Stock_code"
   ]
  },
  {
   "cell_type": "code",
   "execution_count": 67,
   "id": "ef285792",
   "metadata": {
    "ExecuteTime": {
     "end_time": "2022-06-15T23:30:57.108448Z",
     "start_time": "2022-06-15T23:30:56.407290Z"
    }
   },
   "outputs": [
    {
     "data": {
      "text/html": [
       "<div>\n",
       "<style scoped>\n",
       "    .dataframe tbody tr th:only-of-type {\n",
       "        vertical-align: middle;\n",
       "    }\n",
       "\n",
       "    .dataframe tbody tr th {\n",
       "        vertical-align: top;\n",
       "    }\n",
       "\n",
       "    .dataframe thead th {\n",
       "        text-align: right;\n",
       "    }\n",
       "</style>\n",
       "<table border=\"1\" class=\"dataframe\">\n",
       "  <thead>\n",
       "    <tr style=\"text-align: right;\">\n",
       "      <th></th>\n",
       "      <th>invoice_no</th>\n",
       "      <th>stock_code</th>\n",
       "      <th>description</th>\n",
       "      <th>quantity</th>\n",
       "      <th>invoice_date</th>\n",
       "      <th>unit_price</th>\n",
       "      <th>country</th>\n",
       "      <th>customer_id</th>\n",
       "    </tr>\n",
       "  </thead>\n",
       "  <tbody>\n",
       "    <tr>\n",
       "      <th>45</th>\n",
       "      <td>536370</td>\n",
       "      <td>POST</td>\n",
       "      <td>POSTAGE</td>\n",
       "      <td>3</td>\n",
       "      <td>2016-11-29</td>\n",
       "      <td>18.00</td>\n",
       "      <td>France</td>\n",
       "      <td>12583</td>\n",
       "    </tr>\n",
       "    <tr>\n",
       "      <th>141</th>\n",
       "      <td>C536379</td>\n",
       "      <td>D</td>\n",
       "      <td>Discount</td>\n",
       "      <td>-1</td>\n",
       "      <td>2016-11-29</td>\n",
       "      <td>27.50</td>\n",
       "      <td>United Kingdom</td>\n",
       "      <td>14527</td>\n",
       "    </tr>\n",
       "    <tr>\n",
       "      <th>386</th>\n",
       "      <td>536403</td>\n",
       "      <td>POST</td>\n",
       "      <td>POSTAGE</td>\n",
       "      <td>1</td>\n",
       "      <td>2016-11-29</td>\n",
       "      <td>15.00</td>\n",
       "      <td>Netherlands</td>\n",
       "      <td>12791</td>\n",
       "    </tr>\n",
       "    <tr>\n",
       "      <th>1123</th>\n",
       "      <td>536527</td>\n",
       "      <td>POST</td>\n",
       "      <td>POSTAGE</td>\n",
       "      <td>1</td>\n",
       "      <td>2016-11-29</td>\n",
       "      <td>18.00</td>\n",
       "      <td>Germany</td>\n",
       "      <td>12662</td>\n",
       "    </tr>\n",
       "    <tr>\n",
       "      <th>1423</th>\n",
       "      <td>536540</td>\n",
       "      <td>C2</td>\n",
       "      <td>CARRIAGE</td>\n",
       "      <td>1</td>\n",
       "      <td>2016-11-29</td>\n",
       "      <td>50.00</td>\n",
       "      <td>EIRE</td>\n",
       "      <td>14911</td>\n",
       "    </tr>\n",
       "    <tr>\n",
       "      <th>1814</th>\n",
       "      <td>536544</td>\n",
       "      <td>DOT</td>\n",
       "      <td>DOTCOM POSTAGE</td>\n",
       "      <td>1</td>\n",
       "      <td>2016-11-29</td>\n",
       "      <td>569.77</td>\n",
       "      <td>United Kingdom</td>\n",
       "      <td>19001</td>\n",
       "    </tr>\n",
       "    <tr>\n",
       "      <th>2239</th>\n",
       "      <td>536569</td>\n",
       "      <td>M</td>\n",
       "      <td>Manual</td>\n",
       "      <td>1</td>\n",
       "      <td>2016-11-29</td>\n",
       "      <td>1.25</td>\n",
       "      <td>United Kingdom</td>\n",
       "      <td>16274</td>\n",
       "    </tr>\n",
       "    <tr>\n",
       "      <th>2250</th>\n",
       "      <td>536569</td>\n",
       "      <td>M</td>\n",
       "      <td>Manual</td>\n",
       "      <td>1</td>\n",
       "      <td>2016-11-29</td>\n",
       "      <td>18.95</td>\n",
       "      <td>United Kingdom</td>\n",
       "      <td>16274</td>\n",
       "    </tr>\n",
       "    <tr>\n",
       "      <th>3041</th>\n",
       "      <td>536592</td>\n",
       "      <td>DOT</td>\n",
       "      <td>DOTCOM POSTAGE</td>\n",
       "      <td>1</td>\n",
       "      <td>2016-11-29</td>\n",
       "      <td>607.49</td>\n",
       "      <td>United Kingdom</td>\n",
       "      <td>19014</td>\n",
       "    </tr>\n",
       "    <tr>\n",
       "      <th>4406</th>\n",
       "      <td>536779</td>\n",
       "      <td>BANK CHARGES</td>\n",
       "      <td>Bank Charges</td>\n",
       "      <td>1</td>\n",
       "      <td>2016-11-30</td>\n",
       "      <td>15.00</td>\n",
       "      <td>United Kingdom</td>\n",
       "      <td>15823</td>\n",
       "    </tr>\n",
       "  </tbody>\n",
       "</table>\n",
       "</div>"
      ],
      "text/plain": [
       "     invoice_no    stock_code     description  quantity invoice_date  \\\n",
       "45       536370          POST         POSTAGE         3   2016-11-29   \n",
       "141     C536379             D        Discount        -1   2016-11-29   \n",
       "386      536403          POST         POSTAGE         1   2016-11-29   \n",
       "1123     536527          POST         POSTAGE         1   2016-11-29   \n",
       "1423     536540            C2        CARRIAGE         1   2016-11-29   \n",
       "1814     536544           DOT  DOTCOM POSTAGE         1   2016-11-29   \n",
       "2239     536569             M          Manual         1   2016-11-29   \n",
       "2250     536569             M          Manual         1   2016-11-29   \n",
       "3041     536592           DOT  DOTCOM POSTAGE         1   2016-11-29   \n",
       "4406     536779  BANK CHARGES    Bank Charges         1   2016-11-30   \n",
       "\n",
       "      unit_price         country  customer_id  \n",
       "45         18.00          France        12583  \n",
       "141        27.50  United Kingdom        14527  \n",
       "386        15.00     Netherlands        12791  \n",
       "1123       18.00         Germany        12662  \n",
       "1423       50.00            EIRE        14911  \n",
       "1814      569.77  United Kingdom        19001  \n",
       "2239        1.25  United Kingdom        16274  \n",
       "2250       18.95  United Kingdom        16274  \n",
       "3041      607.49  United Kingdom        19014  \n",
       "4406       15.00  United Kingdom        15823  "
      ]
     },
     "execution_count": 67,
     "metadata": {},
     "output_type": "execute_result"
    }
   ],
   "source": [
    "index = df2['stock_code'].apply( lambda x: bool( re.search( '^[a-zA-Z]+.*$', x ) ) )\n",
    "df2[index].head(10)"
   ]
  },
  {
   "cell_type": "code",
   "execution_count": 68,
   "id": "a9d91d14",
   "metadata": {
    "ExecuteTime": {
     "end_time": "2022-06-15T23:30:57.124451Z",
     "start_time": "2022-06-15T23:30:57.110449Z"
    }
   },
   "outputs": [
    {
     "name": "stdout",
     "output_type": "stream",
     "text": [
      "33\n",
      "['POST' 'D' 'C2' 'DOT' 'M' 'BANK CHARGES' 'S' 'AMAZONFEE' 'DCGS0076'\n",
      " 'DCGS0003' 'gift_0001_40' 'DCGS0070' 'm' 'gift_0001_50' 'gift_0001_30'\n",
      " 'gift_0001_20' 'DCGS0055' 'DCGS0072' 'DCGS0074' 'DCGS0069' 'DCGS0057'\n",
      " 'DCGSSBOY' 'DCGSSGIRL' 'gift_0001_10' 'PADS' 'DCGS0004' 'DCGS0073'\n",
      " 'DCGS0071' 'DCGS0068' 'DCGS0067' 'DCGS0066P' 'B' 'CRUK']\n"
     ]
    }
   ],
   "source": [
    "# unique values\n",
    "print( len( df2.loc[index, 'stock_code'].drop_duplicates() ) )\n",
    "print( df2.loc[index, 'stock_code'].unique())"
   ]
  },
  {
   "cell_type": "markdown",
   "id": "991f34bc",
   "metadata": {},
   "source": [
    "#### 2.7.2.3. Country"
   ]
  },
  {
   "cell_type": "code",
   "execution_count": 69,
   "id": "3b1a4632",
   "metadata": {
    "ExecuteTime": {
     "end_time": "2022-06-15T23:30:57.172462Z",
     "start_time": "2022-06-15T23:30:57.126452Z"
    }
   },
   "outputs": [
    {
     "data": {
      "text/plain": [
       "United Kingdom          0.914320\n",
       "Germany                 0.017521\n",
       "France                  0.015790\n",
       "EIRE                    0.015124\n",
       "Spain                   0.004674\n",
       "Netherlands             0.004375\n",
       "Belgium                 0.003818\n",
       "Switzerland             0.003694\n",
       "Portugal                0.002803\n",
       "Australia               0.002323\n",
       "Norway                  0.002004\n",
       "Italy                   0.001482\n",
       "Channel Islands         0.001399\n",
       "Finland                 0.001283\n",
       "Cyprus                  0.001148\n",
       "Sweden                  0.000853\n",
       "Unspecified             0.000823\n",
       "Austria                 0.000740\n",
       "Denmark                 0.000718\n",
       "Japan                   0.000661\n",
       "Poland                  0.000629\n",
       "Israel                  0.000548\n",
       "USA                     0.000537\n",
       "Hong Kong               0.000531\n",
       "Singapore               0.000423\n",
       "Iceland                 0.000336\n",
       "Canada                  0.000279\n",
       "Greece                  0.000269\n",
       "Malta                   0.000234\n",
       "United Arab Emirates    0.000125\n",
       "European Community      0.000113\n",
       "RSA                     0.000107\n",
       "Lebanon                 0.000083\n",
       "Lithuania               0.000065\n",
       "Brazil                  0.000059\n",
       "Czech Republic          0.000055\n",
       "Bahrain                 0.000035\n",
       "Saudi Arabia            0.000018\n",
       "Name: country, dtype: float64"
      ]
     },
     "execution_count": 69,
     "metadata": {},
     "output_type": "execute_result"
    }
   ],
   "source": [
    "df2['country'].value_counts( normalize=True )"
   ]
  },
  {
   "cell_type": "markdown",
   "id": "9f5c57bf",
   "metadata": {},
   "source": [
    "# 3. Data Filtering"
   ]
  },
  {
   "cell_type": "code",
   "execution_count": 70,
   "id": "bcfa9a5a",
   "metadata": {
    "ExecuteTime": {
     "end_time": "2022-06-15T23:30:57.204469Z",
     "start_time": "2022-06-15T23:30:57.177463Z"
    }
   },
   "outputs": [],
   "source": [
    "df3 = df2.copy()"
   ]
  },
  {
   "cell_type": "markdown",
   "id": "d986a3d8",
   "metadata": {},
   "source": [
    "## 3.1. Numerical Attributes"
   ]
  },
  {
   "cell_type": "code",
   "execution_count": 71,
   "id": "19107338",
   "metadata": {
    "ExecuteTime": {
     "end_time": "2022-06-15T23:30:57.347821Z",
     "start_time": "2022-06-15T23:30:57.206471Z"
    }
   },
   "outputs": [],
   "source": [
    "# unit price > 0\n",
    "df3 = df3.loc[ df3['unit_price'] > 0.010, : ]\n",
    "\n",
    "# stock code == number\n",
    "df3 = df3[~df3['stock_code'].isin( ['POST', 'D', 'C2', 'DOT', 'M', 'BANK, CHARGES', 'S', 'AMAZONFEE', 'DCGS0076'\n",
    ", 'DCGS0003', 'gift_0001_40', 'DCGS0070', 'm', 'gift_0001_50', 'gift_0001_30'\n",
    ", 'gift_0001_20', 'DCGS0055', 'DCGS0072', 'DCGS0074', 'DCGS0069', 'DCGS0057'\n",
    ", 'DCGSSBOY', 'DCGSSGIRL', 'gift_0001_10', 'PADS', 'DCGS0004', 'DCGS0073'\n",
    ", 'DCGS0071', 'DCGS0068', 'DCGS0067', 'DCGS0066P', 'B', 'CRUK'] )]\n",
    "\n",
    "# quantity - negative numbears means product returns\n",
    "df3_returns = df3.loc[df3['quantity'] < 0, :]\n",
    "df3_purchases = df3.loc[df3['quantity'] > 0, :]"
   ]
  },
  {
   "cell_type": "markdown",
   "id": "12ead3d3",
   "metadata": {},
   "source": [
    "## 3.2. Categorical Attributes"
   ]
  },
  {
   "cell_type": "code",
   "execution_count": 72,
   "id": "9e281367",
   "metadata": {
    "ExecuteTime": {
     "end_time": "2022-06-15T23:30:57.379829Z",
     "start_time": "2022-06-15T23:30:57.348822Z"
    }
   },
   "outputs": [],
   "source": [
    "# drop description\n",
    "df3 = df3.drop( columns='description', axis=1 )"
   ]
  },
  {
   "cell_type": "code",
   "execution_count": 73,
   "id": "44eb83a2",
   "metadata": {
    "ExecuteTime": {
     "end_time": "2022-06-15T23:30:57.442824Z",
     "start_time": "2022-06-15T23:30:57.380830Z"
    }
   },
   "outputs": [],
   "source": [
    "# map\n",
    "df3 = df3[~df3['country'].isin( ['European Community', 'Unspecified'] )]"
   ]
  },
  {
   "cell_type": "code",
   "execution_count": 74,
   "id": "015990a2",
   "metadata": {
    "ExecuteTime": {
     "end_time": "2022-06-15T23:30:57.489846Z",
     "start_time": "2022-06-15T23:30:57.443825Z"
    }
   },
   "outputs": [],
   "source": [
    "# bad users (based on the Univariate Analysis)\n",
    "df3 = df3[~df3['customer_id'].isin( [16446] )]"
   ]
  },
  {
   "cell_type": "markdown",
   "id": "103755e2",
   "metadata": {},
   "source": [
    "# 4. Feature Engineering"
   ]
  },
  {
   "cell_type": "code",
   "execution_count": 117,
   "id": "640fdd5f",
   "metadata": {
    "ExecuteTime": {
     "end_time": "2022-06-15T23:52:09.959089Z",
     "start_time": "2022-06-15T23:52:09.938084Z"
    }
   },
   "outputs": [],
   "source": [
    "df4 = df3.copy()\n",
    "df_purchases = df3_purchases\n",
    "df_returns = df3_returns"
   ]
  },
  {
   "cell_type": "markdown",
   "id": "d32d4895",
   "metadata": {},
   "source": [
    "## 4.1. Feature Creation"
   ]
  },
  {
   "cell_type": "markdown",
   "id": "6bf363a4",
   "metadata": {},
   "source": [
    "The dataset granularity should be customers, because the clusters will be for customers, but it is a unique key composed of product (stock_code) and date (invoice_date). So it is necessary to change the granularity."
   ]
  },
  {
   "cell_type": "code",
   "execution_count": 118,
   "id": "01261285",
   "metadata": {
    "ExecuteTime": {
     "end_time": "2022-06-15T23:52:10.509292Z",
     "start_time": "2022-06-15T23:52:10.470750Z"
    }
   },
   "outputs": [
    {
     "data": {
      "text/html": [
       "<div>\n",
       "<style scoped>\n",
       "    .dataframe tbody tr th:only-of-type {\n",
       "        vertical-align: middle;\n",
       "    }\n",
       "\n",
       "    .dataframe tbody tr th {\n",
       "        vertical-align: top;\n",
       "    }\n",
       "\n",
       "    .dataframe thead th {\n",
       "        text-align: right;\n",
       "    }\n",
       "</style>\n",
       "<table border=\"1\" class=\"dataframe\">\n",
       "  <thead>\n",
       "    <tr style=\"text-align: right;\">\n",
       "      <th></th>\n",
       "      <th>customer_id</th>\n",
       "    </tr>\n",
       "  </thead>\n",
       "  <tbody>\n",
       "    <tr>\n",
       "      <th>0</th>\n",
       "      <td>17850</td>\n",
       "    </tr>\n",
       "    <tr>\n",
       "      <th>1</th>\n",
       "      <td>13047</td>\n",
       "    </tr>\n",
       "    <tr>\n",
       "      <th>2</th>\n",
       "      <td>12583</td>\n",
       "    </tr>\n",
       "    <tr>\n",
       "      <th>3</th>\n",
       "      <td>13748</td>\n",
       "    </tr>\n",
       "    <tr>\n",
       "      <th>4</th>\n",
       "      <td>15100</td>\n",
       "    </tr>\n",
       "  </tbody>\n",
       "</table>\n",
       "</div>"
      ],
      "text/plain": [
       "   customer_id\n",
       "0        17850\n",
       "1        13047\n",
       "2        12583\n",
       "3        13748\n",
       "4        15100"
      ]
     },
     "execution_count": 118,
     "metadata": {},
     "output_type": "execute_result"
    }
   ],
   "source": [
    "# data reference\n",
    "df_ref = df4[['customer_id']].drop_duplicates( ignore_index=True )\n",
    "df_ref.head()"
   ]
  },
  {
   "cell_type": "markdown",
   "id": "f200eabf",
   "metadata": {},
   "source": [
    "### 4.1.1. Gross Revenue"
   ]
  },
  {
   "cell_type": "code",
   "execution_count": 119,
   "id": "b3765a2e",
   "metadata": {
    "ExecuteTime": {
     "end_time": "2022-06-15T23:52:10.873374Z",
     "start_time": "2022-06-15T23:52:10.830364Z"
    }
   },
   "outputs": [
    {
     "data": {
      "text/html": [
       "<div>\n",
       "<style scoped>\n",
       "    .dataframe tbody tr th:only-of-type {\n",
       "        vertical-align: middle;\n",
       "    }\n",
       "\n",
       "    .dataframe tbody tr th {\n",
       "        vertical-align: top;\n",
       "    }\n",
       "\n",
       "    .dataframe thead th {\n",
       "        text-align: right;\n",
       "    }\n",
       "</style>\n",
       "<table border=\"1\" class=\"dataframe\">\n",
       "  <thead>\n",
       "    <tr style=\"text-align: right;\">\n",
       "      <th></th>\n",
       "      <th>customer_id</th>\n",
       "      <th>gross_revenue</th>\n",
       "    </tr>\n",
       "  </thead>\n",
       "  <tbody>\n",
       "    <tr>\n",
       "      <th>0</th>\n",
       "      <td>17850</td>\n",
       "      <td>5391.21</td>\n",
       "    </tr>\n",
       "    <tr>\n",
       "      <th>1</th>\n",
       "      <td>13047</td>\n",
       "      <td>3232.59</td>\n",
       "    </tr>\n",
       "    <tr>\n",
       "      <th>2</th>\n",
       "      <td>12583</td>\n",
       "      <td>6705.38</td>\n",
       "    </tr>\n",
       "    <tr>\n",
       "      <th>3</th>\n",
       "      <td>13748</td>\n",
       "      <td>948.25</td>\n",
       "    </tr>\n",
       "    <tr>\n",
       "      <th>4</th>\n",
       "      <td>15100</td>\n",
       "      <td>876.00</td>\n",
       "    </tr>\n",
       "  </tbody>\n",
       "</table>\n",
       "</div>"
      ],
      "text/plain": [
       "   customer_id  gross_revenue\n",
       "0        17850        5391.21\n",
       "1        13047        3232.59\n",
       "2        12583        6705.38\n",
       "3        13748         948.25\n",
       "4        15100         876.00"
      ]
     },
     "execution_count": 119,
     "metadata": {},
     "output_type": "execute_result"
    }
   ],
   "source": [
    "# Gross Revenue (quantity * price)\n",
    "df_purchases['gross_revenue'] = df_purchases['quantity'] * df_purchases['unit_price']\n",
    "\n",
    "# Monetary\n",
    "df_monetary = df_purchases[['customer_id', 'gross_revenue']].groupby( 'customer_id' ).sum().reset_index()\n",
    "df_ref = pd.merge( df_ref, df_monetary, on='customer_id',  how='left')\n",
    "df_ref.head()"
   ]
  },
  {
   "cell_type": "markdown",
   "id": "ede4b46a",
   "metadata": {},
   "source": [
    "### 4.1.2. Recency - Day from last purchase"
   ]
  },
  {
   "cell_type": "code",
   "execution_count": 120,
   "id": "68e910f8",
   "metadata": {
    "ExecuteTime": {
     "end_time": "2022-06-15T23:52:11.569641Z",
     "start_time": "2022-06-15T23:52:11.532632Z"
    }
   },
   "outputs": [
    {
     "data": {
      "text/html": [
       "<div>\n",
       "<style scoped>\n",
       "    .dataframe tbody tr th:only-of-type {\n",
       "        vertical-align: middle;\n",
       "    }\n",
       "\n",
       "    .dataframe tbody tr th {\n",
       "        vertical-align: top;\n",
       "    }\n",
       "\n",
       "    .dataframe thead th {\n",
       "        text-align: right;\n",
       "    }\n",
       "</style>\n",
       "<table border=\"1\" class=\"dataframe\">\n",
       "  <thead>\n",
       "    <tr style=\"text-align: right;\">\n",
       "      <th></th>\n",
       "      <th>customer_id</th>\n",
       "      <th>gross_revenue</th>\n",
       "      <th>recency_days</th>\n",
       "    </tr>\n",
       "  </thead>\n",
       "  <tbody>\n",
       "    <tr>\n",
       "      <th>0</th>\n",
       "      <td>17850</td>\n",
       "      <td>5391.21</td>\n",
       "      <td>372.0</td>\n",
       "    </tr>\n",
       "    <tr>\n",
       "      <th>1</th>\n",
       "      <td>13047</td>\n",
       "      <td>3232.59</td>\n",
       "      <td>56.0</td>\n",
       "    </tr>\n",
       "    <tr>\n",
       "      <th>2</th>\n",
       "      <td>12583</td>\n",
       "      <td>6705.38</td>\n",
       "      <td>2.0</td>\n",
       "    </tr>\n",
       "    <tr>\n",
       "      <th>3</th>\n",
       "      <td>13748</td>\n",
       "      <td>948.25</td>\n",
       "      <td>95.0</td>\n",
       "    </tr>\n",
       "    <tr>\n",
       "      <th>4</th>\n",
       "      <td>15100</td>\n",
       "      <td>876.00</td>\n",
       "      <td>333.0</td>\n",
       "    </tr>\n",
       "  </tbody>\n",
       "</table>\n",
       "</div>"
      ],
      "text/plain": [
       "   customer_id  gross_revenue  recency_days\n",
       "0        17850        5391.21         372.0\n",
       "1        13047        3232.59          56.0\n",
       "2        12583        6705.38           2.0\n",
       "3        13748         948.25          95.0\n",
       "4        15100         876.00         333.0"
      ]
     },
     "execution_count": 120,
     "metadata": {},
     "output_type": "execute_result"
    }
   ],
   "source": [
    "df_recency = df_purchases[['customer_id', 'invoice_date']].groupby( 'customer_id' ).max().reset_index()\n",
    "df_recency['recency_days'] = ( df_purchases['invoice_date'].max() - df_recency['invoice_date'] ).dt.days\n",
    "df_recency = df_recency[['customer_id', 'recency_days']].copy()\n",
    "df_ref = pd.merge( df_ref, df_recency, on='customer_id', how='left' )\n",
    "df_ref.head()"
   ]
  },
  {
   "cell_type": "markdown",
   "id": "536fc692",
   "metadata": {},
   "source": [
    "### 4.1.3. Quantity of purchases"
   ]
  },
  {
   "cell_type": "code",
   "execution_count": 121,
   "id": "d9949686",
   "metadata": {
    "ExecuteTime": {
     "end_time": "2022-06-15T23:52:12.429461Z",
     "start_time": "2022-06-15T23:52:12.344443Z"
    }
   },
   "outputs": [
    {
     "data": {
      "text/html": [
       "<div>\n",
       "<style scoped>\n",
       "    .dataframe tbody tr th:only-of-type {\n",
       "        vertical-align: middle;\n",
       "    }\n",
       "\n",
       "    .dataframe tbody tr th {\n",
       "        vertical-align: top;\n",
       "    }\n",
       "\n",
       "    .dataframe thead th {\n",
       "        text-align: right;\n",
       "    }\n",
       "</style>\n",
       "<table border=\"1\" class=\"dataframe\">\n",
       "  <thead>\n",
       "    <tr style=\"text-align: right;\">\n",
       "      <th></th>\n",
       "      <th>customer_id</th>\n",
       "      <th>gross_revenue</th>\n",
       "      <th>recency_days</th>\n",
       "      <th>qty_purchases</th>\n",
       "    </tr>\n",
       "  </thead>\n",
       "  <tbody>\n",
       "    <tr>\n",
       "      <th>0</th>\n",
       "      <td>17850</td>\n",
       "      <td>5391.21</td>\n",
       "      <td>372.0</td>\n",
       "      <td>34.0</td>\n",
       "    </tr>\n",
       "    <tr>\n",
       "      <th>1</th>\n",
       "      <td>13047</td>\n",
       "      <td>3232.59</td>\n",
       "      <td>56.0</td>\n",
       "      <td>9.0</td>\n",
       "    </tr>\n",
       "    <tr>\n",
       "      <th>2</th>\n",
       "      <td>12583</td>\n",
       "      <td>6705.38</td>\n",
       "      <td>2.0</td>\n",
       "      <td>15.0</td>\n",
       "    </tr>\n",
       "    <tr>\n",
       "      <th>3</th>\n",
       "      <td>13748</td>\n",
       "      <td>948.25</td>\n",
       "      <td>95.0</td>\n",
       "      <td>5.0</td>\n",
       "    </tr>\n",
       "    <tr>\n",
       "      <th>4</th>\n",
       "      <td>15100</td>\n",
       "      <td>876.00</td>\n",
       "      <td>333.0</td>\n",
       "      <td>3.0</td>\n",
       "    </tr>\n",
       "  </tbody>\n",
       "</table>\n",
       "</div>"
      ],
      "text/plain": [
       "   customer_id  gross_revenue  recency_days  qty_purchases\n",
       "0        17850        5391.21         372.0           34.0\n",
       "1        13047        3232.59          56.0            9.0\n",
       "2        12583        6705.38           2.0           15.0\n",
       "3        13748         948.25          95.0            5.0\n",
       "4        15100         876.00         333.0            3.0"
      ]
     },
     "execution_count": 121,
     "metadata": {},
     "output_type": "execute_result"
    }
   ],
   "source": [
    "df_freq = df_purchases[['customer_id', 'invoice_no']].drop_duplicates().groupby( 'customer_id' ).count().rename( columns={\"invoice_no\":\"qty_purchases\"}).reset_index()\n",
    "df_ref = pd.merge( df_ref, df_freq, on='customer_id', how='left' )\n",
    "df_ref.head()"
   ]
  },
  {
   "cell_type": "markdown",
   "id": "6b3d685a",
   "metadata": {},
   "source": [
    "### 4.1.4. Quantity of Products Purchased"
   ]
  },
  {
   "cell_type": "code",
   "execution_count": 122,
   "id": "27f881fa",
   "metadata": {
    "ExecuteTime": {
     "end_time": "2022-06-15T23:52:13.468575Z",
     "start_time": "2022-06-15T23:52:13.419563Z"
    }
   },
   "outputs": [
    {
     "data": {
      "text/html": [
       "<div>\n",
       "<style scoped>\n",
       "    .dataframe tbody tr th:only-of-type {\n",
       "        vertical-align: middle;\n",
       "    }\n",
       "\n",
       "    .dataframe tbody tr th {\n",
       "        vertical-align: top;\n",
       "    }\n",
       "\n",
       "    .dataframe thead th {\n",
       "        text-align: right;\n",
       "    }\n",
       "</style>\n",
       "<table border=\"1\" class=\"dataframe\">\n",
       "  <thead>\n",
       "    <tr style=\"text-align: right;\">\n",
       "      <th></th>\n",
       "      <th>customer_id</th>\n",
       "      <th>gross_revenue</th>\n",
       "      <th>recency_days</th>\n",
       "      <th>qty_purchases</th>\n",
       "      <th>qty_products</th>\n",
       "    </tr>\n",
       "  </thead>\n",
       "  <tbody>\n",
       "    <tr>\n",
       "      <th>0</th>\n",
       "      <td>17850</td>\n",
       "      <td>5391.21</td>\n",
       "      <td>372.0</td>\n",
       "      <td>34.0</td>\n",
       "      <td>1733.0</td>\n",
       "    </tr>\n",
       "    <tr>\n",
       "      <th>1</th>\n",
       "      <td>13047</td>\n",
       "      <td>3232.59</td>\n",
       "      <td>56.0</td>\n",
       "      <td>9.0</td>\n",
       "      <td>1390.0</td>\n",
       "    </tr>\n",
       "    <tr>\n",
       "      <th>2</th>\n",
       "      <td>12583</td>\n",
       "      <td>6705.38</td>\n",
       "      <td>2.0</td>\n",
       "      <td>15.0</td>\n",
       "      <td>5028.0</td>\n",
       "    </tr>\n",
       "    <tr>\n",
       "      <th>3</th>\n",
       "      <td>13748</td>\n",
       "      <td>948.25</td>\n",
       "      <td>95.0</td>\n",
       "      <td>5.0</td>\n",
       "      <td>439.0</td>\n",
       "    </tr>\n",
       "    <tr>\n",
       "      <th>4</th>\n",
       "      <td>15100</td>\n",
       "      <td>876.00</td>\n",
       "      <td>333.0</td>\n",
       "      <td>3.0</td>\n",
       "      <td>80.0</td>\n",
       "    </tr>\n",
       "  </tbody>\n",
       "</table>\n",
       "</div>"
      ],
      "text/plain": [
       "   customer_id  gross_revenue  recency_days  qty_purchases  qty_products\n",
       "0        17850        5391.21         372.0           34.0        1733.0\n",
       "1        13047        3232.59          56.0            9.0        1390.0\n",
       "2        12583        6705.38           2.0           15.0        5028.0\n",
       "3        13748         948.25          95.0            5.0         439.0\n",
       "4        15100         876.00         333.0            3.0          80.0"
      ]
     },
     "execution_count": 122,
     "metadata": {},
     "output_type": "execute_result"
    }
   ],
   "source": [
    "df_freq = df_purchases[['customer_id', 'quantity']].groupby( 'customer_id' ).sum().rename( columns={\"quantity\":\"qty_products\"}).reset_index()\n",
    "df_ref = pd.merge( df_ref, df_freq, on='customer_id', how='left' )\n",
    "df_ref.head()"
   ]
  },
  {
   "cell_type": "markdown",
   "id": "73fa2276",
   "metadata": {},
   "source": [
    "### 4.1.5. Returns"
   ]
  },
  {
   "cell_type": "code",
   "execution_count": 123,
   "id": "1e48bf17",
   "metadata": {
    "ExecuteTime": {
     "end_time": "2022-06-15T23:52:14.178365Z",
     "start_time": "2022-06-15T23:52:14.150359Z"
    }
   },
   "outputs": [
    {
     "data": {
      "text/html": [
       "<div>\n",
       "<style scoped>\n",
       "    .dataframe tbody tr th:only-of-type {\n",
       "        vertical-align: middle;\n",
       "    }\n",
       "\n",
       "    .dataframe tbody tr th {\n",
       "        vertical-align: top;\n",
       "    }\n",
       "\n",
       "    .dataframe thead th {\n",
       "        text-align: right;\n",
       "    }\n",
       "</style>\n",
       "<table border=\"1\" class=\"dataframe\">\n",
       "  <thead>\n",
       "    <tr style=\"text-align: right;\">\n",
       "      <th></th>\n",
       "      <th>customer_id</th>\n",
       "      <th>gross_revenue</th>\n",
       "      <th>recency_days</th>\n",
       "      <th>qty_purchases</th>\n",
       "      <th>qty_products</th>\n",
       "      <th>qty_returns</th>\n",
       "    </tr>\n",
       "  </thead>\n",
       "  <tbody>\n",
       "    <tr>\n",
       "      <th>0</th>\n",
       "      <td>17850</td>\n",
       "      <td>5391.21</td>\n",
       "      <td>372.0</td>\n",
       "      <td>34.0</td>\n",
       "      <td>1733.0</td>\n",
       "      <td>40.0</td>\n",
       "    </tr>\n",
       "    <tr>\n",
       "      <th>1</th>\n",
       "      <td>13047</td>\n",
       "      <td>3232.59</td>\n",
       "      <td>56.0</td>\n",
       "      <td>9.0</td>\n",
       "      <td>1390.0</td>\n",
       "      <td>35.0</td>\n",
       "    </tr>\n",
       "    <tr>\n",
       "      <th>2</th>\n",
       "      <td>12583</td>\n",
       "      <td>6705.38</td>\n",
       "      <td>2.0</td>\n",
       "      <td>15.0</td>\n",
       "      <td>5028.0</td>\n",
       "      <td>50.0</td>\n",
       "    </tr>\n",
       "    <tr>\n",
       "      <th>3</th>\n",
       "      <td>13748</td>\n",
       "      <td>948.25</td>\n",
       "      <td>95.0</td>\n",
       "      <td>5.0</td>\n",
       "      <td>439.0</td>\n",
       "      <td>0.0</td>\n",
       "    </tr>\n",
       "    <tr>\n",
       "      <th>4</th>\n",
       "      <td>15100</td>\n",
       "      <td>876.00</td>\n",
       "      <td>333.0</td>\n",
       "      <td>3.0</td>\n",
       "      <td>80.0</td>\n",
       "      <td>22.0</td>\n",
       "    </tr>\n",
       "  </tbody>\n",
       "</table>\n",
       "</div>"
      ],
      "text/plain": [
       "   customer_id  gross_revenue  recency_days  qty_purchases  qty_products  qty_returns\n",
       "0        17850        5391.21         372.0           34.0        1733.0         40.0\n",
       "1        13047        3232.59          56.0            9.0        1390.0         35.0\n",
       "2        12583        6705.38           2.0           15.0        5028.0         50.0\n",
       "3        13748         948.25          95.0            5.0         439.0          0.0\n",
       "4        15100         876.00         333.0            3.0          80.0         22.0"
      ]
     },
     "execution_count": 123,
     "metadata": {},
     "output_type": "execute_result"
    }
   ],
   "source": [
    "df_ret = df_returns[['customer_id', 'quantity']].groupby( 'customer_id' ).sum().reset_index().rename( columns={\"quantity\":\"qty_returns\"} )\n",
    "df_ret['qty_returns'] = df_ret['qty_returns'] * -1\n",
    "df_ref = pd.merge( df_ref, df_ret, how='left', on='customer_id' )\n",
    "df_ref.loc[df_ref['qty_returns'].isna(), 'qty_returns'] = 0\n",
    "df_ref.head()"
   ]
  },
  {
   "cell_type": "markdown",
   "id": "f42d72be",
   "metadata": {},
   "source": [
    "### 4.1.6. Frequency Purchase"
   ]
  },
  {
   "cell_type": "code",
   "execution_count": 124,
   "id": "ad805966",
   "metadata": {
    "ExecuteTime": {
     "end_time": "2022-06-15T23:52:16.639803Z",
     "start_time": "2022-06-15T23:52:15.497547Z"
    }
   },
   "outputs": [
    {
     "data": {
      "text/html": [
       "<div>\n",
       "<style scoped>\n",
       "    .dataframe tbody tr th:only-of-type {\n",
       "        vertical-align: middle;\n",
       "    }\n",
       "\n",
       "    .dataframe tbody tr th {\n",
       "        vertical-align: top;\n",
       "    }\n",
       "\n",
       "    .dataframe thead th {\n",
       "        text-align: right;\n",
       "    }\n",
       "</style>\n",
       "<table border=\"1\" class=\"dataframe\">\n",
       "  <thead>\n",
       "    <tr style=\"text-align: right;\">\n",
       "      <th></th>\n",
       "      <th>customer_id</th>\n",
       "      <th>gross_revenue</th>\n",
       "      <th>recency_days</th>\n",
       "      <th>qty_purchases</th>\n",
       "      <th>qty_products</th>\n",
       "      <th>qty_returns</th>\n",
       "      <th>frequency</th>\n",
       "    </tr>\n",
       "  </thead>\n",
       "  <tbody>\n",
       "    <tr>\n",
       "      <th>0</th>\n",
       "      <td>17850</td>\n",
       "      <td>5391.21</td>\n",
       "      <td>372.0</td>\n",
       "      <td>34.0</td>\n",
       "      <td>1733.0</td>\n",
       "      <td>40.0</td>\n",
       "      <td>17.000000</td>\n",
       "    </tr>\n",
       "    <tr>\n",
       "      <th>1</th>\n",
       "      <td>13047</td>\n",
       "      <td>3232.59</td>\n",
       "      <td>56.0</td>\n",
       "      <td>9.0</td>\n",
       "      <td>1390.0</td>\n",
       "      <td>35.0</td>\n",
       "      <td>0.028302</td>\n",
       "    </tr>\n",
       "    <tr>\n",
       "      <th>2</th>\n",
       "      <td>12583</td>\n",
       "      <td>6705.38</td>\n",
       "      <td>2.0</td>\n",
       "      <td>15.0</td>\n",
       "      <td>5028.0</td>\n",
       "      <td>50.0</td>\n",
       "      <td>0.040323</td>\n",
       "    </tr>\n",
       "    <tr>\n",
       "      <th>3</th>\n",
       "      <td>13748</td>\n",
       "      <td>948.25</td>\n",
       "      <td>95.0</td>\n",
       "      <td>5.0</td>\n",
       "      <td>439.0</td>\n",
       "      <td>0.0</td>\n",
       "      <td>0.017921</td>\n",
       "    </tr>\n",
       "    <tr>\n",
       "      <th>4</th>\n",
       "      <td>15100</td>\n",
       "      <td>876.00</td>\n",
       "      <td>333.0</td>\n",
       "      <td>3.0</td>\n",
       "      <td>80.0</td>\n",
       "      <td>22.0</td>\n",
       "      <td>0.073171</td>\n",
       "    </tr>\n",
       "  </tbody>\n",
       "</table>\n",
       "</div>"
      ],
      "text/plain": [
       "   customer_id  gross_revenue  recency_days  qty_purchases  qty_products  qty_returns  frequency\n",
       "0        17850        5391.21         372.0           34.0        1733.0         40.0  17.000000\n",
       "1        13047        3232.59          56.0            9.0        1390.0         35.0   0.028302\n",
       "2        12583        6705.38           2.0           15.0        5028.0         50.0   0.040323\n",
       "3        13748         948.25          95.0            5.0         439.0          0.0   0.017921\n",
       "4        15100         876.00         333.0            3.0          80.0         22.0   0.073171"
      ]
     },
     "execution_count": 124,
     "metadata": {},
     "output_type": "execute_result"
    }
   ],
   "source": [
    "df_aux = ( df_purchases[['customer_id', 'invoice_no', 'invoice_date']].drop_duplicates()\n",
    "                                                                      .groupby( 'customer_id' )\n",
    "                                                                      .agg( max_date = ('invoice_date', 'max'),\n",
    "                                                                            min_date = ('invoice_date', 'min'),\n",
    "                                                                            days     = ('invoice_date', lambda x: (( x.max() - x.min() ).days) + 1 ),\n",
    "                                                                            buy      = ('invoice_no', 'count') ) ).reset_index()\n",
    "\n",
    "# frequency \n",
    "df_aux['frequency'] = df_aux[['buy', 'days']].apply( lambda x: x['buy'] / x['days'] if x['days'] != 0 else 0, axis=1 )\n",
    "\n",
    "# merge\n",
    "df_ref = pd.merge( df_ref, df_aux[['customer_id', 'frequency']], on='customer_id', how='left' )\n",
    "df_ref.head()"
   ]
  },
  {
   "cell_type": "markdown",
   "id": "f97d36d0",
   "metadata": {},
   "source": [
    "## 4.2. Checking NAs"
   ]
  },
  {
   "cell_type": "code",
   "execution_count": 125,
   "id": "a7b28f46",
   "metadata": {
    "ExecuteTime": {
     "end_time": "2022-06-15T23:52:17.625282Z",
     "start_time": "2022-06-15T23:52:17.618282Z"
    }
   },
   "outputs": [
    {
     "data": {
      "text/plain": [
       "customer_id       0\n",
       "gross_revenue    91\n",
       "recency_days     91\n",
       "qty_purchases    91\n",
       "qty_products     91\n",
       "qty_returns       0\n",
       "frequency        91\n",
       "dtype: int64"
      ]
     },
     "execution_count": 125,
     "metadata": {},
     "output_type": "execute_result"
    }
   ],
   "source": [
    "# checking possible NAs created by the merge\n",
    "df_ref.isna().sum()"
   ]
  },
  {
   "cell_type": "markdown",
   "id": "94d6e891",
   "metadata": {
    "ExecuteTime": {
     "end_time": "2022-03-26T14:43:53.830875Z",
     "start_time": "2022-03-26T14:43:53.816872Z"
    }
   },
   "source": [
    "# 5. EDA"
   ]
  },
  {
   "cell_type": "code",
   "execution_count": 147,
   "id": "5b52f4ae",
   "metadata": {
    "ExecuteTime": {
     "end_time": "2022-06-16T00:01:59.151088Z",
     "start_time": "2022-06-16T00:01:59.135085Z"
    }
   },
   "outputs": [],
   "source": [
    "df5 = df_ref.dropna()"
   ]
  },
  {
   "cell_type": "markdown",
   "id": "7172280d",
   "metadata": {},
   "source": [
    "## 5.1. Univariate Analysis"
   ]
  },
  {
   "cell_type": "code",
   "execution_count": 127,
   "id": "2fd3023e",
   "metadata": {
    "ExecuteTime": {
     "end_time": "2022-06-15T23:52:38.012997Z",
     "start_time": "2022-06-15T23:52:20.046728Z"
    }
   },
   "outputs": [],
   "source": [
    "profile = ProfileReport( df5, pool_size = 1 )\n",
    "profile.to_file( 'output.html' )"
   ]
  },
  {
   "cell_type": "markdown",
   "id": "eca42bb0",
   "metadata": {},
   "source": [
    "### 5.1.1. Gross Revenue"
   ]
  },
  {
   "cell_type": "code",
   "execution_count": 148,
   "id": "461faf55",
   "metadata": {
    "ExecuteTime": {
     "end_time": "2022-06-16T00:02:01.694386Z",
     "start_time": "2022-06-16T00:02:01.669380Z"
    }
   },
   "outputs": [
    {
     "data": {
      "text/html": [
       "<div>\n",
       "<style scoped>\n",
       "    .dataframe tbody tr th:only-of-type {\n",
       "        vertical-align: middle;\n",
       "    }\n",
       "\n",
       "    .dataframe tbody tr th {\n",
       "        vertical-align: top;\n",
       "    }\n",
       "\n",
       "    .dataframe thead th {\n",
       "        text-align: right;\n",
       "    }\n",
       "</style>\n",
       "<table border=\"1\" class=\"dataframe\">\n",
       "  <thead>\n",
       "    <tr style=\"text-align: right;\">\n",
       "      <th></th>\n",
       "      <th>customer_id</th>\n",
       "      <th>gross_revenue</th>\n",
       "      <th>recency_days</th>\n",
       "      <th>qty_purchases</th>\n",
       "      <th>qty_products</th>\n",
       "      <th>qty_returns</th>\n",
       "      <th>frequency</th>\n",
       "    </tr>\n",
       "  </thead>\n",
       "  <tbody>\n",
       "    <tr>\n",
       "      <th>1017</th>\n",
       "      <td>14646</td>\n",
       "      <td>279138.02</td>\n",
       "      <td>1.0</td>\n",
       "      <td>72.0</td>\n",
       "      <td>196844.0</td>\n",
       "      <td>288.0</td>\n",
       "      <td>0.203390</td>\n",
       "    </tr>\n",
       "    <tr>\n",
       "      <th>492</th>\n",
       "      <td>18102</td>\n",
       "      <td>259657.30</td>\n",
       "      <td>0.0</td>\n",
       "      <td>60.0</td>\n",
       "      <td>64124.0</td>\n",
       "      <td>0.0</td>\n",
       "      <td>0.163043</td>\n",
       "    </tr>\n",
       "    <tr>\n",
       "      <th>434</th>\n",
       "      <td>17450</td>\n",
       "      <td>194550.79</td>\n",
       "      <td>8.0</td>\n",
       "      <td>46.0</td>\n",
       "      <td>69993.0</td>\n",
       "      <td>952.0</td>\n",
       "      <td>0.127778</td>\n",
       "    </tr>\n",
       "    <tr>\n",
       "      <th>66</th>\n",
       "      <td>14911</td>\n",
       "      <td>136275.72</td>\n",
       "      <td>1.0</td>\n",
       "      <td>198.0</td>\n",
       "      <td>80179.0</td>\n",
       "      <td>3331.0</td>\n",
       "      <td>0.530831</td>\n",
       "    </tr>\n",
       "    <tr>\n",
       "      <th>1150</th>\n",
       "      <td>12415</td>\n",
       "      <td>124564.53</td>\n",
       "      <td>24.0</td>\n",
       "      <td>20.0</td>\n",
       "      <td>77373.0</td>\n",
       "      <td>427.0</td>\n",
       "      <td>0.063694</td>\n",
       "    </tr>\n",
       "  </tbody>\n",
       "</table>\n",
       "</div>"
      ],
      "text/plain": [
       "      customer_id  gross_revenue  recency_days  qty_purchases  qty_products  qty_returns  frequency\n",
       "1017        14646      279138.02           1.0           72.0      196844.0        288.0   0.203390\n",
       "492         18102      259657.30           0.0           60.0       64124.0          0.0   0.163043\n",
       "434         17450      194550.79           8.0           46.0       69993.0        952.0   0.127778\n",
       "66          14911      136275.72           1.0          198.0       80179.0       3331.0   0.530831\n",
       "1150        12415      124564.53          24.0           20.0       77373.0        427.0   0.063694"
      ]
     },
     "execution_count": 148,
     "metadata": {},
     "output_type": "execute_result"
    }
   ],
   "source": [
    "df5.sort_values( 'gross_revenue', ascending=False ).head()"
   ]
  },
  {
   "cell_type": "markdown",
   "id": "63d44e14",
   "metadata": {},
   "source": [
    "### 5.1.2. Quantity of Products Purchased"
   ]
  },
  {
   "cell_type": "code",
   "execution_count": 149,
   "id": "3c76ffd0",
   "metadata": {
    "ExecuteTime": {
     "end_time": "2022-06-16T00:02:02.121010Z",
     "start_time": "2022-06-16T00:02:02.107008Z"
    }
   },
   "outputs": [
    {
     "data": {
      "text/html": [
       "<div>\n",
       "<style scoped>\n",
       "    .dataframe tbody tr th:only-of-type {\n",
       "        vertical-align: middle;\n",
       "    }\n",
       "\n",
       "    .dataframe tbody tr th {\n",
       "        vertical-align: top;\n",
       "    }\n",
       "\n",
       "    .dataframe thead th {\n",
       "        text-align: right;\n",
       "    }\n",
       "</style>\n",
       "<table border=\"1\" class=\"dataframe\">\n",
       "  <thead>\n",
       "    <tr style=\"text-align: right;\">\n",
       "      <th></th>\n",
       "      <th>customer_id</th>\n",
       "      <th>gross_revenue</th>\n",
       "      <th>recency_days</th>\n",
       "      <th>qty_purchases</th>\n",
       "      <th>qty_products</th>\n",
       "      <th>qty_returns</th>\n",
       "      <th>frequency</th>\n",
       "    </tr>\n",
       "  </thead>\n",
       "  <tbody>\n",
       "    <tr>\n",
       "      <th>1017</th>\n",
       "      <td>14646</td>\n",
       "      <td>279138.02</td>\n",
       "      <td>1.0</td>\n",
       "      <td>72.0</td>\n",
       "      <td>196844.0</td>\n",
       "      <td>288.0</td>\n",
       "      <td>0.203390</td>\n",
       "    </tr>\n",
       "    <tr>\n",
       "      <th>66</th>\n",
       "      <td>14911</td>\n",
       "      <td>136275.72</td>\n",
       "      <td>1.0</td>\n",
       "      <td>198.0</td>\n",
       "      <td>80179.0</td>\n",
       "      <td>3331.0</td>\n",
       "      <td>0.530831</td>\n",
       "    </tr>\n",
       "    <tr>\n",
       "      <th>1150</th>\n",
       "      <td>12415</td>\n",
       "      <td>124564.53</td>\n",
       "      <td>24.0</td>\n",
       "      <td>20.0</td>\n",
       "      <td>77373.0</td>\n",
       "      <td>427.0</td>\n",
       "      <td>0.063694</td>\n",
       "    </tr>\n",
       "    <tr>\n",
       "      <th>1381</th>\n",
       "      <td>12346</td>\n",
       "      <td>77183.60</td>\n",
       "      <td>325.0</td>\n",
       "      <td>1.0</td>\n",
       "      <td>74215.0</td>\n",
       "      <td>74215.0</td>\n",
       "      <td>1.000000</td>\n",
       "    </tr>\n",
       "    <tr>\n",
       "      <th>434</th>\n",
       "      <td>17450</td>\n",
       "      <td>194550.79</td>\n",
       "      <td>8.0</td>\n",
       "      <td>46.0</td>\n",
       "      <td>69993.0</td>\n",
       "      <td>952.0</td>\n",
       "      <td>0.127778</td>\n",
       "    </tr>\n",
       "  </tbody>\n",
       "</table>\n",
       "</div>"
      ],
      "text/plain": [
       "      customer_id  gross_revenue  recency_days  qty_purchases  qty_products  qty_returns  frequency\n",
       "1017        14646      279138.02           1.0           72.0      196844.0        288.0   0.203390\n",
       "66          14911      136275.72           1.0          198.0       80179.0       3331.0   0.530831\n",
       "1150        12415      124564.53          24.0           20.0       77373.0        427.0   0.063694\n",
       "1381        12346       77183.60         325.0            1.0       74215.0      74215.0   1.000000\n",
       "434         17450      194550.79           8.0           46.0       69993.0        952.0   0.127778"
      ]
     },
     "execution_count": 149,
     "metadata": {},
     "output_type": "execute_result"
    }
   ],
   "source": [
    "df5.sort_values( 'qty_products', ascending=False ).head()"
   ]
  },
  {
   "cell_type": "markdown",
   "id": "7a83b839",
   "metadata": {},
   "source": [
    "### 5.1.3. Frequency"
   ]
  },
  {
   "cell_type": "code",
   "execution_count": 150,
   "id": "325c2a33",
   "metadata": {
    "ExecuteTime": {
     "end_time": "2022-06-16T00:02:02.473089Z",
     "start_time": "2022-06-16T00:02:02.452085Z"
    }
   },
   "outputs": [
    {
     "data": {
      "text/html": [
       "<div>\n",
       "<style scoped>\n",
       "    .dataframe tbody tr th:only-of-type {\n",
       "        vertical-align: middle;\n",
       "    }\n",
       "\n",
       "    .dataframe tbody tr th {\n",
       "        vertical-align: top;\n",
       "    }\n",
       "\n",
       "    .dataframe thead th {\n",
       "        text-align: right;\n",
       "    }\n",
       "</style>\n",
       "<table border=\"1\" class=\"dataframe\">\n",
       "  <thead>\n",
       "    <tr style=\"text-align: right;\">\n",
       "      <th></th>\n",
       "      <th>customer_id</th>\n",
       "      <th>gross_revenue</th>\n",
       "      <th>recency_days</th>\n",
       "      <th>qty_purchases</th>\n",
       "      <th>qty_products</th>\n",
       "      <th>qty_returns</th>\n",
       "      <th>frequency</th>\n",
       "    </tr>\n",
       "  </thead>\n",
       "  <tbody>\n",
       "    <tr>\n",
       "      <th>0</th>\n",
       "      <td>17850</td>\n",
       "      <td>5391.21</td>\n",
       "      <td>372.0</td>\n",
       "      <td>34.0</td>\n",
       "      <td>1733.0</td>\n",
       "      <td>40.0</td>\n",
       "      <td>17.0</td>\n",
       "    </tr>\n",
       "  </tbody>\n",
       "</table>\n",
       "</div>"
      ],
      "text/plain": [
       "   customer_id  gross_revenue  recency_days  qty_purchases  qty_products  qty_returns  frequency\n",
       "0        17850        5391.21         372.0           34.0        1733.0         40.0       17.0"
      ]
     },
     "execution_count": 150,
     "metadata": {},
     "output_type": "execute_result"
    }
   ],
   "source": [
    "df5[df5['frequency'] == 17]"
   ]
  },
  {
   "cell_type": "markdown",
   "id": "00482ee2",
   "metadata": {},
   "source": [
    "## 5.2. Bivariate Analysis"
   ]
  },
  {
   "cell_type": "code",
   "execution_count": 174,
   "id": "5f374763",
   "metadata": {
    "ExecuteTime": {
     "end_time": "2022-06-16T00:09:35.168282Z",
     "start_time": "2022-06-16T00:09:35.157279Z"
    }
   },
   "outputs": [],
   "source": [
    "cols = ['customer_id']\n",
    "df52 = df5.drop( cols, axis=1 )"
   ]
  },
  {
   "cell_type": "code",
   "execution_count": 175,
   "id": "8dd572af",
   "metadata": {
    "ExecuteTime": {
     "end_time": "2022-06-16T00:09:35.535363Z",
     "start_time": "2022-06-16T00:09:35.523362Z"
    }
   },
   "outputs": [],
   "source": [
    "#plt.figure( figsize=(25,12) )\n",
    "#sns.pairplot( df52 );"
   ]
  },
  {
   "cell_type": "markdown",
   "id": "1a78d1ca",
   "metadata": {},
   "source": [
    "## 5.3. Data Space Study"
   ]
  },
  {
   "cell_type": "code",
   "execution_count": 176,
   "id": "085e7a53",
   "metadata": {
    "ExecuteTime": {
     "end_time": "2022-06-16T00:09:36.616608Z",
     "start_time": "2022-06-16T00:09:36.606606Z"
    }
   },
   "outputs": [],
   "source": [
    "cols_select = ['customer_id', 'gross_revenue', 'recency_days', 'qty_products', 'frequency', 'qty_returns']\n",
    "df53 = df5[ cols_select ].copy()"
   ]
  },
  {
   "cell_type": "code",
   "execution_count": 177,
   "id": "425291cd",
   "metadata": {
    "ExecuteTime": {
     "end_time": "2022-06-16T00:09:57.298442Z",
     "start_time": "2022-06-16T00:09:57.272437Z"
    }
   },
   "outputs": [],
   "source": [
    "#mm = MinMaxScaler()\n",
    "\n",
    "df53['gross_revenue']          = mm.fit_transform( df53[['gross_revenue']] )\n",
    "#pickle.dump(mm, open( '../src/features/gross_revenue_scaler.pkl', 'wb') )\n",
    "\n",
    "df53['recency_days']           = mm.fit_transform( df53[['recency_days']] )\n",
    "#pickle.dump(mm, open('../src/features/recency_days_scaler.pkl', 'wb') )\n",
    "\n",
    "df53['qty_products']           = mm.fit_transform( df53[['qty_products']] )\n",
    "#pickle.dump(mm, open('../src/features/qty_products_scaler.pkl', 'wb') )\n",
    "\n",
    "df53['qty_returns']            = mm.fit_transform( df53[['qty_returns']] )\n",
    "#pickle.dump(mm, open('../src/features/qty_returns_scaler.pkl', 'wb') )\n",
    "\n",
    "df53['frequency']              = mm.fit_transform( df53[['frequency']] )\n",
    "#pickle.dump(mm, open('../src/features/frequency_scaler.pkl', 'wb' ))\n",
    "\n",
    "X = df53.drop( columns=['customer_id'] ).copy()"
   ]
  },
  {
   "cell_type": "code",
   "execution_count": null,
   "id": "3357ca87",
   "metadata": {},
   "outputs": [],
   "source": [
    "gross_revenue_scaler = pickle.load( fs.open( path_s3 + 'gross_revenue_scaler.pkl', 'rb' ) )\n",
    "recency_days_scaler  = pickle.load( fs.open( path_s3 + 'recency_days_scaler.pkl', 'rb' ) )\n",
    "qtd_productse_scaler = pickle.load( fs.open( path_s3 + 'qtd_products_scaler.pkl', 'rb' ) )\n",
    "qtd_returns_scaler   = pickle.load( fs.open( path_s3 + 'qtd_returns_scaler.pkl', 'rb' ) )\n",
    "frequency_scaler     = pickle.load( fs.open( path_s3 + 'frequency_scaler.pkl', 'rb' ) )\n",
    "\n",
    "df53['gross_revenue'] = gross_revenue_scaler.fit_transform( df53[['gross_revenue']] )\n",
    "df53['recency_days']  = recency_days_scaler.fit_transform( df53[['recency_days']] )\n",
    "df53['qtd_products']  = qtd_productse_scaler.fit_transform( df53[['qtd_products']] )\n",
    "df53['qtd_returns']   = qtd_returns_scaler.fit_transform( df53[['qtd_returns']] )\n",
    "df53['frequency']     = frequency_scaler.fit_transform( df53[['frequency']] )\n",
    "\n",
    "X = df53.drop( columns=['customer_id'] ).copy()"
   ]
  },
  {
   "cell_type": "markdown",
   "id": "e840394e",
   "metadata": {},
   "source": [
    "### 5.3.1. PCA"
   ]
  },
  {
   "cell_type": "code",
   "execution_count": 178,
   "id": "26887feb",
   "metadata": {
    "ExecuteTime": {
     "end_time": "2022-06-16T00:10:00.865727Z",
     "start_time": "2022-06-16T00:10:00.714751Z"
    }
   },
   "outputs": [
    {
     "data": {
      "image/png": "[encoded data removed]",
      "text/plain": [
       "<Figure size 1440x576 with 1 Axes>"
      ]
     },
     "metadata": {},
     "output_type": "display_data"
    }
   ],
   "source": [
    "pca = PCA( n_components=X.shape[1] )\n",
    "\n",
    "principal_components = pca.fit_transform( X )\n",
    "\n",
    "# plot explained variable\n",
    "features = range( pca.n_components_ )\n",
    "\n",
    "plt.bar( features, pca.explained_variance_ratio_, color='black' )\n",
    "\n",
    "# pca component\n",
    "df_pca = pd.DataFrame( principal_components )"
   ]
  },
  {
   "cell_type": "code",
   "execution_count": 179,
   "id": "f7aa97ef",
   "metadata": {
    "ExecuteTime": {
     "end_time": "2022-06-16T00:10:01.545151Z",
     "start_time": "2022-06-16T00:10:01.372112Z"
    }
   },
   "outputs": [
    {
     "data": {
      "image/png": "[encoded data removed]",
      "text/plain": [
       "<Figure size 1440x576 with 1 Axes>"
      ]
     },
     "metadata": {},
     "output_type": "display_data"
    }
   ],
   "source": [
    "sns.scatterplot( x=0, y=1, data=df_pca );"
   ]
  },
  {
   "cell_type": "markdown",
   "id": "1bff6bca",
   "metadata": {},
   "source": [
    "### 5.3.2. UMAP"
   ]
  },
  {
   "cell_type": "code",
   "execution_count": 180,
   "id": "81783258",
   "metadata": {
    "ExecuteTime": {
     "end_time": "2022-06-16T00:10:11.732744Z",
     "start_time": "2022-06-16T00:10:03.639925Z"
    }
   },
   "outputs": [
    {
     "data": {
      "image/png": "[encoded data removed]",
      "text/plain": [
       "<Figure size 1440x576 with 1 Axes>"
      ]
     },
     "metadata": {},
     "output_type": "display_data"
    }
   ],
   "source": [
    "reducer = umap.UMAP( random_state=0 )\n",
    "embedding = reducer.fit_transform( X )\n",
    "\n",
    "df_umap = pd.DataFrame()\n",
    "\n",
    "# embedding \n",
    "df_umap['embedding_x'] = embedding[:, 0]\n",
    "df_umap['embedding_y'] = embedding[:, 1]\n",
    "\n",
    "# plot UMAP\n",
    "sns.scatterplot( x='embedding_x', y='embedding_y', data=df_umap )\n",
    "plt.show();"
   ]
  },
  {
   "cell_type": "markdown",
   "id": "8cd11847",
   "metadata": {},
   "source": [
    "### 5.3.3. t-SNE"
   ]
  },
  {
   "cell_type": "code",
   "execution_count": 181,
   "id": "933fce02",
   "metadata": {
    "ExecuteTime": {
     "end_time": "2022-06-16T00:10:28.744569Z",
     "start_time": "2022-06-16T00:10:11.734745Z"
    }
   },
   "outputs": [
    {
     "data": {
      "image/png": "[encoded data removed]",
      "text/plain": [
       "<Figure size 1440x576 with 1 Axes>"
      ]
     },
     "metadata": {},
     "output_type": "display_data"
    }
   ],
   "source": [
    "reducer = TSNE( n_components=2, n_jobs=-1, random_state=0 )\n",
    "embedding = reducer.fit_transform( X )\n",
    "\n",
    "df_tsne = pd.DataFrame()\n",
    "\n",
    "# embedding \n",
    "df_tsne['embedding_x'] = embedding[:, 0]\n",
    "df_tsne['embedding_y'] = embedding[:, 1]\n",
    "\n",
    "# plot t-SNE\n",
    "sns.scatterplot( x='embedding_x', y='embedding_y', data=df_tsne )\n",
    "plt.show();"
   ]
  },
  {
   "cell_type": "markdown",
   "id": "ebe91953",
   "metadata": {},
   "source": [
    "### 5.3.4. Tree-Based Embedding"
   ]
  },
  {
   "cell_type": "code",
   "execution_count": 182,
   "id": "8d9d15d4",
   "metadata": {
    "ExecuteTime": {
     "end_time": "2022-06-16T00:10:28.760573Z",
     "start_time": "2022-06-16T00:10:28.745569Z"
    }
   },
   "outputs": [],
   "source": [
    "# training dataset\n",
    "X = df53.drop( columns=['customer_id', 'gross_revenue'], axis=1 )\n",
    "y = df53['gross_revenue']"
   ]
  },
  {
   "cell_type": "code",
   "execution_count": 183,
   "id": "4d497f2a",
   "metadata": {
    "ExecuteTime": {
     "end_time": "2022-06-16T00:10:30.194248Z",
     "start_time": "2022-06-16T00:10:28.762573Z"
    }
   },
   "outputs": [
    {
     "data": {
      "text/plain": [
       "(5695, 100)"
      ]
     },
     "execution_count": 183,
     "metadata": {},
     "output_type": "execute_result"
    }
   ],
   "source": [
    "# model definition\n",
    "rf_model = RandomForestRegressor( n_estimators=100, random_state=0 )\n",
    "\n",
    "# model training\n",
    "rf_model.fit( X, y );\n",
    "\n",
    "# leaf\n",
    "df_leaf = pd.DataFrame( rf_model.apply( X ) )\n",
    "df_leaf.shape"
   ]
  },
  {
   "cell_type": "code",
   "execution_count": 184,
   "id": "49f23c48",
   "metadata": {
    "ExecuteTime": {
     "end_time": "2022-06-16T00:10:37.847969Z",
     "start_time": "2022-06-16T00:10:30.196250Z"
    }
   },
   "outputs": [
    {
     "data": {
      "image/png": "[encoded data removed]",
      "text/plain": [
       "<Figure size 1440x576 with 1 Axes>"
      ]
     },
     "metadata": {},
     "output_type": "display_data"
    }
   ],
   "source": [
    "# reduce dimensionality\n",
    "reducer = umap.UMAP( random_state=0 )\n",
    "embedding = reducer.fit_transform( df_leaf )\n",
    "\n",
    "# embedding \n",
    "df_tree = pd.DataFrame()\n",
    "df_tree['embedding_x'] = embedding[:, 0]\n",
    "df_tree['embedding_y'] = embedding[:, 1]\n",
    "\n",
    "# plot UMAP\n",
    "sns.scatterplot( x='embedding_x', y='embedding_y', data=df_tree )\n",
    "plt.show();"
   ]
  },
  {
   "cell_type": "markdown",
   "id": "0540b671",
   "metadata": {},
   "source": [
    "# 6. Data Preparation"
   ]
  },
  {
   "cell_type": "code",
   "execution_count": 185,
   "id": "03fb9fc3",
   "metadata": {
    "ExecuteTime": {
     "end_time": "2022-06-16T00:10:37.863973Z",
     "start_time": "2022-06-16T00:10:37.848969Z"
    }
   },
   "outputs": [],
   "source": [
    "df6 = df53.copy()"
   ]
  },
  {
   "cell_type": "markdown",
   "id": "07c6fa42",
   "metadata": {},
   "source": [
    "# 7. Feature Selection"
   ]
  },
  {
   "cell_type": "code",
   "execution_count": 186,
   "id": "1f92b43c",
   "metadata": {
    "ExecuteTime": {
     "end_time": "2022-06-16T00:10:37.879979Z",
     "start_time": "2022-06-16T00:10:37.865974Z"
    }
   },
   "outputs": [],
   "source": [
    "df7 = df6.copy()"
   ]
  },
  {
   "cell_type": "markdown",
   "id": "f9a5cc6f",
   "metadata": {},
   "source": [
    "# 8. Hyperparameter Fine-Tunning"
   ]
  },
  {
   "cell_type": "code",
   "execution_count": 204,
   "id": "7e206aa7",
   "metadata": {
    "ExecuteTime": {
     "end_time": "2022-06-16T00:16:29.195143Z",
     "start_time": "2022-06-16T00:16:29.174139Z"
    }
   },
   "outputs": [
    {
     "data": {
      "text/html": [
       "<div>\n",
       "<style scoped>\n",
       "    .dataframe tbody tr th:only-of-type {\n",
       "        vertical-align: middle;\n",
       "    }\n",
       "\n",
       "    .dataframe tbody tr th {\n",
       "        vertical-align: top;\n",
       "    }\n",
       "\n",
       "    .dataframe thead th {\n",
       "        text-align: right;\n",
       "    }\n",
       "</style>\n",
       "<table border=\"1\" class=\"dataframe\">\n",
       "  <thead>\n",
       "    <tr style=\"text-align: right;\">\n",
       "      <th></th>\n",
       "      <th>gross_revenue</th>\n",
       "      <th>recency_days</th>\n",
       "      <th>qty_products</th>\n",
       "      <th>frequency</th>\n",
       "      <th>qty_returns</th>\n",
       "    </tr>\n",
       "  </thead>\n",
       "  <tbody>\n",
       "    <tr>\n",
       "      <th>0</th>\n",
       "      <td>0.019312</td>\n",
       "      <td>0.997319</td>\n",
       "      <td>0.008799</td>\n",
       "      <td>1.000000</td>\n",
       "      <td>0.000539</td>\n",
       "    </tr>\n",
       "    <tr>\n",
       "      <th>1</th>\n",
       "      <td>0.011579</td>\n",
       "      <td>0.150134</td>\n",
       "      <td>0.007056</td>\n",
       "      <td>0.001345</td>\n",
       "      <td>0.000472</td>\n",
       "    </tr>\n",
       "    <tr>\n",
       "      <th>2</th>\n",
       "      <td>0.024020</td>\n",
       "      <td>0.005362</td>\n",
       "      <td>0.025538</td>\n",
       "      <td>0.002052</td>\n",
       "      <td>0.000674</td>\n",
       "    </tr>\n",
       "    <tr>\n",
       "      <th>3</th>\n",
       "      <td>0.003396</td>\n",
       "      <td>0.254692</td>\n",
       "      <td>0.002225</td>\n",
       "      <td>0.000734</td>\n",
       "      <td>0.000000</td>\n",
       "    </tr>\n",
       "    <tr>\n",
       "      <th>4</th>\n",
       "      <td>0.003137</td>\n",
       "      <td>0.892761</td>\n",
       "      <td>0.000401</td>\n",
       "      <td>0.003985</td>\n",
       "      <td>0.000296</td>\n",
       "    </tr>\n",
       "  </tbody>\n",
       "</table>\n",
       "</div>"
      ],
      "text/plain": [
       "   gross_revenue  recency_days  qty_products  frequency  qty_returns\n",
       "0       0.019312      0.997319      0.008799   1.000000     0.000539\n",
       "1       0.011579      0.150134      0.007056   0.001345     0.000472\n",
       "2       0.024020      0.005362      0.025538   0.002052     0.000674\n",
       "3       0.003396      0.254692      0.002225   0.000734     0.000000\n",
       "4       0.003137      0.892761      0.000401   0.003985     0.000296"
      ]
     },
     "execution_count": 204,
     "metadata": {},
     "output_type": "execute_result"
    }
   ],
   "source": [
    "X = df7.drop( columns=['customer_id'] ).copy()\n",
    "X.head()"
   ]
  },
  {
   "cell_type": "code",
   "execution_count": 205,
   "id": "10fbe085",
   "metadata": {
    "ExecuteTime": {
     "end_time": "2022-06-16T00:16:29.590233Z",
     "start_time": "2022-06-16T00:16:29.581231Z"
    }
   },
   "outputs": [],
   "source": [
    "clusters = np.arange( 2, 30, 1 )"
   ]
  },
  {
   "cell_type": "markdown",
   "id": "effd7428",
   "metadata": {},
   "source": [
    "## 8.1. K-Means"
   ]
  },
  {
   "cell_type": "code",
   "execution_count": 206,
   "id": "dca2e268",
   "metadata": {
    "ExecuteTime": {
     "end_time": "2022-06-16T00:16:47.889877Z",
     "start_time": "2022-06-16T00:16:30.885054Z"
    }
   },
   "outputs": [],
   "source": [
    "kmeans_list = []\n",
    "\n",
    "for k in clusters:\n",
    "    # model definition\n",
    "    kmeans_model = KMeans( n_clusters=k, random_state=42 )\n",
    "\n",
    "    # model training \n",
    "    kmeans_model.fit( X )\n",
    "\n",
    "    # model predict\n",
    "    labels = kmeans_model.predict( X )\n",
    "\n",
    "    # model performance\n",
    "    sil = silhouette_score( X, labels, metric='euclidean' )\n",
    "    kmeans_list.append( sil )"
   ]
  },
  {
   "cell_type": "code",
   "execution_count": 207,
   "id": "3e0e4f2f",
   "metadata": {
    "ExecuteTime": {
     "end_time": "2022-06-16T00:16:48.049913Z",
     "start_time": "2022-06-16T00:16:47.891878Z"
    }
   },
   "outputs": [
    {
     "data": {
      "image/png": "[encoded data removed]",
      "text/plain": [
       "<Figure size 1440x576 with 1 Axes>"
      ]
     },
     "metadata": {},
     "output_type": "display_data"
    }
   ],
   "source": [
    "plt.plot( clusters, kmeans_list, linestyle='--', marker='o', color='b' )\n",
    "plt.xlabel( 'K' )\n",
    "plt.ylabel( 'Silhouette Score' )\n",
    "plt.title( 'Silhouette Score x K' );"
   ]
  },
  {
   "cell_type": "markdown",
   "id": "a5bec3d7",
   "metadata": {},
   "source": [
    "## 8.2. GMM"
   ]
  },
  {
   "cell_type": "code",
   "execution_count": 208,
   "id": "b38ba545",
   "metadata": {
    "ExecuteTime": {
     "end_time": "2022-06-16T00:17:10.382934Z",
     "start_time": "2022-06-16T00:16:48.050914Z"
    }
   },
   "outputs": [],
   "source": [
    "gmm_list = []\n",
    "\n",
    "for k in clusters:\n",
    "    # model definition\n",
    "    gmm_model = GaussianMixture( n_components=k, random_state=42 )\n",
    "\n",
    "    # model training \n",
    "    gmm_model.fit( X )\n",
    "\n",
    "    # model predict\n",
    "    labels = gmm_model.predict( X )\n",
    "\n",
    "    # model performance\n",
    "    sil = silhouette_score( X, labels, metric='euclidean' )\n",
    "    gmm_list.append( sil )"
   ]
  },
  {
   "cell_type": "code",
   "execution_count": 209,
   "id": "5d8dfd6b",
   "metadata": {
    "ExecuteTime": {
     "end_time": "2022-06-16T00:17:10.542970Z",
     "start_time": "2022-06-16T00:17:10.384936Z"
    }
   },
   "outputs": [
    {
     "data": {
      "image/png": "[encoded data removed]",
      "text/plain": [
       "<Figure size 1440x576 with 1 Axes>"
      ]
     },
     "metadata": {},
     "output_type": "display_data"
    }
   ],
   "source": [
    "plt.plot( clusters, gmm_list, linestyle='--', marker='o', color='b' )\n",
    "plt.xlabel( 'K' )\n",
    "plt.ylabel( 'Silhouette Score' )\n",
    "plt.title( 'Silhouette Score x K' );"
   ]
  },
  {
   "cell_type": "markdown",
   "id": "509792cb",
   "metadata": {},
   "source": [
    "## 8.3. Hierarchical Clustering"
   ]
  },
  {
   "cell_type": "code",
   "execution_count": 210,
   "id": "9fce8177",
   "metadata": {
    "ExecuteTime": {
     "end_time": "2022-06-16T00:17:11.229124Z",
     "start_time": "2022-06-16T00:17:10.543971Z"
    }
   },
   "outputs": [],
   "source": [
    "# model definition and training\n",
    "hc_model = linkage( X, 'ward' )"
   ]
  },
  {
   "cell_type": "code",
   "execution_count": 211,
   "id": "e6ced753",
   "metadata": {
    "ExecuteTime": {
     "end_time": "2022-06-16T00:17:42.276114Z",
     "start_time": "2022-06-16T00:17:11.230125Z"
    }
   },
   "outputs": [],
   "source": [
    "hc_list = []\n",
    "\n",
    "for k in clusters:\n",
    "    # model definition and training\n",
    "    hc_model = linkage( X, 'ward' )\n",
    "\n",
    "    # model predict\n",
    "    labels = fcluster( hc_model, k, criterion='maxclust' )\n",
    "\n",
    "    # metrics\n",
    "    sil = silhouette_score( X, labels, metric='euclidean' )\n",
    "    hc_list.append( sil )"
   ]
  },
  {
   "cell_type": "code",
   "execution_count": 212,
   "id": "97ac0cd5",
   "metadata": {
    "ExecuteTime": {
     "end_time": "2022-06-16T00:17:42.436150Z",
     "start_time": "2022-06-16T00:17:42.277114Z"
    }
   },
   "outputs": [
    {
     "data": {
      "image/png": "[encoded data removed]",
      "text/plain": [
       "<Figure size 1440x576 with 1 Axes>"
      ]
     },
     "metadata": {},
     "output_type": "display_data"
    }
   ],
   "source": [
    "plt.plot( clusters, hc_list, linestyle='--', marker='o', color='b' )\n",
    "plt.xlabel( 'K' )\n",
    "plt.ylabel( 'Silhouette Score' )\n",
    "plt.title( 'Silhouette Score x K' );"
   ]
  },
  {
   "cell_type": "markdown",
   "id": "c0d61aaa",
   "metadata": {},
   "source": [
    "## 8.4. Results"
   ]
  },
  {
   "cell_type": "code",
   "execution_count": 213,
   "id": "69a414c5",
   "metadata": {
    "ExecuteTime": {
     "end_time": "2022-06-16T00:17:42.452154Z",
     "start_time": "2022-06-16T00:17:42.437151Z"
    }
   },
   "outputs": [
    {
     "data": {
      "text/html": [
       "<style type=\"text/css\">\n",
       "#T_12f71_row0_col0, #T_12f71_row1_col22, #T_12f71_row2_col0 {\n",
       "  background-color: lightgreen;\n",
       "}\n",
       "</style>\n",
       "<table id=\"T_12f71\">\n",
       "  <thead>\n",
       "    <tr>\n",
       "      <th class=\"blank level0\" >&nbsp;</th>\n",
       "      <th id=\"T_12f71_level0_col0\" class=\"col_heading level0 col0\" >2</th>\n",
       "      <th id=\"T_12f71_level0_col1\" class=\"col_heading level0 col1\" >3</th>\n",
       "      <th id=\"T_12f71_level0_col2\" class=\"col_heading level0 col2\" >4</th>\n",
       "      <th id=\"T_12f71_level0_col3\" class=\"col_heading level0 col3\" >5</th>\n",
       "      <th id=\"T_12f71_level0_col4\" class=\"col_heading level0 col4\" >6</th>\n",
       "      <th id=\"T_12f71_level0_col5\" class=\"col_heading level0 col5\" >7</th>\n",
       "      <th id=\"T_12f71_level0_col6\" class=\"col_heading level0 col6\" >8</th>\n",
       "      <th id=\"T_12f71_level0_col7\" class=\"col_heading level0 col7\" >9</th>\n",
       "      <th id=\"T_12f71_level0_col8\" class=\"col_heading level0 col8\" >10</th>\n",
       "      <th id=\"T_12f71_level0_col9\" class=\"col_heading level0 col9\" >11</th>\n",
       "      <th id=\"T_12f71_level0_col10\" class=\"col_heading level0 col10\" >12</th>\n",
       "      <th id=\"T_12f71_level0_col11\" class=\"col_heading level0 col11\" >13</th>\n",
       "      <th id=\"T_12f71_level0_col12\" class=\"col_heading level0 col12\" >14</th>\n",
       "      <th id=\"T_12f71_level0_col13\" class=\"col_heading level0 col13\" >15</th>\n",
       "      <th id=\"T_12f71_level0_col14\" class=\"col_heading level0 col14\" >16</th>\n",
       "      <th id=\"T_12f71_level0_col15\" class=\"col_heading level0 col15\" >17</th>\n",
       "      <th id=\"T_12f71_level0_col16\" class=\"col_heading level0 col16\" >18</th>\n",
       "      <th id=\"T_12f71_level0_col17\" class=\"col_heading level0 col17\" >19</th>\n",
       "      <th id=\"T_12f71_level0_col18\" class=\"col_heading level0 col18\" >20</th>\n",
       "      <th id=\"T_12f71_level0_col19\" class=\"col_heading level0 col19\" >21</th>\n",
       "      <th id=\"T_12f71_level0_col20\" class=\"col_heading level0 col20\" >22</th>\n",
       "      <th id=\"T_12f71_level0_col21\" class=\"col_heading level0 col21\" >23</th>\n",
       "      <th id=\"T_12f71_level0_col22\" class=\"col_heading level0 col22\" >24</th>\n",
       "      <th id=\"T_12f71_level0_col23\" class=\"col_heading level0 col23\" >25</th>\n",
       "      <th id=\"T_12f71_level0_col24\" class=\"col_heading level0 col24\" >26</th>\n",
       "      <th id=\"T_12f71_level0_col25\" class=\"col_heading level0 col25\" >27</th>\n",
       "      <th id=\"T_12f71_level0_col26\" class=\"col_heading level0 col26\" >28</th>\n",
       "      <th id=\"T_12f71_level0_col27\" class=\"col_heading level0 col27\" >29</th>\n",
       "    </tr>\n",
       "  </thead>\n",
       "  <tbody>\n",
       "    <tr>\n",
       "      <th id=\"T_12f71_level0_row0\" class=\"row_heading level0 row0\" >KMeans</th>\n",
       "      <td id=\"T_12f71_row0_col0\" class=\"data row0 col0\" >0.689180</td>\n",
       "      <td id=\"T_12f71_row0_col1\" class=\"data row0 col1\" >0.632644</td>\n",
       "      <td id=\"T_12f71_row0_col2\" class=\"data row0 col2\" >0.542587</td>\n",
       "      <td id=\"T_12f71_row0_col3\" class=\"data row0 col3\" >0.533976</td>\n",
       "      <td id=\"T_12f71_row0_col4\" class=\"data row0 col4\" >0.512531</td>\n",
       "      <td id=\"T_12f71_row0_col5\" class=\"data row0 col5\" >0.506438</td>\n",
       "      <td id=\"T_12f71_row0_col6\" class=\"data row0 col6\" >0.488311</td>\n",
       "      <td id=\"T_12f71_row0_col7\" class=\"data row0 col7\" >0.446134</td>\n",
       "      <td id=\"T_12f71_row0_col8\" class=\"data row0 col8\" >0.436967</td>\n",
       "      <td id=\"T_12f71_row0_col9\" class=\"data row0 col9\" >0.450934</td>\n",
       "      <td id=\"T_12f71_row0_col10\" class=\"data row0 col10\" >0.451015</td>\n",
       "      <td id=\"T_12f71_row0_col11\" class=\"data row0 col11\" >0.446832</td>\n",
       "      <td id=\"T_12f71_row0_col12\" class=\"data row0 col12\" >0.444745</td>\n",
       "      <td id=\"T_12f71_row0_col13\" class=\"data row0 col13\" >0.473795</td>\n",
       "      <td id=\"T_12f71_row0_col14\" class=\"data row0 col14\" >0.430939</td>\n",
       "      <td id=\"T_12f71_row0_col15\" class=\"data row0 col15\" >0.461416</td>\n",
       "      <td id=\"T_12f71_row0_col16\" class=\"data row0 col16\" >0.466400</td>\n",
       "      <td id=\"T_12f71_row0_col17\" class=\"data row0 col17\" >0.464443</td>\n",
       "      <td id=\"T_12f71_row0_col18\" class=\"data row0 col18\" >0.463343</td>\n",
       "      <td id=\"T_12f71_row0_col19\" class=\"data row0 col19\" >0.456603</td>\n",
       "      <td id=\"T_12f71_row0_col20\" class=\"data row0 col20\" >0.464828</td>\n",
       "      <td id=\"T_12f71_row0_col21\" class=\"data row0 col21\" >0.469659</td>\n",
       "      <td id=\"T_12f71_row0_col22\" class=\"data row0 col22\" >0.473268</td>\n",
       "      <td id=\"T_12f71_row0_col23\" class=\"data row0 col23\" >0.468900</td>\n",
       "      <td id=\"T_12f71_row0_col24\" class=\"data row0 col24\" >0.462614</td>\n",
       "      <td id=\"T_12f71_row0_col25\" class=\"data row0 col25\" >0.497921</td>\n",
       "      <td id=\"T_12f71_row0_col26\" class=\"data row0 col26\" >0.488460</td>\n",
       "      <td id=\"T_12f71_row0_col27\" class=\"data row0 col27\" >0.480351</td>\n",
       "    </tr>\n",
       "    <tr>\n",
       "      <th id=\"T_12f71_level0_row1\" class=\"row_heading level0 row1\" >GMM</th>\n",
       "      <td id=\"T_12f71_row1_col0\" class=\"data row1 col0\" >-0.058279</td>\n",
       "      <td id=\"T_12f71_row1_col1\" class=\"data row1 col1\" >-0.273269</td>\n",
       "      <td id=\"T_12f71_row1_col2\" class=\"data row1 col2\" >-0.093058</td>\n",
       "      <td id=\"T_12f71_row1_col3\" class=\"data row1 col3\" >-0.045796</td>\n",
       "      <td id=\"T_12f71_row1_col4\" class=\"data row1 col4\" >-0.000073</td>\n",
       "      <td id=\"T_12f71_row1_col5\" class=\"data row1 col5\" >-0.147786</td>\n",
       "      <td id=\"T_12f71_row1_col6\" class=\"data row1 col6\" >-0.268632</td>\n",
       "      <td id=\"T_12f71_row1_col7\" class=\"data row1 col7\" >-0.220818</td>\n",
       "      <td id=\"T_12f71_row1_col8\" class=\"data row1 col8\" >-0.222257</td>\n",
       "      <td id=\"T_12f71_row1_col9\" class=\"data row1 col9\" >-0.225105</td>\n",
       "      <td id=\"T_12f71_row1_col10\" class=\"data row1 col10\" >-0.241462</td>\n",
       "      <td id=\"T_12f71_row1_col11\" class=\"data row1 col11\" >-0.247155</td>\n",
       "      <td id=\"T_12f71_row1_col12\" class=\"data row1 col12\" >-0.321111</td>\n",
       "      <td id=\"T_12f71_row1_col13\" class=\"data row1 col13\" >-0.111884</td>\n",
       "      <td id=\"T_12f71_row1_col14\" class=\"data row1 col14\" >-0.124567</td>\n",
       "      <td id=\"T_12f71_row1_col15\" class=\"data row1 col15\" >-0.143945</td>\n",
       "      <td id=\"T_12f71_row1_col16\" class=\"data row1 col16\" >-0.157838</td>\n",
       "      <td id=\"T_12f71_row1_col17\" class=\"data row1 col17\" >-0.176846</td>\n",
       "      <td id=\"T_12f71_row1_col18\" class=\"data row1 col18\" >-0.017622</td>\n",
       "      <td id=\"T_12f71_row1_col19\" class=\"data row1 col19\" >-0.125780</td>\n",
       "      <td id=\"T_12f71_row1_col20\" class=\"data row1 col20\" >-0.185242</td>\n",
       "      <td id=\"T_12f71_row1_col21\" class=\"data row1 col21\" >-0.096964</td>\n",
       "      <td id=\"T_12f71_row1_col22\" class=\"data row1 col22\" >0.010508</td>\n",
       "      <td id=\"T_12f71_row1_col23\" class=\"data row1 col23\" >-0.245745</td>\n",
       "      <td id=\"T_12f71_row1_col24\" class=\"data row1 col24\" >-0.053849</td>\n",
       "      <td id=\"T_12f71_row1_col25\" class=\"data row1 col25\" >-0.053602</td>\n",
       "      <td id=\"T_12f71_row1_col26\" class=\"data row1 col26\" >-0.061329</td>\n",
       "      <td id=\"T_12f71_row1_col27\" class=\"data row1 col27\" >-0.139950</td>\n",
       "    </tr>\n",
       "    <tr>\n",
       "      <th id=\"T_12f71_level0_row2\" class=\"row_heading level0 row2\" >HC</th>\n",
       "      <td id=\"T_12f71_row2_col0\" class=\"data row2 col0\" >0.682134</td>\n",
       "      <td id=\"T_12f71_row2_col1\" class=\"data row2 col1\" >0.640887</td>\n",
       "      <td id=\"T_12f71_row2_col2\" class=\"data row2 col2\" >0.523376</td>\n",
       "      <td id=\"T_12f71_row2_col3\" class=\"data row2 col3\" >0.524095</td>\n",
       "      <td id=\"T_12f71_row2_col4\" class=\"data row2 col4\" >0.523031</td>\n",
       "      <td id=\"T_12f71_row2_col5\" class=\"data row2 col5\" >0.527399</td>\n",
       "      <td id=\"T_12f71_row2_col6\" class=\"data row2 col6\" >0.480081</td>\n",
       "      <td id=\"T_12f71_row2_col7\" class=\"data row2 col7\" >0.464021</td>\n",
       "      <td id=\"T_12f71_row2_col8\" class=\"data row2 col8\" >0.368133</td>\n",
       "      <td id=\"T_12f71_row2_col9\" class=\"data row2 col9\" >0.364492</td>\n",
       "      <td id=\"T_12f71_row2_col10\" class=\"data row2 col10\" >0.401858</td>\n",
       "      <td id=\"T_12f71_row2_col11\" class=\"data row2 col11\" >0.403315</td>\n",
       "      <td id=\"T_12f71_row2_col12\" class=\"data row2 col12\" >0.408088</td>\n",
       "      <td id=\"T_12f71_row2_col13\" class=\"data row2 col13\" >0.408424</td>\n",
       "      <td id=\"T_12f71_row2_col14\" class=\"data row2 col14\" >0.418910</td>\n",
       "      <td id=\"T_12f71_row2_col15\" class=\"data row2 col15\" >0.424843</td>\n",
       "      <td id=\"T_12f71_row2_col16\" class=\"data row2 col16\" >0.429148</td>\n",
       "      <td id=\"T_12f71_row2_col17\" class=\"data row2 col17\" >0.429267</td>\n",
       "      <td id=\"T_12f71_row2_col18\" class=\"data row2 col18\" >0.442266</td>\n",
       "      <td id=\"T_12f71_row2_col19\" class=\"data row2 col19\" >0.438388</td>\n",
       "      <td id=\"T_12f71_row2_col20\" class=\"data row2 col20\" >0.440232</td>\n",
       "      <td id=\"T_12f71_row2_col21\" class=\"data row2 col21\" >0.448593</td>\n",
       "      <td id=\"T_12f71_row2_col22\" class=\"data row2 col22\" >0.452975</td>\n",
       "      <td id=\"T_12f71_row2_col23\" class=\"data row2 col23\" >0.461119</td>\n",
       "      <td id=\"T_12f71_row2_col24\" class=\"data row2 col24\" >0.462625</td>\n",
       "      <td id=\"T_12f71_row2_col25\" class=\"data row2 col25\" >0.462585</td>\n",
       "      <td id=\"T_12f71_row2_col26\" class=\"data row2 col26\" >0.464552</td>\n",
       "      <td id=\"T_12f71_row2_col27\" class=\"data row2 col27\" >0.459269</td>\n",
       "    </tr>\n",
       "  </tbody>\n",
       "</table>\n"
      ],
      "text/plain": [
       "<pandas.io.formats.style.Styler at 0x144caa9a700>"
      ]
     },
     "execution_count": 213,
     "metadata": {},
     "output_type": "execute_result"
    }
   ],
   "source": [
    "df_results = pd.DataFrame(\n",
    "    {'KMeans':kmeans_list, 'GMM': gmm_list, 'HC': hc_list}\n",
    ").T\n",
    "\n",
    "df_results.columns = clusters\n",
    "df_results.style.highlight_max( color='lightgreen', axis=1 )"
   ]
  },
  {
   "cell_type": "markdown",
   "id": "e1123e52",
   "metadata": {},
   "source": [
    "# 9. Model Training"
   ]
  },
  {
   "cell_type": "markdown",
   "id": "4da209ab",
   "metadata": {},
   "source": [
    "## 9.1. Hierarchical Clustering"
   ]
  },
  {
   "cell_type": "code",
   "execution_count": 214,
   "id": "dc85fb4c",
   "metadata": {
    "ExecuteTime": {
     "end_time": "2022-06-16T00:19:44.829813Z",
     "start_time": "2022-06-16T00:19:44.060640Z"
    }
   },
   "outputs": [],
   "source": [
    "# model definition\n",
    "k = 7\n",
    "\n",
    "# model training\n",
    "hc_model = linkage(X, 'ward')\n",
    "\n",
    "# clustering\n",
    "labels = fcluster( hc_model, k, criterion='maxclust' )"
   ]
  },
  {
   "cell_type": "markdown",
   "id": "9094b159",
   "metadata": {},
   "source": [
    "## 9.2. Cluster Validation"
   ]
  },
  {
   "cell_type": "code",
   "execution_count": 215,
   "id": "253e675f",
   "metadata": {
    "ExecuteTime": {
     "end_time": "2022-06-16T00:19:52.436152Z",
     "start_time": "2022-06-16T00:19:51.974046Z"
    }
   },
   "outputs": [
    {
     "name": "stdout",
     "output_type": "stream",
     "text": [
      "SS value: 0.5273986091946192\n"
     ]
    }
   ],
   "source": [
    "# SS\n",
    "print( 'SS value: {}'.format( silhouette_score( X, labels, metric='euclidean' ) ) )"
   ]
  },
  {
   "cell_type": "markdown",
   "id": "52d2a408",
   "metadata": {},
   "source": [
    "# 10. Cluster Analysis"
   ]
  },
  {
   "cell_type": "code",
   "execution_count": 216,
   "id": "8b089cfd",
   "metadata": {
    "ExecuteTime": {
     "end_time": "2022-06-16T00:19:55.186019Z",
     "start_time": "2022-06-16T00:19:55.177018Z"
    }
   },
   "outputs": [
    {
     "data": {
      "text/html": [
       "<div>\n",
       "<style scoped>\n",
       "    .dataframe tbody tr th:only-of-type {\n",
       "        vertical-align: middle;\n",
       "    }\n",
       "\n",
       "    .dataframe tbody tr th {\n",
       "        vertical-align: top;\n",
       "    }\n",
       "\n",
       "    .dataframe thead th {\n",
       "        text-align: right;\n",
       "    }\n",
       "</style>\n",
       "<table border=\"1\" class=\"dataframe\">\n",
       "  <thead>\n",
       "    <tr style=\"text-align: right;\">\n",
       "      <th></th>\n",
       "      <th>gross_revenue</th>\n",
       "      <th>recency_days</th>\n",
       "      <th>qty_products</th>\n",
       "      <th>frequency</th>\n",
       "      <th>qty_returns</th>\n",
       "      <th>cluster</th>\n",
       "    </tr>\n",
       "  </thead>\n",
       "  <tbody>\n",
       "    <tr>\n",
       "      <th>0</th>\n",
       "      <td>0.019312</td>\n",
       "      <td>0.997319</td>\n",
       "      <td>0.008799</td>\n",
       "      <td>1.000000</td>\n",
       "      <td>0.000539</td>\n",
       "      <td>4</td>\n",
       "    </tr>\n",
       "    <tr>\n",
       "      <th>1</th>\n",
       "      <td>0.011579</td>\n",
       "      <td>0.150134</td>\n",
       "      <td>0.007056</td>\n",
       "      <td>0.001345</td>\n",
       "      <td>0.000472</td>\n",
       "      <td>1</td>\n",
       "    </tr>\n",
       "    <tr>\n",
       "      <th>2</th>\n",
       "      <td>0.024020</td>\n",
       "      <td>0.005362</td>\n",
       "      <td>0.025538</td>\n",
       "      <td>0.002052</td>\n",
       "      <td>0.000674</td>\n",
       "      <td>3</td>\n",
       "    </tr>\n",
       "    <tr>\n",
       "      <th>3</th>\n",
       "      <td>0.003396</td>\n",
       "      <td>0.254692</td>\n",
       "      <td>0.002225</td>\n",
       "      <td>0.000734</td>\n",
       "      <td>0.000000</td>\n",
       "      <td>1</td>\n",
       "    </tr>\n",
       "    <tr>\n",
       "      <th>4</th>\n",
       "      <td>0.003137</td>\n",
       "      <td>0.892761</td>\n",
       "      <td>0.000401</td>\n",
       "      <td>0.003985</td>\n",
       "      <td>0.000296</td>\n",
       "      <td>5</td>\n",
       "    </tr>\n",
       "  </tbody>\n",
       "</table>\n",
       "</div>"
      ],
      "text/plain": [
       "   gross_revenue  recency_days  qty_products  frequency  qty_returns  cluster\n",
       "0       0.019312      0.997319      0.008799   1.000000     0.000539        4\n",
       "1       0.011579      0.150134      0.007056   0.001345     0.000472        1\n",
       "2       0.024020      0.005362      0.025538   0.002052     0.000674        3\n",
       "3       0.003396      0.254692      0.002225   0.000734     0.000000        1\n",
       "4       0.003137      0.892761      0.000401   0.003985     0.000296        5"
      ]
     },
     "execution_count": 216,
     "metadata": {},
     "output_type": "execute_result"
    }
   ],
   "source": [
    "df10 = X\n",
    "df10['cluster'] = labels\n",
    "df10.head()"
   ]
  },
  {
   "cell_type": "markdown",
   "id": "e23f6bf3",
   "metadata": {},
   "source": [
    "## 10.2. Cluster Profile"
   ]
  },
  {
   "cell_type": "code",
   "execution_count": 217,
   "id": "a98d4b05",
   "metadata": {
    "ExecuteTime": {
     "end_time": "2022-06-16T00:19:58.701121Z",
     "start_time": "2022-06-16T00:19:58.675115Z"
    }
   },
   "outputs": [
    {
     "data": {
      "text/html": [
       "<div>\n",
       "<style scoped>\n",
       "    .dataframe tbody tr th:only-of-type {\n",
       "        vertical-align: middle;\n",
       "    }\n",
       "\n",
       "    .dataframe tbody tr th {\n",
       "        vertical-align: top;\n",
       "    }\n",
       "\n",
       "    .dataframe thead th {\n",
       "        text-align: right;\n",
       "    }\n",
       "</style>\n",
       "<table border=\"1\" class=\"dataframe\">\n",
       "  <thead>\n",
       "    <tr style=\"text-align: right;\">\n",
       "      <th></th>\n",
       "      <th>customer_id</th>\n",
       "      <th>gross_revenue</th>\n",
       "      <th>recency_days</th>\n",
       "      <th>qty_products</th>\n",
       "      <th>frequency</th>\n",
       "      <th>qty_returns</th>\n",
       "      <th>cluster</th>\n",
       "    </tr>\n",
       "  </thead>\n",
       "  <tbody>\n",
       "    <tr>\n",
       "      <th>0</th>\n",
       "      <td>17850</td>\n",
       "      <td>5391.21</td>\n",
       "      <td>372</td>\n",
       "      <td>1733</td>\n",
       "      <td>17.000000</td>\n",
       "      <td>40</td>\n",
       "      <td>4</td>\n",
       "    </tr>\n",
       "    <tr>\n",
       "      <th>1</th>\n",
       "      <td>13047</td>\n",
       "      <td>3232.59</td>\n",
       "      <td>56</td>\n",
       "      <td>1390</td>\n",
       "      <td>0.028302</td>\n",
       "      <td>35</td>\n",
       "      <td>1</td>\n",
       "    </tr>\n",
       "    <tr>\n",
       "      <th>2</th>\n",
       "      <td>12583</td>\n",
       "      <td>6705.38</td>\n",
       "      <td>2</td>\n",
       "      <td>5028</td>\n",
       "      <td>0.040323</td>\n",
       "      <td>50</td>\n",
       "      <td>3</td>\n",
       "    </tr>\n",
       "    <tr>\n",
       "      <th>3</th>\n",
       "      <td>13748</td>\n",
       "      <td>948.25</td>\n",
       "      <td>95</td>\n",
       "      <td>439</td>\n",
       "      <td>0.017921</td>\n",
       "      <td>0</td>\n",
       "      <td>1</td>\n",
       "    </tr>\n",
       "    <tr>\n",
       "      <th>4</th>\n",
       "      <td>15100</td>\n",
       "      <td>876.00</td>\n",
       "      <td>333</td>\n",
       "      <td>80</td>\n",
       "      <td>0.073171</td>\n",
       "      <td>22</td>\n",
       "      <td>5</td>\n",
       "    </tr>\n",
       "  </tbody>\n",
       "</table>\n",
       "</div>"
      ],
      "text/plain": [
       "   customer_id  gross_revenue  recency_days  qty_products  frequency  qty_returns  cluster\n",
       "0        17850        5391.21           372          1733  17.000000           40        4\n",
       "1        13047        3232.59            56          1390   0.028302           35        1\n",
       "2        12583        6705.38             2          5028   0.040323           50        3\n",
       "3        13748         948.25            95           439   0.017921            0        1\n",
       "4        15100         876.00           333            80   0.073171           22        5"
      ]
     },
     "execution_count": 217,
     "metadata": {},
     "output_type": "execute_result"
    }
   ],
   "source": [
    "df10_aux = df5[cols_select].copy()\n",
    "df10_aux['cluster'] = labels\n",
    "\n",
    "# change dtypes\n",
    "df10_aux['recency_days'] = df10_aux['recency_days'].astype( int )\n",
    "df10_aux['qty_products'] = df10_aux['qty_products'].astype( int )\n",
    "df10_aux['qty_returns'] = df10_aux['qty_returns'].astype( int )\n",
    "\n",
    "# show\n",
    "df10_aux.head()"
   ]
  },
  {
   "cell_type": "code",
   "execution_count": 220,
   "id": "cf201f2c",
   "metadata": {
    "ExecuteTime": {
     "end_time": "2022-06-16T00:20:43.479619Z",
     "start_time": "2022-06-16T00:20:43.433613Z"
    }
   },
   "outputs": [
    {
     "data": {
      "text/html": [
       "<div>\n",
       "<style scoped>\n",
       "    .dataframe tbody tr th:only-of-type {\n",
       "        vertical-align: middle;\n",
       "    }\n",
       "\n",
       "    .dataframe tbody tr th {\n",
       "        vertical-align: top;\n",
       "    }\n",
       "\n",
       "    .dataframe thead th {\n",
       "        text-align: right;\n",
       "    }\n",
       "</style>\n",
       "<table border=\"1\" class=\"dataframe\">\n",
       "  <thead>\n",
       "    <tr style=\"text-align: right;\">\n",
       "      <th></th>\n",
       "      <th>cluster</th>\n",
       "      <th>qtd_customers</th>\n",
       "      <th>perc_customer</th>\n",
       "      <th>avg_gross_revenue</th>\n",
       "      <th>avg_recency_days</th>\n",
       "      <th>avg_frequency</th>\n",
       "      <th>avg_qty_products</th>\n",
       "      <th>avg_qty_returns</th>\n",
       "    </tr>\n",
       "  </thead>\n",
       "  <tbody>\n",
       "    <tr>\n",
       "      <th>1</th>\n",
       "      <td>2</td>\n",
       "      <td>7</td>\n",
       "      <td>0.122915</td>\n",
       "      <td>171711.195714</td>\n",
       "      <td>6.428571</td>\n",
       "      <td>0.188690</td>\n",
       "      <td>87276.285714</td>\n",
       "      <td>1056.000000</td>\n",
       "    </tr>\n",
       "    <tr>\n",
       "      <th>2</th>\n",
       "      <td>3</td>\n",
       "      <td>2281</td>\n",
       "      <td>40.052678</td>\n",
       "      <td>2629.743021</td>\n",
       "      <td>18.764577</td>\n",
       "      <td>0.276604</td>\n",
       "      <td>1520.207804</td>\n",
       "      <td>34.523455</td>\n",
       "    </tr>\n",
       "    <tr>\n",
       "      <th>0</th>\n",
       "      <td>1</td>\n",
       "      <td>1262</td>\n",
       "      <td>22.159789</td>\n",
       "      <td>1043.456490</td>\n",
       "      <td>78.290016</td>\n",
       "      <td>0.508129</td>\n",
       "      <td>591.766244</td>\n",
       "      <td>7.744849</td>\n",
       "    </tr>\n",
       "    <tr>\n",
       "      <th>3</th>\n",
       "      <td>4</td>\n",
       "      <td>277</td>\n",
       "      <td>4.863916</td>\n",
       "      <td>905.568051</td>\n",
       "      <td>362.581227</td>\n",
       "      <td>1.051473</td>\n",
       "      <td>251.028881</td>\n",
       "      <td>2.472924</td>\n",
       "    </tr>\n",
       "    <tr>\n",
       "      <th>4</th>\n",
       "      <td>5</td>\n",
       "      <td>486</td>\n",
       "      <td>8.533802</td>\n",
       "      <td>771.197058</td>\n",
       "      <td>305.534979</td>\n",
       "      <td>0.940229</td>\n",
       "      <td>390.072016</td>\n",
       "      <td>154.973251</td>\n",
       "    </tr>\n",
       "    <tr>\n",
       "      <th>5</th>\n",
       "      <td>6</td>\n",
       "      <td>700</td>\n",
       "      <td>12.291484</td>\n",
       "      <td>717.158086</td>\n",
       "      <td>163.290000</td>\n",
       "      <td>0.704358</td>\n",
       "      <td>318.417143</td>\n",
       "      <td>4.324286</td>\n",
       "    </tr>\n",
       "    <tr>\n",
       "      <th>6</th>\n",
       "      <td>7</td>\n",
       "      <td>682</td>\n",
       "      <td>11.975417</td>\n",
       "      <td>662.608504</td>\n",
       "      <td>236.108504</td>\n",
       "      <td>0.882805</td>\n",
       "      <td>271.086510</td>\n",
       "      <td>18.312317</td>\n",
       "    </tr>\n",
       "  </tbody>\n",
       "</table>\n",
       "</div>"
      ],
      "text/plain": [
       "   cluster  qtd_customers  perc_customer  avg_gross_revenue  avg_recency_days  avg_frequency  avg_qty_products  avg_qty_returns\n",
       "1        2              7       0.122915      171711.195714          6.428571       0.188690      87276.285714      1056.000000\n",
       "2        3           2281      40.052678        2629.743021         18.764577       0.276604       1520.207804        34.523455\n",
       "0        1           1262      22.159789        1043.456490         78.290016       0.508129        591.766244         7.744849\n",
       "3        4            277       4.863916         905.568051        362.581227       1.051473        251.028881         2.472924\n",
       "4        5            486       8.533802         771.197058        305.534979       0.940229        390.072016       154.973251\n",
       "5        6            700      12.291484         717.158086        163.290000       0.704358        318.417143         4.324286\n",
       "6        7            682      11.975417         662.608504        236.108504       0.882805        271.086510        18.312317"
      ]
     },
     "execution_count": 220,
     "metadata": {},
     "output_type": "execute_result"
    }
   ],
   "source": [
    "# number of customers\n",
    "df_cluster = df10_aux[['customer_id', 'cluster']].groupby( 'cluster' ).count().reset_index()\n",
    "df_cluster['perc_customer'] = 100 * df_cluster['customer_id'] / df_cluster['customer_id'].sum()\n",
    "\n",
    "# Avg Gross revenue\n",
    "df_avg_gross_rev = df10_aux[['gross_revenue', 'cluster']].groupby( 'cluster' ).mean().reset_index()\n",
    "df_cluster = pd.merge( df_cluster, df_avg_gross_rev, how='inner', on='cluster' )\n",
    "\n",
    "# Avg Recency days\n",
    "df_avg_rec_days = df10_aux[['recency_days', 'cluster']].groupby( 'cluster' ).mean().reset_index()\n",
    "df_cluster = pd.merge( df_cluster, df_avg_rec_days, how='inner', on='cluster' )\n",
    "\n",
    "# Avg frequency\n",
    "df_avg_invoice_no = df10_aux[['frequency', 'cluster']].groupby( 'cluster' ).mean().reset_index()\n",
    "df_cluster = pd.merge( df_cluster, df_avg_invoice_no, how='inner', on='cluster' )\n",
    "\n",
    "# Avg quantity of products\n",
    "df_avg_qtd_products = df10_aux[['qty_products', 'cluster']].groupby( 'cluster' ).mean().reset_index()\n",
    "df_cluster = pd.merge( df_cluster, df_avg_qtd_products, how='inner', on='cluster' )\n",
    "\n",
    "# Avg returns\n",
    "df_returns = df10_aux[['qty_returns', 'cluster']].groupby( 'cluster' ).mean().reset_index()\n",
    "df_cluster = pd.merge( df_cluster, df_returns, how='inner', on='cluster' )\n",
    "\n",
    "# rename columns\n",
    "df_cluster.rename( columns={ \"customer_id\":\"qtd_customers\", \"gross_revenue\":\"avg_gross_revenue\", \"recency_days\":\"avg_recency_days\", \"frequency\":\"avg_frequency\",\"qty_products\":\"avg_qty_products\" ,\"qty_returns\":\"avg_qty_returns\"}, inplace=True )\n",
    "df_cluster.sort_values( by=['avg_gross_revenue'], ascending=False, inplace=True )\n",
    "df_cluster"
   ]
  },
  {
   "cell_type": "code",
   "execution_count": 221,
   "id": "d8743223",
   "metadata": {
    "ExecuteTime": {
     "end_time": "2022-06-16T00:20:56.287013Z",
     "start_time": "2022-06-16T00:20:56.280012Z"
    }
   },
   "outputs": [
    {
     "name": "stdout",
     "output_type": "stream",
     "text": [
      "Insiders: Cluster 2\n"
     ]
    }
   ],
   "source": [
    "insiders = df_cluster.iloc[0,0]\n",
    "print( \"Insiders: Cluster {}\".format(insiders) )"
   ]
  },
  {
   "cell_type": "markdown",
   "id": "d22c6166",
   "metadata": {
    "ExecuteTime": {
     "end_time": "2022-06-15T23:06:39.900869Z",
     "start_time": "2022-06-15T23:06:39.893867Z"
    }
   },
   "source": [
    "# 11. EDA (With the clusters)"
   ]
  },
  {
   "cell_type": "code",
   "execution_count": 222,
   "id": "5f273665",
   "metadata": {
    "ExecuteTime": {
     "end_time": "2022-06-16T00:21:32.616939Z",
     "start_time": "2022-06-16T00:21:32.601935Z"
    }
   },
   "outputs": [],
   "source": [
    "df11 = df10_aux.copy()"
   ]
  },
  {
   "cell_type": "markdown",
   "id": "32721eb7",
   "metadata": {},
   "source": [
    "## 11.1. Mindmap"
   ]
  },
  {
   "cell_type": "markdown",
   "id": "3d39d0a8",
   "metadata": {},
   "source": [
    "![mindmap.png](../img/mindmap.png)"
   ]
  },
  {
   "cell_type": "markdown",
   "id": "298b0bfd",
   "metadata": {},
   "source": [
    "## 11.2. Business Hypotheses"
   ]
  },
  {
   "cell_type": "markdown",
   "id": "b8acbbfd",
   "metadata": {},
   "source": [
    "### 11.2.1. Purchase Hypotheses"
   ]
  },
  {
   "cell_type": "markdown",
   "id": "29f895a0",
   "metadata": {},
   "source": [
    "* **1.** 80% of the customers on the insiders cluster use a credit card as payment method.\n",
    "* **2.** The customers on the insiders cluster have an average ticket 10% higher than the ones on the cluster 'More products'.\n",
    "* **3.** The customers on the insiders cluster have a basket size greater than 5 products.\n",
    "* **4.** The customers on the insiders cluster have a purchase volume greater than 10% of the total purchase.\n",
    "* **5.** The customers on the insiders cluster have a lower average number of returns than the total average.\n",
    "* **6.** The median of the revenue from the customers on the insiders cluster is 10% higher than the median of all customers."
   ]
  },
  {
   "cell_type": "markdown",
   "id": "4dc00a97",
   "metadata": {},
   "source": [
    "### 11.2.2. Customer Hypotheses"
   ]
  },
  {
   "cell_type": "markdown",
   "id": "b7e0d17d",
   "metadata": {},
   "source": [
    "* **1.** 10% of the customers on the insiders cluster are between 24 and 35 years old.\n",
    "* **2.** 40% of the customers locations on the insiders cluster are within a radius of 50km.\n",
    "* **3.** 5% of the customers on the insiders cluster earn more than 100k dollars per year.\n",
    "* **4.** 90% of the customers on the insiders cluster have completed higher education."
   ]
  },
  {
   "cell_type": "markdown",
   "id": "67879159",
   "metadata": {},
   "source": [
    "### 11.2.3. Product Hyphoteses"
   ]
  },
  {
   "cell_type": "markdown",
   "id": "b42fbedd",
   "metadata": {},
   "source": [
    "* **1.** 30% of all products in large packages are purchased by the customers on the insiders cluster.\n",
    "* **2.** The median of the product prices purchased by the customers on the insiders cluster is 10% higher than the median of all product prices.\n",
    "* **3.** The average weight of products purchased by customers on the insiders cluster is greater than the average weight of the other clusters.\n",
    "* **4.** The average age of products purchased by customers on the insiders cluster is less than 15 days."
   ]
  },
  {
   "cell_type": "markdown",
   "id": "ef56d9cc",
   "metadata": {},
   "source": [
    "### 11.2.4. Hypotheses Priority"
   ]
  },
  {
   "cell_type": "markdown",
   "id": "364990e3",
   "metadata": {},
   "source": [
    "* **1.** The customers on the insiders cluster have a purchase volume (products) greater than 10% of the total purchase.\n",
    "* **2.** The customers on the insiders cluster have a purchase volume (invoice) greater than 10% of the total purchase.\n",
    "* **3.** The customers on the insiders cluster have a lower number of returns than the total average.\n",
    "* **4.** The median of the revenue from the customers on the insiders cluster is 10% higher than the median of all customers."
   ]
  },
  {
   "cell_type": "markdown",
   "id": "f300ad04",
   "metadata": {},
   "source": [
    "## 11.3. Evaluating the Hypotheses"
   ]
  },
  {
   "cell_type": "markdown",
   "id": "e3de533f",
   "metadata": {},
   "source": [
    "### H1. The customers on the insiders cluster have a purchase volume (products) greater than 10% of the total purchase.\n",
    "\n",
    "* **TRUE** - The customers on the insiders cluster have a purchase volume (products) of 11.12% of the total purchase."
   ]
  },
  {
   "cell_type": "code",
   "execution_count": 225,
   "id": "ba5ba74f",
   "metadata": {
    "ExecuteTime": {
     "end_time": "2022-06-16T00:22:07.939524Z",
     "start_time": "2022-06-16T00:22:07.928522Z"
    }
   },
   "outputs": [
    {
     "name": "stdout",
     "output_type": "stream",
     "text": [
      "% Sales Insiders: 11.12%\n"
     ]
    }
   ],
   "source": [
    "sales_insiders = df11.loc[df11['cluster'] == insiders, 'qty_products'].sum()\n",
    "sales_total = df11.loc[:, 'qty_products'].sum()\n",
    "\n",
    "print( '% Sales Insiders: {:.2f}%'.format( 100*sales_insiders / sales_total ) )"
   ]
  },
  {
   "cell_type": "markdown",
   "id": "f00f6692",
   "metadata": {},
   "source": [
    "### H2. The customers on the insiders cluster have a purchase volume (invoices) greater than 10% of the total purchase.\n",
    "\n",
    "* **TRUE** - The customers on the insiders cluster have a purchase volume (invoices) of 11.90% of the total purchase."
   ]
  },
  {
   "cell_type": "code",
   "execution_count": 227,
   "id": "277090f5",
   "metadata": {
    "ExecuteTime": {
     "end_time": "2022-06-16T00:22:21.468747Z",
     "start_time": "2022-06-16T00:22:21.460745Z"
    }
   },
   "outputs": [
    {
     "name": "stdout",
     "output_type": "stream",
     "text": [
      "% GMV Insiders: 11.90%\n"
     ]
    }
   ],
   "source": [
    "gmv_insiders = df11.loc[df11['cluster'] == insiders, 'gross_revenue'].sum()\n",
    "gmv_total = df11.loc[:, 'gross_revenue'].sum()\n",
    "\n",
    "print( '% GMV Insiders: {:.2f}%'.format( 100*gmv_insiders / gmv_total ) )"
   ]
  },
  {
   "cell_type": "markdown",
   "id": "59d5ce18",
   "metadata": {},
   "source": [
    "### H3. The customers on the insiders cluster have a lower average number of returns than the total average.\n",
    "\n",
    "* **FALSE** - The customers on the insiders cluster have a **higher** average number of returns than the total average."
   ]
  },
  {
   "cell_type": "code",
   "execution_count": 229,
   "id": "cda34345",
   "metadata": {
    "ExecuteTime": {
     "end_time": "2022-06-16T00:22:34.609056Z",
     "start_time": "2022-06-16T00:22:34.600054Z"
    }
   },
   "outputs": [
    {
     "name": "stdout",
     "output_type": "stream",
     "text": [
      "Avg return Insiders: 1056.00 vs Avg return total: 32.91\n"
     ]
    }
   ],
   "source": [
    "avg_return_insiders = df11.loc[df11['cluster'] == insiders, 'qty_returns'].mean()\n",
    "avg_return_total = df11['qty_returns'].mean()\n",
    "\n",
    "print( 'Avg return Insiders: {:.2f} vs Avg return total: {:.2f}'.format( avg_return_insiders, avg_return_total ) )"
   ]
  },
  {
   "cell_type": "markdown",
   "id": "56affae8",
   "metadata": {},
   "source": [
    "### H4. The median of the revenue from the customers on the insiders cluster is 10% higher than the median of all customers.\n",
    "\n",
    "* **TRUE** - The median of the revenue from the customers on the insiders cluster is 22,164.36% higher than the median of all customers."
   ]
  },
  {
   "cell_type": "code",
   "execution_count": 231,
   "id": "455c0260",
   "metadata": {
    "ExecuteTime": {
     "end_time": "2022-06-16T00:23:01.653125Z",
     "start_time": "2022-06-16T00:23:01.639123Z"
    },
    "scrolled": true
   },
   "outputs": [
    {
     "name": "stdout",
     "output_type": "stream",
     "text": [
      "Median GMV diff: 22164.36%\n"
     ]
    }
   ],
   "source": [
    "median_gmv_insiders = df11.loc[df11['cluster'] == insiders, 'gross_revenue'].median()\n",
    "median_gmv_total = df11.loc[:, 'gross_revenue'].median()\n",
    "\n",
    "print( 'Median GMV diff: {:.2f}%'.format( 100* (median_gmv_insiders - median_gmv_total) / median_gmv_total ) )"
   ]
  },
  {
   "cell_type": "markdown",
   "id": "05a85154",
   "metadata": {},
   "source": [
    "## 11.4. Business Questions"
   ]
  },
  {
   "cell_type": "markdown",
   "id": "2f1fcd8e",
   "metadata": {},
   "source": [
    "### **1.** Who are the eligible customers to the program?"
   ]
  },
  {
   "cell_type": "code",
   "execution_count": 234,
   "id": "b14dd186",
   "metadata": {
    "ExecuteTime": {
     "end_time": "2022-06-16T00:23:14.322059Z",
     "start_time": "2022-06-16T00:23:14.309057Z"
    }
   },
   "outputs": [
    {
     "data": {
      "text/plain": [
       "15      17511\n",
       "66      14911\n",
       "191     14156\n",
       "434     17450\n",
       "492     18102\n",
       "1017    14646\n",
       "1150    12415\n",
       "Name: customer_id, dtype: int32"
      ]
     },
     "execution_count": 234,
     "metadata": {},
     "output_type": "execute_result"
    }
   ],
   "source": [
    "df11.loc[df11['cluster'] == insiders, 'customer_id']"
   ]
  },
  {
   "cell_type": "markdown",
   "id": "82cc6716",
   "metadata": {},
   "source": [
    "### **2.** How many customers will be part of the group?"
   ]
  },
  {
   "cell_type": "code",
   "execution_count": 235,
   "id": "0c3b38fd",
   "metadata": {
    "ExecuteTime": {
     "end_time": "2022-06-16T00:23:17.325292Z",
     "start_time": "2022-06-16T00:23:17.307289Z"
    }
   },
   "outputs": [
    {
     "data": {
      "text/plain": [
       "7"
      ]
     },
     "execution_count": 235,
     "metadata": {},
     "output_type": "execute_result"
    }
   ],
   "source": [
    "df11.loc[df11['cluster'] == insiders, 'customer_id'].size"
   ]
  },
  {
   "cell_type": "markdown",
   "id": "0db0a481",
   "metadata": {},
   "source": [
    "### **3.** What are the main characteristics of these customers?"
   ]
  },
  {
   "cell_type": "markdown",
   "id": "0104d61b",
   "metadata": {},
   "source": [
    "* **Average gross revenue:** $171,711\n",
    "* **Average recency days:** 6 days\n",
    "* **Average frequency:** 0.19 purchases/day\n",
    "* **Average products purchased:** 87,276 products\n",
    "* **Average products returned:** 1,056 products"
   ]
  },
  {
   "cell_type": "markdown",
   "id": "0ff0e129",
   "metadata": {},
   "source": [
    "### **4.** What is the percentage of revenue contribution from the Insiders?"
   ]
  },
  {
   "cell_type": "code",
   "execution_count": 236,
   "id": "2dfaabea",
   "metadata": {
    "ExecuteTime": {
     "end_time": "2022-06-16T00:24:39.192768Z",
     "start_time": "2022-06-16T00:24:39.185766Z"
    }
   },
   "outputs": [
    {
     "name": "stdout",
     "output_type": "stream",
     "text": [
      "% Insiders GMV: 11.90%\n"
     ]
    }
   ],
   "source": [
    "gmv_insiders = df11.loc[df11['cluster'] == insiders, 'gross_revenue'].sum()\n",
    "gmv_total = df11.loc[:, 'gross_revenue'].sum()\n",
    "\n",
    "print( '% Insiders GMV: {:.2f}%'.format( 100 * gmv_insiders / gmv_total ) )"
   ]
  },
  {
   "cell_type": "markdown",
   "id": "b8e4ef74",
   "metadata": {},
   "source": [
    "### ~~**5.** What is the expected revenue from the Insiders for the next few months?~~"
   ]
  },
  {
   "cell_type": "markdown",
   "id": "d7177e5c",
   "metadata": {},
   "source": [
    "### **6.** What are the conditions for a person to be eligible as an Insider?"
   ]
  },
  {
   "cell_type": "markdown",
   "id": "ba7e8e2f",
   "metadata": {},
   "source": [
    "The person has to have similar characteristics to the ones described in question 3 to be eligible, focusing on high gross revenue and quantity of products."
   ]
  },
  {
   "cell_type": "markdown",
   "id": "627c80eb",
   "metadata": {},
   "source": [
    "### **7.** What are the conditions for a person to be removed from the Insiders?"
   ]
  },
  {
   "cell_type": "markdown",
   "id": "b5d6d539",
   "metadata": {},
   "source": [
    "The person has to have different characteristics to the ones described in question 3."
   ]
  },
  {
   "cell_type": "markdown",
   "id": "bb9d116b",
   "metadata": {},
   "source": [
    "### **8.** What is the guarantee that the Insiders are better than the rest?"
   ]
  },
  {
   "cell_type": "markdown",
   "id": "e1d3217b",
   "metadata": {},
   "source": [
    "Based on the percentage of revenue contribution, purchase volume and the median of the revenue compared with all customers, we can see that the insiders stand out."
   ]
  },
  {
   "cell_type": "markdown",
   "id": "9ba6474c",
   "metadata": {},
   "source": [
    "### **9.** What actions could be done by the marketing team to increase the revenue?"
   ]
  },
  {
   "cell_type": "markdown",
   "id": "99a3e112",
   "metadata": {},
   "source": [
    "They can focus on the second cluster with the higher gross revenue and stimulate them to buy more or more expensive products, giving discounts or a special service, to put them closer to the insiders."
   ]
  },
  {
   "cell_type": "markdown",
   "id": "faaf0a38",
   "metadata": {},
   "source": [
    "# 12. Save Clusters"
   ]
  },
  {
   "cell_type": "code",
   "execution_count": 237,
   "id": "7da71e24",
   "metadata": {
    "ExecuteTime": {
     "end_time": "2022-06-16T00:25:01.924909Z",
     "start_time": "2022-06-16T00:25:01.906904Z"
    }
   },
   "outputs": [
    {
     "data": {
      "text/plain": [
       "customer_id        int32\n",
       "gross_revenue    float64\n",
       "recency_days       int32\n",
       "qty_products       int32\n",
       "frequency        float64\n",
       "qty_returns        int32\n",
       "cluster            int32\n",
       "dtype: object"
      ]
     },
     "execution_count": 237,
     "metadata": {},
     "output_type": "execute_result"
    }
   ],
   "source": [
    "df10_aux.dtypes"
   ]
  },
  {
   "cell_type": "markdown",
   "id": "16bc5431",
   "metadata": {},
   "source": [
    "## 12.1. Insert Into a AWS PostgreSQL database"
   ]
  },
  {
   "cell_type": "code",
   "execution_count": 238,
   "id": "025df606",
   "metadata": {
    "ExecuteTime": {
     "end_time": "2022-06-16T00:25:06.006938Z",
     "start_time": "2022-06-16T00:25:05.997935Z"
    }
   },
   "outputs": [],
   "source": [
    "# database connection\n",
    "host = 'insidersdb.clicbbkmgcqj.us-east-1.rds.amazonaws.com'\n",
    "port = '5432'\n",
    "database = 'postgres'\n",
    "user =  os.environ.get( 'user_postgreSQL' )\n",
    "pwd = os.environ.get( 'pwd_postgreSQL' )\n",
    "\n",
    "endpoint = 'postgresql://{}:{}@{}/postgres'.format( user, pwd, host, port )"
   ]
  },
  {
   "cell_type": "code",
   "execution_count": 241,
   "id": "1b217f32",
   "metadata": {
    "ExecuteTime": {
     "end_time": "2022-06-16T00:25:40.816516Z",
     "start_time": "2022-06-16T00:25:37.128752Z"
    }
   },
   "outputs": [],
   "source": [
    "# create connection\n",
    "conn = create_engine( endpoint )\n",
    "\n",
    "# drop table\n",
    "query_drop_insiders = \"\"\"\n",
    "    DROP TABLE IF EXISTS insiders\n",
    "\"\"\"\n",
    "\n",
    "conn.execute( query_drop_insiders )\n",
    "\n",
    "## create table\n",
    "query_create_table_insiders = \"\"\"\n",
    "    CREATE TABLE insiders (\n",
    "        customer_id     INTEGER,\n",
    "        gross_revenue   REAL,\n",
    "        recency_days    INTEGER,\n",
    "        qty_products    INTEGER,   \n",
    "        frequency       REAL,\n",
    "        qty_returns     INTEGER,\n",
    "        cluster         INTEGER\n",
    "    )\n",
    "\n",
    "\"\"\"\n",
    "\n",
    "conn.execute( query_create_table_insiders );"
   ]
  },
  {
   "cell_type": "code",
   "execution_count": 242,
   "id": "541553c4",
   "metadata": {
    "ExecuteTime": {
     "end_time": "2022-06-16T00:25:43.058394Z",
     "start_time": "2022-06-16T00:25:40.818532Z"
    }
   },
   "outputs": [],
   "source": [
    "# insert table\n",
    "df10_aux.to_sql( 'insiders', con=conn, if_exists='append', index=False );"
   ]
  },
  {
   "cell_type": "code",
   "execution_count": 243,
   "id": "9b20d1ab",
   "metadata": {
    "ExecuteTime": {
     "end_time": "2022-06-16T00:25:44.702932Z",
     "start_time": "2022-06-16T00:25:43.587911Z"
    }
   },
   "outputs": [],
   "source": [
    "# consulting database\n",
    "query = \"\"\" \n",
    "    SELECT * FROM INSIDERS \n",
    "\"\"\"\n",
    "\n",
    "df = pd.read_sql_query( query, conn )"
   ]
  },
  {
   "cell_type": "code",
   "execution_count": 244,
   "id": "367ee976",
   "metadata": {
    "ExecuteTime": {
     "end_time": "2022-06-16T00:25:44.718940Z",
     "start_time": "2022-06-16T00:25:44.703936Z"
    }
   },
   "outputs": [
    {
     "data": {
      "text/plain": [
       "(5695, 7)"
      ]
     },
     "execution_count": 244,
     "metadata": {},
     "output_type": "execute_result"
    }
   ],
   "source": [
    "df.shape"
   ]
  }
 ],
 "metadata": {
  "kernelspec": {
   "display_name": "Python 3 (ipykernel)",
   "language": "python",
   "name": "python3"
  },
  "language_info": {
   "codemirror_mode": {
    "name": "ipython",
    "version": 3
   },
   "file_extension": ".py",
   "mimetype": "text/x-python",
   "name": "python",
   "nbconvert_exporter": "python",
   "pygments_lexer": "ipython3",
   "version": "3.8.12"
  }
 },
 "nbformat": 4,
 "nbformat_minor": 5
}
