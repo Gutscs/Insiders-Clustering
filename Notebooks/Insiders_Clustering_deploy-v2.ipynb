{
 "cells": [
  {
   "cell_type": "markdown",
   "id": "baf5b796",
   "metadata": {
    "ExecuteTime": {
     "end_time": "2022-03-23T00:25:21.044668Z",
     "start_time": "2022-03-23T00:25:21.029162Z"
    }
   },
   "source": [
    "# 1. Imports"
   ]
  },
  {
   "cell_type": "code",
   "execution_count": 64,
   "id": "7d9ebd13",
   "metadata": {
    "ExecuteTime": {
     "end_time": "2022-05-26T13:23:29.253660Z",
     "start_time": "2022-05-26T13:23:29.243667Z"
    }
   },
   "outputs": [],
   "source": [
    "import re\n",
    "import sqlite3\n",
    "\n",
    "import pandas       as pd\n",
    "import numpy        as np\n",
    "import seaborn      as sns\n",
    "import umap.umap_   as umap\n",
    "\n",
    "from matplotlib              import pyplot        as plt\n",
    "from plotly                  import express       as px\n",
    "from sklearn                 import preprocessing as pp\n",
    "from matplotlib              import cm\n",
    "from sqlalchemy              import create_engine\n",
    "\n",
    "\n",
    "from sklearn.metrics         import silhouette_score, silhouette_samples\n",
    "from sklearn.cluster         import KMeans, DBSCAN\n",
    "from sklearn.preprocessing   import MinMaxScaler\n",
    "from sklearn.decomposition   import PCA\n",
    "from sklearn.manifold        import TSNE\n",
    "from sklearn.ensemble        import RandomForestRegressor\n",
    "from sklearn.mixture         import GaussianMixture\n",
    "from sklearn.neighbors       import NearestNeighbors\n",
    "\n",
    "from scipy.cluster.hierarchy import linkage, dendrogram, fcluster"
   ]
  },
  {
   "cell_type": "markdown",
   "id": "ac35f79b",
   "metadata": {},
   "source": [
    "## 1.2. Load Dataset"
   ]
  },
  {
   "cell_type": "code",
   "execution_count": 2,
   "id": "9b8f06fe",
   "metadata": {
    "ExecuteTime": {
     "end_time": "2022-05-26T13:11:21.244995Z",
     "start_time": "2022-05-26T13:11:20.565807Z"
    }
   },
   "outputs": [],
   "source": [
    "# load data\n",
    "df_raw = pd.read_csv( '../data/Ecommerce.csv',  encoding= 'unicode_escape' )\n",
    "\n",
    "# drop extra column\n",
    "df_raw.drop( columns='Unnamed: 8', axis=1, inplace=True)"
   ]
  },
  {
   "cell_type": "code",
   "execution_count": 3,
   "id": "106e92fe",
   "metadata": {
    "ExecuteTime": {
     "end_time": "2022-05-26T13:11:21.279002Z",
     "start_time": "2022-05-26T13:11:21.246996Z"
    }
   },
   "outputs": [
    {
     "data": {
      "text/html": [
       "<div>\n",
       "<style scoped>\n",
       "    .dataframe tbody tr th:only-of-type {\n",
       "        vertical-align: middle;\n",
       "    }\n",
       "\n",
       "    .dataframe tbody tr th {\n",
       "        vertical-align: top;\n",
       "    }\n",
       "\n",
       "    .dataframe thead th {\n",
       "        text-align: right;\n",
       "    }\n",
       "</style>\n",
       "<table border=\"1\" class=\"dataframe\">\n",
       "  <thead>\n",
       "    <tr style=\"text-align: right;\">\n",
       "      <th></th>\n",
       "      <th>InvoiceNo</th>\n",
       "      <th>StockCode</th>\n",
       "      <th>Description</th>\n",
       "      <th>Quantity</th>\n",
       "      <th>InvoiceDate</th>\n",
       "      <th>UnitPrice</th>\n",
       "      <th>CustomerID</th>\n",
       "      <th>Country</th>\n",
       "    </tr>\n",
       "  </thead>\n",
       "  <tbody>\n",
       "    <tr>\n",
       "      <th>0</th>\n",
       "      <td>536365</td>\n",
       "      <td>85123A</td>\n",
       "      <td>WHITE HANGING HEART T-LIGHT HOLDER</td>\n",
       "      <td>6</td>\n",
       "      <td>29-Nov-16</td>\n",
       "      <td>2.55</td>\n",
       "      <td>17850.0</td>\n",
       "      <td>United Kingdom</td>\n",
       "    </tr>\n",
       "    <tr>\n",
       "      <th>1</th>\n",
       "      <td>536365</td>\n",
       "      <td>71053</td>\n",
       "      <td>WHITE METAL LANTERN</td>\n",
       "      <td>6</td>\n",
       "      <td>29-Nov-16</td>\n",
       "      <td>3.39</td>\n",
       "      <td>17850.0</td>\n",
       "      <td>United Kingdom</td>\n",
       "    </tr>\n",
       "    <tr>\n",
       "      <th>2</th>\n",
       "      <td>536365</td>\n",
       "      <td>84406B</td>\n",
       "      <td>CREAM CUPID HEARTS COAT HANGER</td>\n",
       "      <td>8</td>\n",
       "      <td>29-Nov-16</td>\n",
       "      <td>2.75</td>\n",
       "      <td>17850.0</td>\n",
       "      <td>United Kingdom</td>\n",
       "    </tr>\n",
       "    <tr>\n",
       "      <th>3</th>\n",
       "      <td>536365</td>\n",
       "      <td>84029G</td>\n",
       "      <td>KNITTED UNION FLAG HOT WATER BOTTLE</td>\n",
       "      <td>6</td>\n",
       "      <td>29-Nov-16</td>\n",
       "      <td>3.39</td>\n",
       "      <td>17850.0</td>\n",
       "      <td>United Kingdom</td>\n",
       "    </tr>\n",
       "    <tr>\n",
       "      <th>4</th>\n",
       "      <td>536365</td>\n",
       "      <td>84029E</td>\n",
       "      <td>RED WOOLLY HOTTIE WHITE HEART.</td>\n",
       "      <td>6</td>\n",
       "      <td>29-Nov-16</td>\n",
       "      <td>3.39</td>\n",
       "      <td>17850.0</td>\n",
       "      <td>United Kingdom</td>\n",
       "    </tr>\n",
       "  </tbody>\n",
       "</table>\n",
       "</div>"
      ],
      "text/plain": [
       "  InvoiceNo StockCode                          Description  Quantity  \\\n",
       "0    536365    85123A   WHITE HANGING HEART T-LIGHT HOLDER         6   \n",
       "1    536365     71053                  WHITE METAL LANTERN         6   \n",
       "2    536365    84406B       CREAM CUPID HEARTS COAT HANGER         8   \n",
       "3    536365    84029G  KNITTED UNION FLAG HOT WATER BOTTLE         6   \n",
       "4    536365    84029E       RED WOOLLY HOTTIE WHITE HEART.         6   \n",
       "\n",
       "  InvoiceDate  UnitPrice  CustomerID         Country  \n",
       "0   29-Nov-16       2.55     17850.0  United Kingdom  \n",
       "1   29-Nov-16       3.39     17850.0  United Kingdom  \n",
       "2   29-Nov-16       2.75     17850.0  United Kingdom  \n",
       "3   29-Nov-16       3.39     17850.0  United Kingdom  \n",
       "4   29-Nov-16       3.39     17850.0  United Kingdom  "
      ]
     },
     "execution_count": 3,
     "metadata": {},
     "output_type": "execute_result"
    }
   ],
   "source": [
    "df_raw.head()"
   ]
  },
  {
   "cell_type": "markdown",
   "id": "eb0991ff",
   "metadata": {
    "heading_collapsed": true
   },
   "source": [
    "# 2. Data Description"
   ]
  },
  {
   "cell_type": "code",
   "execution_count": 4,
   "id": "6000d0cb",
   "metadata": {
    "ExecuteTime": {
     "end_time": "2022-05-26T13:11:21.309010Z",
     "start_time": "2022-05-26T13:11:21.282004Z"
    },
    "hidden": true
   },
   "outputs": [],
   "source": [
    "df2 = df_raw.copy()"
   ]
  },
  {
   "cell_type": "markdown",
   "id": "d1419773",
   "metadata": {
    "hidden": true
   },
   "source": [
    "## 2.1. Rename Columns"
   ]
  },
  {
   "cell_type": "code",
   "execution_count": 5,
   "id": "4d993c29",
   "metadata": {
    "ExecuteTime": {
     "end_time": "2022-05-26T13:11:21.341017Z",
     "start_time": "2022-05-26T13:11:21.311011Z"
    },
    "hidden": true
   },
   "outputs": [
    {
     "data": {
      "text/html": [
       "<div>\n",
       "<style scoped>\n",
       "    .dataframe tbody tr th:only-of-type {\n",
       "        vertical-align: middle;\n",
       "    }\n",
       "\n",
       "    .dataframe tbody tr th {\n",
       "        vertical-align: top;\n",
       "    }\n",
       "\n",
       "    .dataframe thead th {\n",
       "        text-align: right;\n",
       "    }\n",
       "</style>\n",
       "<table border=\"1\" class=\"dataframe\">\n",
       "  <thead>\n",
       "    <tr style=\"text-align: right;\">\n",
       "      <th></th>\n",
       "      <th>invoice_no</th>\n",
       "      <th>stock_code</th>\n",
       "      <th>description</th>\n",
       "      <th>quantity</th>\n",
       "      <th>invoice_date</th>\n",
       "      <th>unit_price</th>\n",
       "      <th>customer_id</th>\n",
       "      <th>country</th>\n",
       "    </tr>\n",
       "  </thead>\n",
       "  <tbody>\n",
       "    <tr>\n",
       "      <th>0</th>\n",
       "      <td>536365</td>\n",
       "      <td>85123A</td>\n",
       "      <td>WHITE HANGING HEART T-LIGHT HOLDER</td>\n",
       "      <td>6</td>\n",
       "      <td>29-Nov-16</td>\n",
       "      <td>2.55</td>\n",
       "      <td>17850.0</td>\n",
       "      <td>United Kingdom</td>\n",
       "    </tr>\n",
       "    <tr>\n",
       "      <th>1</th>\n",
       "      <td>536365</td>\n",
       "      <td>71053</td>\n",
       "      <td>WHITE METAL LANTERN</td>\n",
       "      <td>6</td>\n",
       "      <td>29-Nov-16</td>\n",
       "      <td>3.39</td>\n",
       "      <td>17850.0</td>\n",
       "      <td>United Kingdom</td>\n",
       "    </tr>\n",
       "    <tr>\n",
       "      <th>2</th>\n",
       "      <td>536365</td>\n",
       "      <td>84406B</td>\n",
       "      <td>CREAM CUPID HEARTS COAT HANGER</td>\n",
       "      <td>8</td>\n",
       "      <td>29-Nov-16</td>\n",
       "      <td>2.75</td>\n",
       "      <td>17850.0</td>\n",
       "      <td>United Kingdom</td>\n",
       "    </tr>\n",
       "    <tr>\n",
       "      <th>3</th>\n",
       "      <td>536365</td>\n",
       "      <td>84029G</td>\n",
       "      <td>KNITTED UNION FLAG HOT WATER BOTTLE</td>\n",
       "      <td>6</td>\n",
       "      <td>29-Nov-16</td>\n",
       "      <td>3.39</td>\n",
       "      <td>17850.0</td>\n",
       "      <td>United Kingdom</td>\n",
       "    </tr>\n",
       "    <tr>\n",
       "      <th>4</th>\n",
       "      <td>536365</td>\n",
       "      <td>84029E</td>\n",
       "      <td>RED WOOLLY HOTTIE WHITE HEART.</td>\n",
       "      <td>6</td>\n",
       "      <td>29-Nov-16</td>\n",
       "      <td>3.39</td>\n",
       "      <td>17850.0</td>\n",
       "      <td>United Kingdom</td>\n",
       "    </tr>\n",
       "  </tbody>\n",
       "</table>\n",
       "</div>"
      ],
      "text/plain": [
       "  invoice_no stock_code                          description  quantity  \\\n",
       "0     536365     85123A   WHITE HANGING HEART T-LIGHT HOLDER         6   \n",
       "1     536365      71053                  WHITE METAL LANTERN         6   \n",
       "2     536365     84406B       CREAM CUPID HEARTS COAT HANGER         8   \n",
       "3     536365     84029G  KNITTED UNION FLAG HOT WATER BOTTLE         6   \n",
       "4     536365     84029E       RED WOOLLY HOTTIE WHITE HEART.         6   \n",
       "\n",
       "  invoice_date  unit_price  customer_id         country  \n",
       "0    29-Nov-16        2.55      17850.0  United Kingdom  \n",
       "1    29-Nov-16        3.39      17850.0  United Kingdom  \n",
       "2    29-Nov-16        2.75      17850.0  United Kingdom  \n",
       "3    29-Nov-16        3.39      17850.0  United Kingdom  \n",
       "4    29-Nov-16        3.39      17850.0  United Kingdom  "
      ]
     },
     "execution_count": 5,
     "metadata": {},
     "output_type": "execute_result"
    }
   ],
   "source": [
    "cols_new = ['invoice_no', 'stock_code', 'description', 'quantity', 'invoice_date', 'unit_price', 'customer_id', 'country']\n",
    "\n",
    "# rename columns\n",
    "df2.columns = cols_new\n",
    "df2.head()"
   ]
  },
  {
   "cell_type": "markdown",
   "id": "3232b8e7",
   "metadata": {
    "hidden": true
   },
   "source": [
    "## 2.2. Data Dimensions"
   ]
  },
  {
   "cell_type": "code",
   "execution_count": 6,
   "id": "0972cafd",
   "metadata": {
    "ExecuteTime": {
     "end_time": "2022-05-26T13:11:21.356020Z",
     "start_time": "2022-05-26T13:11:21.343017Z"
    },
    "hidden": true
   },
   "outputs": [
    {
     "name": "stdout",
     "output_type": "stream",
     "text": [
      "Number of rows: 541909\n",
      "Number of columns: 8\n"
     ]
    }
   ],
   "source": [
    "print( 'Number of rows: {}'.format( df2.shape[0] ) )\n",
    "print( 'Number of columns: {}'.format( df2.shape[1] ) )"
   ]
  },
  {
   "cell_type": "markdown",
   "id": "819d18a4",
   "metadata": {
    "hidden": true
   },
   "source": [
    "## 2.3. Data Types"
   ]
  },
  {
   "cell_type": "code",
   "execution_count": 7,
   "id": "3208575b",
   "metadata": {
    "ExecuteTime": {
     "end_time": "2022-05-26T13:11:21.371024Z",
     "start_time": "2022-05-26T13:11:21.358021Z"
    },
    "hidden": true
   },
   "outputs": [
    {
     "data": {
      "text/plain": [
       "invoice_no       object\n",
       "stock_code       object\n",
       "description      object\n",
       "quantity          int64\n",
       "invoice_date     object\n",
       "unit_price      float64\n",
       "customer_id     float64\n",
       "country          object\n",
       "dtype: object"
      ]
     },
     "execution_count": 7,
     "metadata": {},
     "output_type": "execute_result"
    }
   ],
   "source": [
    "df2.dtypes"
   ]
  },
  {
   "cell_type": "markdown",
   "id": "4e5abbf5",
   "metadata": {
    "hidden": true
   },
   "source": [
    "## 2.4. Check NA"
   ]
  },
  {
   "cell_type": "code",
   "execution_count": 8,
   "id": "d58df37e",
   "metadata": {
    "ExecuteTime": {
     "end_time": "2022-05-26T13:11:21.734105Z",
     "start_time": "2022-05-26T13:11:21.373025Z"
    },
    "hidden": true
   },
   "outputs": [
    {
     "data": {
      "text/plain": [
       "invoice_no           0\n",
       "stock_code           0\n",
       "description       1454\n",
       "quantity             0\n",
       "invoice_date         0\n",
       "unit_price           0\n",
       "customer_id     135080\n",
       "country              0\n",
       "dtype: int64"
      ]
     },
     "execution_count": 8,
     "metadata": {},
     "output_type": "execute_result"
    }
   ],
   "source": [
    "df2.isna().sum()"
   ]
  },
  {
   "cell_type": "markdown",
   "id": "1890d61e",
   "metadata": {
    "hidden": true
   },
   "source": [
    "## 2.5. Replace NA"
   ]
  },
  {
   "cell_type": "code",
   "execution_count": 9,
   "id": "c1f5ff92",
   "metadata": {
    "ExecuteTime": {
     "end_time": "2022-05-26T13:11:21.781120Z",
     "start_time": "2022-05-26T13:11:21.735106Z"
    },
    "hidden": true
   },
   "outputs": [],
   "source": [
    "df_missing = df2.loc[df2['customer_id'].isna(), :]\n",
    "df_not_missing = df2.loc[~df2['customer_id'].isna(), :]"
   ]
  },
  {
   "cell_type": "code",
   "execution_count": 10,
   "id": "077c6824",
   "metadata": {
    "ExecuteTime": {
     "end_time": "2022-05-26T13:11:21.797125Z",
     "start_time": "2022-05-26T13:11:21.784122Z"
    },
    "hidden": true
   },
   "outputs": [
    {
     "data": {
      "text/plain": [
       "18287.0"
      ]
     },
     "execution_count": 10,
     "metadata": {},
     "output_type": "execute_result"
    }
   ],
   "source": [
    "# max customer_id\n",
    "df_not_missing['customer_id'].max()"
   ]
  },
  {
   "cell_type": "code",
   "execution_count": 11,
   "id": "5b1b6ce2",
   "metadata": {
    "ExecuteTime": {
     "end_time": "2022-05-26T13:11:21.813128Z",
     "start_time": "2022-05-26T13:11:21.799125Z"
    },
    "hidden": true
   },
   "outputs": [
    {
     "data": {
      "text/html": [
       "<div>\n",
       "<style scoped>\n",
       "    .dataframe tbody tr th:only-of-type {\n",
       "        vertical-align: middle;\n",
       "    }\n",
       "\n",
       "    .dataframe tbody tr th {\n",
       "        vertical-align: top;\n",
       "    }\n",
       "\n",
       "    .dataframe thead th {\n",
       "        text-align: right;\n",
       "    }\n",
       "</style>\n",
       "<table border=\"1\" class=\"dataframe\">\n",
       "  <thead>\n",
       "    <tr style=\"text-align: right;\">\n",
       "      <th></th>\n",
       "      <th>invoice_no</th>\n",
       "      <th>customer_id</th>\n",
       "    </tr>\n",
       "  </thead>\n",
       "  <tbody>\n",
       "    <tr>\n",
       "      <th>622</th>\n",
       "      <td>536414</td>\n",
       "      <td>19000</td>\n",
       "    </tr>\n",
       "    <tr>\n",
       "      <th>1443</th>\n",
       "      <td>536544</td>\n",
       "      <td>19001</td>\n",
       "    </tr>\n",
       "    <tr>\n",
       "      <th>1970</th>\n",
       "      <td>536545</td>\n",
       "      <td>19002</td>\n",
       "    </tr>\n",
       "    <tr>\n",
       "      <th>1971</th>\n",
       "      <td>536546</td>\n",
       "      <td>19003</td>\n",
       "    </tr>\n",
       "    <tr>\n",
       "      <th>1972</th>\n",
       "      <td>536547</td>\n",
       "      <td>19004</td>\n",
       "    </tr>\n",
       "  </tbody>\n",
       "</table>\n",
       "</div>"
      ],
      "text/plain": [
       "     invoice_no  customer_id\n",
       "622      536414        19000\n",
       "1443     536544        19001\n",
       "1970     536545        19002\n",
       "1971     536546        19003\n",
       "1972     536547        19004"
      ]
     },
     "execution_count": 11,
     "metadata": {},
     "output_type": "execute_result"
    }
   ],
   "source": [
    "# create reference\n",
    "df_backup = pd.DataFrame( df_missing['invoice_no'].drop_duplicates() )\n",
    "df_backup['customer_id'] = np.arange( 19000, 19000 + len(df_backup), 1 )\n",
    "df_backup.head()"
   ]
  },
  {
   "cell_type": "code",
   "execution_count": 12,
   "id": "791f56e1",
   "metadata": {
    "ExecuteTime": {
     "end_time": "2022-05-26T13:11:21.925155Z",
     "start_time": "2022-05-26T13:11:21.814128Z"
    },
    "hidden": true
   },
   "outputs": [
    {
     "data": {
      "text/html": [
       "<div>\n",
       "<style scoped>\n",
       "    .dataframe tbody tr th:only-of-type {\n",
       "        vertical-align: middle;\n",
       "    }\n",
       "\n",
       "    .dataframe tbody tr th {\n",
       "        vertical-align: top;\n",
       "    }\n",
       "\n",
       "    .dataframe thead th {\n",
       "        text-align: right;\n",
       "    }\n",
       "</style>\n",
       "<table border=\"1\" class=\"dataframe\">\n",
       "  <thead>\n",
       "    <tr style=\"text-align: right;\">\n",
       "      <th></th>\n",
       "      <th>invoice_no</th>\n",
       "      <th>stock_code</th>\n",
       "      <th>description</th>\n",
       "      <th>quantity</th>\n",
       "      <th>invoice_date</th>\n",
       "      <th>unit_price</th>\n",
       "      <th>customer_id_x</th>\n",
       "      <th>country</th>\n",
       "      <th>customer_id_y</th>\n",
       "    </tr>\n",
       "  </thead>\n",
       "  <tbody>\n",
       "    <tr>\n",
       "      <th>0</th>\n",
       "      <td>536365</td>\n",
       "      <td>85123A</td>\n",
       "      <td>WHITE HANGING HEART T-LIGHT HOLDER</td>\n",
       "      <td>6</td>\n",
       "      <td>29-Nov-16</td>\n",
       "      <td>2.55</td>\n",
       "      <td>17850.0</td>\n",
       "      <td>United Kingdom</td>\n",
       "      <td>NaN</td>\n",
       "    </tr>\n",
       "    <tr>\n",
       "      <th>1</th>\n",
       "      <td>536365</td>\n",
       "      <td>71053</td>\n",
       "      <td>WHITE METAL LANTERN</td>\n",
       "      <td>6</td>\n",
       "      <td>29-Nov-16</td>\n",
       "      <td>3.39</td>\n",
       "      <td>17850.0</td>\n",
       "      <td>United Kingdom</td>\n",
       "      <td>NaN</td>\n",
       "    </tr>\n",
       "    <tr>\n",
       "      <th>2</th>\n",
       "      <td>536365</td>\n",
       "      <td>84406B</td>\n",
       "      <td>CREAM CUPID HEARTS COAT HANGER</td>\n",
       "      <td>8</td>\n",
       "      <td>29-Nov-16</td>\n",
       "      <td>2.75</td>\n",
       "      <td>17850.0</td>\n",
       "      <td>United Kingdom</td>\n",
       "      <td>NaN</td>\n",
       "    </tr>\n",
       "    <tr>\n",
       "      <th>3</th>\n",
       "      <td>536365</td>\n",
       "      <td>84029G</td>\n",
       "      <td>KNITTED UNION FLAG HOT WATER BOTTLE</td>\n",
       "      <td>6</td>\n",
       "      <td>29-Nov-16</td>\n",
       "      <td>3.39</td>\n",
       "      <td>17850.0</td>\n",
       "      <td>United Kingdom</td>\n",
       "      <td>NaN</td>\n",
       "    </tr>\n",
       "    <tr>\n",
       "      <th>4</th>\n",
       "      <td>536365</td>\n",
       "      <td>84029E</td>\n",
       "      <td>RED WOOLLY HOTTIE WHITE HEART.</td>\n",
       "      <td>6</td>\n",
       "      <td>29-Nov-16</td>\n",
       "      <td>3.39</td>\n",
       "      <td>17850.0</td>\n",
       "      <td>United Kingdom</td>\n",
       "      <td>NaN</td>\n",
       "    </tr>\n",
       "  </tbody>\n",
       "</table>\n",
       "</div>"
      ],
      "text/plain": [
       "  invoice_no stock_code                          description  quantity  \\\n",
       "0     536365     85123A   WHITE HANGING HEART T-LIGHT HOLDER         6   \n",
       "1     536365      71053                  WHITE METAL LANTERN         6   \n",
       "2     536365     84406B       CREAM CUPID HEARTS COAT HANGER         8   \n",
       "3     536365     84029G  KNITTED UNION FLAG HOT WATER BOTTLE         6   \n",
       "4     536365     84029E       RED WOOLLY HOTTIE WHITE HEART.         6   \n",
       "\n",
       "  invoice_date  unit_price  customer_id_x         country  customer_id_y  \n",
       "0    29-Nov-16        2.55        17850.0  United Kingdom            NaN  \n",
       "1    29-Nov-16        3.39        17850.0  United Kingdom            NaN  \n",
       "2    29-Nov-16        2.75        17850.0  United Kingdom            NaN  \n",
       "3    29-Nov-16        3.39        17850.0  United Kingdom            NaN  \n",
       "4    29-Nov-16        3.39        17850.0  United Kingdom            NaN  "
      ]
     },
     "execution_count": 12,
     "metadata": {},
     "output_type": "execute_result"
    }
   ],
   "source": [
    "# merge original with reference\n",
    "df2 = pd.merge( df2, df_backup, on='invoice_no', how='left' )\n",
    "df2.head()"
   ]
  },
  {
   "cell_type": "code",
   "execution_count": 13,
   "id": "1e20720f",
   "metadata": {
    "ExecuteTime": {
     "end_time": "2022-05-26T13:11:21.987169Z",
     "start_time": "2022-05-26T13:11:21.926153Z"
    },
    "hidden": true
   },
   "outputs": [
    {
     "data": {
      "text/html": [
       "<div>\n",
       "<style scoped>\n",
       "    .dataframe tbody tr th:only-of-type {\n",
       "        vertical-align: middle;\n",
       "    }\n",
       "\n",
       "    .dataframe tbody tr th {\n",
       "        vertical-align: top;\n",
       "    }\n",
       "\n",
       "    .dataframe thead th {\n",
       "        text-align: right;\n",
       "    }\n",
       "</style>\n",
       "<table border=\"1\" class=\"dataframe\">\n",
       "  <thead>\n",
       "    <tr style=\"text-align: right;\">\n",
       "      <th></th>\n",
       "      <th>invoice_no</th>\n",
       "      <th>stock_code</th>\n",
       "      <th>description</th>\n",
       "      <th>quantity</th>\n",
       "      <th>invoice_date</th>\n",
       "      <th>unit_price</th>\n",
       "      <th>country</th>\n",
       "      <th>customer_id</th>\n",
       "    </tr>\n",
       "  </thead>\n",
       "  <tbody>\n",
       "    <tr>\n",
       "      <th>0</th>\n",
       "      <td>536365</td>\n",
       "      <td>85123A</td>\n",
       "      <td>WHITE HANGING HEART T-LIGHT HOLDER</td>\n",
       "      <td>6</td>\n",
       "      <td>29-Nov-16</td>\n",
       "      <td>2.55</td>\n",
       "      <td>United Kingdom</td>\n",
       "      <td>17850.0</td>\n",
       "    </tr>\n",
       "    <tr>\n",
       "      <th>1</th>\n",
       "      <td>536365</td>\n",
       "      <td>71053</td>\n",
       "      <td>WHITE METAL LANTERN</td>\n",
       "      <td>6</td>\n",
       "      <td>29-Nov-16</td>\n",
       "      <td>3.39</td>\n",
       "      <td>United Kingdom</td>\n",
       "      <td>17850.0</td>\n",
       "    </tr>\n",
       "    <tr>\n",
       "      <th>2</th>\n",
       "      <td>536365</td>\n",
       "      <td>84406B</td>\n",
       "      <td>CREAM CUPID HEARTS COAT HANGER</td>\n",
       "      <td>8</td>\n",
       "      <td>29-Nov-16</td>\n",
       "      <td>2.75</td>\n",
       "      <td>United Kingdom</td>\n",
       "      <td>17850.0</td>\n",
       "    </tr>\n",
       "    <tr>\n",
       "      <th>3</th>\n",
       "      <td>536365</td>\n",
       "      <td>84029G</td>\n",
       "      <td>KNITTED UNION FLAG HOT WATER BOTTLE</td>\n",
       "      <td>6</td>\n",
       "      <td>29-Nov-16</td>\n",
       "      <td>3.39</td>\n",
       "      <td>United Kingdom</td>\n",
       "      <td>17850.0</td>\n",
       "    </tr>\n",
       "    <tr>\n",
       "      <th>4</th>\n",
       "      <td>536365</td>\n",
       "      <td>84029E</td>\n",
       "      <td>RED WOOLLY HOTTIE WHITE HEART.</td>\n",
       "      <td>6</td>\n",
       "      <td>29-Nov-16</td>\n",
       "      <td>3.39</td>\n",
       "      <td>United Kingdom</td>\n",
       "      <td>17850.0</td>\n",
       "    </tr>\n",
       "  </tbody>\n",
       "</table>\n",
       "</div>"
      ],
      "text/plain": [
       "  invoice_no stock_code                          description  quantity  \\\n",
       "0     536365     85123A   WHITE HANGING HEART T-LIGHT HOLDER         6   \n",
       "1     536365      71053                  WHITE METAL LANTERN         6   \n",
       "2     536365     84406B       CREAM CUPID HEARTS COAT HANGER         8   \n",
       "3     536365     84029G  KNITTED UNION FLAG HOT WATER BOTTLE         6   \n",
       "4     536365     84029E       RED WOOLLY HOTTIE WHITE HEART.         6   \n",
       "\n",
       "  invoice_date  unit_price         country  customer_id  \n",
       "0    29-Nov-16        2.55  United Kingdom      17850.0  \n",
       "1    29-Nov-16        3.39  United Kingdom      17850.0  \n",
       "2    29-Nov-16        2.75  United Kingdom      17850.0  \n",
       "3    29-Nov-16        3.39  United Kingdom      17850.0  \n",
       "4    29-Nov-16        3.39  United Kingdom      17850.0  "
      ]
     },
     "execution_count": 13,
     "metadata": {},
     "output_type": "execute_result"
    }
   ],
   "source": [
    "# coalesce\n",
    "df2['customer_id'] = df2['customer_id_x'].combine_first( df2['customer_id_y'] )\n",
    "\n",
    "# drop extra columns\n",
    "df2.drop( columns=['customer_id_x', 'customer_id_y'], axis=1, inplace=True )\n",
    "df2.head()"
   ]
  },
  {
   "cell_type": "code",
   "execution_count": 14,
   "id": "4d166356",
   "metadata": {
    "ExecuteTime": {
     "end_time": "2022-05-26T13:11:22.355263Z",
     "start_time": "2022-05-26T13:11:21.988170Z"
    },
    "hidden": true
   },
   "outputs": [
    {
     "data": {
      "text/plain": [
       "invoice_no         0\n",
       "stock_code         0\n",
       "description     1454\n",
       "quantity           0\n",
       "invoice_date       0\n",
       "unit_price         0\n",
       "country            0\n",
       "customer_id        0\n",
       "dtype: int64"
      ]
     },
     "execution_count": 14,
     "metadata": {},
     "output_type": "execute_result"
    }
   ],
   "source": [
    "df2.isna().sum()"
   ]
  },
  {
   "cell_type": "code",
   "execution_count": 15,
   "id": "bc6ec42f",
   "metadata": {
    "ExecuteTime": {
     "end_time": "2022-05-26T13:11:22.370468Z",
     "start_time": "2022-05-26T13:11:22.357263Z"
    },
    "hidden": true
   },
   "outputs": [
    {
     "data": {
      "text/plain": [
       "invoice_no       object\n",
       "stock_code       object\n",
       "description      object\n",
       "quantity          int64\n",
       "invoice_date     object\n",
       "unit_price      float64\n",
       "country          object\n",
       "customer_id     float64\n",
       "dtype: object"
      ]
     },
     "execution_count": 15,
     "metadata": {},
     "output_type": "execute_result"
    }
   ],
   "source": [
    "df2.dtypes"
   ]
  },
  {
   "cell_type": "markdown",
   "id": "19b8a8c4",
   "metadata": {
    "hidden": true
   },
   "source": [
    "## 2.6. Change dtypes"
   ]
  },
  {
   "cell_type": "code",
   "execution_count": 16,
   "id": "a316bb83",
   "metadata": {
    "ExecuteTime": {
     "end_time": "2022-05-26T13:11:22.449491Z",
     "start_time": "2022-05-26T13:11:22.372469Z"
    },
    "hidden": true
   },
   "outputs": [
    {
     "data": {
      "text/html": [
       "<div>\n",
       "<style scoped>\n",
       "    .dataframe tbody tr th:only-of-type {\n",
       "        vertical-align: middle;\n",
       "    }\n",
       "\n",
       "    .dataframe tbody tr th {\n",
       "        vertical-align: top;\n",
       "    }\n",
       "\n",
       "    .dataframe thead th {\n",
       "        text-align: right;\n",
       "    }\n",
       "</style>\n",
       "<table border=\"1\" class=\"dataframe\">\n",
       "  <thead>\n",
       "    <tr style=\"text-align: right;\">\n",
       "      <th></th>\n",
       "      <th>invoice_no</th>\n",
       "      <th>stock_code</th>\n",
       "      <th>description</th>\n",
       "      <th>quantity</th>\n",
       "      <th>invoice_date</th>\n",
       "      <th>unit_price</th>\n",
       "      <th>country</th>\n",
       "      <th>customer_id</th>\n",
       "    </tr>\n",
       "  </thead>\n",
       "  <tbody>\n",
       "    <tr>\n",
       "      <th>0</th>\n",
       "      <td>536365</td>\n",
       "      <td>85123A</td>\n",
       "      <td>WHITE HANGING HEART T-LIGHT HOLDER</td>\n",
       "      <td>6</td>\n",
       "      <td>2016-11-29</td>\n",
       "      <td>2.55</td>\n",
       "      <td>United Kingdom</td>\n",
       "      <td>17850</td>\n",
       "    </tr>\n",
       "    <tr>\n",
       "      <th>1</th>\n",
       "      <td>536365</td>\n",
       "      <td>71053</td>\n",
       "      <td>WHITE METAL LANTERN</td>\n",
       "      <td>6</td>\n",
       "      <td>2016-11-29</td>\n",
       "      <td>3.39</td>\n",
       "      <td>United Kingdom</td>\n",
       "      <td>17850</td>\n",
       "    </tr>\n",
       "    <tr>\n",
       "      <th>2</th>\n",
       "      <td>536365</td>\n",
       "      <td>84406B</td>\n",
       "      <td>CREAM CUPID HEARTS COAT HANGER</td>\n",
       "      <td>8</td>\n",
       "      <td>2016-11-29</td>\n",
       "      <td>2.75</td>\n",
       "      <td>United Kingdom</td>\n",
       "      <td>17850</td>\n",
       "    </tr>\n",
       "    <tr>\n",
       "      <th>3</th>\n",
       "      <td>536365</td>\n",
       "      <td>84029G</td>\n",
       "      <td>KNITTED UNION FLAG HOT WATER BOTTLE</td>\n",
       "      <td>6</td>\n",
       "      <td>2016-11-29</td>\n",
       "      <td>3.39</td>\n",
       "      <td>United Kingdom</td>\n",
       "      <td>17850</td>\n",
       "    </tr>\n",
       "    <tr>\n",
       "      <th>4</th>\n",
       "      <td>536365</td>\n",
       "      <td>84029E</td>\n",
       "      <td>RED WOOLLY HOTTIE WHITE HEART.</td>\n",
       "      <td>6</td>\n",
       "      <td>2016-11-29</td>\n",
       "      <td>3.39</td>\n",
       "      <td>United Kingdom</td>\n",
       "      <td>17850</td>\n",
       "    </tr>\n",
       "  </tbody>\n",
       "</table>\n",
       "</div>"
      ],
      "text/plain": [
       "  invoice_no stock_code                          description  quantity  \\\n",
       "0     536365     85123A   WHITE HANGING HEART T-LIGHT HOLDER         6   \n",
       "1     536365      71053                  WHITE METAL LANTERN         6   \n",
       "2     536365     84406B       CREAM CUPID HEARTS COAT HANGER         8   \n",
       "3     536365     84029G  KNITTED UNION FLAG HOT WATER BOTTLE         6   \n",
       "4     536365     84029E       RED WOOLLY HOTTIE WHITE HEART.         6   \n",
       "\n",
       "  invoice_date  unit_price         country  customer_id  \n",
       "0   2016-11-29        2.55  United Kingdom        17850  \n",
       "1   2016-11-29        3.39  United Kingdom        17850  \n",
       "2   2016-11-29        2.75  United Kingdom        17850  \n",
       "3   2016-11-29        3.39  United Kingdom        17850  \n",
       "4   2016-11-29        3.39  United Kingdom        17850  "
      ]
     },
     "execution_count": 16,
     "metadata": {},
     "output_type": "execute_result"
    }
   ],
   "source": [
    "# invoice date\n",
    "df2['invoice_date'] = pd.to_datetime( df2['invoice_date'], format='%d-%b-%y' )\n",
    "\n",
    "# customer_id\n",
    "df2['customer_id'] = df2['customer_id'].astype( int )\n",
    "df2.head()"
   ]
  },
  {
   "cell_type": "code",
   "execution_count": 17,
   "id": "508d1ef1",
   "metadata": {
    "ExecuteTime": {
     "end_time": "2022-05-26T13:11:22.465494Z",
     "start_time": "2022-05-26T13:11:22.450491Z"
    },
    "hidden": true
   },
   "outputs": [
    {
     "data": {
      "text/plain": [
       "invoice_no              object\n",
       "stock_code              object\n",
       "description             object\n",
       "quantity                 int64\n",
       "invoice_date    datetime64[ns]\n",
       "unit_price             float64\n",
       "country                 object\n",
       "customer_id              int32\n",
       "dtype: object"
      ]
     },
     "execution_count": 17,
     "metadata": {},
     "output_type": "execute_result"
    }
   ],
   "source": [
    "df2.dtypes"
   ]
  },
  {
   "cell_type": "markdown",
   "id": "32ade075",
   "metadata": {
    "hidden": true
   },
   "source": [
    "## 2.7. Descriptive Statistics"
   ]
  },
  {
   "cell_type": "code",
   "execution_count": 18,
   "id": "7baf76c3",
   "metadata": {
    "ExecuteTime": {
     "end_time": "2022-05-26T13:11:22.481500Z",
     "start_time": "2022-05-26T13:11:22.467495Z"
    },
    "hidden": true
   },
   "outputs": [],
   "source": [
    "num_attributes = df2.select_dtypes( include=['int32', 'int64', 'float64'] )\n",
    "cat_attributes = df2.select_dtypes( exclude=['int32', 'int64', 'float64', 'datetime64[ns]'] )"
   ]
  },
  {
   "cell_type": "markdown",
   "id": "77945845",
   "metadata": {
    "hidden": true
   },
   "source": [
    "### 2.7.1. Numerical Attributes"
   ]
  },
  {
   "cell_type": "code",
   "execution_count": 19,
   "id": "d960dd9e",
   "metadata": {
    "ExecuteTime": {
     "end_time": "2022-05-26T13:11:22.577526Z",
     "start_time": "2022-05-26T13:11:22.482501Z"
    },
    "hidden": true
   },
   "outputs": [
    {
     "data": {
      "text/html": [
       "<div>\n",
       "<style scoped>\n",
       "    .dataframe tbody tr th:only-of-type {\n",
       "        vertical-align: middle;\n",
       "    }\n",
       "\n",
       "    .dataframe tbody tr th {\n",
       "        vertical-align: top;\n",
       "    }\n",
       "\n",
       "    .dataframe thead th {\n",
       "        text-align: right;\n",
       "    }\n",
       "</style>\n",
       "<table border=\"1\" class=\"dataframe\">\n",
       "  <thead>\n",
       "    <tr style=\"text-align: right;\">\n",
       "      <th></th>\n",
       "      <th>attributes</th>\n",
       "      <th>min</th>\n",
       "      <th>max</th>\n",
       "      <th>range</th>\n",
       "      <th>mean</th>\n",
       "      <th>median</th>\n",
       "      <th>std</th>\n",
       "      <th>skew</th>\n",
       "      <th>kurtosis</th>\n",
       "    </tr>\n",
       "  </thead>\n",
       "  <tbody>\n",
       "    <tr>\n",
       "      <th>0</th>\n",
       "      <td>quantity</td>\n",
       "      <td>-80995.00</td>\n",
       "      <td>80995.0</td>\n",
       "      <td>161990.00</td>\n",
       "      <td>9.552250</td>\n",
       "      <td>3.00</td>\n",
       "      <td>218.080957</td>\n",
       "      <td>-0.264076</td>\n",
       "      <td>119769.160031</td>\n",
       "    </tr>\n",
       "    <tr>\n",
       "      <th>1</th>\n",
       "      <td>unit_price</td>\n",
       "      <td>-11062.06</td>\n",
       "      <td>38970.0</td>\n",
       "      <td>50032.06</td>\n",
       "      <td>4.611114</td>\n",
       "      <td>2.08</td>\n",
       "      <td>96.759764</td>\n",
       "      <td>186.506972</td>\n",
       "      <td>59005.719097</td>\n",
       "    </tr>\n",
       "    <tr>\n",
       "      <th>2</th>\n",
       "      <td>customer_id</td>\n",
       "      <td>12346.00</td>\n",
       "      <td>22709.0</td>\n",
       "      <td>10363.00</td>\n",
       "      <td>16688.840453</td>\n",
       "      <td>16249.00</td>\n",
       "      <td>2911.408666</td>\n",
       "      <td>0.487449</td>\n",
       "      <td>-0.804287</td>\n",
       "    </tr>\n",
       "  </tbody>\n",
       "</table>\n",
       "</div>"
      ],
      "text/plain": [
       "    attributes       min      max      range          mean    median  \\\n",
       "0     quantity -80995.00  80995.0  161990.00      9.552250      3.00   \n",
       "1   unit_price -11062.06  38970.0   50032.06      4.611114      2.08   \n",
       "2  customer_id  12346.00  22709.0   10363.00  16688.840453  16249.00   \n",
       "\n",
       "           std        skew       kurtosis  \n",
       "0   218.080957   -0.264076  119769.160031  \n",
       "1    96.759764  186.506972   59005.719097  \n",
       "2  2911.408666    0.487449      -0.804287  "
      ]
     },
     "execution_count": 19,
     "metadata": {},
     "output_type": "execute_result"
    }
   ],
   "source": [
    "# central tendency\n",
    "_mean   = pd.DataFrame( num_attributes.apply( np.mean ) ).T\n",
    "_median = pd.DataFrame( num_attributes.apply( np.median ) ).T\n",
    "\n",
    "# dispersion\n",
    "_std   = pd.DataFrame( num_attributes.apply( np.std ) ).T\n",
    "_min   = pd.DataFrame( num_attributes.apply( np.min ) ).T\n",
    "_max   = pd.DataFrame( num_attributes.apply( np.max ) ).T\n",
    "_range = pd.DataFrame( num_attributes.apply( lambda x: x.max() - x.min() ) ).T\n",
    "_skew  = pd.DataFrame( num_attributes.apply( lambda x: x.skew() ) ).T\n",
    "_kurtosis  = pd.DataFrame( num_attributes.apply( lambda x: x.kurtosis() ) ).T\n",
    "\n",
    "# concatenate\n",
    "summary = pd.concat( [_min, _max, _range, _mean, _median, _std, _skew, _kurtosis] ).T.reset_index()\n",
    "summary.columns = ['attributes', 'min', 'max', 'range', 'mean', 'median', 'std', 'skew', 'kurtosis']\n",
    "summary"
   ]
  },
  {
   "cell_type": "markdown",
   "id": "e47a9177",
   "metadata": {
    "hidden": true
   },
   "source": [
    "* **Negative quantity** - It could mean a returning.\n",
    "* **Unit price equal to zero** - Could it mean a promotion?"
   ]
  },
  {
   "cell_type": "markdown",
   "id": "6694850a",
   "metadata": {
    "hidden": true
   },
   "source": [
    "### 2.7.2. Categorical Attributes"
   ]
  },
  {
   "cell_type": "code",
   "execution_count": 20,
   "id": "4bcf075f",
   "metadata": {
    "ExecuteTime": {
     "end_time": "2022-05-26T13:11:22.593530Z",
     "start_time": "2022-05-26T13:11:22.578527Z"
    },
    "hidden": true
   },
   "outputs": [
    {
     "data": {
      "text/html": [
       "<div>\n",
       "<style scoped>\n",
       "    .dataframe tbody tr th:only-of-type {\n",
       "        vertical-align: middle;\n",
       "    }\n",
       "\n",
       "    .dataframe tbody tr th {\n",
       "        vertical-align: top;\n",
       "    }\n",
       "\n",
       "    .dataframe thead th {\n",
       "        text-align: right;\n",
       "    }\n",
       "</style>\n",
       "<table border=\"1\" class=\"dataframe\">\n",
       "  <thead>\n",
       "    <tr style=\"text-align: right;\">\n",
       "      <th></th>\n",
       "      <th>invoice_no</th>\n",
       "      <th>stock_code</th>\n",
       "      <th>description</th>\n",
       "      <th>country</th>\n",
       "    </tr>\n",
       "  </thead>\n",
       "  <tbody>\n",
       "    <tr>\n",
       "      <th>0</th>\n",
       "      <td>536365</td>\n",
       "      <td>85123A</td>\n",
       "      <td>WHITE HANGING HEART T-LIGHT HOLDER</td>\n",
       "      <td>United Kingdom</td>\n",
       "    </tr>\n",
       "    <tr>\n",
       "      <th>1</th>\n",
       "      <td>536365</td>\n",
       "      <td>71053</td>\n",
       "      <td>WHITE METAL LANTERN</td>\n",
       "      <td>United Kingdom</td>\n",
       "    </tr>\n",
       "    <tr>\n",
       "      <th>2</th>\n",
       "      <td>536365</td>\n",
       "      <td>84406B</td>\n",
       "      <td>CREAM CUPID HEARTS COAT HANGER</td>\n",
       "      <td>United Kingdom</td>\n",
       "    </tr>\n",
       "    <tr>\n",
       "      <th>3</th>\n",
       "      <td>536365</td>\n",
       "      <td>84029G</td>\n",
       "      <td>KNITTED UNION FLAG HOT WATER BOTTLE</td>\n",
       "      <td>United Kingdom</td>\n",
       "    </tr>\n",
       "    <tr>\n",
       "      <th>4</th>\n",
       "      <td>536365</td>\n",
       "      <td>84029E</td>\n",
       "      <td>RED WOOLLY HOTTIE WHITE HEART.</td>\n",
       "      <td>United Kingdom</td>\n",
       "    </tr>\n",
       "  </tbody>\n",
       "</table>\n",
       "</div>"
      ],
      "text/plain": [
       "  invoice_no stock_code                          description         country\n",
       "0     536365     85123A   WHITE HANGING HEART T-LIGHT HOLDER  United Kingdom\n",
       "1     536365      71053                  WHITE METAL LANTERN  United Kingdom\n",
       "2     536365     84406B       CREAM CUPID HEARTS COAT HANGER  United Kingdom\n",
       "3     536365     84029G  KNITTED UNION FLAG HOT WATER BOTTLE  United Kingdom\n",
       "4     536365     84029E       RED WOOLLY HOTTIE WHITE HEART.  United Kingdom"
      ]
     },
     "execution_count": 20,
     "metadata": {},
     "output_type": "execute_result"
    }
   ],
   "source": [
    "cat_attributes.head()"
   ]
  },
  {
   "cell_type": "markdown",
   "id": "f2ddd253",
   "metadata": {
    "ExecuteTime": {
     "end_time": "2022-04-15T15:06:14.613143Z",
     "start_time": "2022-04-15T15:06:14.608214Z"
    },
    "hidden": true
   },
   "source": [
    "#### 2.7.2.1. Invoice_no"
   ]
  },
  {
   "cell_type": "code",
   "execution_count": 21,
   "id": "88669ce3",
   "metadata": {
    "ExecuteTime": {
     "end_time": "2022-05-26T13:11:23.293696Z",
     "start_time": "2022-05-26T13:11:22.595530Z"
    },
    "hidden": true
   },
   "outputs": [
    {
     "data": {
      "text/html": [
       "<div>\n",
       "<style scoped>\n",
       "    .dataframe tbody tr th:only-of-type {\n",
       "        vertical-align: middle;\n",
       "    }\n",
       "\n",
       "    .dataframe tbody tr th {\n",
       "        vertical-align: top;\n",
       "    }\n",
       "\n",
       "    .dataframe thead th {\n",
       "        text-align: right;\n",
       "    }\n",
       "</style>\n",
       "<table border=\"1\" class=\"dataframe\">\n",
       "  <thead>\n",
       "    <tr style=\"text-align: right;\">\n",
       "      <th></th>\n",
       "      <th>invoice_no</th>\n",
       "      <th>stock_code</th>\n",
       "      <th>description</th>\n",
       "      <th>quantity</th>\n",
       "      <th>invoice_date</th>\n",
       "      <th>unit_price</th>\n",
       "      <th>country</th>\n",
       "      <th>customer_id</th>\n",
       "    </tr>\n",
       "  </thead>\n",
       "  <tbody>\n",
       "    <tr>\n",
       "      <th>141</th>\n",
       "      <td>C536379</td>\n",
       "      <td>D</td>\n",
       "      <td>Discount</td>\n",
       "      <td>-1</td>\n",
       "      <td>2016-11-29</td>\n",
       "      <td>27.50</td>\n",
       "      <td>United Kingdom</td>\n",
       "      <td>14527</td>\n",
       "    </tr>\n",
       "    <tr>\n",
       "      <th>154</th>\n",
       "      <td>C536383</td>\n",
       "      <td>35004C</td>\n",
       "      <td>SET OF 3 COLOURED  FLYING DUCKS</td>\n",
       "      <td>-1</td>\n",
       "      <td>2016-11-29</td>\n",
       "      <td>4.65</td>\n",
       "      <td>United Kingdom</td>\n",
       "      <td>15311</td>\n",
       "    </tr>\n",
       "    <tr>\n",
       "      <th>235</th>\n",
       "      <td>C536391</td>\n",
       "      <td>22556</td>\n",
       "      <td>PLASTERS IN TIN CIRCUS PARADE</td>\n",
       "      <td>-12</td>\n",
       "      <td>2016-11-29</td>\n",
       "      <td>1.65</td>\n",
       "      <td>United Kingdom</td>\n",
       "      <td>17548</td>\n",
       "    </tr>\n",
       "    <tr>\n",
       "      <th>236</th>\n",
       "      <td>C536391</td>\n",
       "      <td>21984</td>\n",
       "      <td>PACK OF 12 PINK PAISLEY TISSUES</td>\n",
       "      <td>-24</td>\n",
       "      <td>2016-11-29</td>\n",
       "      <td>0.29</td>\n",
       "      <td>United Kingdom</td>\n",
       "      <td>17548</td>\n",
       "    </tr>\n",
       "    <tr>\n",
       "      <th>237</th>\n",
       "      <td>C536391</td>\n",
       "      <td>21983</td>\n",
       "      <td>PACK OF 12 BLUE PAISLEY TISSUES</td>\n",
       "      <td>-24</td>\n",
       "      <td>2016-11-29</td>\n",
       "      <td>0.29</td>\n",
       "      <td>United Kingdom</td>\n",
       "      <td>17548</td>\n",
       "    </tr>\n",
       "    <tr>\n",
       "      <th>238</th>\n",
       "      <td>C536391</td>\n",
       "      <td>21980</td>\n",
       "      <td>PACK OF 12 RED RETROSPOT TISSUES</td>\n",
       "      <td>-24</td>\n",
       "      <td>2016-11-29</td>\n",
       "      <td>0.29</td>\n",
       "      <td>United Kingdom</td>\n",
       "      <td>17548</td>\n",
       "    </tr>\n",
       "    <tr>\n",
       "      <th>239</th>\n",
       "      <td>C536391</td>\n",
       "      <td>21484</td>\n",
       "      <td>CHICK GREY HOT WATER BOTTLE</td>\n",
       "      <td>-12</td>\n",
       "      <td>2016-11-29</td>\n",
       "      <td>3.45</td>\n",
       "      <td>United Kingdom</td>\n",
       "      <td>17548</td>\n",
       "    </tr>\n",
       "    <tr>\n",
       "      <th>240</th>\n",
       "      <td>C536391</td>\n",
       "      <td>22557</td>\n",
       "      <td>PLASTERS IN TIN VINTAGE PAISLEY</td>\n",
       "      <td>-12</td>\n",
       "      <td>2016-11-29</td>\n",
       "      <td>1.65</td>\n",
       "      <td>United Kingdom</td>\n",
       "      <td>17548</td>\n",
       "    </tr>\n",
       "    <tr>\n",
       "      <th>241</th>\n",
       "      <td>C536391</td>\n",
       "      <td>22553</td>\n",
       "      <td>PLASTERS IN TIN SKULLS</td>\n",
       "      <td>-24</td>\n",
       "      <td>2016-11-29</td>\n",
       "      <td>1.65</td>\n",
       "      <td>United Kingdom</td>\n",
       "      <td>17548</td>\n",
       "    </tr>\n",
       "    <tr>\n",
       "      <th>939</th>\n",
       "      <td>C536506</td>\n",
       "      <td>22960</td>\n",
       "      <td>JAM MAKING SET WITH JARS</td>\n",
       "      <td>-6</td>\n",
       "      <td>2016-11-29</td>\n",
       "      <td>4.25</td>\n",
       "      <td>United Kingdom</td>\n",
       "      <td>17897</td>\n",
       "    </tr>\n",
       "  </tbody>\n",
       "</table>\n",
       "</div>"
      ],
      "text/plain": [
       "    invoice_no stock_code                        description  quantity  \\\n",
       "141    C536379          D                           Discount        -1   \n",
       "154    C536383     35004C    SET OF 3 COLOURED  FLYING DUCKS        -1   \n",
       "235    C536391      22556     PLASTERS IN TIN CIRCUS PARADE        -12   \n",
       "236    C536391      21984   PACK OF 12 PINK PAISLEY TISSUES        -24   \n",
       "237    C536391      21983   PACK OF 12 BLUE PAISLEY TISSUES        -24   \n",
       "238    C536391      21980  PACK OF 12 RED RETROSPOT TISSUES        -24   \n",
       "239    C536391      21484        CHICK GREY HOT WATER BOTTLE       -12   \n",
       "240    C536391      22557   PLASTERS IN TIN VINTAGE PAISLEY        -12   \n",
       "241    C536391      22553             PLASTERS IN TIN SKULLS       -24   \n",
       "939    C536506      22960           JAM MAKING SET WITH JARS        -6   \n",
       "\n",
       "    invoice_date  unit_price         country  customer_id  \n",
       "141   2016-11-29       27.50  United Kingdom        14527  \n",
       "154   2016-11-29        4.65  United Kingdom        15311  \n",
       "235   2016-11-29        1.65  United Kingdom        17548  \n",
       "236   2016-11-29        0.29  United Kingdom        17548  \n",
       "237   2016-11-29        0.29  United Kingdom        17548  \n",
       "238   2016-11-29        0.29  United Kingdom        17548  \n",
       "239   2016-11-29        3.45  United Kingdom        17548  \n",
       "240   2016-11-29        1.65  United Kingdom        17548  \n",
       "241   2016-11-29        1.65  United Kingdom        17548  \n",
       "939   2016-11-29        4.25  United Kingdom        17897  "
      ]
     },
     "execution_count": 21,
     "metadata": {},
     "output_type": "execute_result"
    }
   ],
   "source": [
    "# cat_attributes['invoice_no'].astype( int ) # It throws an error\n",
    "index = df2['invoice_no'].apply( lambda x: bool( re.search( '[^0-9]+', x ) ) )\n",
    "df2[index].head(10)"
   ]
  },
  {
   "cell_type": "code",
   "execution_count": 22,
   "id": "39be9eab",
   "metadata": {
    "ExecuteTime": {
     "end_time": "2022-05-26T13:11:23.309700Z",
     "start_time": "2022-05-26T13:11:23.294697Z"
    },
    "hidden": true
   },
   "outputs": [
    {
     "data": {
      "text/plain": [
       "3839"
      ]
     },
     "execution_count": 22,
     "metadata": {},
     "output_type": "execute_result"
    }
   ],
   "source": [
    "# unique values\n",
    "len( df2.loc[index, 'invoice_no'].drop_duplicates()  )"
   ]
  },
  {
   "cell_type": "code",
   "execution_count": 23,
   "id": "90cf40bd",
   "metadata": {
    "ExecuteTime": {
     "end_time": "2022-05-26T13:11:23.325703Z",
     "start_time": "2022-05-26T13:11:23.310700Z"
    },
    "hidden": true
   },
   "outputs": [
    {
     "name": "stdout",
     "output_type": "stream",
     "text": [
      "Total number of invoices with a letter: 9291\n",
      "Total number of invoices with a letter and negative quantity: 9288\n"
     ]
    }
   ],
   "source": [
    "# checking if all invoices with a letter indicates has a negative quantity\n",
    "df_letter_invoices = df2[index]\n",
    "print( 'Total number of invoices with a letter: {}'.format( len( df_letter_invoices ) ) )\n",
    "print( 'Total number of invoices with a letter and negative quantity: {}'.format( len( df_letter_invoices[ df_letter_invoices['quantity'] < 0 ] ) ) )"
   ]
  },
  {
   "cell_type": "markdown",
   "id": "6d09c229",
   "metadata": {
    "hidden": true
   },
   "source": [
    "#### 2.7.2.2. Stock_code"
   ]
  },
  {
   "cell_type": "code",
   "execution_count": 24,
   "id": "ef285792",
   "metadata": {
    "ExecuteTime": {
     "end_time": "2022-05-26T13:11:24.005202Z",
     "start_time": "2022-05-26T13:11:23.326704Z"
    },
    "hidden": true
   },
   "outputs": [
    {
     "data": {
      "text/html": [
       "<div>\n",
       "<style scoped>\n",
       "    .dataframe tbody tr th:only-of-type {\n",
       "        vertical-align: middle;\n",
       "    }\n",
       "\n",
       "    .dataframe tbody tr th {\n",
       "        vertical-align: top;\n",
       "    }\n",
       "\n",
       "    .dataframe thead th {\n",
       "        text-align: right;\n",
       "    }\n",
       "</style>\n",
       "<table border=\"1\" class=\"dataframe\">\n",
       "  <thead>\n",
       "    <tr style=\"text-align: right;\">\n",
       "      <th></th>\n",
       "      <th>invoice_no</th>\n",
       "      <th>stock_code</th>\n",
       "      <th>description</th>\n",
       "      <th>quantity</th>\n",
       "      <th>invoice_date</th>\n",
       "      <th>unit_price</th>\n",
       "      <th>country</th>\n",
       "      <th>customer_id</th>\n",
       "    </tr>\n",
       "  </thead>\n",
       "  <tbody>\n",
       "    <tr>\n",
       "      <th>45</th>\n",
       "      <td>536370</td>\n",
       "      <td>POST</td>\n",
       "      <td>POSTAGE</td>\n",
       "      <td>3</td>\n",
       "      <td>2016-11-29</td>\n",
       "      <td>18.00</td>\n",
       "      <td>France</td>\n",
       "      <td>12583</td>\n",
       "    </tr>\n",
       "    <tr>\n",
       "      <th>141</th>\n",
       "      <td>C536379</td>\n",
       "      <td>D</td>\n",
       "      <td>Discount</td>\n",
       "      <td>-1</td>\n",
       "      <td>2016-11-29</td>\n",
       "      <td>27.50</td>\n",
       "      <td>United Kingdom</td>\n",
       "      <td>14527</td>\n",
       "    </tr>\n",
       "    <tr>\n",
       "      <th>386</th>\n",
       "      <td>536403</td>\n",
       "      <td>POST</td>\n",
       "      <td>POSTAGE</td>\n",
       "      <td>1</td>\n",
       "      <td>2016-11-29</td>\n",
       "      <td>15.00</td>\n",
       "      <td>Netherlands</td>\n",
       "      <td>12791</td>\n",
       "    </tr>\n",
       "    <tr>\n",
       "      <th>1123</th>\n",
       "      <td>536527</td>\n",
       "      <td>POST</td>\n",
       "      <td>POSTAGE</td>\n",
       "      <td>1</td>\n",
       "      <td>2016-11-29</td>\n",
       "      <td>18.00</td>\n",
       "      <td>Germany</td>\n",
       "      <td>12662</td>\n",
       "    </tr>\n",
       "    <tr>\n",
       "      <th>1423</th>\n",
       "      <td>536540</td>\n",
       "      <td>C2</td>\n",
       "      <td>CARRIAGE</td>\n",
       "      <td>1</td>\n",
       "      <td>2016-11-29</td>\n",
       "      <td>50.00</td>\n",
       "      <td>EIRE</td>\n",
       "      <td>14911</td>\n",
       "    </tr>\n",
       "    <tr>\n",
       "      <th>1814</th>\n",
       "      <td>536544</td>\n",
       "      <td>DOT</td>\n",
       "      <td>DOTCOM POSTAGE</td>\n",
       "      <td>1</td>\n",
       "      <td>2016-11-29</td>\n",
       "      <td>569.77</td>\n",
       "      <td>United Kingdom</td>\n",
       "      <td>19001</td>\n",
       "    </tr>\n",
       "    <tr>\n",
       "      <th>2239</th>\n",
       "      <td>536569</td>\n",
       "      <td>M</td>\n",
       "      <td>Manual</td>\n",
       "      <td>1</td>\n",
       "      <td>2016-11-29</td>\n",
       "      <td>1.25</td>\n",
       "      <td>United Kingdom</td>\n",
       "      <td>16274</td>\n",
       "    </tr>\n",
       "    <tr>\n",
       "      <th>2250</th>\n",
       "      <td>536569</td>\n",
       "      <td>M</td>\n",
       "      <td>Manual</td>\n",
       "      <td>1</td>\n",
       "      <td>2016-11-29</td>\n",
       "      <td>18.95</td>\n",
       "      <td>United Kingdom</td>\n",
       "      <td>16274</td>\n",
       "    </tr>\n",
       "    <tr>\n",
       "      <th>3041</th>\n",
       "      <td>536592</td>\n",
       "      <td>DOT</td>\n",
       "      <td>DOTCOM POSTAGE</td>\n",
       "      <td>1</td>\n",
       "      <td>2016-11-29</td>\n",
       "      <td>607.49</td>\n",
       "      <td>United Kingdom</td>\n",
       "      <td>19014</td>\n",
       "    </tr>\n",
       "    <tr>\n",
       "      <th>4406</th>\n",
       "      <td>536779</td>\n",
       "      <td>BANK CHARGES</td>\n",
       "      <td>Bank Charges</td>\n",
       "      <td>1</td>\n",
       "      <td>2016-11-30</td>\n",
       "      <td>15.00</td>\n",
       "      <td>United Kingdom</td>\n",
       "      <td>15823</td>\n",
       "    </tr>\n",
       "  </tbody>\n",
       "</table>\n",
       "</div>"
      ],
      "text/plain": [
       "     invoice_no    stock_code     description  quantity invoice_date  \\\n",
       "45       536370          POST         POSTAGE         3   2016-11-29   \n",
       "141     C536379             D        Discount        -1   2016-11-29   \n",
       "386      536403          POST         POSTAGE         1   2016-11-29   \n",
       "1123     536527          POST         POSTAGE         1   2016-11-29   \n",
       "1423     536540            C2        CARRIAGE         1   2016-11-29   \n",
       "1814     536544           DOT  DOTCOM POSTAGE         1   2016-11-29   \n",
       "2239     536569             M          Manual         1   2016-11-29   \n",
       "2250     536569             M          Manual         1   2016-11-29   \n",
       "3041     536592           DOT  DOTCOM POSTAGE         1   2016-11-29   \n",
       "4406     536779  BANK CHARGES    Bank Charges         1   2016-11-30   \n",
       "\n",
       "      unit_price         country  customer_id  \n",
       "45         18.00          France        12583  \n",
       "141        27.50  United Kingdom        14527  \n",
       "386        15.00     Netherlands        12791  \n",
       "1123       18.00         Germany        12662  \n",
       "1423       50.00            EIRE        14911  \n",
       "1814      569.77  United Kingdom        19001  \n",
       "2239        1.25  United Kingdom        16274  \n",
       "2250       18.95  United Kingdom        16274  \n",
       "3041      607.49  United Kingdom        19014  \n",
       "4406       15.00  United Kingdom        15823  "
      ]
     },
     "execution_count": 24,
     "metadata": {},
     "output_type": "execute_result"
    }
   ],
   "source": [
    "index = df2['stock_code'].apply( lambda x: bool( re.search( '^[a-zA-Z]+.*$', x ) ) )\n",
    "df2[index].head(10)"
   ]
  },
  {
   "cell_type": "code",
   "execution_count": 25,
   "id": "a9d91d14",
   "metadata": {
    "ExecuteTime": {
     "end_time": "2022-05-26T13:11:24.021206Z",
     "start_time": "2022-05-26T13:11:24.007204Z"
    },
    "hidden": true
   },
   "outputs": [
    {
     "name": "stdout",
     "output_type": "stream",
     "text": [
      "33\n",
      "['POST' 'D' 'C2' 'DOT' 'M' 'BANK CHARGES' 'S' 'AMAZONFEE' 'DCGS0076'\n",
      " 'DCGS0003' 'gift_0001_40' 'DCGS0070' 'm' 'gift_0001_50' 'gift_0001_30'\n",
      " 'gift_0001_20' 'DCGS0055' 'DCGS0072' 'DCGS0074' 'DCGS0069' 'DCGS0057'\n",
      " 'DCGSSBOY' 'DCGSSGIRL' 'gift_0001_10' 'PADS' 'DCGS0004' 'DCGS0073'\n",
      " 'DCGS0071' 'DCGS0068' 'DCGS0067' 'DCGS0066P' 'B' 'CRUK']\n"
     ]
    }
   ],
   "source": [
    "# unique values\n",
    "print( len( df2.loc[index, 'stock_code'].drop_duplicates() ) )\n",
    "print( df2.loc[index, 'stock_code'].unique())"
   ]
  },
  {
   "cell_type": "markdown",
   "id": "991f34bc",
   "metadata": {
    "hidden": true
   },
   "source": [
    "#### 2.7.2.3. Country"
   ]
  },
  {
   "cell_type": "code",
   "execution_count": 26,
   "id": "3b1a4632",
   "metadata": {
    "ExecuteTime": {
     "end_time": "2022-05-26T13:11:24.067171Z",
     "start_time": "2022-05-26T13:11:24.023206Z"
    },
    "hidden": true
   },
   "outputs": [
    {
     "data": {
      "text/plain": [
       "United Kingdom          0.914320\n",
       "Germany                 0.017521\n",
       "France                  0.015790\n",
       "EIRE                    0.015124\n",
       "Spain                   0.004674\n",
       "Netherlands             0.004375\n",
       "Belgium                 0.003818\n",
       "Switzerland             0.003694\n",
       "Portugal                0.002803\n",
       "Australia               0.002323\n",
       "Norway                  0.002004\n",
       "Italy                   0.001482\n",
       "Channel Islands         0.001399\n",
       "Finland                 0.001283\n",
       "Cyprus                  0.001148\n",
       "Sweden                  0.000853\n",
       "Unspecified             0.000823\n",
       "Austria                 0.000740\n",
       "Denmark                 0.000718\n",
       "Japan                   0.000661\n",
       "Poland                  0.000629\n",
       "Israel                  0.000548\n",
       "USA                     0.000537\n",
       "Hong Kong               0.000531\n",
       "Singapore               0.000423\n",
       "Iceland                 0.000336\n",
       "Canada                  0.000279\n",
       "Greece                  0.000269\n",
       "Malta                   0.000234\n",
       "United Arab Emirates    0.000125\n",
       "European Community      0.000113\n",
       "RSA                     0.000107\n",
       "Lebanon                 0.000083\n",
       "Lithuania               0.000065\n",
       "Brazil                  0.000059\n",
       "Czech Republic          0.000055\n",
       "Bahrain                 0.000035\n",
       "Saudi Arabia            0.000018\n",
       "Name: country, dtype: float64"
      ]
     },
     "execution_count": 26,
     "metadata": {},
     "output_type": "execute_result"
    }
   ],
   "source": [
    "df2['country'].value_counts( normalize=True )"
   ]
  },
  {
   "cell_type": "markdown",
   "id": "9f5c57bf",
   "metadata": {
    "heading_collapsed": true
   },
   "source": [
    "# 3. Data Filtering"
   ]
  },
  {
   "cell_type": "code",
   "execution_count": 27,
   "id": "bcfa9a5a",
   "metadata": {
    "ExecuteTime": {
     "end_time": "2022-05-26T13:11:24.083175Z",
     "start_time": "2022-05-26T13:11:24.068172Z"
    },
    "hidden": true
   },
   "outputs": [],
   "source": [
    "df3 = df2.copy()"
   ]
  },
  {
   "cell_type": "markdown",
   "id": "d986a3d8",
   "metadata": {
    "hidden": true
   },
   "source": [
    "## 3.1. Numerical Attributes"
   ]
  },
  {
   "cell_type": "code",
   "execution_count": 28,
   "id": "19107338",
   "metadata": {
    "ExecuteTime": {
     "end_time": "2022-05-26T13:11:24.225206Z",
     "start_time": "2022-05-26T13:11:24.086175Z"
    },
    "hidden": true
   },
   "outputs": [],
   "source": [
    "# unit price > 0\n",
    "df3 = df3.loc[ df3['unit_price'] > 0.010, : ]\n",
    "\n",
    "# stock code == number\n",
    "df3 = df3[~df3['stock_code'].isin( ['POST', 'D', 'C2', 'DOT', 'M', 'BANK, CHARGES', 'S', 'AMAZONFEE', 'DCGS0076'\n",
    ", 'DCGS0003', 'gift_0001_40', 'DCGS0070', 'm', 'gift_0001_50', 'gift_0001_30'\n",
    ", 'gift_0001_20', 'DCGS0055', 'DCGS0072', 'DCGS0074', 'DCGS0069', 'DCGS0057'\n",
    ", 'DCGSSBOY', 'DCGSSGIRL', 'gift_0001_10', 'PADS', 'DCGS0004', 'DCGS0073'\n",
    ", 'DCGS0071', 'DCGS0068', 'DCGS0067', 'DCGS0066P', 'B', 'CRUK'] )]\n",
    "\n",
    "# quantity - negative numbears means product returns\n",
    "df3_returns = df3.loc[df3['quantity'] < 0, :]\n",
    "df3_purchases = df3.loc[df3['quantity'] > 0, :]"
   ]
  },
  {
   "cell_type": "markdown",
   "id": "12ead3d3",
   "metadata": {
    "hidden": true
   },
   "source": [
    "## 3.2. Categorical Attributes"
   ]
  },
  {
   "cell_type": "code",
   "execution_count": 29,
   "id": "9e281367",
   "metadata": {
    "ExecuteTime": {
     "end_time": "2022-05-26T13:11:24.256515Z",
     "start_time": "2022-05-26T13:11:24.226207Z"
    },
    "hidden": true
   },
   "outputs": [],
   "source": [
    "# drop description\n",
    "df3 = df3.drop( columns='description', axis=1 )"
   ]
  },
  {
   "cell_type": "code",
   "execution_count": 30,
   "id": "44eb83a2",
   "metadata": {
    "ExecuteTime": {
     "end_time": "2022-05-26T13:11:24.304526Z",
     "start_time": "2022-05-26T13:11:24.257515Z"
    },
    "hidden": true
   },
   "outputs": [],
   "source": [
    "# map\n",
    "df3 = df3[~df3['country'].isin( ['European Community', 'Unspecified'] )]"
   ]
  },
  {
   "cell_type": "code",
   "execution_count": 31,
   "id": "015990a2",
   "metadata": {
    "ExecuteTime": {
     "end_time": "2022-05-26T13:11:24.352488Z",
     "start_time": "2022-05-26T13:11:24.306527Z"
    },
    "hidden": true
   },
   "outputs": [],
   "source": [
    "# bad users (based on the Univariate Analysis)\n",
    "df3 = df3[~df3['customer_id'].isin( [16446] )]"
   ]
  },
  {
   "cell_type": "markdown",
   "id": "103755e2",
   "metadata": {
    "heading_collapsed": true
   },
   "source": [
    "# 4. Feature Engineering"
   ]
  },
  {
   "cell_type": "code",
   "execution_count": 192,
   "id": "640fdd5f",
   "metadata": {
    "ExecuteTime": {
     "end_time": "2022-05-26T18:22:58.265601Z",
     "start_time": "2022-05-26T18:22:58.200695Z"
    },
    "hidden": true
   },
   "outputs": [],
   "source": [
    "df4 = df3.copy()\n",
    "df_purchases = df3_purchases.copy()\n",
    "df_returns = df3_returns.copy()"
   ]
  },
  {
   "cell_type": "markdown",
   "id": "d32d4895",
   "metadata": {
    "hidden": true
   },
   "source": [
    "## 4.1. Feature Creation"
   ]
  },
  {
   "cell_type": "markdown",
   "id": "6bf363a4",
   "metadata": {
    "hidden": true
   },
   "source": [
    "The dataset granularity should be customers, because the clusters will be for customers, but it is a unique key composed of product (stock_code) and date (invoice_date). So it is necessary to change the granularity."
   ]
  },
  {
   "cell_type": "code",
   "execution_count": 193,
   "id": "01261285",
   "metadata": {
    "ExecuteTime": {
     "end_time": "2022-05-26T18:22:59.082713Z",
     "start_time": "2022-05-26T18:22:59.021693Z"
    },
    "hidden": true
   },
   "outputs": [
    {
     "data": {
      "text/html": [
       "<div>\n",
       "<style scoped>\n",
       "    .dataframe tbody tr th:only-of-type {\n",
       "        vertical-align: middle;\n",
       "    }\n",
       "\n",
       "    .dataframe tbody tr th {\n",
       "        vertical-align: top;\n",
       "    }\n",
       "\n",
       "    .dataframe thead th {\n",
       "        text-align: right;\n",
       "    }\n",
       "</style>\n",
       "<table border=\"1\" class=\"dataframe\">\n",
       "  <thead>\n",
       "    <tr style=\"text-align: right;\">\n",
       "      <th></th>\n",
       "      <th>customer_id</th>\n",
       "    </tr>\n",
       "  </thead>\n",
       "  <tbody>\n",
       "    <tr>\n",
       "      <th>0</th>\n",
       "      <td>17850</td>\n",
       "    </tr>\n",
       "    <tr>\n",
       "      <th>1</th>\n",
       "      <td>13047</td>\n",
       "    </tr>\n",
       "    <tr>\n",
       "      <th>2</th>\n",
       "      <td>12583</td>\n",
       "    </tr>\n",
       "    <tr>\n",
       "      <th>3</th>\n",
       "      <td>13748</td>\n",
       "    </tr>\n",
       "    <tr>\n",
       "      <th>4</th>\n",
       "      <td>15100</td>\n",
       "    </tr>\n",
       "  </tbody>\n",
       "</table>\n",
       "</div>"
      ],
      "text/plain": [
       "   customer_id\n",
       "0        17850\n",
       "1        13047\n",
       "2        12583\n",
       "3        13748\n",
       "4        15100"
      ]
     },
     "execution_count": 193,
     "metadata": {},
     "output_type": "execute_result"
    }
   ],
   "source": [
    "# data reference\n",
    "df_ref = df4[['customer_id']].drop_duplicates( ignore_index=True )\n",
    "df_ref.head()"
   ]
  },
  {
   "cell_type": "markdown",
   "id": "f200eabf",
   "metadata": {
    "hidden": true
   },
   "source": [
    "### 4.1.1. Gross Revenue"
   ]
  },
  {
   "cell_type": "code",
   "execution_count": 194,
   "id": "b3765a2e",
   "metadata": {
    "ExecuteTime": {
     "end_time": "2022-05-26T18:23:00.854682Z",
     "start_time": "2022-05-26T18:23:00.803672Z"
    },
    "hidden": true
   },
   "outputs": [
    {
     "data": {
      "text/html": [
       "<div>\n",
       "<style scoped>\n",
       "    .dataframe tbody tr th:only-of-type {\n",
       "        vertical-align: middle;\n",
       "    }\n",
       "\n",
       "    .dataframe tbody tr th {\n",
       "        vertical-align: top;\n",
       "    }\n",
       "\n",
       "    .dataframe thead th {\n",
       "        text-align: right;\n",
       "    }\n",
       "</style>\n",
       "<table border=\"1\" class=\"dataframe\">\n",
       "  <thead>\n",
       "    <tr style=\"text-align: right;\">\n",
       "      <th></th>\n",
       "      <th>customer_id</th>\n",
       "      <th>gross_revenue</th>\n",
       "    </tr>\n",
       "  </thead>\n",
       "  <tbody>\n",
       "    <tr>\n",
       "      <th>0</th>\n",
       "      <td>17850</td>\n",
       "      <td>5391.21</td>\n",
       "    </tr>\n",
       "    <tr>\n",
       "      <th>1</th>\n",
       "      <td>13047</td>\n",
       "      <td>3232.59</td>\n",
       "    </tr>\n",
       "    <tr>\n",
       "      <th>2</th>\n",
       "      <td>12583</td>\n",
       "      <td>6705.38</td>\n",
       "    </tr>\n",
       "    <tr>\n",
       "      <th>3</th>\n",
       "      <td>13748</td>\n",
       "      <td>948.25</td>\n",
       "    </tr>\n",
       "    <tr>\n",
       "      <th>4</th>\n",
       "      <td>15100</td>\n",
       "      <td>876.00</td>\n",
       "    </tr>\n",
       "  </tbody>\n",
       "</table>\n",
       "</div>"
      ],
      "text/plain": [
       "   customer_id  gross_revenue\n",
       "0        17850        5391.21\n",
       "1        13047        3232.59\n",
       "2        12583        6705.38\n",
       "3        13748         948.25\n",
       "4        15100         876.00"
      ]
     },
     "execution_count": 194,
     "metadata": {},
     "output_type": "execute_result"
    }
   ],
   "source": [
    "# Gross Revenue (quantity * price)\n",
    "df_purchases['gross_revenue'] = df_purchases['quantity'] * df_purchases['unit_price']\n",
    "\n",
    "# Monetary\n",
    "df_monetary = df_purchases[['customer_id', 'gross_revenue']].groupby( 'customer_id' ).sum().reset_index()\n",
    "df_ref = pd.merge( df_ref, df_monetary, on='customer_id',  how='left')\n",
    "df_ref.head()"
   ]
  },
  {
   "cell_type": "markdown",
   "id": "ede4b46a",
   "metadata": {
    "hidden": true
   },
   "source": [
    "### 4.1.2. Recency - Day from last purchase"
   ]
  },
  {
   "cell_type": "code",
   "execution_count": 195,
   "id": "68e910f8",
   "metadata": {
    "ExecuteTime": {
     "end_time": "2022-05-26T18:23:03.172852Z",
     "start_time": "2022-05-26T18:23:03.121842Z"
    },
    "hidden": true
   },
   "outputs": [
    {
     "data": {
      "text/html": [
       "<div>\n",
       "<style scoped>\n",
       "    .dataframe tbody tr th:only-of-type {\n",
       "        vertical-align: middle;\n",
       "    }\n",
       "\n",
       "    .dataframe tbody tr th {\n",
       "        vertical-align: top;\n",
       "    }\n",
       "\n",
       "    .dataframe thead th {\n",
       "        text-align: right;\n",
       "    }\n",
       "</style>\n",
       "<table border=\"1\" class=\"dataframe\">\n",
       "  <thead>\n",
       "    <tr style=\"text-align: right;\">\n",
       "      <th></th>\n",
       "      <th>customer_id</th>\n",
       "      <th>gross_revenue</th>\n",
       "      <th>recency_days</th>\n",
       "    </tr>\n",
       "  </thead>\n",
       "  <tbody>\n",
       "    <tr>\n",
       "      <th>0</th>\n",
       "      <td>17850</td>\n",
       "      <td>5391.21</td>\n",
       "      <td>372.0</td>\n",
       "    </tr>\n",
       "    <tr>\n",
       "      <th>1</th>\n",
       "      <td>13047</td>\n",
       "      <td>3232.59</td>\n",
       "      <td>56.0</td>\n",
       "    </tr>\n",
       "    <tr>\n",
       "      <th>2</th>\n",
       "      <td>12583</td>\n",
       "      <td>6705.38</td>\n",
       "      <td>2.0</td>\n",
       "    </tr>\n",
       "    <tr>\n",
       "      <th>3</th>\n",
       "      <td>13748</td>\n",
       "      <td>948.25</td>\n",
       "      <td>95.0</td>\n",
       "    </tr>\n",
       "    <tr>\n",
       "      <th>4</th>\n",
       "      <td>15100</td>\n",
       "      <td>876.00</td>\n",
       "      <td>333.0</td>\n",
       "    </tr>\n",
       "  </tbody>\n",
       "</table>\n",
       "</div>"
      ],
      "text/plain": [
       "   customer_id  gross_revenue  recency_days\n",
       "0        17850        5391.21         372.0\n",
       "1        13047        3232.59          56.0\n",
       "2        12583        6705.38           2.0\n",
       "3        13748         948.25          95.0\n",
       "4        15100         876.00         333.0"
      ]
     },
     "execution_count": 195,
     "metadata": {},
     "output_type": "execute_result"
    }
   ],
   "source": [
    "df_recency = df_purchases[['customer_id', 'invoice_date']].groupby( 'customer_id' ).max().reset_index()\n",
    "df_recency['recency_days'] = ( df_purchases['invoice_date'].max() - df_recency['invoice_date'] ).dt.days\n",
    "df_recency = df_recency[['customer_id', 'recency_days']].copy()\n",
    "df_ref = pd.merge( df_ref, df_recency, on='customer_id', how='left' )\n",
    "df_ref.head()"
   ]
  },
  {
   "cell_type": "markdown",
   "id": "6b3d685a",
   "metadata": {
    "hidden": true
   },
   "source": [
    "### 4.1.5. Quantity of Products Purchased"
   ]
  },
  {
   "cell_type": "code",
   "execution_count": 196,
   "id": "27f881fa",
   "metadata": {
    "ExecuteTime": {
     "end_time": "2022-05-26T18:23:07.137934Z",
     "start_time": "2022-05-26T18:23:07.093924Z"
    },
    "hidden": true
   },
   "outputs": [
    {
     "data": {
      "text/html": [
       "<div>\n",
       "<style scoped>\n",
       "    .dataframe tbody tr th:only-of-type {\n",
       "        vertical-align: middle;\n",
       "    }\n",
       "\n",
       "    .dataframe tbody tr th {\n",
       "        vertical-align: top;\n",
       "    }\n",
       "\n",
       "    .dataframe thead th {\n",
       "        text-align: right;\n",
       "    }\n",
       "</style>\n",
       "<table border=\"1\" class=\"dataframe\">\n",
       "  <thead>\n",
       "    <tr style=\"text-align: right;\">\n",
       "      <th></th>\n",
       "      <th>customer_id</th>\n",
       "      <th>gross_revenue</th>\n",
       "      <th>recency_days</th>\n",
       "      <th>qtd_products</th>\n",
       "    </tr>\n",
       "  </thead>\n",
       "  <tbody>\n",
       "    <tr>\n",
       "      <th>0</th>\n",
       "      <td>17850</td>\n",
       "      <td>5391.21</td>\n",
       "      <td>372.0</td>\n",
       "      <td>1733.0</td>\n",
       "    </tr>\n",
       "    <tr>\n",
       "      <th>1</th>\n",
       "      <td>13047</td>\n",
       "      <td>3232.59</td>\n",
       "      <td>56.0</td>\n",
       "      <td>1390.0</td>\n",
       "    </tr>\n",
       "    <tr>\n",
       "      <th>2</th>\n",
       "      <td>12583</td>\n",
       "      <td>6705.38</td>\n",
       "      <td>2.0</td>\n",
       "      <td>5028.0</td>\n",
       "    </tr>\n",
       "    <tr>\n",
       "      <th>3</th>\n",
       "      <td>13748</td>\n",
       "      <td>948.25</td>\n",
       "      <td>95.0</td>\n",
       "      <td>439.0</td>\n",
       "    </tr>\n",
       "    <tr>\n",
       "      <th>4</th>\n",
       "      <td>15100</td>\n",
       "      <td>876.00</td>\n",
       "      <td>333.0</td>\n",
       "      <td>80.0</td>\n",
       "    </tr>\n",
       "  </tbody>\n",
       "</table>\n",
       "</div>"
      ],
      "text/plain": [
       "   customer_id  gross_revenue  recency_days  qtd_products\n",
       "0        17850        5391.21         372.0        1733.0\n",
       "1        13047        3232.59          56.0        1390.0\n",
       "2        12583        6705.38           2.0        5028.0\n",
       "3        13748         948.25          95.0         439.0\n",
       "4        15100         876.00         333.0          80.0"
      ]
     },
     "execution_count": 196,
     "metadata": {},
     "output_type": "execute_result"
    }
   ],
   "source": [
    "df_freq = df_purchases[['customer_id', 'quantity']].groupby( 'customer_id' ).sum().rename( columns={\"quantity\":\"qtd_products\"}).reset_index()\n",
    "df_ref = pd.merge( df_ref, df_freq, on='customer_id', how='left' )\n",
    "df_ref.head()"
   ]
  },
  {
   "cell_type": "markdown",
   "id": "73fa2276",
   "metadata": {
    "hidden": true
   },
   "source": [
    "### 4.1.8. Returns"
   ]
  },
  {
   "cell_type": "code",
   "execution_count": 197,
   "id": "1e48bf17",
   "metadata": {
    "ExecuteTime": {
     "end_time": "2022-05-26T18:23:09.521715Z",
     "start_time": "2022-05-26T18:23:09.495711Z"
    },
    "hidden": true
   },
   "outputs": [
    {
     "data": {
      "text/html": [
       "<div>\n",
       "<style scoped>\n",
       "    .dataframe tbody tr th:only-of-type {\n",
       "        vertical-align: middle;\n",
       "    }\n",
       "\n",
       "    .dataframe tbody tr th {\n",
       "        vertical-align: top;\n",
       "    }\n",
       "\n",
       "    .dataframe thead th {\n",
       "        text-align: right;\n",
       "    }\n",
       "</style>\n",
       "<table border=\"1\" class=\"dataframe\">\n",
       "  <thead>\n",
       "    <tr style=\"text-align: right;\">\n",
       "      <th></th>\n",
       "      <th>customer_id</th>\n",
       "      <th>gross_revenue</th>\n",
       "      <th>recency_days</th>\n",
       "      <th>qtd_products</th>\n",
       "      <th>qtd_returns</th>\n",
       "    </tr>\n",
       "  </thead>\n",
       "  <tbody>\n",
       "    <tr>\n",
       "      <th>0</th>\n",
       "      <td>17850</td>\n",
       "      <td>5391.21</td>\n",
       "      <td>372.0</td>\n",
       "      <td>1733.0</td>\n",
       "      <td>40.0</td>\n",
       "    </tr>\n",
       "    <tr>\n",
       "      <th>1</th>\n",
       "      <td>13047</td>\n",
       "      <td>3232.59</td>\n",
       "      <td>56.0</td>\n",
       "      <td>1390.0</td>\n",
       "      <td>35.0</td>\n",
       "    </tr>\n",
       "    <tr>\n",
       "      <th>2</th>\n",
       "      <td>12583</td>\n",
       "      <td>6705.38</td>\n",
       "      <td>2.0</td>\n",
       "      <td>5028.0</td>\n",
       "      <td>50.0</td>\n",
       "    </tr>\n",
       "    <tr>\n",
       "      <th>3</th>\n",
       "      <td>13748</td>\n",
       "      <td>948.25</td>\n",
       "      <td>95.0</td>\n",
       "      <td>439.0</td>\n",
       "      <td>0.0</td>\n",
       "    </tr>\n",
       "    <tr>\n",
       "      <th>4</th>\n",
       "      <td>15100</td>\n",
       "      <td>876.00</td>\n",
       "      <td>333.0</td>\n",
       "      <td>80.0</td>\n",
       "      <td>22.0</td>\n",
       "    </tr>\n",
       "  </tbody>\n",
       "</table>\n",
       "</div>"
      ],
      "text/plain": [
       "   customer_id  gross_revenue  recency_days  qtd_products  qtd_returns\n",
       "0        17850        5391.21         372.0        1733.0         40.0\n",
       "1        13047        3232.59          56.0        1390.0         35.0\n",
       "2        12583        6705.38           2.0        5028.0         50.0\n",
       "3        13748         948.25          95.0         439.0          0.0\n",
       "4        15100         876.00         333.0          80.0         22.0"
      ]
     },
     "execution_count": 197,
     "metadata": {},
     "output_type": "execute_result"
    }
   ],
   "source": [
    "df_ret = df_returns[['customer_id', 'quantity']].groupby( 'customer_id' ).sum().reset_index().rename( columns={\"quantity\":\"qtd_returns\"} )\n",
    "df_ret['qtd_returns'] = df_ret['qtd_returns'] * -1\n",
    "df_ref = pd.merge( df_ref, df_ret, how='left', on='customer_id' )\n",
    "df_ref.loc[df_ref['qtd_returns'].isna(), 'qtd_returns'] = 0\n",
    "df_ref.head()"
   ]
  },
  {
   "cell_type": "markdown",
   "id": "f42d72be",
   "metadata": {
    "hidden": true
   },
   "source": [
    "### 4.1.9. Frequency Purchase"
   ]
  },
  {
   "cell_type": "code",
   "execution_count": 198,
   "id": "ad805966",
   "metadata": {
    "ExecuteTime": {
     "end_time": "2022-05-26T18:23:12.414851Z",
     "start_time": "2022-05-26T18:23:11.209579Z"
    },
    "hidden": true
   },
   "outputs": [
    {
     "data": {
      "text/html": [
       "<div>\n",
       "<style scoped>\n",
       "    .dataframe tbody tr th:only-of-type {\n",
       "        vertical-align: middle;\n",
       "    }\n",
       "\n",
       "    .dataframe tbody tr th {\n",
       "        vertical-align: top;\n",
       "    }\n",
       "\n",
       "    .dataframe thead th {\n",
       "        text-align: right;\n",
       "    }\n",
       "</style>\n",
       "<table border=\"1\" class=\"dataframe\">\n",
       "  <thead>\n",
       "    <tr style=\"text-align: right;\">\n",
       "      <th></th>\n",
       "      <th>customer_id</th>\n",
       "      <th>gross_revenue</th>\n",
       "      <th>recency_days</th>\n",
       "      <th>qtd_products</th>\n",
       "      <th>qtd_returns</th>\n",
       "      <th>frequency</th>\n",
       "    </tr>\n",
       "  </thead>\n",
       "  <tbody>\n",
       "    <tr>\n",
       "      <th>0</th>\n",
       "      <td>17850</td>\n",
       "      <td>5391.21</td>\n",
       "      <td>372.0</td>\n",
       "      <td>1733.0</td>\n",
       "      <td>40.0</td>\n",
       "      <td>17.000000</td>\n",
       "    </tr>\n",
       "    <tr>\n",
       "      <th>1</th>\n",
       "      <td>13047</td>\n",
       "      <td>3232.59</td>\n",
       "      <td>56.0</td>\n",
       "      <td>1390.0</td>\n",
       "      <td>35.0</td>\n",
       "      <td>0.028302</td>\n",
       "    </tr>\n",
       "    <tr>\n",
       "      <th>2</th>\n",
       "      <td>12583</td>\n",
       "      <td>6705.38</td>\n",
       "      <td>2.0</td>\n",
       "      <td>5028.0</td>\n",
       "      <td>50.0</td>\n",
       "      <td>0.040323</td>\n",
       "    </tr>\n",
       "    <tr>\n",
       "      <th>3</th>\n",
       "      <td>13748</td>\n",
       "      <td>948.25</td>\n",
       "      <td>95.0</td>\n",
       "      <td>439.0</td>\n",
       "      <td>0.0</td>\n",
       "      <td>0.017921</td>\n",
       "    </tr>\n",
       "    <tr>\n",
       "      <th>4</th>\n",
       "      <td>15100</td>\n",
       "      <td>876.00</td>\n",
       "      <td>333.0</td>\n",
       "      <td>80.0</td>\n",
       "      <td>22.0</td>\n",
       "      <td>0.073171</td>\n",
       "    </tr>\n",
       "  </tbody>\n",
       "</table>\n",
       "</div>"
      ],
      "text/plain": [
       "   customer_id  gross_revenue  recency_days  qtd_products  qtd_returns  \\\n",
       "0        17850        5391.21         372.0        1733.0         40.0   \n",
       "1        13047        3232.59          56.0        1390.0         35.0   \n",
       "2        12583        6705.38           2.0        5028.0         50.0   \n",
       "3        13748         948.25          95.0         439.0          0.0   \n",
       "4        15100         876.00         333.0          80.0         22.0   \n",
       "\n",
       "   frequency  \n",
       "0  17.000000  \n",
       "1   0.028302  \n",
       "2   0.040323  \n",
       "3   0.017921  \n",
       "4   0.073171  "
      ]
     },
     "execution_count": 198,
     "metadata": {},
     "output_type": "execute_result"
    }
   ],
   "source": [
    "df_aux = ( df_purchases[['customer_id', 'invoice_no', 'invoice_date']].drop_duplicates()\n",
    "                                                                      .groupby( 'customer_id' )\n",
    "                                                                      .agg( max_date = ('invoice_date', 'max'),\n",
    "                                                                            min_date = ('invoice_date', 'min'),\n",
    "                                                                            days     = ('invoice_date', lambda x: (( x.max() - x.min() ).days) + 1 ),\n",
    "                                                                            buy      = ('invoice_no', 'count') ) ).reset_index()\n",
    "\n",
    "# frequency \n",
    "df_aux['frequency'] = df_aux[['buy', 'days']].apply( lambda x: x['buy'] / x['days'] if x['days'] != 0 else 0, axis=1 )\n",
    "\n",
    "# merge\n",
    "df_ref = pd.merge( df_ref, df_aux[['customer_id', 'frequency']], on='customer_id', how='left' )\n",
    "df_ref.head()"
   ]
  },
  {
   "cell_type": "markdown",
   "id": "f97d36d0",
   "metadata": {
    "hidden": true
   },
   "source": [
    "## 4.2. Checking NAs"
   ]
  },
  {
   "cell_type": "code",
   "execution_count": 199,
   "id": "a7b28f46",
   "metadata": {
    "ExecuteTime": {
     "end_time": "2022-05-26T18:23:12.950482Z",
     "start_time": "2022-05-26T18:23:12.935480Z"
    },
    "hidden": true
   },
   "outputs": [
    {
     "data": {
      "text/plain": [
       "customer_id       0\n",
       "gross_revenue    91\n",
       "recency_days     91\n",
       "qtd_products     91\n",
       "qtd_returns       0\n",
       "frequency        91\n",
       "dtype: int64"
      ]
     },
     "execution_count": 199,
     "metadata": {},
     "output_type": "execute_result"
    }
   ],
   "source": [
    "# checking possible NAs created by the merge\n",
    "df_ref.isna().sum()"
   ]
  },
  {
   "cell_type": "markdown",
   "id": "94d6e891",
   "metadata": {
    "ExecuteTime": {
     "end_time": "2022-03-26T14:43:53.830875Z",
     "start_time": "2022-03-26T14:43:53.816872Z"
    }
   },
   "source": [
    "# 5. EDA"
   ]
  },
  {
   "cell_type": "code",
   "execution_count": 200,
   "id": "5b52f4ae",
   "metadata": {
    "ExecuteTime": {
     "end_time": "2022-05-26T18:23:13.346039Z",
     "start_time": "2022-05-26T18:23:13.330037Z"
    }
   },
   "outputs": [],
   "source": [
    "df5 = df_ref.dropna().copy()"
   ]
  },
  {
   "cell_type": "markdown",
   "id": "7fb5f40b",
   "metadata": {},
   "source": [
    "## 5.3. Data Space Study"
   ]
  },
  {
   "cell_type": "code",
   "execution_count": 201,
   "id": "a2bff0fb",
   "metadata": {
    "ExecuteTime": {
     "end_time": "2022-05-26T18:23:13.707092Z",
     "start_time": "2022-05-26T18:23:13.691090Z"
    }
   },
   "outputs": [],
   "source": [
    "cols_select = ['customer_id', 'gross_revenue', 'recency_days', 'qtd_products', 'frequency', 'qtd_returns']\n",
    "df53 = df5[ cols_select ].drop( columns='customer_id', axis=1 )"
   ]
  },
  {
   "cell_type": "code",
   "execution_count": 202,
   "id": "0dc36d5b",
   "metadata": {
    "ExecuteTime": {
     "end_time": "2022-05-26T18:23:13.914087Z",
     "start_time": "2022-05-26T18:23:13.892082Z"
    }
   },
   "outputs": [],
   "source": [
    "mm = MinMaxScaler()\n",
    "\n",
    "df53['gross_revenue']          = mm.fit_transform( df53[['gross_revenue']] )\n",
    "df53['recency_days']           = mm.fit_transform( df53[['recency_days']] )\n",
    "df53['qtd_products']           = mm.fit_transform( df53[['qtd_products']] )\n",
    "df53['qtd_returns']            = mm.fit_transform( df53[['qtd_returns']] )\n",
    "df53['frequency']              = mm.fit_transform( df53[['frequency']] )"
   ]
  },
  {
   "cell_type": "markdown",
   "id": "ebe91953",
   "metadata": {},
   "source": [
    "### 5.3.1. Tree-Based Embedding"
   ]
  },
  {
   "cell_type": "code",
   "execution_count": 203,
   "id": "8d9d15d4",
   "metadata": {
    "ExecuteTime": {
     "end_time": "2022-05-26T18:23:17.237174Z",
     "start_time": "2022-05-26T18:23:17.229173Z"
    }
   },
   "outputs": [],
   "source": [
    "# training dataset\n",
    "X = df53.drop( columns=['gross_revenue'], axis=1 )\n",
    "y = df53['gross_revenue']"
   ]
  },
  {
   "cell_type": "code",
   "execution_count": 204,
   "id": "4d497f2a",
   "metadata": {
    "ExecuteTime": {
     "end_time": "2022-05-26T18:23:22.844618Z",
     "start_time": "2022-05-26T18:23:21.538318Z"
    }
   },
   "outputs": [],
   "source": [
    "# model definition\n",
    "rf_model = RandomForestRegressor( n_estimators=400, random_state=0, n_jobs=-1 )\n",
    "\n",
    "# model training\n",
    "rf_model.fit( X, y );\n",
    "\n",
    "# leaf\n",
    "df_leaf = pd.DataFrame( rf_model.apply( X ) )"
   ]
  },
  {
   "cell_type": "code",
   "execution_count": 205,
   "id": "49f23c48",
   "metadata": {
    "ExecuteTime": {
     "end_time": "2022-05-26T18:23:30.710398Z",
     "start_time": "2022-05-26T18:23:22.846619Z"
    }
   },
   "outputs": [
    {
     "name": "stderr",
     "output_type": "stream",
     "text": [
      "C:\\Users\\gutsc\\anaconda3\\envs\\insiders_clustering\\lib\\site-packages\\sklearn\\manifold\\_spectral_embedding.py:260: UserWarning: Graph is not fully connected, spectral embedding may not work as expected.\n",
      "  warnings.warn(\n"
     ]
    },
    {
     "data": {
      "image/png": "[encoded data removed]",
      "text/plain": [
       "<Figure size 432x288 with 1 Axes>"
      ]
     },
     "metadata": {
      "needs_background": "light"
     },
     "output_type": "display_data"
    }
   ],
   "source": [
    "# reduce dimensionality\n",
    "reducer = umap.UMAP( random_state=0 )\n",
    "embedding = reducer.fit_transform( df_leaf )\n",
    "\n",
    "# embedding \n",
    "df_tree = pd.DataFrame()\n",
    "df_tree['embedding_x'] = embedding[:, 0]\n",
    "df_tree['embedding_y'] = embedding[:, 1]\n",
    "\n",
    "# plot UMAP\n",
    "sns.scatterplot( x='embedding_x', y='embedding_y', data=df_tree )\n",
    "plt.show();"
   ]
  },
  {
   "cell_type": "code",
   "execution_count": 206,
   "id": "b77457e0",
   "metadata": {
    "ExecuteTime": {
     "end_time": "2022-05-26T18:23:38.642193Z",
     "start_time": "2022-05-26T18:23:30.712399Z"
    }
   },
   "outputs": [
    {
     "data": {
      "image/png": "[encoded data removed]",
      "text/plain": [
       "<Figure size 432x288 with 1 Axes>"
      ]
     },
     "metadata": {
      "needs_background": "light"
     },
     "output_type": "display_data"
    }
   ],
   "source": [
    "reducer = umap.UMAP( random_state=0 )\n",
    "embedding = reducer.fit_transform( df53 )\n",
    "\n",
    "df_umap = pd.DataFrame()\n",
    "\n",
    "# embedding \n",
    "df_umap['embedding_x'] = embedding[:, 0]\n",
    "df_umap['embedding_y'] = embedding[:, 1]\n",
    "\n",
    "# plot UMAP\n",
    "sns.scatterplot( x='embedding_x', y='embedding_y', data=df_umap )\n",
    "plt.show();"
   ]
  },
  {
   "cell_type": "code",
   "execution_count": 207,
   "id": "0faccd08",
   "metadata": {
    "ExecuteTime": {
     "end_time": "2022-05-26T18:23:52.805614Z",
     "start_time": "2022-05-26T18:23:52.787611Z"
    }
   },
   "outputs": [],
   "source": [
    "df_tree = df53.copy()"
   ]
  },
  {
   "cell_type": "markdown",
   "id": "0540b671",
   "metadata": {},
   "source": [
    "# 6. Data Preparation"
   ]
  },
  {
   "cell_type": "code",
   "execution_count": 208,
   "id": "03fb9fc3",
   "metadata": {
    "ExecuteTime": {
     "end_time": "2022-05-26T18:23:53.307644Z",
     "start_time": "2022-05-26T18:23:53.289640Z"
    }
   },
   "outputs": [],
   "source": [
    "df6 = df_tree.copy()"
   ]
  },
  {
   "cell_type": "markdown",
   "id": "07c6fa42",
   "metadata": {},
   "source": [
    "# 7. Feature Selection"
   ]
  },
  {
   "cell_type": "code",
   "execution_count": 209,
   "id": "1f92b43c",
   "metadata": {
    "ExecuteTime": {
     "end_time": "2022-05-26T18:23:54.711719Z",
     "start_time": "2022-05-26T18:23:54.698716Z"
    }
   },
   "outputs": [],
   "source": [
    "df7 = df_tree.copy()"
   ]
  },
  {
   "cell_type": "markdown",
   "id": "f9a5cc6f",
   "metadata": {},
   "source": [
    "# 8. Hyperparameter Fine-Tunning"
   ]
  },
  {
   "cell_type": "code",
   "execution_count": 210,
   "id": "7e206aa7",
   "metadata": {
    "ExecuteTime": {
     "end_time": "2022-05-26T18:23:55.157820Z",
     "start_time": "2022-05-26T18:23:55.141817Z"
    }
   },
   "outputs": [
    {
     "data": {
      "text/html": [
       "<div>\n",
       "<style scoped>\n",
       "    .dataframe tbody tr th:only-of-type {\n",
       "        vertical-align: middle;\n",
       "    }\n",
       "\n",
       "    .dataframe tbody tr th {\n",
       "        vertical-align: top;\n",
       "    }\n",
       "\n",
       "    .dataframe thead th {\n",
       "        text-align: right;\n",
       "    }\n",
       "</style>\n",
       "<table border=\"1\" class=\"dataframe\">\n",
       "  <thead>\n",
       "    <tr style=\"text-align: right;\">\n",
       "      <th></th>\n",
       "      <th>gross_revenue</th>\n",
       "      <th>recency_days</th>\n",
       "      <th>qtd_products</th>\n",
       "      <th>frequency</th>\n",
       "      <th>qtd_returns</th>\n",
       "    </tr>\n",
       "  </thead>\n",
       "  <tbody>\n",
       "    <tr>\n",
       "      <th>0</th>\n",
       "      <td>0.019312</td>\n",
       "      <td>0.997319</td>\n",
       "      <td>0.008799</td>\n",
       "      <td>1.000000</td>\n",
       "      <td>0.000539</td>\n",
       "    </tr>\n",
       "    <tr>\n",
       "      <th>1</th>\n",
       "      <td>0.011579</td>\n",
       "      <td>0.150134</td>\n",
       "      <td>0.007056</td>\n",
       "      <td>0.001345</td>\n",
       "      <td>0.000472</td>\n",
       "    </tr>\n",
       "    <tr>\n",
       "      <th>2</th>\n",
       "      <td>0.024020</td>\n",
       "      <td>0.005362</td>\n",
       "      <td>0.025538</td>\n",
       "      <td>0.002052</td>\n",
       "      <td>0.000674</td>\n",
       "    </tr>\n",
       "    <tr>\n",
       "      <th>3</th>\n",
       "      <td>0.003396</td>\n",
       "      <td>0.254692</td>\n",
       "      <td>0.002225</td>\n",
       "      <td>0.000734</td>\n",
       "      <td>0.000000</td>\n",
       "    </tr>\n",
       "    <tr>\n",
       "      <th>4</th>\n",
       "      <td>0.003137</td>\n",
       "      <td>0.892761</td>\n",
       "      <td>0.000401</td>\n",
       "      <td>0.003985</td>\n",
       "      <td>0.000296</td>\n",
       "    </tr>\n",
       "  </tbody>\n",
       "</table>\n",
       "</div>"
      ],
      "text/plain": [
       "   gross_revenue  recency_days  qtd_products  frequency  qtd_returns\n",
       "0       0.019312      0.997319      0.008799   1.000000     0.000539\n",
       "1       0.011579      0.150134      0.007056   0.001345     0.000472\n",
       "2       0.024020      0.005362      0.025538   0.002052     0.000674\n",
       "3       0.003396      0.254692      0.002225   0.000734     0.000000\n",
       "4       0.003137      0.892761      0.000401   0.003985     0.000296"
      ]
     },
     "execution_count": 210,
     "metadata": {},
     "output_type": "execute_result"
    }
   ],
   "source": [
    "X = df_tree.copy()\n",
    "X.head()"
   ]
  },
  {
   "cell_type": "code",
   "execution_count": 211,
   "id": "f8c916f7",
   "metadata": {
    "ExecuteTime": {
     "end_time": "2022-05-26T18:23:58.785503Z",
     "start_time": "2022-05-26T18:23:58.771499Z"
    }
   },
   "outputs": [],
   "source": [
    "clusters = np.arange( 2, 30, 1 )"
   ]
  },
  {
   "cell_type": "markdown",
   "id": "d34ccd47",
   "metadata": {},
   "source": [
    "## 8.1. K-Means"
   ]
  },
  {
   "cell_type": "code",
   "execution_count": 212,
   "id": "df4b5b21",
   "metadata": {
    "ExecuteTime": {
     "end_time": "2022-05-26T18:24:16.569152Z",
     "start_time": "2022-05-26T18:23:59.355257Z"
    }
   },
   "outputs": [],
   "source": [
    "kmeans_list = []\n",
    "\n",
    "for k in clusters:\n",
    "    # model definition\n",
    "    kmeans_model = KMeans( n_clusters=k, random_state=42 )\n",
    "\n",
    "    # model training \n",
    "    kmeans_model.fit( X )\n",
    "\n",
    "    # model predict\n",
    "    labels = kmeans_model.predict( X )\n",
    "\n",
    "    # model performance\n",
    "    sil = silhouette_score( X, labels, metric='euclidean' )\n",
    "    kmeans_list.append( sil )"
   ]
  },
  {
   "cell_type": "code",
   "execution_count": 213,
   "id": "eb415951",
   "metadata": {
    "ExecuteTime": {
     "end_time": "2022-05-26T18:24:16.681115Z",
     "start_time": "2022-05-26T18:24:16.571154Z"
    }
   },
   "outputs": [
    {
     "data": {
      "image/png": "[encoded data removed]",
      "text/plain": [
       "<Figure size 432x288 with 1 Axes>"
      ]
     },
     "metadata": {
      "needs_background": "light"
     },
     "output_type": "display_data"
    }
   ],
   "source": [
    "plt.plot( clusters, kmeans_list, linestyle='--', marker='o', color='b' )\n",
    "plt.xlabel( 'K' )\n",
    "plt.ylabel( 'Silhouette Score' )\n",
    "plt.title( 'Silhouette Score x K' );"
   ]
  },
  {
   "cell_type": "markdown",
   "id": "dfb138cb",
   "metadata": {},
   "source": [
    "## 8.2. GMM"
   ]
  },
  {
   "cell_type": "code",
   "execution_count": 214,
   "id": "527bcc8c",
   "metadata": {
    "ExecuteTime": {
     "end_time": "2022-05-26T18:24:40.501505Z",
     "start_time": "2022-05-26T18:24:16.682116Z"
    }
   },
   "outputs": [],
   "source": [
    "gmm_list = []\n",
    "\n",
    "for k in clusters:\n",
    "    # model definition\n",
    "    gmm_model = GaussianMixture( n_components=k, random_state=42 )\n",
    "\n",
    "    # model training \n",
    "    gmm_model.fit( X )\n",
    "\n",
    "    # model predict\n",
    "    labels = gmm_model.predict( X )\n",
    "\n",
    "    # model performance\n",
    "    sil = silhouette_score( X, labels, metric='euclidean' )\n",
    "    gmm_list.append( sil )"
   ]
  },
  {
   "cell_type": "code",
   "execution_count": 215,
   "id": "41498df6",
   "metadata": {
    "ExecuteTime": {
     "end_time": "2022-05-26T18:24:40.613098Z",
     "start_time": "2022-05-26T18:24:40.504506Z"
    }
   },
   "outputs": [
    {
     "data": {
      "image/png": "[encoded data removed]",
      "text/plain": [
       "<Figure size 432x288 with 1 Axes>"
      ]
     },
     "metadata": {
      "needs_background": "light"
     },
     "output_type": "display_data"
    }
   ],
   "source": [
    "plt.plot( clusters, gmm_list, linestyle='--', marker='o', color='b' )\n",
    "plt.xlabel( 'K' )\n",
    "plt.ylabel( 'Silhouette Score' )\n",
    "plt.title( 'Silhouette Score x K' );"
   ]
  },
  {
   "cell_type": "markdown",
   "id": "22132994",
   "metadata": {},
   "source": [
    "## 8.3. Hierarchical Clustering"
   ]
  },
  {
   "cell_type": "code",
   "execution_count": 216,
   "id": "40724110",
   "metadata": {
    "ExecuteTime": {
     "end_time": "2022-05-26T18:25:11.506090Z",
     "start_time": "2022-05-26T18:24:40.615099Z"
    }
   },
   "outputs": [],
   "source": [
    "hc_list = []\n",
    "\n",
    "for k in clusters:\n",
    "    # model definition and training\n",
    "    hc_model = linkage( X, 'ward' )\n",
    "\n",
    "    # model predict\n",
    "    labels = fcluster( hc_model, k, criterion='maxclust' )\n",
    "\n",
    "    # metrics\n",
    "    sil = silhouette_score( X, labels, metric='euclidean' )\n",
    "    hc_list.append( sil )"
   ]
  },
  {
   "cell_type": "code",
   "execution_count": 217,
   "id": "6df62ad2",
   "metadata": {
    "ExecuteTime": {
     "end_time": "2022-05-26T18:25:11.618115Z",
     "start_time": "2022-05-26T18:25:11.507090Z"
    }
   },
   "outputs": [
    {
     "data": {
      "image/png": "[encoded data removed]",
      "text/plain": [
       "<Figure size 432x288 with 1 Axes>"
      ]
     },
     "metadata": {
      "needs_background": "light"
     },
     "output_type": "display_data"
    }
   ],
   "source": [
    "plt.plot( clusters, hc_list, linestyle='--', marker='o', color='b' )\n",
    "plt.xlabel( 'K' )\n",
    "plt.ylabel( 'Silhouette Score' )\n",
    "plt.title( 'Silhouette Score x K' );"
   ]
  },
  {
   "cell_type": "markdown",
   "id": "f0e6177a",
   "metadata": {},
   "source": [
    "## 8.4. Results"
   ]
  },
  {
   "cell_type": "code",
   "execution_count": 218,
   "id": "a57cf5b3",
   "metadata": {
    "ExecuteTime": {
     "end_time": "2022-05-26T18:25:11.634128Z",
     "start_time": "2022-05-26T18:25:11.619119Z"
    }
   },
   "outputs": [],
   "source": [
    "df_results = pd.DataFrame(\n",
    "    {'KMeans':kmeans_list, 'GMM': gmm_list, 'HC': hc_list}\n",
    ").T\n",
    "\n",
    "df_results.columns = clusters"
   ]
  },
  {
   "cell_type": "code",
   "execution_count": 219,
   "id": "cdf171c2",
   "metadata": {
    "ExecuteTime": {
     "end_time": "2022-05-26T18:25:11.650131Z",
     "start_time": "2022-05-26T18:25:11.635128Z"
    }
   },
   "outputs": [
    {
     "data": {
      "text/html": [
       "<style type=\"text/css\">\n",
       "#T_12d14_row0_col0, #T_12d14_row1_col22, #T_12d14_row2_col0 {\n",
       "  background-color: lightgreen;\n",
       "}\n",
       "</style>\n",
       "<table id=\"T_12d14\">\n",
       "  <thead>\n",
       "    <tr>\n",
       "      <th class=\"blank level0\" >&nbsp;</th>\n",
       "      <th id=\"T_12d14_level0_col0\" class=\"col_heading level0 col0\" >2</th>\n",
       "      <th id=\"T_12d14_level0_col1\" class=\"col_heading level0 col1\" >3</th>\n",
       "      <th id=\"T_12d14_level0_col2\" class=\"col_heading level0 col2\" >4</th>\n",
       "      <th id=\"T_12d14_level0_col3\" class=\"col_heading level0 col3\" >5</th>\n",
       "      <th id=\"T_12d14_level0_col4\" class=\"col_heading level0 col4\" >6</th>\n",
       "      <th id=\"T_12d14_level0_col5\" class=\"col_heading level0 col5\" >7</th>\n",
       "      <th id=\"T_12d14_level0_col6\" class=\"col_heading level0 col6\" >8</th>\n",
       "      <th id=\"T_12d14_level0_col7\" class=\"col_heading level0 col7\" >9</th>\n",
       "      <th id=\"T_12d14_level0_col8\" class=\"col_heading level0 col8\" >10</th>\n",
       "      <th id=\"T_12d14_level0_col9\" class=\"col_heading level0 col9\" >11</th>\n",
       "      <th id=\"T_12d14_level0_col10\" class=\"col_heading level0 col10\" >12</th>\n",
       "      <th id=\"T_12d14_level0_col11\" class=\"col_heading level0 col11\" >13</th>\n",
       "      <th id=\"T_12d14_level0_col12\" class=\"col_heading level0 col12\" >14</th>\n",
       "      <th id=\"T_12d14_level0_col13\" class=\"col_heading level0 col13\" >15</th>\n",
       "      <th id=\"T_12d14_level0_col14\" class=\"col_heading level0 col14\" >16</th>\n",
       "      <th id=\"T_12d14_level0_col15\" class=\"col_heading level0 col15\" >17</th>\n",
       "      <th id=\"T_12d14_level0_col16\" class=\"col_heading level0 col16\" >18</th>\n",
       "      <th id=\"T_12d14_level0_col17\" class=\"col_heading level0 col17\" >19</th>\n",
       "      <th id=\"T_12d14_level0_col18\" class=\"col_heading level0 col18\" >20</th>\n",
       "      <th id=\"T_12d14_level0_col19\" class=\"col_heading level0 col19\" >21</th>\n",
       "      <th id=\"T_12d14_level0_col20\" class=\"col_heading level0 col20\" >22</th>\n",
       "      <th id=\"T_12d14_level0_col21\" class=\"col_heading level0 col21\" >23</th>\n",
       "      <th id=\"T_12d14_level0_col22\" class=\"col_heading level0 col22\" >24</th>\n",
       "      <th id=\"T_12d14_level0_col23\" class=\"col_heading level0 col23\" >25</th>\n",
       "      <th id=\"T_12d14_level0_col24\" class=\"col_heading level0 col24\" >26</th>\n",
       "      <th id=\"T_12d14_level0_col25\" class=\"col_heading level0 col25\" >27</th>\n",
       "      <th id=\"T_12d14_level0_col26\" class=\"col_heading level0 col26\" >28</th>\n",
       "      <th id=\"T_12d14_level0_col27\" class=\"col_heading level0 col27\" >29</th>\n",
       "    </tr>\n",
       "  </thead>\n",
       "  <tbody>\n",
       "    <tr>\n",
       "      <th id=\"T_12d14_level0_row0\" class=\"row_heading level0 row0\" >KMeans</th>\n",
       "      <td id=\"T_12d14_row0_col0\" class=\"data row0 col0\" >0.689180</td>\n",
       "      <td id=\"T_12d14_row0_col1\" class=\"data row0 col1\" >0.632644</td>\n",
       "      <td id=\"T_12d14_row0_col2\" class=\"data row0 col2\" >0.542587</td>\n",
       "      <td id=\"T_12d14_row0_col3\" class=\"data row0 col3\" >0.533976</td>\n",
       "      <td id=\"T_12d14_row0_col4\" class=\"data row0 col4\" >0.512531</td>\n",
       "      <td id=\"T_12d14_row0_col5\" class=\"data row0 col5\" >0.506438</td>\n",
       "      <td id=\"T_12d14_row0_col6\" class=\"data row0 col6\" >0.488311</td>\n",
       "      <td id=\"T_12d14_row0_col7\" class=\"data row0 col7\" >0.446134</td>\n",
       "      <td id=\"T_12d14_row0_col8\" class=\"data row0 col8\" >0.436967</td>\n",
       "      <td id=\"T_12d14_row0_col9\" class=\"data row0 col9\" >0.450934</td>\n",
       "      <td id=\"T_12d14_row0_col10\" class=\"data row0 col10\" >0.451015</td>\n",
       "      <td id=\"T_12d14_row0_col11\" class=\"data row0 col11\" >0.446832</td>\n",
       "      <td id=\"T_12d14_row0_col12\" class=\"data row0 col12\" >0.444745</td>\n",
       "      <td id=\"T_12d14_row0_col13\" class=\"data row0 col13\" >0.473795</td>\n",
       "      <td id=\"T_12d14_row0_col14\" class=\"data row0 col14\" >0.430939</td>\n",
       "      <td id=\"T_12d14_row0_col15\" class=\"data row0 col15\" >0.461416</td>\n",
       "      <td id=\"T_12d14_row0_col16\" class=\"data row0 col16\" >0.466400</td>\n",
       "      <td id=\"T_12d14_row0_col17\" class=\"data row0 col17\" >0.464443</td>\n",
       "      <td id=\"T_12d14_row0_col18\" class=\"data row0 col18\" >0.463343</td>\n",
       "      <td id=\"T_12d14_row0_col19\" class=\"data row0 col19\" >0.456603</td>\n",
       "      <td id=\"T_12d14_row0_col20\" class=\"data row0 col20\" >0.464828</td>\n",
       "      <td id=\"T_12d14_row0_col21\" class=\"data row0 col21\" >0.469659</td>\n",
       "      <td id=\"T_12d14_row0_col22\" class=\"data row0 col22\" >0.473268</td>\n",
       "      <td id=\"T_12d14_row0_col23\" class=\"data row0 col23\" >0.468900</td>\n",
       "      <td id=\"T_12d14_row0_col24\" class=\"data row0 col24\" >0.462614</td>\n",
       "      <td id=\"T_12d14_row0_col25\" class=\"data row0 col25\" >0.497921</td>\n",
       "      <td id=\"T_12d14_row0_col26\" class=\"data row0 col26\" >0.488460</td>\n",
       "      <td id=\"T_12d14_row0_col27\" class=\"data row0 col27\" >0.480351</td>\n",
       "    </tr>\n",
       "    <tr>\n",
       "      <th id=\"T_12d14_level0_row1\" class=\"row_heading level0 row1\" >GMM</th>\n",
       "      <td id=\"T_12d14_row1_col0\" class=\"data row1 col0\" >-0.058279</td>\n",
       "      <td id=\"T_12d14_row1_col1\" class=\"data row1 col1\" >-0.273269</td>\n",
       "      <td id=\"T_12d14_row1_col2\" class=\"data row1 col2\" >-0.093058</td>\n",
       "      <td id=\"T_12d14_row1_col3\" class=\"data row1 col3\" >-0.045796</td>\n",
       "      <td id=\"T_12d14_row1_col4\" class=\"data row1 col4\" >-0.000073</td>\n",
       "      <td id=\"T_12d14_row1_col5\" class=\"data row1 col5\" >-0.147786</td>\n",
       "      <td id=\"T_12d14_row1_col6\" class=\"data row1 col6\" >-0.268632</td>\n",
       "      <td id=\"T_12d14_row1_col7\" class=\"data row1 col7\" >-0.220818</td>\n",
       "      <td id=\"T_12d14_row1_col8\" class=\"data row1 col8\" >-0.222257</td>\n",
       "      <td id=\"T_12d14_row1_col9\" class=\"data row1 col9\" >-0.225105</td>\n",
       "      <td id=\"T_12d14_row1_col10\" class=\"data row1 col10\" >-0.241462</td>\n",
       "      <td id=\"T_12d14_row1_col11\" class=\"data row1 col11\" >-0.247155</td>\n",
       "      <td id=\"T_12d14_row1_col12\" class=\"data row1 col12\" >-0.321111</td>\n",
       "      <td id=\"T_12d14_row1_col13\" class=\"data row1 col13\" >-0.111884</td>\n",
       "      <td id=\"T_12d14_row1_col14\" class=\"data row1 col14\" >-0.124567</td>\n",
       "      <td id=\"T_12d14_row1_col15\" class=\"data row1 col15\" >-0.143945</td>\n",
       "      <td id=\"T_12d14_row1_col16\" class=\"data row1 col16\" >-0.157838</td>\n",
       "      <td id=\"T_12d14_row1_col17\" class=\"data row1 col17\" >-0.176846</td>\n",
       "      <td id=\"T_12d14_row1_col18\" class=\"data row1 col18\" >-0.017622</td>\n",
       "      <td id=\"T_12d14_row1_col19\" class=\"data row1 col19\" >-0.125780</td>\n",
       "      <td id=\"T_12d14_row1_col20\" class=\"data row1 col20\" >-0.185242</td>\n",
       "      <td id=\"T_12d14_row1_col21\" class=\"data row1 col21\" >-0.096964</td>\n",
       "      <td id=\"T_12d14_row1_col22\" class=\"data row1 col22\" >0.010508</td>\n",
       "      <td id=\"T_12d14_row1_col23\" class=\"data row1 col23\" >-0.245745</td>\n",
       "      <td id=\"T_12d14_row1_col24\" class=\"data row1 col24\" >-0.053849</td>\n",
       "      <td id=\"T_12d14_row1_col25\" class=\"data row1 col25\" >-0.053602</td>\n",
       "      <td id=\"T_12d14_row1_col26\" class=\"data row1 col26\" >-0.061329</td>\n",
       "      <td id=\"T_12d14_row1_col27\" class=\"data row1 col27\" >-0.139950</td>\n",
       "    </tr>\n",
       "    <tr>\n",
       "      <th id=\"T_12d14_level0_row2\" class=\"row_heading level0 row2\" >HC</th>\n",
       "      <td id=\"T_12d14_row2_col0\" class=\"data row2 col0\" >0.682134</td>\n",
       "      <td id=\"T_12d14_row2_col1\" class=\"data row2 col1\" >0.640887</td>\n",
       "      <td id=\"T_12d14_row2_col2\" class=\"data row2 col2\" >0.523376</td>\n",
       "      <td id=\"T_12d14_row2_col3\" class=\"data row2 col3\" >0.524095</td>\n",
       "      <td id=\"T_12d14_row2_col4\" class=\"data row2 col4\" >0.523031</td>\n",
       "      <td id=\"T_12d14_row2_col5\" class=\"data row2 col5\" >0.527399</td>\n",
       "      <td id=\"T_12d14_row2_col6\" class=\"data row2 col6\" >0.480081</td>\n",
       "      <td id=\"T_12d14_row2_col7\" class=\"data row2 col7\" >0.464021</td>\n",
       "      <td id=\"T_12d14_row2_col8\" class=\"data row2 col8\" >0.368133</td>\n",
       "      <td id=\"T_12d14_row2_col9\" class=\"data row2 col9\" >0.364492</td>\n",
       "      <td id=\"T_12d14_row2_col10\" class=\"data row2 col10\" >0.401858</td>\n",
       "      <td id=\"T_12d14_row2_col11\" class=\"data row2 col11\" >0.403315</td>\n",
       "      <td id=\"T_12d14_row2_col12\" class=\"data row2 col12\" >0.408088</td>\n",
       "      <td id=\"T_12d14_row2_col13\" class=\"data row2 col13\" >0.408424</td>\n",
       "      <td id=\"T_12d14_row2_col14\" class=\"data row2 col14\" >0.418910</td>\n",
       "      <td id=\"T_12d14_row2_col15\" class=\"data row2 col15\" >0.424843</td>\n",
       "      <td id=\"T_12d14_row2_col16\" class=\"data row2 col16\" >0.429148</td>\n",
       "      <td id=\"T_12d14_row2_col17\" class=\"data row2 col17\" >0.429267</td>\n",
       "      <td id=\"T_12d14_row2_col18\" class=\"data row2 col18\" >0.442266</td>\n",
       "      <td id=\"T_12d14_row2_col19\" class=\"data row2 col19\" >0.438388</td>\n",
       "      <td id=\"T_12d14_row2_col20\" class=\"data row2 col20\" >0.440232</td>\n",
       "      <td id=\"T_12d14_row2_col21\" class=\"data row2 col21\" >0.448593</td>\n",
       "      <td id=\"T_12d14_row2_col22\" class=\"data row2 col22\" >0.452975</td>\n",
       "      <td id=\"T_12d14_row2_col23\" class=\"data row2 col23\" >0.461119</td>\n",
       "      <td id=\"T_12d14_row2_col24\" class=\"data row2 col24\" >0.462625</td>\n",
       "      <td id=\"T_12d14_row2_col25\" class=\"data row2 col25\" >0.462585</td>\n",
       "      <td id=\"T_12d14_row2_col26\" class=\"data row2 col26\" >0.464552</td>\n",
       "      <td id=\"T_12d14_row2_col27\" class=\"data row2 col27\" >0.459269</td>\n",
       "    </tr>\n",
       "  </tbody>\n",
       "</table>\n"
      ],
      "text/plain": [
       "<pandas.io.formats.style.Styler at 0x1cfb2abd250>"
      ]
     },
     "execution_count": 219,
     "metadata": {},
     "output_type": "execute_result"
    }
   ],
   "source": [
    "df_results.style.highlight_max( color='lightgreen', axis=1 )"
   ]
  },
  {
   "cell_type": "markdown",
   "id": "e1123e52",
   "metadata": {},
   "source": [
    "# 9. Model Training"
   ]
  },
  {
   "cell_type": "markdown",
   "id": "4da209ab",
   "metadata": {},
   "source": [
    "## 9.1. K-Means"
   ]
  },
  {
   "cell_type": "code",
   "execution_count": 235,
   "id": "dc85fb4c",
   "metadata": {
    "ExecuteTime": {
     "end_time": "2022-05-26T18:34:02.673874Z",
     "start_time": "2022-05-26T18:34:02.517839Z"
    }
   },
   "outputs": [],
   "source": [
    "# model definition\n",
    "k = 7\n",
    "\n",
    "kmeans = KMeans( init='random', n_clusters=k, max_iter=300, random_state=42 )\n",
    "\n",
    "# model training\n",
    "kmeans.fit( X )\n",
    "\n",
    "# clustering\n",
    "labels = kmeans.labels_"
   ]
  },
  {
   "cell_type": "markdown",
   "id": "9094b159",
   "metadata": {},
   "source": [
    "## 9.2. Cluster Validation"
   ]
  },
  {
   "cell_type": "code",
   "execution_count": 236,
   "id": "253e675f",
   "metadata": {
    "ExecuteTime": {
     "end_time": "2022-05-26T18:34:03.710960Z",
     "start_time": "2022-05-26T18:34:03.280863Z"
    }
   },
   "outputs": [
    {
     "name": "stdout",
     "output_type": "stream",
     "text": [
      "WSS value: 19.792970466910933\n",
      "SS value: 0.5064375809181464\n"
     ]
    }
   ],
   "source": [
    "# WSS \n",
    "print( 'WSS value: {}'.format( kmeans.inertia_ ) )\n",
    "\n",
    "# SS\n",
    "print( 'SS value: {}'.format( silhouette_score( X, labels, metric='euclidean' ) ) )"
   ]
  },
  {
   "cell_type": "markdown",
   "id": "52d2a408",
   "metadata": {},
   "source": [
    "# 10. Cluster Analysis"
   ]
  },
  {
   "cell_type": "code",
   "execution_count": 237,
   "id": "8b089cfd",
   "metadata": {
    "ExecuteTime": {
     "end_time": "2022-05-26T18:34:06.963964Z",
     "start_time": "2022-05-26T18:34:06.949961Z"
    }
   },
   "outputs": [
    {
     "data": {
      "text/html": [
       "<div>\n",
       "<style scoped>\n",
       "    .dataframe tbody tr th:only-of-type {\n",
       "        vertical-align: middle;\n",
       "    }\n",
       "\n",
       "    .dataframe tbody tr th {\n",
       "        vertical-align: top;\n",
       "    }\n",
       "\n",
       "    .dataframe thead th {\n",
       "        text-align: right;\n",
       "    }\n",
       "</style>\n",
       "<table border=\"1\" class=\"dataframe\">\n",
       "  <thead>\n",
       "    <tr style=\"text-align: right;\">\n",
       "      <th></th>\n",
       "      <th>gross_revenue</th>\n",
       "      <th>recency_days</th>\n",
       "      <th>qtd_products</th>\n",
       "      <th>frequency</th>\n",
       "      <th>qtd_returns</th>\n",
       "      <th>cluster</th>\n",
       "    </tr>\n",
       "  </thead>\n",
       "  <tbody>\n",
       "    <tr>\n",
       "      <th>0</th>\n",
       "      <td>0.019312</td>\n",
       "      <td>0.997319</td>\n",
       "      <td>0.008799</td>\n",
       "      <td>1.000000</td>\n",
       "      <td>0.000539</td>\n",
       "      <td>0</td>\n",
       "    </tr>\n",
       "    <tr>\n",
       "      <th>1</th>\n",
       "      <td>0.011579</td>\n",
       "      <td>0.150134</td>\n",
       "      <td>0.007056</td>\n",
       "      <td>0.001345</td>\n",
       "      <td>0.000472</td>\n",
       "      <td>3</td>\n",
       "    </tr>\n",
       "    <tr>\n",
       "      <th>2</th>\n",
       "      <td>0.024020</td>\n",
       "      <td>0.005362</td>\n",
       "      <td>0.025538</td>\n",
       "      <td>0.002052</td>\n",
       "      <td>0.000674</td>\n",
       "      <td>2</td>\n",
       "    </tr>\n",
       "    <tr>\n",
       "      <th>3</th>\n",
       "      <td>0.003396</td>\n",
       "      <td>0.254692</td>\n",
       "      <td>0.002225</td>\n",
       "      <td>0.000734</td>\n",
       "      <td>0.000000</td>\n",
       "      <td>6</td>\n",
       "    </tr>\n",
       "    <tr>\n",
       "      <th>4</th>\n",
       "      <td>0.003137</td>\n",
       "      <td>0.892761</td>\n",
       "      <td>0.000401</td>\n",
       "      <td>0.003985</td>\n",
       "      <td>0.000296</td>\n",
       "      <td>0</td>\n",
       "    </tr>\n",
       "  </tbody>\n",
       "</table>\n",
       "</div>"
      ],
      "text/plain": [
       "   gross_revenue  recency_days  qtd_products  frequency  qtd_returns  cluster\n",
       "0       0.019312      0.997319      0.008799   1.000000     0.000539        0\n",
       "1       0.011579      0.150134      0.007056   0.001345     0.000472        3\n",
       "2       0.024020      0.005362      0.025538   0.002052     0.000674        2\n",
       "3       0.003396      0.254692      0.002225   0.000734     0.000000        6\n",
       "4       0.003137      0.892761      0.000401   0.003985     0.000296        0"
      ]
     },
     "execution_count": 237,
     "metadata": {},
     "output_type": "execute_result"
    }
   ],
   "source": [
    "df10 = X.copy()\n",
    "df10['cluster'] = labels\n",
    "df10.head()"
   ]
  },
  {
   "cell_type": "markdown",
   "id": "e23f6bf3",
   "metadata": {},
   "source": [
    "## 10.2. Cluster Profile"
   ]
  },
  {
   "cell_type": "code",
   "execution_count": 238,
   "id": "a98d4b05",
   "metadata": {
    "ExecuteTime": {
     "end_time": "2022-05-26T18:34:08.052499Z",
     "start_time": "2022-05-26T18:34:08.031991Z"
    }
   },
   "outputs": [
    {
     "data": {
      "text/html": [
       "<div>\n",
       "<style scoped>\n",
       "    .dataframe tbody tr th:only-of-type {\n",
       "        vertical-align: middle;\n",
       "    }\n",
       "\n",
       "    .dataframe tbody tr th {\n",
       "        vertical-align: top;\n",
       "    }\n",
       "\n",
       "    .dataframe thead th {\n",
       "        text-align: right;\n",
       "    }\n",
       "</style>\n",
       "<table border=\"1\" class=\"dataframe\">\n",
       "  <thead>\n",
       "    <tr style=\"text-align: right;\">\n",
       "      <th></th>\n",
       "      <th>customer_id</th>\n",
       "      <th>gross_revenue</th>\n",
       "      <th>recency_days</th>\n",
       "      <th>qtd_products</th>\n",
       "      <th>frequency</th>\n",
       "      <th>qtd_returns</th>\n",
       "      <th>cluster</th>\n",
       "    </tr>\n",
       "  </thead>\n",
       "  <tbody>\n",
       "    <tr>\n",
       "      <th>0</th>\n",
       "      <td>17850</td>\n",
       "      <td>5391.21</td>\n",
       "      <td>372</td>\n",
       "      <td>1733</td>\n",
       "      <td>17.000000</td>\n",
       "      <td>40</td>\n",
       "      <td>0</td>\n",
       "    </tr>\n",
       "    <tr>\n",
       "      <th>1</th>\n",
       "      <td>13047</td>\n",
       "      <td>3232.59</td>\n",
       "      <td>56</td>\n",
       "      <td>1390</td>\n",
       "      <td>0.028302</td>\n",
       "      <td>35</td>\n",
       "      <td>3</td>\n",
       "    </tr>\n",
       "    <tr>\n",
       "      <th>2</th>\n",
       "      <td>12583</td>\n",
       "      <td>6705.38</td>\n",
       "      <td>2</td>\n",
       "      <td>5028</td>\n",
       "      <td>0.040323</td>\n",
       "      <td>50</td>\n",
       "      <td>2</td>\n",
       "    </tr>\n",
       "    <tr>\n",
       "      <th>3</th>\n",
       "      <td>13748</td>\n",
       "      <td>948.25</td>\n",
       "      <td>95</td>\n",
       "      <td>439</td>\n",
       "      <td>0.017921</td>\n",
       "      <td>0</td>\n",
       "      <td>6</td>\n",
       "    </tr>\n",
       "    <tr>\n",
       "      <th>4</th>\n",
       "      <td>15100</td>\n",
       "      <td>876.00</td>\n",
       "      <td>333</td>\n",
       "      <td>80</td>\n",
       "      <td>0.073171</td>\n",
       "      <td>22</td>\n",
       "      <td>0</td>\n",
       "    </tr>\n",
       "  </tbody>\n",
       "</table>\n",
       "</div>"
      ],
      "text/plain": [
       "   customer_id  gross_revenue  recency_days  qtd_products  frequency  \\\n",
       "0        17850        5391.21           372          1733  17.000000   \n",
       "1        13047        3232.59            56          1390   0.028302   \n",
       "2        12583        6705.38             2          5028   0.040323   \n",
       "3        13748         948.25            95           439   0.017921   \n",
       "4        15100         876.00           333            80   0.073171   \n",
       "\n",
       "   qtd_returns  cluster  \n",
       "0           40        0  \n",
       "1           35        3  \n",
       "2           50        2  \n",
       "3            0        6  \n",
       "4           22        0  "
      ]
     },
     "execution_count": 238,
     "metadata": {},
     "output_type": "execute_result"
    }
   ],
   "source": [
    "df10_aux = df5[cols_select].copy()\n",
    "df10_aux['cluster'] = labels\n",
    "\n",
    "# change dtypes\n",
    "df10_aux['recency_days'] = df10_aux['recency_days'].astype( int )\n",
    "df10_aux['qtd_products'] = df10_aux['qtd_products'].astype( int )\n",
    "df10_aux['qtd_returns'] = df10_aux['qtd_returns'].astype( int )\n",
    "\n",
    "# show\n",
    "df10_aux.head()"
   ]
  },
  {
   "cell_type": "code",
   "execution_count": 240,
   "id": "cf201f2c",
   "metadata": {
    "ExecuteTime": {
     "end_time": "2022-05-26T18:34:21.047338Z",
     "start_time": "2022-05-26T18:34:21.007329Z"
    }
   },
   "outputs": [
    {
     "data": {
      "text/html": [
       "<div>\n",
       "<style scoped>\n",
       "    .dataframe tbody tr th:only-of-type {\n",
       "        vertical-align: middle;\n",
       "    }\n",
       "\n",
       "    .dataframe tbody tr th {\n",
       "        vertical-align: top;\n",
       "    }\n",
       "\n",
       "    .dataframe thead th {\n",
       "        text-align: right;\n",
       "    }\n",
       "</style>\n",
       "<table border=\"1\" class=\"dataframe\">\n",
       "  <thead>\n",
       "    <tr style=\"text-align: right;\">\n",
       "      <th></th>\n",
       "      <th>cluster</th>\n",
       "      <th>qtd_customers</th>\n",
       "      <th>perc_customer</th>\n",
       "      <th>avg_gross_revenue</th>\n",
       "      <th>avg_recency_days</th>\n",
       "      <th>avg_frequency</th>\n",
       "      <th>avg_qtd_products</th>\n",
       "      <th>avg_returns</th>\n",
       "    </tr>\n",
       "  </thead>\n",
       "  <tbody>\n",
       "    <tr>\n",
       "      <th>1</th>\n",
       "      <td>1</td>\n",
       "      <td>11</td>\n",
       "      <td>0.193152</td>\n",
       "      <td>132552.812727</td>\n",
       "      <td>8.909091</td>\n",
       "      <td>0.167604</td>\n",
       "      <td>74822.818182</td>\n",
       "      <td>1644.181818</td>\n",
       "    </tr>\n",
       "    <tr>\n",
       "      <th>2</th>\n",
       "      <td>2</td>\n",
       "      <td>2036</td>\n",
       "      <td>35.750658</td>\n",
       "      <td>2674.559926</td>\n",
       "      <td>15.952849</td>\n",
       "      <td>0.247945</td>\n",
       "      <td>1510.527014</td>\n",
       "      <td>32.810904</td>\n",
       "    </tr>\n",
       "    <tr>\n",
       "      <th>3</th>\n",
       "      <td>3</td>\n",
       "      <td>1137</td>\n",
       "      <td>19.964881</td>\n",
       "      <td>1094.174485</td>\n",
       "      <td>61.361478</td>\n",
       "      <td>0.513579</td>\n",
       "      <td>635.213720</td>\n",
       "      <td>8.231310</td>\n",
       "    </tr>\n",
       "    <tr>\n",
       "      <th>0</th>\n",
       "      <td>0</td>\n",
       "      <td>569</td>\n",
       "      <td>9.991220</td>\n",
       "      <td>925.640914</td>\n",
       "      <td>340.086116</td>\n",
       "      <td>0.977187</td>\n",
       "      <td>388.226714</td>\n",
       "      <td>132.462214</td>\n",
       "    </tr>\n",
       "    <tr>\n",
       "      <th>6</th>\n",
       "      <td>6</td>\n",
       "      <td>588</td>\n",
       "      <td>10.324846</td>\n",
       "      <td>907.503844</td>\n",
       "      <td>119.605442</td>\n",
       "      <td>0.589450</td>\n",
       "      <td>495.520408</td>\n",
       "      <td>4.013605</td>\n",
       "    </tr>\n",
       "    <tr>\n",
       "      <th>5</th>\n",
       "      <td>5</td>\n",
       "      <td>716</td>\n",
       "      <td>12.572432</td>\n",
       "      <td>675.770908</td>\n",
       "      <td>186.074022</td>\n",
       "      <td>0.760309</td>\n",
       "      <td>273.953911</td>\n",
       "      <td>4.416201</td>\n",
       "    </tr>\n",
       "    <tr>\n",
       "      <th>4</th>\n",
       "      <td>4</td>\n",
       "      <td>638</td>\n",
       "      <td>11.202809</td>\n",
       "      <td>634.957398</td>\n",
       "      <td>260.957680</td>\n",
       "      <td>0.907916</td>\n",
       "      <td>255.611285</td>\n",
       "      <td>19.264890</td>\n",
       "    </tr>\n",
       "  </tbody>\n",
       "</table>\n",
       "</div>"
      ],
      "text/plain": [
       "   cluster  qtd_customers  perc_customer  avg_gross_revenue  avg_recency_days  \\\n",
       "1        1             11       0.193152      132552.812727          8.909091   \n",
       "2        2           2036      35.750658        2674.559926         15.952849   \n",
       "3        3           1137      19.964881        1094.174485         61.361478   \n",
       "0        0            569       9.991220         925.640914        340.086116   \n",
       "6        6            588      10.324846         907.503844        119.605442   \n",
       "5        5            716      12.572432         675.770908        186.074022   \n",
       "4        4            638      11.202809         634.957398        260.957680   \n",
       "\n",
       "   avg_frequency  avg_qtd_products  avg_returns  \n",
       "1       0.167604      74822.818182  1644.181818  \n",
       "2       0.247945       1510.527014    32.810904  \n",
       "3       0.513579        635.213720     8.231310  \n",
       "0       0.977187        388.226714   132.462214  \n",
       "6       0.589450        495.520408     4.013605  \n",
       "5       0.760309        273.953911     4.416201  \n",
       "4       0.907916        255.611285    19.264890  "
      ]
     },
     "execution_count": 240,
     "metadata": {},
     "output_type": "execute_result"
    }
   ],
   "source": [
    "# number of customers\n",
    "df_cluster = df10_aux[['customer_id', 'cluster']].groupby( 'cluster' ).count().reset_index()\n",
    "df_cluster['perc_customer'] = 100 * df_cluster['customer_id'] / df_cluster['customer_id'].sum()\n",
    "\n",
    "# Avg Gross revenue\n",
    "df_avg_gross_rev = df10_aux[['gross_revenue', 'cluster']].groupby( 'cluster' ).mean().reset_index()\n",
    "df_cluster = pd.merge( df_cluster, df_avg_gross_rev, how='inner', on='cluster' )\n",
    "\n",
    "# Avg Recency days\n",
    "df_avg_rec_days = df10_aux[['recency_days', 'cluster']].groupby( 'cluster' ).mean().reset_index()\n",
    "df_cluster = pd.merge( df_cluster, df_avg_rec_days, how='inner', on='cluster' )\n",
    "\n",
    "# Avg frequency\n",
    "df_avg_invoice_no = df10_aux[['frequency', 'cluster']].groupby( 'cluster' ).mean().reset_index()\n",
    "df_cluster = pd.merge( df_cluster, df_avg_invoice_no, how='inner', on='cluster' )\n",
    "\n",
    "# Avg quantity of products\n",
    "df_avg_qtd_products = df10_aux[['qtd_products', 'cluster']].groupby( 'cluster' ).mean().reset_index()\n",
    "df_cluster = pd.merge( df_cluster, df_avg_qtd_products, how='inner', on='cluster' )\n",
    "\n",
    "# Avg returns\n",
    "df_returns = df10_aux[['qtd_returns', 'cluster']].groupby( 'cluster' ).mean().reset_index()\n",
    "df_cluster = pd.merge( df_cluster, df_returns, how='inner', on='cluster' )\n",
    "\n",
    "# rename columns\n",
    "df_cluster.rename( columns={ \"customer_id\":\"qtd_customers\", \"gross_revenue\":\"avg_gross_revenue\", \"recency_days\":\"avg_recency_days\", \"frequency\":\"avg_frequency\",\"qtd_products\":\"avg_qtd_products\" ,\"qtd_returns\":\"avg_returns\"}, inplace=True )\n",
    "df_cluster.sort_values( by=['avg_gross_revenue'], ascending=False )"
   ]
  },
  {
   "cell_type": "code",
   "execution_count": 242,
   "id": "4f0567e7",
   "metadata": {
    "ExecuteTime": {
     "end_time": "2022-05-26T18:34:38.863887Z",
     "start_time": "2022-05-26T18:34:38.841883Z"
    }
   },
   "outputs": [
    {
     "data": {
      "text/html": [
       "<div>\n",
       "<style scoped>\n",
       "    .dataframe tbody tr th:only-of-type {\n",
       "        vertical-align: middle;\n",
       "    }\n",
       "\n",
       "    .dataframe tbody tr th {\n",
       "        vertical-align: top;\n",
       "    }\n",
       "\n",
       "    .dataframe thead th {\n",
       "        text-align: right;\n",
       "    }\n",
       "</style>\n",
       "<table border=\"1\" class=\"dataframe\">\n",
       "  <thead>\n",
       "    <tr style=\"text-align: right;\">\n",
       "      <th></th>\n",
       "      <th>customer_id</th>\n",
       "      <th>gross_revenue</th>\n",
       "      <th>recency_days</th>\n",
       "      <th>qtd_products</th>\n",
       "      <th>frequency</th>\n",
       "      <th>qtd_returns</th>\n",
       "      <th>cluster</th>\n",
       "    </tr>\n",
       "  </thead>\n",
       "  <tbody>\n",
       "    <tr>\n",
       "      <th>1017</th>\n",
       "      <td>14646</td>\n",
       "      <td>279138.02</td>\n",
       "      <td>1</td>\n",
       "      <td>196844</td>\n",
       "      <td>0.203390</td>\n",
       "      <td>288</td>\n",
       "      <td>1</td>\n",
       "    </tr>\n",
       "    <tr>\n",
       "      <th>492</th>\n",
       "      <td>18102</td>\n",
       "      <td>259657.30</td>\n",
       "      <td>0</td>\n",
       "      <td>64124</td>\n",
       "      <td>0.163043</td>\n",
       "      <td>0</td>\n",
       "      <td>1</td>\n",
       "    </tr>\n",
       "    <tr>\n",
       "      <th>434</th>\n",
       "      <td>17450</td>\n",
       "      <td>194550.79</td>\n",
       "      <td>8</td>\n",
       "      <td>69993</td>\n",
       "      <td>0.127778</td>\n",
       "      <td>952</td>\n",
       "      <td>1</td>\n",
       "    </tr>\n",
       "    <tr>\n",
       "      <th>66</th>\n",
       "      <td>14911</td>\n",
       "      <td>136275.72</td>\n",
       "      <td>1</td>\n",
       "      <td>80179</td>\n",
       "      <td>0.530831</td>\n",
       "      <td>3331</td>\n",
       "      <td>1</td>\n",
       "    </tr>\n",
       "    <tr>\n",
       "      <th>1150</th>\n",
       "      <td>12415</td>\n",
       "      <td>124564.53</td>\n",
       "      <td>24</td>\n",
       "      <td>77373</td>\n",
       "      <td>0.063694</td>\n",
       "      <td>427</td>\n",
       "      <td>1</td>\n",
       "    </tr>\n",
       "    <tr>\n",
       "      <th>191</th>\n",
       "      <td>14156</td>\n",
       "      <td>116729.63</td>\n",
       "      <td>9</td>\n",
       "      <td>57872</td>\n",
       "      <td>0.148760</td>\n",
       "      <td>859</td>\n",
       "      <td>1</td>\n",
       "    </tr>\n",
       "    <tr>\n",
       "      <th>15</th>\n",
       "      <td>17511</td>\n",
       "      <td>91062.38</td>\n",
       "      <td>2</td>\n",
       "      <td>64549</td>\n",
       "      <td>0.083333</td>\n",
       "      <td>1535</td>\n",
       "      <td>1</td>\n",
       "    </tr>\n",
       "    <tr>\n",
       "      <th>12</th>\n",
       "      <td>16029</td>\n",
       "      <td>72882.09</td>\n",
       "      <td>38</td>\n",
       "      <td>40207</td>\n",
       "      <td>0.184524</td>\n",
       "      <td>8004</td>\n",
       "      <td>1</td>\n",
       "    </tr>\n",
       "    <tr>\n",
       "      <th>955</th>\n",
       "      <td>16684</td>\n",
       "      <td>66653.56</td>\n",
       "      <td>4</td>\n",
       "      <td>50255</td>\n",
       "      <td>0.078873</td>\n",
       "      <td>864</td>\n",
       "      <td>1</td>\n",
       "    </tr>\n",
       "    <tr>\n",
       "      <th>36</th>\n",
       "      <td>13694</td>\n",
       "      <td>65039.62</td>\n",
       "      <td>3</td>\n",
       "      <td>63312</td>\n",
       "      <td>0.134771</td>\n",
       "      <td>1504</td>\n",
       "      <td>1</td>\n",
       "    </tr>\n",
       "    <tr>\n",
       "      <th>826</th>\n",
       "      <td>14298</td>\n",
       "      <td>51527.30</td>\n",
       "      <td>8</td>\n",
       "      <td>58343</td>\n",
       "      <td>0.124646</td>\n",
       "      <td>322</td>\n",
       "      <td>1</td>\n",
       "    </tr>\n",
       "  </tbody>\n",
       "</table>\n",
       "</div>"
      ],
      "text/plain": [
       "      customer_id  gross_revenue  recency_days  qtd_products  frequency  \\\n",
       "1017        14646      279138.02             1        196844   0.203390   \n",
       "492         18102      259657.30             0         64124   0.163043   \n",
       "434         17450      194550.79             8         69993   0.127778   \n",
       "66          14911      136275.72             1         80179   0.530831   \n",
       "1150        12415      124564.53            24         77373   0.063694   \n",
       "191         14156      116729.63             9         57872   0.148760   \n",
       "15          17511       91062.38             2         64549   0.083333   \n",
       "12          16029       72882.09            38         40207   0.184524   \n",
       "955         16684       66653.56             4         50255   0.078873   \n",
       "36          13694       65039.62             3         63312   0.134771   \n",
       "826         14298       51527.30             8         58343   0.124646   \n",
       "\n",
       "      qtd_returns  cluster  \n",
       "1017          288        1  \n",
       "492             0        1  \n",
       "434           952        1  \n",
       "66           3331        1  \n",
       "1150          427        1  \n",
       "191           859        1  \n",
       "15           1535        1  \n",
       "12           8004        1  \n",
       "955           864        1  \n",
       "36           1504        1  \n",
       "826           322        1  "
      ]
     },
     "execution_count": 242,
     "metadata": {},
     "output_type": "execute_result"
    }
   ],
   "source": [
    "df10_aux[ df10_aux['cluster'] == 1].sort_values( by=['gross_revenue'], ascending=False )"
   ]
  },
  {
   "cell_type": "code",
   "execution_count": 243,
   "id": "8eac4e74",
   "metadata": {
    "ExecuteTime": {
     "end_time": "2022-05-26T18:34:43.846055Z",
     "start_time": "2022-05-26T18:34:43.833054Z"
    }
   },
   "outputs": [
    {
     "data": {
      "text/html": [
       "<div>\n",
       "<style scoped>\n",
       "    .dataframe tbody tr th:only-of-type {\n",
       "        vertical-align: middle;\n",
       "    }\n",
       "\n",
       "    .dataframe tbody tr th {\n",
       "        vertical-align: top;\n",
       "    }\n",
       "\n",
       "    .dataframe thead th {\n",
       "        text-align: right;\n",
       "    }\n",
       "</style>\n",
       "<table border=\"1\" class=\"dataframe\">\n",
       "  <thead>\n",
       "    <tr style=\"text-align: right;\">\n",
       "      <th></th>\n",
       "      <th>customer_id</th>\n",
       "      <th>gross_revenue</th>\n",
       "      <th>recency_days</th>\n",
       "      <th>qtd_products</th>\n",
       "      <th>frequency</th>\n",
       "      <th>qtd_returns</th>\n",
       "      <th>cluster</th>\n",
       "    </tr>\n",
       "  </thead>\n",
       "  <tbody>\n",
       "    <tr>\n",
       "      <th>8</th>\n",
       "      <td>15311</td>\n",
       "      <td>60767.90</td>\n",
       "      <td>0</td>\n",
       "      <td>38194</td>\n",
       "      <td>0.243316</td>\n",
       "      <td>474</td>\n",
       "      <td>2</td>\n",
       "    </tr>\n",
       "    <tr>\n",
       "      <th>279</th>\n",
       "      <td>13089</td>\n",
       "      <td>58825.83</td>\n",
       "      <td>2</td>\n",
       "      <td>31070</td>\n",
       "      <td>0.263587</td>\n",
       "      <td>283</td>\n",
       "      <td>2</td>\n",
       "    </tr>\n",
       "    <tr>\n",
       "      <th>250</th>\n",
       "      <td>17949</td>\n",
       "      <td>58030.48</td>\n",
       "      <td>1</td>\n",
       "      <td>30450</td>\n",
       "      <td>0.118598</td>\n",
       "      <td>2878</td>\n",
       "      <td>2</td>\n",
       "    </tr>\n",
       "    <tr>\n",
       "      <th>266</th>\n",
       "      <td>15769</td>\n",
       "      <td>56252.72</td>\n",
       "      <td>7</td>\n",
       "      <td>29672</td>\n",
       "      <td>0.071233</td>\n",
       "      <td>2012</td>\n",
       "      <td>2</td>\n",
       "    </tr>\n",
       "    <tr>\n",
       "      <th>172</th>\n",
       "      <td>15061</td>\n",
       "      <td>54534.14</td>\n",
       "      <td>3</td>\n",
       "      <td>28920</td>\n",
       "      <td>0.129730</td>\n",
       "      <td>282</td>\n",
       "      <td>2</td>\n",
       "    </tr>\n",
       "  </tbody>\n",
       "</table>\n",
       "</div>"
      ],
      "text/plain": [
       "     customer_id  gross_revenue  recency_days  qtd_products  frequency  \\\n",
       "8          15311       60767.90             0         38194   0.243316   \n",
       "279        13089       58825.83             2         31070   0.263587   \n",
       "250        17949       58030.48             1         30450   0.118598   \n",
       "266        15769       56252.72             7         29672   0.071233   \n",
       "172        15061       54534.14             3         28920   0.129730   \n",
       "\n",
       "     qtd_returns  cluster  \n",
       "8            474        2  \n",
       "279          283        2  \n",
       "250         2878        2  \n",
       "266         2012        2  \n",
       "172          282        2  "
      ]
     },
     "execution_count": 243,
     "metadata": {},
     "output_type": "execute_result"
    }
   ],
   "source": [
    "df10_aux[ df10_aux['cluster'] == 2].sort_values( by=['gross_revenue'], ascending=False ).head()"
   ]
  },
  {
   "cell_type": "code",
   "execution_count": null,
   "id": "dea54ed7",
   "metadata": {},
   "outputs": [],
   "source": []
  },
  {
   "cell_type": "code",
   "execution_count": 246,
   "id": "a3f94ae3",
   "metadata": {
    "ExecuteTime": {
     "end_time": "2022-05-26T18:35:51.297833Z",
     "start_time": "2022-05-26T18:35:51.281828Z"
    }
   },
   "outputs": [],
   "source": [
    "df11 = df10_aux.copy()"
   ]
  },
  {
   "cell_type": "code",
   "execution_count": 247,
   "id": "763cf32a",
   "metadata": {
    "ExecuteTime": {
     "end_time": "2022-05-26T18:35:51.612431Z",
     "start_time": "2022-05-26T18:35:51.603430Z"
    }
   },
   "outputs": [
    {
     "name": "stdout",
     "output_type": "stream",
     "text": [
      "% Insiders GMV: 14.44%\n"
     ]
    }
   ],
   "source": [
    "gmv_insiders = df11.loc[df11['cluster'] == 1, 'gross_revenue'].sum()\n",
    "gmv_total = df11.loc[:, 'gross_revenue'].sum()\n",
    "\n",
    "print( '% Insiders GMV: {:.2f}%'.format( 100 * gmv_insiders / gmv_total ) )"
   ]
  },
  {
   "cell_type": "code",
   "execution_count": 248,
   "id": "851765b7",
   "metadata": {
    "ExecuteTime": {
     "end_time": "2022-05-26T18:35:52.672978Z",
     "start_time": "2022-05-26T18:35:52.653865Z"
    }
   },
   "outputs": [
    {
     "name": "stdout",
     "output_type": "stream",
     "text": [
      "% Sales Insiders: 14.99%\n"
     ]
    }
   ],
   "source": [
    "sales_insiders = df11.loc[df11['cluster'] == 1, 'qtd_products'].sum()\n",
    "sales_total = df11.loc[:, 'qtd_products'].sum()\n",
    "\n",
    "print( '% Sales Insiders: {:.2f}%'.format( 100*sales_insiders / sales_total ) )"
   ]
  },
  {
   "cell_type": "code",
   "execution_count": 249,
   "id": "f656d487",
   "metadata": {
    "ExecuteTime": {
     "end_time": "2022-05-26T18:35:53.331289Z",
     "start_time": "2022-05-26T18:35:53.316285Z"
    }
   },
   "outputs": [
    {
     "name": "stdout",
     "output_type": "stream",
     "text": [
      "Avg return Insiders: 1644.18 vs Avg return total: 32.91\n"
     ]
    }
   ],
   "source": [
    "avg_return_insiders = df11.loc[df11['cluster'] == 1, 'qtd_returns'].mean()\n",
    "avg_return_total = df11['qtd_returns'].mean()\n",
    "\n",
    "print( 'Avg return Insiders: {:.2f} vs Avg return total: {:.2f}'.format( avg_return_insiders, avg_return_total ) )"
   ]
  },
  {
   "cell_type": "code",
   "execution_count": 250,
   "id": "c9b3ae7c",
   "metadata": {
    "ExecuteTime": {
     "end_time": "2022-05-26T18:35:54.374540Z",
     "start_time": "2022-05-26T18:35:54.358538Z"
    }
   },
   "outputs": [
    {
     "name": "stdout",
     "output_type": "stream",
     "text": [
      "Median GMV diff: 18970.98%\n"
     ]
    }
   ],
   "source": [
    "median_gmv_insiders = df11.loc[df11['cluster'] == 1, 'gross_revenue'].median()\n",
    "median_gmv_total = df11.loc[:, 'gross_revenue'].median()\n",
    "\n",
    "print( 'Median GMV diff: {:.2f}%'.format( 100* (median_gmv_insiders - median_gmv_total) / median_gmv_total ) )"
   ]
  },
  {
   "cell_type": "code",
   "execution_count": null,
   "id": "db61cc41",
   "metadata": {},
   "outputs": [],
   "source": []
  },
  {
   "cell_type": "code",
   "execution_count": null,
   "id": "7b84da2b",
   "metadata": {},
   "outputs": [],
   "source": []
  },
  {
   "cell_type": "code",
   "execution_count": null,
   "id": "3fc5d608",
   "metadata": {},
   "outputs": [],
   "source": []
  },
  {
   "cell_type": "code",
   "execution_count": null,
   "id": "14241c37",
   "metadata": {},
   "outputs": [],
   "source": []
  },
  {
   "cell_type": "markdown",
   "id": "c5c0563a",
   "metadata": {},
   "source": [
    "* **Clusters**:\n",
    "\n",
    "**7.** Insiders\n",
    "\n",
    "**1.** 'More products'\n",
    "\n",
    "**5.** 'Spend money'\n",
    "\n",
    "**4.** 'Even more products'\n",
    "\n",
    "**3.** 'More frequency'\n",
    "\n",
    "**0.** 'Even more frequency'\n",
    "\n",
    "**2.** 'Less days'\n",
    " \n",
    "**6.** 'Even less days'"
   ]
  },
  {
   "cell_type": "markdown",
   "id": "faaf0a38",
   "metadata": {},
   "source": [
    "# 11. Deploy To Production"
   ]
  },
  {
   "cell_type": "code",
   "execution_count": 227,
   "id": "7da71e24",
   "metadata": {
    "ExecuteTime": {
     "end_time": "2022-05-26T18:29:40.718710Z",
     "start_time": "2022-05-26T18:29:40.698706Z"
    }
   },
   "outputs": [
    {
     "data": {
      "text/plain": [
       "customer_id        int32\n",
       "gross_revenue    float64\n",
       "recency_days       int32\n",
       "qtd_products       int32\n",
       "frequency        float64\n",
       "qtd_returns        int32\n",
       "cluster            int32\n",
       "dtype: object"
      ]
     },
     "execution_count": 227,
     "metadata": {},
     "output_type": "execute_result"
    }
   ],
   "source": [
    "df10_aux.dtypes"
   ]
  },
  {
   "cell_type": "markdown",
   "id": "16bc5431",
   "metadata": {},
   "source": [
    "## 11.1. Insert Into SQLite"
   ]
  },
  {
   "cell_type": "code",
   "execution_count": 59,
   "id": "c7fd61a3",
   "metadata": {
    "ExecuteTime": {
     "end_time": "2022-05-25T17:26:07.751422Z",
     "start_time": "2022-05-25T17:26:07.736417Z"
    }
   },
   "outputs": [],
   "source": [
    "# connection\n",
    "#conn = sqlite3.connect( 'insiders_db.sqlite' )\n",
    "#\n",
    "## create table\n",
    "#query_create_table_insiders = \"\"\"\n",
    "#    CREATE TABLE insiders (\n",
    "#        customer_id     INTEGER,\n",
    "#        gross_revenue   REAL,\n",
    "#        recency_days    INTEGER,\n",
    "#        qtd_products    INTEGER,   \n",
    "#        frequency       REAL,\n",
    "#        qtd_returns     INTEGER,\n",
    "#        cluster         INTEGER\n",
    "#    )\n",
    "#\n",
    "#\"\"\"\n",
    "#conn.execute( query_create_table_insiders )\n",
    "#conn.commit()\n",
    "#conn.close()"
   ]
  },
  {
   "cell_type": "code",
   "execution_count": 60,
   "id": "541553c4",
   "metadata": {
    "ExecuteTime": {
     "end_time": "2022-05-25T17:26:07.782176Z",
     "start_time": "2022-05-25T17:26:07.753423Z"
    }
   },
   "outputs": [],
   "source": [
    "# insert table\n",
    "conn = create_engine( 'sqlite:///insiders_db.sqlite' )\n",
    "#df10_aux.to_sql( 'insiders', con=conn, if_exists='append', index=False )"
   ]
  },
  {
   "cell_type": "code",
   "execution_count": 61,
   "id": "9b20d1ab",
   "metadata": {
    "ExecuteTime": {
     "end_time": "2022-05-25T17:26:07.813188Z",
     "start_time": "2022-05-25T17:26:07.783175Z"
    }
   },
   "outputs": [],
   "source": [
    "# consulting database\n",
    "query = \"\"\" \n",
    "    SELECT * FROM INSIDERS \n",
    "\"\"\"\n",
    "\n",
    "df = pd.read_sql_query( query, conn )"
   ]
  },
  {
   "cell_type": "code",
   "execution_count": 64,
   "id": "367ee976",
   "metadata": {
    "ExecuteTime": {
     "end_time": "2022-05-25T17:29:20.921157Z",
     "start_time": "2022-05-25T17:29:20.915153Z"
    }
   },
   "outputs": [
    {
     "data": {
      "text/plain": [
       "(2968, 7)"
      ]
     },
     "execution_count": 64,
     "metadata": {},
     "output_type": "execute_result"
    }
   ],
   "source": [
    "df.shape"
   ]
  }
 ],
 "metadata": {
  "kernelspec": {
   "display_name": "Python 3 (ipykernel)",
   "language": "python",
   "name": "python3"
  },
  "language_info": {
   "codemirror_mode": {
    "name": "ipython",
    "version": 3
   },
   "file_extension": ".py",
   "mimetype": "text/x-python",
   "name": "python",
   "nbconvert_exporter": "python",
   "pygments_lexer": "ipython3",
   "version": "3.8.12"
  }
 },
 "nbformat": 4,
 "nbformat_minor": 5
}
