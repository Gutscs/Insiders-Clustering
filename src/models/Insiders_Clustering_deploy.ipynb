{
 "cells": [
  {
   "cell_type": "markdown",
   "id": "baf5b796",
   "metadata": {
    "ExecuteTime": {
     "end_time": "2022-03-23T00:25:21.044668Z",
     "start_time": "2022-03-23T00:25:21.029162Z"
    }
   },
   "source": [
    "# 1. Imports"
   ]
  },
  {
   "cell_type": "code",
   "execution_count": null,
   "id": "7d9ebd13",
   "metadata": {
    "ExecuteTime": {
     "end_time": "2022-05-26T21:08:47.839118Z",
     "start_time": "2022-05-26T21:08:47.820115Z"
    }
   },
   "outputs": [],
   "source": [
    "import re\n",
    "import sqlite3\n",
    "import s3fs\n",
    "import os\n",
    "\n",
    "import pandas       as pd\n",
    "import numpy        as np\n",
    "import seaborn      as sns\n",
    "import umap.umap_   as umap\n",
    "\n",
    "from matplotlib              import pyplot        as plt\n",
    "from plotly                  import express       as px\n",
    "from sklearn                 import preprocessing as pp\n",
    "from matplotlib              import cm\n",
    "from sqlalchemy              import create_engine\n",
    "from dotenv                  import load_dotenv, find_dotenv\n",
    "\n",
    "from sklearn.metrics         import silhouette_score, silhouette_samples\n",
    "from sklearn.cluster         import KMeans, DBSCAN\n",
    "from sklearn.preprocessing   import MinMaxScaler\n",
    "from sklearn.decomposition   import PCA\n",
    "from sklearn.manifold        import TSNE\n",
    "from sklearn.ensemble        import RandomForestRegressor\n",
    "from sklearn.mixture         import GaussianMixture\n",
    "from sklearn.neighbors       import NearestNeighbors\n",
    "\n",
    "from scipy.cluster.hierarchy import linkage, dendrogram, fcluster"
   ]
  },
  {
   "cell_type": "markdown",
   "id": "ac35f79b",
   "metadata": {},
   "source": [
    "## 1.2. Load Dataset"
   ]
  },
  {
   "cell_type": "code",
   "execution_count": 43,
   "id": "ec475856",
   "metadata": {
    "ExecuteTime": {
     "end_time": "2022-05-26T21:16:05.886213Z",
     "start_time": "2022-05-26T21:16:05.864209Z"
    }
   },
   "outputs": [
    {
     "data": {
      "text/plain": [
       "['insiders-dataset-gcs/Ecommerce.csv']"
      ]
     },
     "execution_count": 43,
     "metadata": {},
     "output_type": "execute_result"
    }
   ],
   "source": [
    "# load env variables\n",
    "load_dotenv(find_dotenv(), override=True)\n",
    "\n",
    "aws_access_key_id = os.environ.get( 'aws_access_key_id' )\n",
    "aws_secret_access_key = os.environ.get( 'aws_secret_access_key' )\n",
    "region = os.environ.get( 'region' )\n",
    "\n",
    "# connect to S3\n",
    "path_s3 = 's3://insiders-dataset-gcs/'\n",
    "\n",
    "fs = s3fs.S3FileSystem( anon=False, key=aws_access_key_id, secret=aws_secret_access_key )\n",
    "fs.ls(path_s3)"
   ]
  },
  {
   "cell_type": "code",
   "execution_count": 48,
   "id": "9b8f06fe",
   "metadata": {
    "ExecuteTime": {
     "end_time": "2022-05-26T21:17:04.913191Z",
     "start_time": "2022-05-26T21:17:04.875806Z"
    }
   },
   "outputs": [],
   "source": [
    "# load data\n",
    "df_raw = pd.read_csv( fs.open( path_s3 + 'Ecommerce.csv', 'rb' ),  encoding= 'unicode_escape' )\n",
    "\n",
    "# drop extra column\n",
    "df_raw.drop( columns='Unnamed: 8', axis=1, inplace=True)"
   ]
  },
  {
   "cell_type": "code",
   "execution_count": 49,
   "id": "106e92fe",
   "metadata": {
    "ExecuteTime": {
     "end_time": "2022-05-26T21:17:07.630838Z",
     "start_time": "2022-05-26T21:17:07.614834Z"
    }
   },
   "outputs": [
    {
     "data": {
      "text/html": [
       "<div>\n",
       "<style scoped>\n",
       "    .dataframe tbody tr th:only-of-type {\n",
       "        vertical-align: middle;\n",
       "    }\n",
       "\n",
       "    .dataframe tbody tr th {\n",
       "        vertical-align: top;\n",
       "    }\n",
       "\n",
       "    .dataframe thead th {\n",
       "        text-align: right;\n",
       "    }\n",
       "</style>\n",
       "<table border=\"1\" class=\"dataframe\">\n",
       "  <thead>\n",
       "    <tr style=\"text-align: right;\">\n",
       "      <th></th>\n",
       "      <th>InvoiceNo</th>\n",
       "      <th>StockCode</th>\n",
       "      <th>Description</th>\n",
       "      <th>Quantity</th>\n",
       "      <th>InvoiceDate</th>\n",
       "      <th>UnitPrice</th>\n",
       "      <th>CustomerID</th>\n",
       "      <th>Country</th>\n",
       "    </tr>\n",
       "  </thead>\n",
       "  <tbody>\n",
       "    <tr>\n",
       "      <th>0</th>\n",
       "      <td>536365</td>\n",
       "      <td>85123A</td>\n",
       "      <td>WHITE HANGING HEART T-LIGHT HOLDER</td>\n",
       "      <td>6</td>\n",
       "      <td>29-Nov-16</td>\n",
       "      <td>2.55</td>\n",
       "      <td>17850.0</td>\n",
       "      <td>United Kingdom</td>\n",
       "    </tr>\n",
       "    <tr>\n",
       "      <th>1</th>\n",
       "      <td>536365</td>\n",
       "      <td>71053</td>\n",
       "      <td>WHITE METAL LANTERN</td>\n",
       "      <td>6</td>\n",
       "      <td>29-Nov-16</td>\n",
       "      <td>3.39</td>\n",
       "      <td>17850.0</td>\n",
       "      <td>United Kingdom</td>\n",
       "    </tr>\n",
       "    <tr>\n",
       "      <th>2</th>\n",
       "      <td>536365</td>\n",
       "      <td>84406B</td>\n",
       "      <td>CREAM CUPID HEARTS COAT HANGER</td>\n",
       "      <td>8</td>\n",
       "      <td>29-Nov-16</td>\n",
       "      <td>2.75</td>\n",
       "      <td>17850.0</td>\n",
       "      <td>United Kingdom</td>\n",
       "    </tr>\n",
       "    <tr>\n",
       "      <th>3</th>\n",
       "      <td>536365</td>\n",
       "      <td>84029G</td>\n",
       "      <td>KNITTED UNION FLAG HOT WATER BOTTLE</td>\n",
       "      <td>6</td>\n",
       "      <td>29-Nov-16</td>\n",
       "      <td>3.39</td>\n",
       "      <td>17850.0</td>\n",
       "      <td>United Kingdom</td>\n",
       "    </tr>\n",
       "    <tr>\n",
       "      <th>4</th>\n",
       "      <td>536365</td>\n",
       "      <td>84029E</td>\n",
       "      <td>RED WOOLLY HOTTIE WHITE HEART.</td>\n",
       "      <td>6</td>\n",
       "      <td>29-Nov-16</td>\n",
       "      <td>3.39</td>\n",
       "      <td>17850.0</td>\n",
       "      <td>United Kingdom</td>\n",
       "    </tr>\n",
       "  </tbody>\n",
       "</table>\n",
       "</div>"
      ],
      "text/plain": [
       "  InvoiceNo StockCode                          Description  Quantity  \\\n",
       "0    536365    85123A   WHITE HANGING HEART T-LIGHT HOLDER         6   \n",
       "1    536365     71053                  WHITE METAL LANTERN         6   \n",
       "2    536365    84406B       CREAM CUPID HEARTS COAT HANGER         8   \n",
       "3    536365    84029G  KNITTED UNION FLAG HOT WATER BOTTLE         6   \n",
       "4    536365    84029E       RED WOOLLY HOTTIE WHITE HEART.         6   \n",
       "\n",
       "  InvoiceDate  UnitPrice  CustomerID         Country  \n",
       "0   29-Nov-16       2.55     17850.0  United Kingdom  \n",
       "1   29-Nov-16       3.39     17850.0  United Kingdom  \n",
       "2   29-Nov-16       2.75     17850.0  United Kingdom  \n",
       "3   29-Nov-16       3.39     17850.0  United Kingdom  \n",
       "4   29-Nov-16       3.39     17850.0  United Kingdom  "
      ]
     },
     "execution_count": 49,
     "metadata": {},
     "output_type": "execute_result"
    }
   ],
   "source": [
    "df_raw.head()"
   ]
  },
  {
   "cell_type": "markdown",
   "id": "eb0991ff",
   "metadata": {
    "heading_collapsed": true
   },
   "source": [
    "# 2. Data Description"
   ]
  },
  {
   "cell_type": "code",
   "execution_count": null,
   "id": "6000d0cb",
   "metadata": {
    "ExecuteTime": {
     "end_time": "2022-05-26T13:11:21.309010Z",
     "start_time": "2022-05-26T13:11:21.282004Z"
    },
    "hidden": true
   },
   "outputs": [],
   "source": [
    "df2 = df_raw.copy()"
   ]
  },
  {
   "cell_type": "markdown",
   "id": "d1419773",
   "metadata": {
    "hidden": true
   },
   "source": [
    "## 2.1. Rename Columns"
   ]
  },
  {
   "cell_type": "code",
   "execution_count": null,
   "id": "4d993c29",
   "metadata": {
    "ExecuteTime": {
     "end_time": "2022-05-26T13:11:21.341017Z",
     "start_time": "2022-05-26T13:11:21.311011Z"
    },
    "hidden": true
   },
   "outputs": [],
   "source": [
    "cols_new = ['invoice_no', 'stock_code', 'description', 'quantity', 'invoice_date', 'unit_price', 'customer_id', 'country']\n",
    "\n",
    "# rename columns\n",
    "df2.columns = cols_new\n",
    "df2.head()"
   ]
  },
  {
   "cell_type": "markdown",
   "id": "3232b8e7",
   "metadata": {
    "hidden": true
   },
   "source": [
    "## 2.2. Data Dimensions"
   ]
  },
  {
   "cell_type": "code",
   "execution_count": null,
   "id": "0972cafd",
   "metadata": {
    "ExecuteTime": {
     "end_time": "2022-05-26T13:11:21.356020Z",
     "start_time": "2022-05-26T13:11:21.343017Z"
    },
    "hidden": true
   },
   "outputs": [],
   "source": [
    "print( 'Number of rows: {}'.format( df2.shape[0] ) )\n",
    "print( 'Number of columns: {}'.format( df2.shape[1] ) )"
   ]
  },
  {
   "cell_type": "markdown",
   "id": "819d18a4",
   "metadata": {
    "hidden": true
   },
   "source": [
    "## 2.3. Data Types"
   ]
  },
  {
   "cell_type": "code",
   "execution_count": null,
   "id": "3208575b",
   "metadata": {
    "ExecuteTime": {
     "end_time": "2022-05-26T13:11:21.371024Z",
     "start_time": "2022-05-26T13:11:21.358021Z"
    },
    "hidden": true
   },
   "outputs": [],
   "source": [
    "df2.dtypes"
   ]
  },
  {
   "cell_type": "markdown",
   "id": "4e5abbf5",
   "metadata": {
    "hidden": true
   },
   "source": [
    "## 2.4. Check NA"
   ]
  },
  {
   "cell_type": "code",
   "execution_count": null,
   "id": "d58df37e",
   "metadata": {
    "ExecuteTime": {
     "end_time": "2022-05-26T13:11:21.734105Z",
     "start_time": "2022-05-26T13:11:21.373025Z"
    },
    "hidden": true
   },
   "outputs": [],
   "source": [
    "df2.isna().sum()"
   ]
  },
  {
   "cell_type": "markdown",
   "id": "1890d61e",
   "metadata": {
    "hidden": true
   },
   "source": [
    "## 2.5. Replace NA"
   ]
  },
  {
   "cell_type": "code",
   "execution_count": null,
   "id": "c1f5ff92",
   "metadata": {
    "ExecuteTime": {
     "end_time": "2022-05-26T13:11:21.781120Z",
     "start_time": "2022-05-26T13:11:21.735106Z"
    },
    "hidden": true
   },
   "outputs": [],
   "source": [
    "df_missing = df2.loc[df2['customer_id'].isna(), :]\n",
    "df_not_missing = df2.loc[~df2['customer_id'].isna(), :]"
   ]
  },
  {
   "cell_type": "code",
   "execution_count": null,
   "id": "077c6824",
   "metadata": {
    "ExecuteTime": {
     "end_time": "2022-05-26T13:11:21.797125Z",
     "start_time": "2022-05-26T13:11:21.784122Z"
    },
    "hidden": true
   },
   "outputs": [],
   "source": [
    "# max customer_id\n",
    "df_not_missing['customer_id'].max()"
   ]
  },
  {
   "cell_type": "code",
   "execution_count": null,
   "id": "5b1b6ce2",
   "metadata": {
    "ExecuteTime": {
     "end_time": "2022-05-26T13:11:21.813128Z",
     "start_time": "2022-05-26T13:11:21.799125Z"
    },
    "hidden": true
   },
   "outputs": [],
   "source": [
    "# create reference\n",
    "df_backup = pd.DataFrame( df_missing['invoice_no'].drop_duplicates() )\n",
    "df_backup['customer_id'] = np.arange( 19000, 19000 + len(df_backup), 1 )\n",
    "df_backup.head()"
   ]
  },
  {
   "cell_type": "code",
   "execution_count": null,
   "id": "791f56e1",
   "metadata": {
    "ExecuteTime": {
     "end_time": "2022-05-26T13:11:21.925155Z",
     "start_time": "2022-05-26T13:11:21.814128Z"
    },
    "hidden": true
   },
   "outputs": [],
   "source": [
    "# merge original with reference\n",
    "df2 = pd.merge( df2, df_backup, on='invoice_no', how='left' )\n",
    "df2.head()"
   ]
  },
  {
   "cell_type": "code",
   "execution_count": null,
   "id": "1e20720f",
   "metadata": {
    "ExecuteTime": {
     "end_time": "2022-05-26T13:11:21.987169Z",
     "start_time": "2022-05-26T13:11:21.926153Z"
    },
    "hidden": true
   },
   "outputs": [],
   "source": [
    "# coalesce\n",
    "df2['customer_id'] = df2['customer_id_x'].combine_first( df2['customer_id_y'] )\n",
    "\n",
    "# drop extra columns\n",
    "df2.drop( columns=['customer_id_x', 'customer_id_y'], axis=1, inplace=True )\n",
    "df2.head()"
   ]
  },
  {
   "cell_type": "code",
   "execution_count": null,
   "id": "4d166356",
   "metadata": {
    "ExecuteTime": {
     "end_time": "2022-05-26T13:11:22.355263Z",
     "start_time": "2022-05-26T13:11:21.988170Z"
    },
    "hidden": true
   },
   "outputs": [],
   "source": [
    "df2.isna().sum()"
   ]
  },
  {
   "cell_type": "code",
   "execution_count": null,
   "id": "bc6ec42f",
   "metadata": {
    "ExecuteTime": {
     "end_time": "2022-05-26T13:11:22.370468Z",
     "start_time": "2022-05-26T13:11:22.357263Z"
    },
    "hidden": true
   },
   "outputs": [],
   "source": [
    "df2.dtypes"
   ]
  },
  {
   "cell_type": "markdown",
   "id": "19b8a8c4",
   "metadata": {
    "hidden": true
   },
   "source": [
    "## 2.6. Change dtypes"
   ]
  },
  {
   "cell_type": "code",
   "execution_count": null,
   "id": "a316bb83",
   "metadata": {
    "ExecuteTime": {
     "end_time": "2022-05-26T13:11:22.449491Z",
     "start_time": "2022-05-26T13:11:22.372469Z"
    },
    "hidden": true
   },
   "outputs": [],
   "source": [
    "# invoice date\n",
    "df2['invoice_date'] = pd.to_datetime( df2['invoice_date'], format='%d-%b-%y' )\n",
    "\n",
    "# customer_id\n",
    "df2['customer_id'] = df2['customer_id'].astype( int )\n",
    "df2.head()"
   ]
  },
  {
   "cell_type": "code",
   "execution_count": null,
   "id": "508d1ef1",
   "metadata": {
    "ExecuteTime": {
     "end_time": "2022-05-26T13:11:22.465494Z",
     "start_time": "2022-05-26T13:11:22.450491Z"
    },
    "hidden": true
   },
   "outputs": [],
   "source": [
    "df2.dtypes"
   ]
  },
  {
   "cell_type": "markdown",
   "id": "32ade075",
   "metadata": {
    "hidden": true
   },
   "source": [
    "## 2.7. Descriptive Statistics"
   ]
  },
  {
   "cell_type": "code",
   "execution_count": null,
   "id": "7baf76c3",
   "metadata": {
    "ExecuteTime": {
     "end_time": "2022-05-26T13:11:22.481500Z",
     "start_time": "2022-05-26T13:11:22.467495Z"
    },
    "hidden": true
   },
   "outputs": [],
   "source": [
    "num_attributes = df2.select_dtypes( include=['int32', 'int64', 'float64'] )\n",
    "cat_attributes = df2.select_dtypes( exclude=['int32', 'int64', 'float64', 'datetime64[ns]'] )"
   ]
  },
  {
   "cell_type": "markdown",
   "id": "77945845",
   "metadata": {
    "hidden": true
   },
   "source": [
    "### 2.7.1. Numerical Attributes"
   ]
  },
  {
   "cell_type": "code",
   "execution_count": null,
   "id": "d960dd9e",
   "metadata": {
    "ExecuteTime": {
     "end_time": "2022-05-26T13:11:22.577526Z",
     "start_time": "2022-05-26T13:11:22.482501Z"
    },
    "hidden": true
   },
   "outputs": [],
   "source": [
    "# central tendency\n",
    "_mean   = pd.DataFrame( num_attributes.apply( np.mean ) ).T\n",
    "_median = pd.DataFrame( num_attributes.apply( np.median ) ).T\n",
    "\n",
    "# dispersion\n",
    "_std   = pd.DataFrame( num_attributes.apply( np.std ) ).T\n",
    "_min   = pd.DataFrame( num_attributes.apply( np.min ) ).T\n",
    "_max   = pd.DataFrame( num_attributes.apply( np.max ) ).T\n",
    "_range = pd.DataFrame( num_attributes.apply( lambda x: x.max() - x.min() ) ).T\n",
    "_skew  = pd.DataFrame( num_attributes.apply( lambda x: x.skew() ) ).T\n",
    "_kurtosis  = pd.DataFrame( num_attributes.apply( lambda x: x.kurtosis() ) ).T\n",
    "\n",
    "# concatenate\n",
    "summary = pd.concat( [_min, _max, _range, _mean, _median, _std, _skew, _kurtosis] ).T.reset_index()\n",
    "summary.columns = ['attributes', 'min', 'max', 'range', 'mean', 'median', 'std', 'skew', 'kurtosis']\n",
    "summary"
   ]
  },
  {
   "cell_type": "markdown",
   "id": "e47a9177",
   "metadata": {
    "hidden": true
   },
   "source": [
    "* **Negative quantity** - It could mean a returning.\n",
    "* **Unit price equal to zero** - Could it mean a promotion?"
   ]
  },
  {
   "cell_type": "markdown",
   "id": "6694850a",
   "metadata": {
    "hidden": true
   },
   "source": [
    "### 2.7.2. Categorical Attributes"
   ]
  },
  {
   "cell_type": "code",
   "execution_count": null,
   "id": "4bcf075f",
   "metadata": {
    "ExecuteTime": {
     "end_time": "2022-05-26T13:11:22.593530Z",
     "start_time": "2022-05-26T13:11:22.578527Z"
    },
    "hidden": true
   },
   "outputs": [],
   "source": [
    "cat_attributes.head()"
   ]
  },
  {
   "cell_type": "markdown",
   "id": "f2ddd253",
   "metadata": {
    "ExecuteTime": {
     "end_time": "2022-04-15T15:06:14.613143Z",
     "start_time": "2022-04-15T15:06:14.608214Z"
    },
    "hidden": true
   },
   "source": [
    "#### 2.7.2.1. Invoice_no"
   ]
  },
  {
   "cell_type": "code",
   "execution_count": null,
   "id": "88669ce3",
   "metadata": {
    "ExecuteTime": {
     "end_time": "2022-05-26T13:11:23.293696Z",
     "start_time": "2022-05-26T13:11:22.595530Z"
    },
    "hidden": true
   },
   "outputs": [],
   "source": [
    "# cat_attributes['invoice_no'].astype( int ) # It throws an error\n",
    "index = df2['invoice_no'].apply( lambda x: bool( re.search( '[^0-9]+', x ) ) )\n",
    "df2[index].head(10)"
   ]
  },
  {
   "cell_type": "code",
   "execution_count": null,
   "id": "39be9eab",
   "metadata": {
    "ExecuteTime": {
     "end_time": "2022-05-26T13:11:23.309700Z",
     "start_time": "2022-05-26T13:11:23.294697Z"
    },
    "hidden": true
   },
   "outputs": [],
   "source": [
    "# unique values\n",
    "len( df2.loc[index, 'invoice_no'].drop_duplicates()  )"
   ]
  },
  {
   "cell_type": "code",
   "execution_count": null,
   "id": "90cf40bd",
   "metadata": {
    "ExecuteTime": {
     "end_time": "2022-05-26T13:11:23.325703Z",
     "start_time": "2022-05-26T13:11:23.310700Z"
    },
    "hidden": true
   },
   "outputs": [],
   "source": [
    "# checking if all invoices with a letter indicates has a negative quantity\n",
    "df_letter_invoices = df2[index]\n",
    "print( 'Total number of invoices with a letter: {}'.format( len( df_letter_invoices ) ) )\n",
    "print( 'Total number of invoices with a letter and negative quantity: {}'.format( len( df_letter_invoices[ df_letter_invoices['quantity'] < 0 ] ) ) )"
   ]
  },
  {
   "cell_type": "markdown",
   "id": "6d09c229",
   "metadata": {
    "hidden": true
   },
   "source": [
    "#### 2.7.2.2. Stock_code"
   ]
  },
  {
   "cell_type": "code",
   "execution_count": null,
   "id": "ef285792",
   "metadata": {
    "ExecuteTime": {
     "end_time": "2022-05-26T13:11:24.005202Z",
     "start_time": "2022-05-26T13:11:23.326704Z"
    },
    "hidden": true
   },
   "outputs": [],
   "source": [
    "index = df2['stock_code'].apply( lambda x: bool( re.search( '^[a-zA-Z]+.*$', x ) ) )\n",
    "df2[index].head(10)"
   ]
  },
  {
   "cell_type": "code",
   "execution_count": null,
   "id": "a9d91d14",
   "metadata": {
    "ExecuteTime": {
     "end_time": "2022-05-26T13:11:24.021206Z",
     "start_time": "2022-05-26T13:11:24.007204Z"
    },
    "hidden": true
   },
   "outputs": [],
   "source": [
    "# unique values\n",
    "print( len( df2.loc[index, 'stock_code'].drop_duplicates() ) )\n",
    "print( df2.loc[index, 'stock_code'].unique())"
   ]
  },
  {
   "cell_type": "markdown",
   "id": "991f34bc",
   "metadata": {
    "hidden": true
   },
   "source": [
    "#### 2.7.2.3. Country"
   ]
  },
  {
   "cell_type": "code",
   "execution_count": null,
   "id": "3b1a4632",
   "metadata": {
    "ExecuteTime": {
     "end_time": "2022-05-26T13:11:24.067171Z",
     "start_time": "2022-05-26T13:11:24.023206Z"
    },
    "hidden": true
   },
   "outputs": [],
   "source": [
    "df2['country'].value_counts( normalize=True )"
   ]
  },
  {
   "cell_type": "markdown",
   "id": "9f5c57bf",
   "metadata": {
    "heading_collapsed": true
   },
   "source": [
    "# 3. Data Filtering"
   ]
  },
  {
   "cell_type": "code",
   "execution_count": null,
   "id": "bcfa9a5a",
   "metadata": {
    "ExecuteTime": {
     "end_time": "2022-05-26T13:11:24.083175Z",
     "start_time": "2022-05-26T13:11:24.068172Z"
    },
    "hidden": true
   },
   "outputs": [],
   "source": [
    "df3 = df2.copy()"
   ]
  },
  {
   "cell_type": "markdown",
   "id": "d986a3d8",
   "metadata": {
    "hidden": true
   },
   "source": [
    "## 3.1. Numerical Attributes"
   ]
  },
  {
   "cell_type": "code",
   "execution_count": null,
   "id": "19107338",
   "metadata": {
    "ExecuteTime": {
     "end_time": "2022-05-26T13:11:24.225206Z",
     "start_time": "2022-05-26T13:11:24.086175Z"
    },
    "hidden": true
   },
   "outputs": [],
   "source": [
    "# unit price > 0\n",
    "df3 = df3.loc[ df3['unit_price'] > 0.010, : ]\n",
    "\n",
    "# stock code == number\n",
    "df3 = df3[~df3['stock_code'].isin( ['POST', 'D', 'C2', 'DOT', 'M', 'BANK, CHARGES', 'S', 'AMAZONFEE', 'DCGS0076'\n",
    ", 'DCGS0003', 'gift_0001_40', 'DCGS0070', 'm', 'gift_0001_50', 'gift_0001_30'\n",
    ", 'gift_0001_20', 'DCGS0055', 'DCGS0072', 'DCGS0074', 'DCGS0069', 'DCGS0057'\n",
    ", 'DCGSSBOY', 'DCGSSGIRL', 'gift_0001_10', 'PADS', 'DCGS0004', 'DCGS0073'\n",
    ", 'DCGS0071', 'DCGS0068', 'DCGS0067', 'DCGS0066P', 'B', 'CRUK'] )]\n",
    "\n",
    "# quantity - negative numbears means product returns\n",
    "df3_returns = df3.loc[df3['quantity'] < 0, :]\n",
    "df3_purchases = df3.loc[df3['quantity'] > 0, :]"
   ]
  },
  {
   "cell_type": "markdown",
   "id": "12ead3d3",
   "metadata": {
    "hidden": true
   },
   "source": [
    "## 3.2. Categorical Attributes"
   ]
  },
  {
   "cell_type": "code",
   "execution_count": null,
   "id": "9e281367",
   "metadata": {
    "ExecuteTime": {
     "end_time": "2022-05-26T13:11:24.256515Z",
     "start_time": "2022-05-26T13:11:24.226207Z"
    },
    "hidden": true
   },
   "outputs": [],
   "source": [
    "# drop description\n",
    "df3 = df3.drop( columns='description', axis=1 )"
   ]
  },
  {
   "cell_type": "code",
   "execution_count": null,
   "id": "44eb83a2",
   "metadata": {
    "ExecuteTime": {
     "end_time": "2022-05-26T13:11:24.304526Z",
     "start_time": "2022-05-26T13:11:24.257515Z"
    },
    "hidden": true
   },
   "outputs": [],
   "source": [
    "# map\n",
    "df3 = df3[~df3['country'].isin( ['European Community', 'Unspecified'] )]"
   ]
  },
  {
   "cell_type": "code",
   "execution_count": null,
   "id": "015990a2",
   "metadata": {
    "ExecuteTime": {
     "end_time": "2022-05-26T13:11:24.352488Z",
     "start_time": "2022-05-26T13:11:24.306527Z"
    },
    "hidden": true
   },
   "outputs": [],
   "source": [
    "# bad users (based on the Univariate Analysis)\n",
    "df3 = df3[~df3['customer_id'].isin( [16446] )]"
   ]
  },
  {
   "cell_type": "markdown",
   "id": "103755e2",
   "metadata": {},
   "source": [
    "# 4. Feature Engineering"
   ]
  },
  {
   "cell_type": "code",
   "execution_count": null,
   "id": "640fdd5f",
   "metadata": {
    "ExecuteTime": {
     "end_time": "2022-05-26T13:11:24.382490Z",
     "start_time": "2022-05-26T13:11:24.353489Z"
    }
   },
   "outputs": [],
   "source": [
    "df4 = df3.copy()\n",
    "df_purchases = df3_purchases.copy()\n",
    "df_returns = df3_returns.copy()"
   ]
  },
  {
   "cell_type": "markdown",
   "id": "d32d4895",
   "metadata": {},
   "source": [
    "## 4.1. Feature Creation"
   ]
  },
  {
   "cell_type": "markdown",
   "id": "6bf363a4",
   "metadata": {},
   "source": [
    "The dataset granularity should be customers, because the clusters will be for customers, but it is a unique key composed of product (stock_code) and date (invoice_date). So it is necessary to change the granularity."
   ]
  },
  {
   "cell_type": "code",
   "execution_count": null,
   "id": "01261285",
   "metadata": {
    "ExecuteTime": {
     "end_time": "2022-05-26T13:11:24.414499Z",
     "start_time": "2022-05-26T13:11:24.383492Z"
    }
   },
   "outputs": [],
   "source": [
    "# data reference\n",
    "df_ref = df4[['customer_id']].drop_duplicates( ignore_index=True )\n",
    "df_ref.head()"
   ]
  },
  {
   "cell_type": "markdown",
   "id": "f200eabf",
   "metadata": {
    "heading_collapsed": true
   },
   "source": [
    "### 4.1.1. Gross Revenue"
   ]
  },
  {
   "cell_type": "code",
   "execution_count": null,
   "id": "b3765a2e",
   "metadata": {
    "ExecuteTime": {
     "end_time": "2022-05-26T13:11:24.462511Z",
     "start_time": "2022-05-26T13:11:24.415499Z"
    },
    "hidden": true
   },
   "outputs": [],
   "source": [
    "# Gross Revenue (quantity * price)\n",
    "df_purchases['gross_revenue'] = df_purchases['quantity'] * df_purchases['unit_price']\n",
    "\n",
    "# Monetary\n",
    "df_monetary = df_purchases[['customer_id', 'gross_revenue']].groupby( 'customer_id' ).sum().reset_index()\n",
    "df_ref = pd.merge( df_ref, df_monetary, on='customer_id',  how='left')\n",
    "df_ref.head()"
   ]
  },
  {
   "cell_type": "markdown",
   "id": "ede4b46a",
   "metadata": {
    "heading_collapsed": true
   },
   "source": [
    "### 4.1.2. Recency - Day from last purchase"
   ]
  },
  {
   "cell_type": "code",
   "execution_count": null,
   "id": "68e910f8",
   "metadata": {
    "ExecuteTime": {
     "end_time": "2022-05-26T13:11:24.510427Z",
     "start_time": "2022-05-26T13:11:24.463511Z"
    },
    "hidden": true
   },
   "outputs": [],
   "source": [
    "df_recency = df_purchases[['customer_id', 'invoice_date']].groupby( 'customer_id' ).max().reset_index()\n",
    "df_recency['recency_days'] = ( df_purchases['invoice_date'].max() - df_recency['invoice_date'] ).dt.days\n",
    "df_recency = df_recency[['customer_id', 'recency_days']].copy()\n",
    "df_ref = pd.merge( df_ref, df_recency, on='customer_id', how='left' )\n",
    "df_ref.head()"
   ]
  },
  {
   "cell_type": "markdown",
   "id": "6b3d685a",
   "metadata": {},
   "source": [
    "### 4.1.5. Quantity of Products Purchased"
   ]
  },
  {
   "cell_type": "code",
   "execution_count": null,
   "id": "27f881fa",
   "metadata": {
    "ExecuteTime": {
     "end_time": "2022-05-26T13:11:24.620454Z",
     "start_time": "2022-05-26T13:11:24.511428Z"
    }
   },
   "outputs": [],
   "source": [
    "df_freq = df_purchases[['customer_id', 'stock_code']].groupby( 'customer_id' ).count().rename( columns={\"stock_code\":\"qtd_products\"}).reset_index()\n",
    "df_ref = pd.merge( df_ref, df_freq, on='customer_id', how='left' )\n",
    "df_ref.head()"
   ]
  },
  {
   "cell_type": "markdown",
   "id": "73fa2276",
   "metadata": {},
   "source": [
    "### 4.1.8. Returns"
   ]
  },
  {
   "cell_type": "code",
   "execution_count": null,
   "id": "1e48bf17",
   "metadata": {
    "ExecuteTime": {
     "end_time": "2022-05-26T13:11:24.652487Z",
     "start_time": "2022-05-26T13:11:24.621455Z"
    }
   },
   "outputs": [],
   "source": [
    "df_ret = df_returns[['customer_id', 'quantity']].groupby( 'customer_id' ).sum().reset_index().rename( columns={\"quantity\":\"qtd_returns\"} )\n",
    "df_ret['qtd_returns'] = df_ret['qtd_returns'] * -1\n",
    "df_ref = pd.merge( df_ref, df_ret, how='left', on='customer_id' )\n",
    "df_ref.loc[df_ref['qtd_returns'].isna(), 'qtd_returns'] = 0\n",
    "df_ref.head()"
   ]
  },
  {
   "cell_type": "markdown",
   "id": "f42d72be",
   "metadata": {
    "heading_collapsed": true
   },
   "source": [
    "### 4.1.9. Frequency Purchase"
   ]
  },
  {
   "cell_type": "code",
   "execution_count": null,
   "id": "ad805966",
   "metadata": {
    "ExecuteTime": {
     "end_time": "2022-05-26T13:11:25.777969Z",
     "start_time": "2022-05-26T13:11:24.653487Z"
    },
    "hidden": true
   },
   "outputs": [],
   "source": [
    "df_aux = ( df_purchases[['customer_id', 'invoice_no', 'invoice_date']].drop_duplicates()\n",
    "                                                                      .groupby( 'customer_id' )\n",
    "                                                                      .agg( max_date = ('invoice_date', 'max'),\n",
    "                                                                            min_date = ('invoice_date', 'min'),\n",
    "                                                                            days     = ('invoice_date', lambda x: (( x.max() - x.min() ).days) + 1 ),\n",
    "                                                                            buy      = ('invoice_no', 'count') ) ).reset_index()\n",
    "\n",
    "# frequency \n",
    "df_aux['frequency'] = df_aux[['buy', 'days']].apply( lambda x: x['buy'] / x['days'] if x['days'] != 0 else 0, axis=1 )\n",
    "\n",
    "# merge\n",
    "df_ref = pd.merge( df_ref, df_aux[['customer_id', 'frequency']], on='customer_id', how='left' )\n",
    "df_ref.head()"
   ]
  },
  {
   "cell_type": "markdown",
   "id": "f97d36d0",
   "metadata": {
    "heading_collapsed": true
   },
   "source": [
    "## 4.2. Checking NAs"
   ]
  },
  {
   "cell_type": "code",
   "execution_count": null,
   "id": "a7b28f46",
   "metadata": {
    "ExecuteTime": {
     "end_time": "2022-05-26T13:11:35.481345Z",
     "start_time": "2022-05-26T13:11:35.468344Z"
    },
    "hidden": true
   },
   "outputs": [],
   "source": [
    "# checking possible NAs created by the merge\n",
    "df_ref.isna().sum()"
   ]
  },
  {
   "cell_type": "markdown",
   "id": "94d6e891",
   "metadata": {
    "ExecuteTime": {
     "end_time": "2022-03-26T14:43:53.830875Z",
     "start_time": "2022-03-26T14:43:53.816872Z"
    }
   },
   "source": [
    "# 5. EDA"
   ]
  },
  {
   "cell_type": "code",
   "execution_count": null,
   "id": "5b52f4ae",
   "metadata": {
    "ExecuteTime": {
     "end_time": "2022-05-26T13:11:57.305002Z",
     "start_time": "2022-05-26T13:11:57.291997Z"
    }
   },
   "outputs": [],
   "source": [
    "df5 = df_ref.dropna().copy()"
   ]
  },
  {
   "cell_type": "markdown",
   "id": "7fb5f40b",
   "metadata": {},
   "source": [
    "## 5.3. Data Space Study"
   ]
  },
  {
   "cell_type": "code",
   "execution_count": null,
   "id": "a2bff0fb",
   "metadata": {
    "ExecuteTime": {
     "end_time": "2022-05-26T13:13:12.614684Z",
     "start_time": "2022-05-26T13:13:12.594207Z"
    }
   },
   "outputs": [],
   "source": [
    "cols_select = ['customer_id', 'gross_revenue', 'recency_days', 'qtd_products', 'frequency', 'qtd_returns']\n",
    "df53 = df5[ cols_select ].drop( columns='customer_id', axis=1 )"
   ]
  },
  {
   "cell_type": "code",
   "execution_count": null,
   "id": "0dc36d5b",
   "metadata": {
    "ExecuteTime": {
     "end_time": "2022-05-26T13:13:20.185733Z",
     "start_time": "2022-05-26T13:13:20.158727Z"
    }
   },
   "outputs": [],
   "source": [
    "mm = MinMaxScaler()\n",
    "\n",
    "df53['gross_revenue']          = mm.fit_transform( df53[['gross_revenue']] )\n",
    "df53['recency_days']           = mm.fit_transform( df53[['recency_days']] )\n",
    "df53['qtd_products']           = mm.fit_transform( df53[['qtd_products']] )\n",
    "df53['qtd_returns']            = mm.fit_transform( df53[['qtd_returns']] )\n",
    "df53['frequency']              = mm.fit_transform( df53[['frequency']] )"
   ]
  },
  {
   "cell_type": "markdown",
   "id": "ebe91953",
   "metadata": {},
   "source": [
    "### 5.3.1. Tree-Based Embedding"
   ]
  },
  {
   "cell_type": "code",
   "execution_count": null,
   "id": "8d9d15d4",
   "metadata": {
    "ExecuteTime": {
     "end_time": "2022-05-26T15:20:54.916025Z",
     "start_time": "2022-05-26T15:20:54.899023Z"
    }
   },
   "outputs": [],
   "source": [
    "# training dataset\n",
    "X = df53.drop( columns=['gross_revenue'], axis=1 )\n",
    "y = df53['gross_revenue']"
   ]
  },
  {
   "cell_type": "code",
   "execution_count": null,
   "id": "4d497f2a",
   "metadata": {
    "ExecuteTime": {
     "end_time": "2022-05-26T15:20:56.404284Z",
     "start_time": "2022-05-26T15:20:55.289032Z"
    }
   },
   "outputs": [],
   "source": [
    "# model definition\n",
    "rf_model = RandomForestRegressor( n_estimators=400, random_state=0, n_jobs=-1 )\n",
    "\n",
    "# model training\n",
    "rf_model.fit( X, y );\n",
    "\n",
    "# leaf\n",
    "df_leaf = pd.DataFrame( rf_model.apply( X ) )"
   ]
  },
  {
   "cell_type": "code",
   "execution_count": null,
   "id": "49f23c48",
   "metadata": {
    "ExecuteTime": {
     "end_time": "2022-05-26T15:21:05.666103Z",
     "start_time": "2022-05-26T15:20:57.642352Z"
    }
   },
   "outputs": [],
   "source": [
    "# reduce dimensionality\n",
    "reducer = umap.UMAP( random_state=0 )\n",
    "embedding = reducer.fit_transform( df_leaf )\n",
    "\n",
    "# embedding \n",
    "df_tree = pd.DataFrame()\n",
    "df_tree['embedding_x'] = embedding[:, 0]\n",
    "df_tree['embedding_y'] = embedding[:, 1]\n",
    "\n",
    "# plot UMAP\n",
    "sns.scatterplot( x='embedding_x', y='embedding_y', data=df_tree )\n",
    "plt.show();"
   ]
  },
  {
   "cell_type": "code",
   "execution_count": null,
   "id": "3755b40a",
   "metadata": {
    "ExecuteTime": {
     "end_time": "2022-05-26T14:55:26.581708Z",
     "start_time": "2022-05-26T14:55:18.872965Z"
    }
   },
   "outputs": [],
   "source": [
    "reducer = umap.UMAP( random_state=0 )\n",
    "embedding = reducer.fit_transform( df53 )\n",
    "\n",
    "df_umap = pd.DataFrame()\n",
    "\n",
    "# embedding \n",
    "df_umap['embedding_x'] = embedding[:, 0]\n",
    "df_umap['embedding_y'] = embedding[:, 1]\n",
    "\n",
    "# plot UMAP\n",
    "sns.scatterplot( x='embedding_x', y='embedding_y', data=df_umap )\n",
    "plt.show();"
   ]
  },
  {
   "cell_type": "code",
   "execution_count": null,
   "id": "baf5f632",
   "metadata": {
    "ExecuteTime": {
     "end_time": "2022-05-26T15:30:58.726653Z",
     "start_time": "2022-05-26T15:30:58.721653Z"
    }
   },
   "outputs": [],
   "source": [
    "df_tree = df53.drop( columns=['qtd_products'], axis=1 )"
   ]
  },
  {
   "cell_type": "markdown",
   "id": "0540b671",
   "metadata": {},
   "source": [
    "# 6. Data Preparation"
   ]
  },
  {
   "cell_type": "code",
   "execution_count": null,
   "id": "03fb9fc3",
   "metadata": {
    "ExecuteTime": {
     "end_time": "2022-05-26T15:30:59.325298Z",
     "start_time": "2022-05-26T15:30:59.309294Z"
    }
   },
   "outputs": [],
   "source": [
    "df6 = df_tree.copy()"
   ]
  },
  {
   "cell_type": "markdown",
   "id": "07c6fa42",
   "metadata": {},
   "source": [
    "# 7. Feature Selection"
   ]
  },
  {
   "cell_type": "code",
   "execution_count": null,
   "id": "1f92b43c",
   "metadata": {
    "ExecuteTime": {
     "end_time": "2022-05-26T15:30:59.845685Z",
     "start_time": "2022-05-26T15:30:59.836682Z"
    }
   },
   "outputs": [],
   "source": [
    "df7 = df_tree.copy()"
   ]
  },
  {
   "cell_type": "markdown",
   "id": "f9a5cc6f",
   "metadata": {},
   "source": [
    "# 8. Hyperparameter Fine-Tunning"
   ]
  },
  {
   "cell_type": "code",
   "execution_count": null,
   "id": "7e206aa7",
   "metadata": {
    "ExecuteTime": {
     "end_time": "2022-05-26T15:31:00.690709Z",
     "start_time": "2022-05-26T15:31:00.676706Z"
    }
   },
   "outputs": [],
   "source": [
    "X = df_tree.copy()\n",
    "X.head()"
   ]
  },
  {
   "cell_type": "code",
   "execution_count": null,
   "id": "bb199e04",
   "metadata": {
    "ExecuteTime": {
     "end_time": "2022-05-26T15:31:03.667950Z",
     "start_time": "2022-05-26T15:31:03.656947Z"
    }
   },
   "outputs": [],
   "source": [
    "clusters = np.arange( 2, 30, 1 )"
   ]
  },
  {
   "cell_type": "markdown",
   "id": "303b3621",
   "metadata": {},
   "source": [
    "## 8.1. K-Means"
   ]
  },
  {
   "cell_type": "code",
   "execution_count": null,
   "id": "357e5bee",
   "metadata": {
    "ExecuteTime": {
     "end_time": "2022-05-26T15:31:25.778534Z",
     "start_time": "2022-05-26T15:31:09.019737Z"
    }
   },
   "outputs": [],
   "source": [
    "kmeans_list = []\n",
    "\n",
    "for k in clusters:\n",
    "    # model definition\n",
    "    kmeans_model = KMeans( n_clusters=k, random_state=42 )\n",
    "\n",
    "    # model training \n",
    "    kmeans_model.fit( X )\n",
    "\n",
    "    # model predict\n",
    "    labels = kmeans_model.predict( X )\n",
    "\n",
    "    # model performance\n",
    "    sil = silhouette_score( X, labels, metric='euclidean' )\n",
    "    kmeans_list.append( sil )"
   ]
  },
  {
   "cell_type": "code",
   "execution_count": null,
   "id": "4754d91f",
   "metadata": {
    "ExecuteTime": {
     "end_time": "2022-05-26T15:31:25.890560Z",
     "start_time": "2022-05-26T15:31:25.779535Z"
    }
   },
   "outputs": [],
   "source": [
    "plt.plot( clusters, kmeans_list, linestyle='--', marker='o', color='b' )\n",
    "plt.xlabel( 'K' )\n",
    "plt.ylabel( 'Silhouette Score' )\n",
    "plt.title( 'Silhouette Score x K' );"
   ]
  },
  {
   "cell_type": "markdown",
   "id": "095e8b8e",
   "metadata": {},
   "source": [
    "## 8.2. GMM"
   ]
  },
  {
   "cell_type": "code",
   "execution_count": null,
   "id": "6a61b715",
   "metadata": {
    "ExecuteTime": {
     "end_time": "2022-05-26T15:31:50.046025Z",
     "start_time": "2022-05-26T15:31:25.891560Z"
    }
   },
   "outputs": [],
   "source": [
    "gmm_list = []\n",
    "\n",
    "for k in clusters:\n",
    "    # model definition\n",
    "    gmm_model = GaussianMixture( n_components=k, random_state=42 )\n",
    "\n",
    "    # model training \n",
    "    gmm_model.fit( X )\n",
    "\n",
    "    # model predict\n",
    "    labels = gmm_model.predict( X )\n",
    "\n",
    "    # model performance\n",
    "    sil = silhouette_score( X, labels, metric='euclidean' )\n",
    "    gmm_list.append( sil )"
   ]
  },
  {
   "cell_type": "code",
   "execution_count": null,
   "id": "6899c4bf",
   "metadata": {
    "ExecuteTime": {
     "end_time": "2022-05-26T15:31:50.141048Z",
     "start_time": "2022-05-26T15:31:50.048027Z"
    }
   },
   "outputs": [],
   "source": [
    "plt.plot( clusters, gmm_list, linestyle='--', marker='o', color='b' )\n",
    "plt.xlabel( 'K' )\n",
    "plt.ylabel( 'Silhouette Score' )\n",
    "plt.title( 'Silhouette Score x K' );"
   ]
  },
  {
   "cell_type": "markdown",
   "id": "6cff8350",
   "metadata": {},
   "source": [
    "## 8.3. Hierarchical Clustering"
   ]
  },
  {
   "cell_type": "code",
   "execution_count": null,
   "id": "3a827fe5",
   "metadata": {
    "ExecuteTime": {
     "end_time": "2022-05-26T15:32:20.953019Z",
     "start_time": "2022-05-26T15:31:50.142048Z"
    }
   },
   "outputs": [],
   "source": [
    "hc_list = []\n",
    "\n",
    "for k in clusters:\n",
    "    # model definition and training\n",
    "    hc_model = linkage( X, 'ward' )\n",
    "\n",
    "    # model predict\n",
    "    labels = fcluster( hc_model, k, criterion='maxclust' )\n",
    "\n",
    "    # metrics\n",
    "    sil = silhouette_score( X, labels, metric='euclidean' )\n",
    "    hc_list.append( sil )"
   ]
  },
  {
   "cell_type": "code",
   "execution_count": null,
   "id": "16401413",
   "metadata": {
    "ExecuteTime": {
     "end_time": "2022-05-26T15:32:21.049041Z",
     "start_time": "2022-05-26T15:32:20.954020Z"
    }
   },
   "outputs": [],
   "source": [
    "plt.plot( clusters, hc_list, linestyle='--', marker='o', color='b' )\n",
    "plt.xlabel( 'K' )\n",
    "plt.ylabel( 'Silhouette Score' )\n",
    "plt.title( 'Silhouette Score x K' );"
   ]
  },
  {
   "cell_type": "markdown",
   "id": "cd331bc9",
   "metadata": {},
   "source": [
    "## 8.4. Results"
   ]
  },
  {
   "cell_type": "code",
   "execution_count": null,
   "id": "c55e090d",
   "metadata": {
    "ExecuteTime": {
     "end_time": "2022-05-26T15:32:21.064480Z",
     "start_time": "2022-05-26T15:32:21.050043Z"
    }
   },
   "outputs": [],
   "source": [
    "df_results = pd.DataFrame(\n",
    "    {'KMeans':kmeans_list, 'GMM': gmm_list, 'HC': hc_list}\n",
    ").T\n",
    "\n",
    "df_results.columns = clusters"
   ]
  },
  {
   "cell_type": "code",
   "execution_count": null,
   "id": "b2287302",
   "metadata": {
    "ExecuteTime": {
     "end_time": "2022-05-26T15:32:21.080486Z",
     "start_time": "2022-05-26T15:32:21.065484Z"
    }
   },
   "outputs": [],
   "source": [
    "df_results.style.highlight_max( color='lightgreen', axis=1 )"
   ]
  },
  {
   "cell_type": "markdown",
   "id": "e1123e52",
   "metadata": {},
   "source": [
    "# 9. Model Training"
   ]
  },
  {
   "cell_type": "markdown",
   "id": "4da209ab",
   "metadata": {},
   "source": [
    "## 9.1. K-Means"
   ]
  },
  {
   "cell_type": "code",
   "execution_count": null,
   "id": "dc85fb4c",
   "metadata": {
    "ExecuteTime": {
     "end_time": "2022-05-26T15:34:16.580108Z",
     "start_time": "2022-05-26T15:34:16.438078Z"
    }
   },
   "outputs": [],
   "source": [
    "# model definition\n",
    "k = 8\n",
    "\n",
    "kmeans = KMeans( init='random', n_clusters=k, max_iter=300, random_state=42 )\n",
    "\n",
    "# model training\n",
    "kmeans.fit( X )\n",
    "\n",
    "# clustering\n",
    "labels = kmeans.labels_"
   ]
  },
  {
   "cell_type": "markdown",
   "id": "9094b159",
   "metadata": {},
   "source": [
    "## 9.2. Cluster Validation"
   ]
  },
  {
   "cell_type": "code",
   "execution_count": null,
   "id": "253e675f",
   "metadata": {
    "ExecuteTime": {
     "end_time": "2022-05-26T15:34:17.593203Z",
     "start_time": "2022-05-26T15:34:17.147164Z"
    }
   },
   "outputs": [],
   "source": [
    "# WSS \n",
    "print( 'WSS value: {}'.format( kmeans.inertia_ ) )\n",
    "\n",
    "# SS\n",
    "print( 'SS value: {}'.format( silhouette_score( X, labels, metric='euclidean' ) ) )"
   ]
  },
  {
   "cell_type": "markdown",
   "id": "52d2a408",
   "metadata": {},
   "source": [
    "# 10. Cluster Analysis"
   ]
  },
  {
   "cell_type": "code",
   "execution_count": null,
   "id": "8b089cfd",
   "metadata": {
    "ExecuteTime": {
     "end_time": "2022-05-26T15:34:23.696347Z",
     "start_time": "2022-05-26T15:34:23.673342Z"
    }
   },
   "outputs": [],
   "source": [
    "df10 = X.copy()\n",
    "df10['cluster'] = labels\n",
    "df10.head()"
   ]
  },
  {
   "cell_type": "markdown",
   "id": "e23f6bf3",
   "metadata": {},
   "source": [
    "## 10.2. Cluster Profile"
   ]
  },
  {
   "cell_type": "code",
   "execution_count": null,
   "id": "a98d4b05",
   "metadata": {
    "ExecuteTime": {
     "end_time": "2022-05-26T15:34:26.132870Z",
     "start_time": "2022-05-26T15:34:26.115867Z"
    }
   },
   "outputs": [],
   "source": [
    "df10_aux = df5[cols_select].copy()\n",
    "df10_aux['cluster'] = labels\n",
    "\n",
    "# change dtypes\n",
    "df10_aux['recency_days'] = df10_aux['recency_days'].astype( int )\n",
    "df10_aux['qtd_products'] = df10_aux['qtd_products'].astype( int )\n",
    "df10_aux['qtd_returns'] = df10_aux['qtd_returns'].astype( int )\n",
    "\n",
    "# show\n",
    "df10_aux.head()"
   ]
  },
  {
   "cell_type": "code",
   "execution_count": null,
   "id": "cf201f2c",
   "metadata": {
    "ExecuteTime": {
     "end_time": "2022-05-26T15:34:26.546364Z",
     "start_time": "2022-05-26T15:34:26.498355Z"
    }
   },
   "outputs": [],
   "source": [
    "# number of customers\n",
    "df_cluster = df10_aux[['customer_id', 'cluster']].groupby( 'cluster' ).count().reset_index()\n",
    "df_cluster['perc_customer'] = 100 * df_cluster['customer_id'] / df_cluster['customer_id'].sum()\n",
    "\n",
    "# Avg Gross revenue\n",
    "df_avg_gross_rev = df10_aux[['gross_revenue', 'cluster']].groupby( 'cluster' ).mean().reset_index()\n",
    "df_cluster = pd.merge( df_cluster, df_avg_gross_rev, how='inner', on='cluster' )\n",
    "\n",
    "# Avg Recency days\n",
    "df_avg_rec_days = df10_aux[['recency_days', 'cluster']].groupby( 'cluster' ).mean().reset_index()\n",
    "df_cluster = pd.merge( df_cluster, df_avg_rec_days, how='inner', on='cluster' )\n",
    "\n",
    "# Avg frequency\n",
    "df_avg_invoice_no = df10_aux[['frequency', 'cluster']].groupby( 'cluster' ).mean().reset_index()\n",
    "df_cluster = pd.merge( df_cluster, df_avg_invoice_no, how='inner', on='cluster' )\n",
    "\n",
    "# Avg quantity of products\n",
    "df_avg_qtd_products = df10_aux[['qtd_products', 'cluster']].groupby( 'cluster' ).mean().reset_index()\n",
    "df_cluster = pd.merge( df_cluster, df_avg_qtd_products, how='inner', on='cluster' )\n",
    "\n",
    "# Avg returns\n",
    "df_returns = df10_aux[['qtd_returns', 'cluster']].groupby( 'cluster' ).mean().reset_index()\n",
    "df_cluster = pd.merge( df_cluster, df_returns, how='inner', on='cluster' )\n",
    "\n",
    "# rename columns\n",
    "df_cluster.rename( columns={ \"customer_id\":\"qtd_customers\", \"gross_revenue\":\"avg_gross_revenue\", \"recency_days\":\"avg_recency_days\", \"frequency\":\"avg_frequency\",\"qtd_products\":\"avg_qtd_products\" ,\"qtd_returns\":\"avg_returns\"}, inplace=True )\n",
    "df_cluster.sort_values( by=['avg_gross_revenue'], ascending=False )"
   ]
  },
  {
   "cell_type": "code",
   "execution_count": null,
   "id": "bc05a7de",
   "metadata": {
    "ExecuteTime": {
     "end_time": "2022-05-26T15:23:20.725816Z",
     "start_time": "2022-05-26T15:23:20.708821Z"
    }
   },
   "outputs": [],
   "source": [
    "df10_aux[ df10_aux['cluster'] == 1].sort_values( by=['gross_revenue'], ascending=False )"
   ]
  },
  {
   "cell_type": "code",
   "execution_count": null,
   "id": "bba3fbec",
   "metadata": {
    "ExecuteTime": {
     "end_time": "2022-05-26T15:24:28.345011Z",
     "start_time": "2022-05-26T15:24:28.321006Z"
    }
   },
   "outputs": [],
   "source": [
    "df10_aux[ df10_aux['cluster'] == 2].sort_values( by=['gross_revenue'], ascending=False ).head()"
   ]
  },
  {
   "cell_type": "markdown",
   "id": "c5c0563a",
   "metadata": {},
   "source": [
    "* **Clusters**:\n",
    "\n",
    "**7.** Insiders\n",
    "\n",
    "**1.** 'More products'\n",
    "\n",
    "**5.** 'Spend money'\n",
    "\n",
    "**4.** 'Even more products'\n",
    "\n",
    "**3.** 'More frequency'\n",
    "\n",
    "**0.** 'Even more frequency'\n",
    "\n",
    "**2.** 'Less days'\n",
    " \n",
    "**6.** 'Even less days'"
   ]
  },
  {
   "cell_type": "markdown",
   "id": "faaf0a38",
   "metadata": {},
   "source": [
    "# 11. Deploy To Production"
   ]
  },
  {
   "cell_type": "code",
   "execution_count": null,
   "id": "7da71e24",
   "metadata": {
    "ExecuteTime": {
     "end_time": "2022-05-25T17:26:07.735418Z",
     "start_time": "2022-05-25T17:26:07.721414Z"
    }
   },
   "outputs": [],
   "source": [
    "df10_aux.dtypes"
   ]
  },
  {
   "cell_type": "markdown",
   "id": "16bc5431",
   "metadata": {},
   "source": [
    "## 11.1. Insert Into SQLite"
   ]
  },
  {
   "cell_type": "code",
   "execution_count": null,
   "id": "c7fd61a3",
   "metadata": {
    "ExecuteTime": {
     "end_time": "2022-05-25T17:26:07.751422Z",
     "start_time": "2022-05-25T17:26:07.736417Z"
    }
   },
   "outputs": [],
   "source": [
    "# connection\n",
    "#conn = sqlite3.connect( 'insiders_db.sqlite' )\n",
    "#\n",
    "## create table\n",
    "#query_create_table_insiders = \"\"\"\n",
    "#    CREATE TABLE insiders (\n",
    "#        customer_id     INTEGER,\n",
    "#        gross_revenue   REAL,\n",
    "#        recency_days    INTEGER,\n",
    "#        qtd_products    INTEGER,   \n",
    "#        frequency       REAL,\n",
    "#        qtd_returns     INTEGER,\n",
    "#        cluster         INTEGER\n",
    "#    )\n",
    "#\n",
    "#\"\"\"\n",
    "#conn.execute( query_create_table_insiders )\n",
    "#conn.commit()\n",
    "#conn.close()"
   ]
  },
  {
   "cell_type": "code",
   "execution_count": null,
   "id": "541553c4",
   "metadata": {
    "ExecuteTime": {
     "end_time": "2022-05-25T17:26:07.782176Z",
     "start_time": "2022-05-25T17:26:07.753423Z"
    }
   },
   "outputs": [],
   "source": [
    "# insert table\n",
    "conn = create_engine( 'sqlite:///insiders_db.sqlite' )\n",
    "#df10_aux.to_sql( 'insiders', con=conn, if_exists='append', index=False )"
   ]
  },
  {
   "cell_type": "code",
   "execution_count": null,
   "id": "9b20d1ab",
   "metadata": {
    "ExecuteTime": {
     "end_time": "2022-05-25T17:26:07.813188Z",
     "start_time": "2022-05-25T17:26:07.783175Z"
    }
   },
   "outputs": [],
   "source": [
    "# consulting database\n",
    "query = \"\"\" \n",
    "    SELECT * FROM INSIDERS \n",
    "\"\"\"\n",
    "\n",
    "df = pd.read_sql_query( query, conn )"
   ]
  },
  {
   "cell_type": "code",
   "execution_count": null,
   "id": "367ee976",
   "metadata": {
    "ExecuteTime": {
     "end_time": "2022-05-25T17:29:20.921157Z",
     "start_time": "2022-05-25T17:29:20.915153Z"
    }
   },
   "outputs": [],
   "source": [
    "df.shape"
   ]
  }
 ],
 "metadata": {
  "kernelspec": {
   "display_name": "Python 3 (ipykernel)",
   "language": "python",
   "name": "python3"
  },
  "language_info": {
   "codemirror_mode": {
    "name": "ipython",
    "version": 3
   },
   "file_extension": ".py",
   "mimetype": "text/x-python",
   "name": "python",
   "nbconvert_exporter": "python",
   "pygments_lexer": "ipython3",
   "version": "3.8.12"
  }
 },
 "nbformat": 4,
 "nbformat_minor": 5
}
