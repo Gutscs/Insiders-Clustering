{
 "cells": [
  {
   "cell_type": "markdown",
   "id": "baf5b796",
   "metadata": {
    "ExecuteTime": {
     "end_time": "2022-03-23T00:25:21.044668Z",
     "start_time": "2022-03-23T00:25:21.029162Z"
    }
   },
   "source": [
    "# 1. Imports"
   ]
  },
  {
   "cell_type": "code",
   "execution_count": 1,
   "id": "7d9ebd13",
   "metadata": {
    "ExecuteTime": {
     "end_time": "2022-05-30T21:06:23.743505Z",
     "start_time": "2022-05-30T21:06:18.067125Z"
    }
   },
   "outputs": [
    {
     "name": "stderr",
     "output_type": "stream",
     "text": [
      "C:\\Users\\gutsc\\anaconda3\\envs\\insiders_clustering\\lib\\site-packages\\tqdm\\auto.py:22: TqdmWarning: IProgress not found. Please update jupyter and ipywidgets. See https://ipywidgets.readthedocs.io/en/stable/user_install.html\n",
      "  from .autonotebook import tqdm as notebook_tqdm\n"
     ]
    }
   ],
   "source": [
    "import re\n",
    "import sqlite3\n",
    "import s3fs\n",
    "import os\n",
    "import pickle\n",
    "\n",
    "import pandas       as pd\n",
    "import numpy        as np\n",
    "import seaborn      as sns\n",
    "import umap.umap_   as umap\n",
    "\n",
    "from matplotlib              import pyplot        as plt\n",
    "from plotly                  import express       as px\n",
    "from sklearn                 import preprocessing as pp\n",
    "from matplotlib              import cm\n",
    "from sqlalchemy              import create_engine\n",
    "from dotenv                  import load_dotenv, find_dotenv\n",
    "\n",
    "from sklearn.metrics         import silhouette_score, silhouette_samples\n",
    "from sklearn.cluster         import KMeans, DBSCAN\n",
    "from sklearn.preprocessing   import MinMaxScaler\n",
    "from sklearn.decomposition   import PCA\n",
    "from sklearn.manifold        import TSNE\n",
    "from sklearn.ensemble        import RandomForestRegressor\n",
    "from sklearn.mixture         import GaussianMixture\n",
    "from sklearn.neighbors       import NearestNeighbors\n",
    "\n",
    "from scipy.cluster.hierarchy import linkage, dendrogram, fcluster"
   ]
  },
  {
   "cell_type": "markdown",
   "id": "ac35f79b",
   "metadata": {},
   "source": [
    "## 1.2. Load Dataset"
   ]
  },
  {
   "cell_type": "code",
   "execution_count": 2,
   "id": "ec475856",
   "metadata": {
    "ExecuteTime": {
     "end_time": "2022-05-30T21:06:24.654794Z",
     "start_time": "2022-05-30T21:06:23.744506Z"
    }
   },
   "outputs": [
    {
     "data": {
      "text/plain": [
       "['insiders-dataset-gcs/Ecommerce.csv',\n",
       " 'insiders-dataset-gcs/frequency_scaler.pkl',\n",
       " 'insiders-dataset-gcs/gross_revenue_scaler.pkl',\n",
       " 'insiders-dataset-gcs/qtd_products_scaler.pkl',\n",
       " 'insiders-dataset-gcs/qtd_returns_scaler.pkl',\n",
       " 'insiders-dataset-gcs/recency_days_scaler.pkl']"
      ]
     },
     "execution_count": 2,
     "metadata": {},
     "output_type": "execute_result"
    }
   ],
   "source": [
    "# load env variables\n",
    "load_dotenv(find_dotenv(), override=True)\n",
    "\n",
    "# get credentials\n",
    "aws_access_key_id = os.environ.get( 'aws_access_key_id' )\n",
    "aws_secret_access_key = os.environ.get( 'aws_secret_access_key' )\n",
    "region = os.environ.get( 'region' )\n",
    "\n",
    "# connect to S3\n",
    "path_s3 = 's3://insiders-dataset-gcs/'\n",
    "\n",
    "fs = s3fs.S3FileSystem( anon=False, key=aws_access_key_id, secret=aws_secret_access_key );"
   ]
  },
  {
   "cell_type": "code",
   "execution_count": 3,
   "id": "9b8f06fe",
   "metadata": {
    "ExecuteTime": {
     "end_time": "2022-05-30T21:06:45.776571Z",
     "start_time": "2022-05-30T21:06:24.655795Z"
    }
   },
   "outputs": [],
   "source": [
    "# load data\n",
    "df_raw = pd.read_csv( fs.open( path_s3 + 'Ecommerce.csv', 'rb' ),  encoding= 'unicode_escape' )\n",
    "\n",
    "# drop extra column\n",
    "df_raw.drop( columns='Unnamed: 8', axis=1, inplace=True)"
   ]
  },
  {
   "cell_type": "code",
   "execution_count": 5,
   "id": "106e92fe",
   "metadata": {
    "ExecuteTime": {
     "end_time": "2022-05-30T21:06:55.286772Z",
     "start_time": "2022-05-30T21:06:55.270768Z"
    }
   },
   "outputs": [
    {
     "data": {
      "text/html": [
       "<div>\n",
       "<style scoped>\n",
       "    .dataframe tbody tr th:only-of-type {\n",
       "        vertical-align: middle;\n",
       "    }\n",
       "\n",
       "    .dataframe tbody tr th {\n",
       "        vertical-align: top;\n",
       "    }\n",
       "\n",
       "    .dataframe thead th {\n",
       "        text-align: right;\n",
       "    }\n",
       "</style>\n",
       "<table border=\"1\" class=\"dataframe\">\n",
       "  <thead>\n",
       "    <tr style=\"text-align: right;\">\n",
       "      <th></th>\n",
       "      <th>InvoiceNo</th>\n",
       "      <th>StockCode</th>\n",
       "      <th>Description</th>\n",
       "      <th>Quantity</th>\n",
       "      <th>InvoiceDate</th>\n",
       "      <th>UnitPrice</th>\n",
       "      <th>CustomerID</th>\n",
       "      <th>Country</th>\n",
       "    </tr>\n",
       "  </thead>\n",
       "  <tbody>\n",
       "    <tr>\n",
       "      <th>0</th>\n",
       "      <td>536365</td>\n",
       "      <td>85123A</td>\n",
       "      <td>WHITE HANGING HEART T-LIGHT HOLDER</td>\n",
       "      <td>6</td>\n",
       "      <td>29-Nov-16</td>\n",
       "      <td>2.55</td>\n",
       "      <td>17850.0</td>\n",
       "      <td>United Kingdom</td>\n",
       "    </tr>\n",
       "    <tr>\n",
       "      <th>1</th>\n",
       "      <td>536365</td>\n",
       "      <td>71053</td>\n",
       "      <td>WHITE METAL LANTERN</td>\n",
       "      <td>6</td>\n",
       "      <td>29-Nov-16</td>\n",
       "      <td>3.39</td>\n",
       "      <td>17850.0</td>\n",
       "      <td>United Kingdom</td>\n",
       "    </tr>\n",
       "    <tr>\n",
       "      <th>2</th>\n",
       "      <td>536365</td>\n",
       "      <td>84406B</td>\n",
       "      <td>CREAM CUPID HEARTS COAT HANGER</td>\n",
       "      <td>8</td>\n",
       "      <td>29-Nov-16</td>\n",
       "      <td>2.75</td>\n",
       "      <td>17850.0</td>\n",
       "      <td>United Kingdom</td>\n",
       "    </tr>\n",
       "    <tr>\n",
       "      <th>3</th>\n",
       "      <td>536365</td>\n",
       "      <td>84029G</td>\n",
       "      <td>KNITTED UNION FLAG HOT WATER BOTTLE</td>\n",
       "      <td>6</td>\n",
       "      <td>29-Nov-16</td>\n",
       "      <td>3.39</td>\n",
       "      <td>17850.0</td>\n",
       "      <td>United Kingdom</td>\n",
       "    </tr>\n",
       "    <tr>\n",
       "      <th>4</th>\n",
       "      <td>536365</td>\n",
       "      <td>84029E</td>\n",
       "      <td>RED WOOLLY HOTTIE WHITE HEART.</td>\n",
       "      <td>6</td>\n",
       "      <td>29-Nov-16</td>\n",
       "      <td>3.39</td>\n",
       "      <td>17850.0</td>\n",
       "      <td>United Kingdom</td>\n",
       "    </tr>\n",
       "  </tbody>\n",
       "</table>\n",
       "</div>"
      ],
      "text/plain": [
       "  InvoiceNo StockCode                          Description  Quantity  \\\n",
       "0    536365    85123A   WHITE HANGING HEART T-LIGHT HOLDER         6   \n",
       "1    536365     71053                  WHITE METAL LANTERN         6   \n",
       "2    536365    84406B       CREAM CUPID HEARTS COAT HANGER         8   \n",
       "3    536365    84029G  KNITTED UNION FLAG HOT WATER BOTTLE         6   \n",
       "4    536365    84029E       RED WOOLLY HOTTIE WHITE HEART.         6   \n",
       "\n",
       "  InvoiceDate  UnitPrice  CustomerID         Country  \n",
       "0   29-Nov-16       2.55     17850.0  United Kingdom  \n",
       "1   29-Nov-16       3.39     17850.0  United Kingdom  \n",
       "2   29-Nov-16       2.75     17850.0  United Kingdom  \n",
       "3   29-Nov-16       3.39     17850.0  United Kingdom  \n",
       "4   29-Nov-16       3.39     17850.0  United Kingdom  "
      ]
     },
     "execution_count": 5,
     "metadata": {},
     "output_type": "execute_result"
    }
   ],
   "source": [
    "df_raw.head()"
   ]
  },
  {
   "cell_type": "markdown",
   "id": "eb0991ff",
   "metadata": {},
   "source": [
    "# 2. Data Description"
   ]
  },
  {
   "cell_type": "code",
   "execution_count": 6,
   "id": "6000d0cb",
   "metadata": {
    "ExecuteTime": {
     "end_time": "2022-05-30T21:06:56.051583Z",
     "start_time": "2022-05-30T21:06:56.040581Z"
    }
   },
   "outputs": [],
   "source": [
    "df2 = df_raw.copy()"
   ]
  },
  {
   "cell_type": "markdown",
   "id": "d1419773",
   "metadata": {},
   "source": [
    "## 2.1. Rename Columns"
   ]
  },
  {
   "cell_type": "code",
   "execution_count": 7,
   "id": "4d993c29",
   "metadata": {
    "ExecuteTime": {
     "end_time": "2022-05-30T21:06:56.369311Z",
     "start_time": "2022-05-30T21:06:56.350307Z"
    }
   },
   "outputs": [
    {
     "data": {
      "text/html": [
       "<div>\n",
       "<style scoped>\n",
       "    .dataframe tbody tr th:only-of-type {\n",
       "        vertical-align: middle;\n",
       "    }\n",
       "\n",
       "    .dataframe tbody tr th {\n",
       "        vertical-align: top;\n",
       "    }\n",
       "\n",
       "    .dataframe thead th {\n",
       "        text-align: right;\n",
       "    }\n",
       "</style>\n",
       "<table border=\"1\" class=\"dataframe\">\n",
       "  <thead>\n",
       "    <tr style=\"text-align: right;\">\n",
       "      <th></th>\n",
       "      <th>invoice_no</th>\n",
       "      <th>stock_code</th>\n",
       "      <th>description</th>\n",
       "      <th>quantity</th>\n",
       "      <th>invoice_date</th>\n",
       "      <th>unit_price</th>\n",
       "      <th>customer_id</th>\n",
       "      <th>country</th>\n",
       "    </tr>\n",
       "  </thead>\n",
       "  <tbody>\n",
       "    <tr>\n",
       "      <th>0</th>\n",
       "      <td>536365</td>\n",
       "      <td>85123A</td>\n",
       "      <td>WHITE HANGING HEART T-LIGHT HOLDER</td>\n",
       "      <td>6</td>\n",
       "      <td>29-Nov-16</td>\n",
       "      <td>2.55</td>\n",
       "      <td>17850.0</td>\n",
       "      <td>United Kingdom</td>\n",
       "    </tr>\n",
       "    <tr>\n",
       "      <th>1</th>\n",
       "      <td>536365</td>\n",
       "      <td>71053</td>\n",
       "      <td>WHITE METAL LANTERN</td>\n",
       "      <td>6</td>\n",
       "      <td>29-Nov-16</td>\n",
       "      <td>3.39</td>\n",
       "      <td>17850.0</td>\n",
       "      <td>United Kingdom</td>\n",
       "    </tr>\n",
       "    <tr>\n",
       "      <th>2</th>\n",
       "      <td>536365</td>\n",
       "      <td>84406B</td>\n",
       "      <td>CREAM CUPID HEARTS COAT HANGER</td>\n",
       "      <td>8</td>\n",
       "      <td>29-Nov-16</td>\n",
       "      <td>2.75</td>\n",
       "      <td>17850.0</td>\n",
       "      <td>United Kingdom</td>\n",
       "    </tr>\n",
       "    <tr>\n",
       "      <th>3</th>\n",
       "      <td>536365</td>\n",
       "      <td>84029G</td>\n",
       "      <td>KNITTED UNION FLAG HOT WATER BOTTLE</td>\n",
       "      <td>6</td>\n",
       "      <td>29-Nov-16</td>\n",
       "      <td>3.39</td>\n",
       "      <td>17850.0</td>\n",
       "      <td>United Kingdom</td>\n",
       "    </tr>\n",
       "    <tr>\n",
       "      <th>4</th>\n",
       "      <td>536365</td>\n",
       "      <td>84029E</td>\n",
       "      <td>RED WOOLLY HOTTIE WHITE HEART.</td>\n",
       "      <td>6</td>\n",
       "      <td>29-Nov-16</td>\n",
       "      <td>3.39</td>\n",
       "      <td>17850.0</td>\n",
       "      <td>United Kingdom</td>\n",
       "    </tr>\n",
       "  </tbody>\n",
       "</table>\n",
       "</div>"
      ],
      "text/plain": [
       "  invoice_no stock_code                          description  quantity  \\\n",
       "0     536365     85123A   WHITE HANGING HEART T-LIGHT HOLDER         6   \n",
       "1     536365      71053                  WHITE METAL LANTERN         6   \n",
       "2     536365     84406B       CREAM CUPID HEARTS COAT HANGER         8   \n",
       "3     536365     84029G  KNITTED UNION FLAG HOT WATER BOTTLE         6   \n",
       "4     536365     84029E       RED WOOLLY HOTTIE WHITE HEART.         6   \n",
       "\n",
       "  invoice_date  unit_price  customer_id         country  \n",
       "0    29-Nov-16        2.55      17850.0  United Kingdom  \n",
       "1    29-Nov-16        3.39      17850.0  United Kingdom  \n",
       "2    29-Nov-16        2.75      17850.0  United Kingdom  \n",
       "3    29-Nov-16        3.39      17850.0  United Kingdom  \n",
       "4    29-Nov-16        3.39      17850.0  United Kingdom  "
      ]
     },
     "execution_count": 7,
     "metadata": {},
     "output_type": "execute_result"
    }
   ],
   "source": [
    "cols_new = ['invoice_no', 'stock_code', 'description', 'quantity', 'invoice_date', 'unit_price', 'customer_id', 'country']\n",
    "\n",
    "# rename columns\n",
    "df2.columns = cols_new\n",
    "df2.head()"
   ]
  },
  {
   "cell_type": "markdown",
   "id": "3232b8e7",
   "metadata": {},
   "source": [
    "## 2.2. Data Dimensions"
   ]
  },
  {
   "cell_type": "code",
   "execution_count": 8,
   "id": "0972cafd",
   "metadata": {
    "ExecuteTime": {
     "end_time": "2022-05-30T21:06:56.656170Z",
     "start_time": "2022-05-30T21:06:56.648168Z"
    }
   },
   "outputs": [
    {
     "name": "stdout",
     "output_type": "stream",
     "text": [
      "Number of rows: 541909\n",
      "Number of columns: 8\n"
     ]
    }
   ],
   "source": [
    "print( 'Number of rows: {}'.format( df2.shape[0] ) )\n",
    "print( 'Number of columns: {}'.format( df2.shape[1] ) )"
   ]
  },
  {
   "cell_type": "markdown",
   "id": "819d18a4",
   "metadata": {},
   "source": [
    "## 2.3. Data Types"
   ]
  },
  {
   "cell_type": "code",
   "execution_count": 9,
   "id": "3208575b",
   "metadata": {
    "ExecuteTime": {
     "end_time": "2022-05-30T21:06:56.971180Z",
     "start_time": "2022-05-30T21:06:56.953176Z"
    }
   },
   "outputs": [
    {
     "data": {
      "text/plain": [
       "invoice_no       object\n",
       "stock_code       object\n",
       "description      object\n",
       "quantity          int64\n",
       "invoice_date     object\n",
       "unit_price      float64\n",
       "customer_id     float64\n",
       "country          object\n",
       "dtype: object"
      ]
     },
     "execution_count": 9,
     "metadata": {},
     "output_type": "execute_result"
    }
   ],
   "source": [
    "df2.dtypes"
   ]
  },
  {
   "cell_type": "markdown",
   "id": "4e5abbf5",
   "metadata": {},
   "source": [
    "## 2.4. Check NA"
   ]
  },
  {
   "cell_type": "code",
   "execution_count": 10,
   "id": "d58df37e",
   "metadata": {
    "ExecuteTime": {
     "end_time": "2022-05-30T21:06:57.634690Z",
     "start_time": "2022-05-30T21:06:57.250591Z"
    }
   },
   "outputs": [
    {
     "data": {
      "text/plain": [
       "invoice_no           0\n",
       "stock_code           0\n",
       "description       1454\n",
       "quantity             0\n",
       "invoice_date         0\n",
       "unit_price           0\n",
       "customer_id     135080\n",
       "country              0\n",
       "dtype: int64"
      ]
     },
     "execution_count": 10,
     "metadata": {},
     "output_type": "execute_result"
    }
   ],
   "source": [
    "df2.isna().sum()"
   ]
  },
  {
   "cell_type": "markdown",
   "id": "1890d61e",
   "metadata": {},
   "source": [
    "## 2.5. Replace NA"
   ]
  },
  {
   "cell_type": "code",
   "execution_count": 11,
   "id": "c1f5ff92",
   "metadata": {
    "ExecuteTime": {
     "end_time": "2022-05-30T21:06:57.681914Z",
     "start_time": "2022-05-30T21:06:57.636691Z"
    }
   },
   "outputs": [],
   "source": [
    "df_missing = df2.loc[df2['customer_id'].isna(), :]\n",
    "df_not_missing = df2.loc[~df2['customer_id'].isna(), :]"
   ]
  },
  {
   "cell_type": "code",
   "execution_count": 12,
   "id": "077c6824",
   "metadata": {
    "ExecuteTime": {
     "end_time": "2022-05-30T21:06:57.711922Z",
     "start_time": "2022-05-30T21:06:57.700920Z"
    }
   },
   "outputs": [
    {
     "data": {
      "text/plain": [
       "18287.0"
      ]
     },
     "execution_count": 12,
     "metadata": {},
     "output_type": "execute_result"
    }
   ],
   "source": [
    "# max customer_id\n",
    "df_not_missing['customer_id'].max()"
   ]
  },
  {
   "cell_type": "code",
   "execution_count": 13,
   "id": "5b1b6ce2",
   "metadata": {
    "ExecuteTime": {
     "end_time": "2022-05-30T21:06:57.853959Z",
     "start_time": "2022-05-30T21:06:57.829954Z"
    }
   },
   "outputs": [
    {
     "data": {
      "text/html": [
       "<div>\n",
       "<style scoped>\n",
       "    .dataframe tbody tr th:only-of-type {\n",
       "        vertical-align: middle;\n",
       "    }\n",
       "\n",
       "    .dataframe tbody tr th {\n",
       "        vertical-align: top;\n",
       "    }\n",
       "\n",
       "    .dataframe thead th {\n",
       "        text-align: right;\n",
       "    }\n",
       "</style>\n",
       "<table border=\"1\" class=\"dataframe\">\n",
       "  <thead>\n",
       "    <tr style=\"text-align: right;\">\n",
       "      <th></th>\n",
       "      <th>invoice_no</th>\n",
       "      <th>customer_id</th>\n",
       "    </tr>\n",
       "  </thead>\n",
       "  <tbody>\n",
       "    <tr>\n",
       "      <th>622</th>\n",
       "      <td>536414</td>\n",
       "      <td>19000</td>\n",
       "    </tr>\n",
       "    <tr>\n",
       "      <th>1443</th>\n",
       "      <td>536544</td>\n",
       "      <td>19001</td>\n",
       "    </tr>\n",
       "    <tr>\n",
       "      <th>1970</th>\n",
       "      <td>536545</td>\n",
       "      <td>19002</td>\n",
       "    </tr>\n",
       "    <tr>\n",
       "      <th>1971</th>\n",
       "      <td>536546</td>\n",
       "      <td>19003</td>\n",
       "    </tr>\n",
       "    <tr>\n",
       "      <th>1972</th>\n",
       "      <td>536547</td>\n",
       "      <td>19004</td>\n",
       "    </tr>\n",
       "  </tbody>\n",
       "</table>\n",
       "</div>"
      ],
      "text/plain": [
       "     invoice_no  customer_id\n",
       "622      536414        19000\n",
       "1443     536544        19001\n",
       "1970     536545        19002\n",
       "1971     536546        19003\n",
       "1972     536547        19004"
      ]
     },
     "execution_count": 13,
     "metadata": {},
     "output_type": "execute_result"
    }
   ],
   "source": [
    "# create reference\n",
    "df_backup = pd.DataFrame( df_missing['invoice_no'].drop_duplicates() )\n",
    "df_backup['customer_id'] = np.arange( 19000, 19000 + len(df_backup), 1 )\n",
    "df_backup.head()"
   ]
  },
  {
   "cell_type": "code",
   "execution_count": 14,
   "id": "791f56e1",
   "metadata": {
    "ExecuteTime": {
     "end_time": "2022-05-30T21:06:58.091049Z",
     "start_time": "2022-05-30T21:06:57.979596Z"
    }
   },
   "outputs": [
    {
     "data": {
      "text/html": [
       "<div>\n",
       "<style scoped>\n",
       "    .dataframe tbody tr th:only-of-type {\n",
       "        vertical-align: middle;\n",
       "    }\n",
       "\n",
       "    .dataframe tbody tr th {\n",
       "        vertical-align: top;\n",
       "    }\n",
       "\n",
       "    .dataframe thead th {\n",
       "        text-align: right;\n",
       "    }\n",
       "</style>\n",
       "<table border=\"1\" class=\"dataframe\">\n",
       "  <thead>\n",
       "    <tr style=\"text-align: right;\">\n",
       "      <th></th>\n",
       "      <th>invoice_no</th>\n",
       "      <th>stock_code</th>\n",
       "      <th>description</th>\n",
       "      <th>quantity</th>\n",
       "      <th>invoice_date</th>\n",
       "      <th>unit_price</th>\n",
       "      <th>customer_id_x</th>\n",
       "      <th>country</th>\n",
       "      <th>customer_id_y</th>\n",
       "    </tr>\n",
       "  </thead>\n",
       "  <tbody>\n",
       "    <tr>\n",
       "      <th>0</th>\n",
       "      <td>536365</td>\n",
       "      <td>85123A</td>\n",
       "      <td>WHITE HANGING HEART T-LIGHT HOLDER</td>\n",
       "      <td>6</td>\n",
       "      <td>29-Nov-16</td>\n",
       "      <td>2.55</td>\n",
       "      <td>17850.0</td>\n",
       "      <td>United Kingdom</td>\n",
       "      <td>NaN</td>\n",
       "    </tr>\n",
       "    <tr>\n",
       "      <th>1</th>\n",
       "      <td>536365</td>\n",
       "      <td>71053</td>\n",
       "      <td>WHITE METAL LANTERN</td>\n",
       "      <td>6</td>\n",
       "      <td>29-Nov-16</td>\n",
       "      <td>3.39</td>\n",
       "      <td>17850.0</td>\n",
       "      <td>United Kingdom</td>\n",
       "      <td>NaN</td>\n",
       "    </tr>\n",
       "    <tr>\n",
       "      <th>2</th>\n",
       "      <td>536365</td>\n",
       "      <td>84406B</td>\n",
       "      <td>CREAM CUPID HEARTS COAT HANGER</td>\n",
       "      <td>8</td>\n",
       "      <td>29-Nov-16</td>\n",
       "      <td>2.75</td>\n",
       "      <td>17850.0</td>\n",
       "      <td>United Kingdom</td>\n",
       "      <td>NaN</td>\n",
       "    </tr>\n",
       "    <tr>\n",
       "      <th>3</th>\n",
       "      <td>536365</td>\n",
       "      <td>84029G</td>\n",
       "      <td>KNITTED UNION FLAG HOT WATER BOTTLE</td>\n",
       "      <td>6</td>\n",
       "      <td>29-Nov-16</td>\n",
       "      <td>3.39</td>\n",
       "      <td>17850.0</td>\n",
       "      <td>United Kingdom</td>\n",
       "      <td>NaN</td>\n",
       "    </tr>\n",
       "    <tr>\n",
       "      <th>4</th>\n",
       "      <td>536365</td>\n",
       "      <td>84029E</td>\n",
       "      <td>RED WOOLLY HOTTIE WHITE HEART.</td>\n",
       "      <td>6</td>\n",
       "      <td>29-Nov-16</td>\n",
       "      <td>3.39</td>\n",
       "      <td>17850.0</td>\n",
       "      <td>United Kingdom</td>\n",
       "      <td>NaN</td>\n",
       "    </tr>\n",
       "  </tbody>\n",
       "</table>\n",
       "</div>"
      ],
      "text/plain": [
       "  invoice_no stock_code                          description  quantity  \\\n",
       "0     536365     85123A   WHITE HANGING HEART T-LIGHT HOLDER         6   \n",
       "1     536365      71053                  WHITE METAL LANTERN         6   \n",
       "2     536365     84406B       CREAM CUPID HEARTS COAT HANGER         8   \n",
       "3     536365     84029G  KNITTED UNION FLAG HOT WATER BOTTLE         6   \n",
       "4     536365     84029E       RED WOOLLY HOTTIE WHITE HEART.         6   \n",
       "\n",
       "  invoice_date  unit_price  customer_id_x         country  customer_id_y  \n",
       "0    29-Nov-16        2.55        17850.0  United Kingdom            NaN  \n",
       "1    29-Nov-16        3.39        17850.0  United Kingdom            NaN  \n",
       "2    29-Nov-16        2.75        17850.0  United Kingdom            NaN  \n",
       "3    29-Nov-16        3.39        17850.0  United Kingdom            NaN  \n",
       "4    29-Nov-16        3.39        17850.0  United Kingdom            NaN  "
      ]
     },
     "execution_count": 14,
     "metadata": {},
     "output_type": "execute_result"
    }
   ],
   "source": [
    "# merge original with reference\n",
    "df2 = pd.merge( df2, df_backup, on='invoice_no', how='left' )\n",
    "df2.head()"
   ]
  },
  {
   "cell_type": "code",
   "execution_count": 15,
   "id": "1e20720f",
   "metadata": {
    "ExecuteTime": {
     "end_time": "2022-05-30T21:06:58.217963Z",
     "start_time": "2022-05-30T21:06:58.159118Z"
    }
   },
   "outputs": [
    {
     "data": {
      "text/html": [
       "<div>\n",
       "<style scoped>\n",
       "    .dataframe tbody tr th:only-of-type {\n",
       "        vertical-align: middle;\n",
       "    }\n",
       "\n",
       "    .dataframe tbody tr th {\n",
       "        vertical-align: top;\n",
       "    }\n",
       "\n",
       "    .dataframe thead th {\n",
       "        text-align: right;\n",
       "    }\n",
       "</style>\n",
       "<table border=\"1\" class=\"dataframe\">\n",
       "  <thead>\n",
       "    <tr style=\"text-align: right;\">\n",
       "      <th></th>\n",
       "      <th>invoice_no</th>\n",
       "      <th>stock_code</th>\n",
       "      <th>description</th>\n",
       "      <th>quantity</th>\n",
       "      <th>invoice_date</th>\n",
       "      <th>unit_price</th>\n",
       "      <th>country</th>\n",
       "      <th>customer_id</th>\n",
       "    </tr>\n",
       "  </thead>\n",
       "  <tbody>\n",
       "    <tr>\n",
       "      <th>0</th>\n",
       "      <td>536365</td>\n",
       "      <td>85123A</td>\n",
       "      <td>WHITE HANGING HEART T-LIGHT HOLDER</td>\n",
       "      <td>6</td>\n",
       "      <td>29-Nov-16</td>\n",
       "      <td>2.55</td>\n",
       "      <td>United Kingdom</td>\n",
       "      <td>17850.0</td>\n",
       "    </tr>\n",
       "    <tr>\n",
       "      <th>1</th>\n",
       "      <td>536365</td>\n",
       "      <td>71053</td>\n",
       "      <td>WHITE METAL LANTERN</td>\n",
       "      <td>6</td>\n",
       "      <td>29-Nov-16</td>\n",
       "      <td>3.39</td>\n",
       "      <td>United Kingdom</td>\n",
       "      <td>17850.0</td>\n",
       "    </tr>\n",
       "    <tr>\n",
       "      <th>2</th>\n",
       "      <td>536365</td>\n",
       "      <td>84406B</td>\n",
       "      <td>CREAM CUPID HEARTS COAT HANGER</td>\n",
       "      <td>8</td>\n",
       "      <td>29-Nov-16</td>\n",
       "      <td>2.75</td>\n",
       "      <td>United Kingdom</td>\n",
       "      <td>17850.0</td>\n",
       "    </tr>\n",
       "    <tr>\n",
       "      <th>3</th>\n",
       "      <td>536365</td>\n",
       "      <td>84029G</td>\n",
       "      <td>KNITTED UNION FLAG HOT WATER BOTTLE</td>\n",
       "      <td>6</td>\n",
       "      <td>29-Nov-16</td>\n",
       "      <td>3.39</td>\n",
       "      <td>United Kingdom</td>\n",
       "      <td>17850.0</td>\n",
       "    </tr>\n",
       "    <tr>\n",
       "      <th>4</th>\n",
       "      <td>536365</td>\n",
       "      <td>84029E</td>\n",
       "      <td>RED WOOLLY HOTTIE WHITE HEART.</td>\n",
       "      <td>6</td>\n",
       "      <td>29-Nov-16</td>\n",
       "      <td>3.39</td>\n",
       "      <td>United Kingdom</td>\n",
       "      <td>17850.0</td>\n",
       "    </tr>\n",
       "  </tbody>\n",
       "</table>\n",
       "</div>"
      ],
      "text/plain": [
       "  invoice_no stock_code                          description  quantity  \\\n",
       "0     536365     85123A   WHITE HANGING HEART T-LIGHT HOLDER         6   \n",
       "1     536365      71053                  WHITE METAL LANTERN         6   \n",
       "2     536365     84406B       CREAM CUPID HEARTS COAT HANGER         8   \n",
       "3     536365     84029G  KNITTED UNION FLAG HOT WATER BOTTLE         6   \n",
       "4     536365     84029E       RED WOOLLY HOTTIE WHITE HEART.         6   \n",
       "\n",
       "  invoice_date  unit_price         country  customer_id  \n",
       "0    29-Nov-16        2.55  United Kingdom      17850.0  \n",
       "1    29-Nov-16        3.39  United Kingdom      17850.0  \n",
       "2    29-Nov-16        2.75  United Kingdom      17850.0  \n",
       "3    29-Nov-16        3.39  United Kingdom      17850.0  \n",
       "4    29-Nov-16        3.39  United Kingdom      17850.0  "
      ]
     },
     "execution_count": 15,
     "metadata": {},
     "output_type": "execute_result"
    }
   ],
   "source": [
    "# coalesce\n",
    "df2['customer_id'] = df2['customer_id_x'].combine_first( df2['customer_id_y'] )\n",
    "\n",
    "# drop extra columns\n",
    "df2.drop( columns=['customer_id_x', 'customer_id_y'], axis=1, inplace=True )\n",
    "df2.head()"
   ]
  },
  {
   "cell_type": "code",
   "execution_count": 16,
   "id": "4d166356",
   "metadata": {
    "ExecuteTime": {
     "end_time": "2022-05-30T21:06:58.679067Z",
     "start_time": "2022-05-30T21:06:58.300213Z"
    }
   },
   "outputs": [
    {
     "data": {
      "text/plain": [
       "invoice_no         0\n",
       "stock_code         0\n",
       "description     1454\n",
       "quantity           0\n",
       "invoice_date       0\n",
       "unit_price         0\n",
       "country            0\n",
       "customer_id        0\n",
       "dtype: int64"
      ]
     },
     "execution_count": 16,
     "metadata": {},
     "output_type": "execute_result"
    }
   ],
   "source": [
    "df2.isna().sum()"
   ]
  },
  {
   "cell_type": "code",
   "execution_count": 17,
   "id": "bc6ec42f",
   "metadata": {
    "ExecuteTime": {
     "end_time": "2022-05-30T21:06:58.695071Z",
     "start_time": "2022-05-30T21:06:58.681069Z"
    }
   },
   "outputs": [
    {
     "data": {
      "text/plain": [
       "invoice_no       object\n",
       "stock_code       object\n",
       "description      object\n",
       "quantity          int64\n",
       "invoice_date     object\n",
       "unit_price      float64\n",
       "country          object\n",
       "customer_id     float64\n",
       "dtype: object"
      ]
     },
     "execution_count": 17,
     "metadata": {},
     "output_type": "execute_result"
    }
   ],
   "source": [
    "df2.dtypes"
   ]
  },
  {
   "cell_type": "markdown",
   "id": "19b8a8c4",
   "metadata": {},
   "source": [
    "## 2.6. Change dtypes"
   ]
  },
  {
   "cell_type": "code",
   "execution_count": 18,
   "id": "a316bb83",
   "metadata": {
    "ExecuteTime": {
     "end_time": "2022-05-30T21:06:58.837078Z",
     "start_time": "2022-05-30T21:06:58.755225Z"
    }
   },
   "outputs": [
    {
     "data": {
      "text/html": [
       "<div>\n",
       "<style scoped>\n",
       "    .dataframe tbody tr th:only-of-type {\n",
       "        vertical-align: middle;\n",
       "    }\n",
       "\n",
       "    .dataframe tbody tr th {\n",
       "        vertical-align: top;\n",
       "    }\n",
       "\n",
       "    .dataframe thead th {\n",
       "        text-align: right;\n",
       "    }\n",
       "</style>\n",
       "<table border=\"1\" class=\"dataframe\">\n",
       "  <thead>\n",
       "    <tr style=\"text-align: right;\">\n",
       "      <th></th>\n",
       "      <th>invoice_no</th>\n",
       "      <th>stock_code</th>\n",
       "      <th>description</th>\n",
       "      <th>quantity</th>\n",
       "      <th>invoice_date</th>\n",
       "      <th>unit_price</th>\n",
       "      <th>country</th>\n",
       "      <th>customer_id</th>\n",
       "    </tr>\n",
       "  </thead>\n",
       "  <tbody>\n",
       "    <tr>\n",
       "      <th>0</th>\n",
       "      <td>536365</td>\n",
       "      <td>85123A</td>\n",
       "      <td>WHITE HANGING HEART T-LIGHT HOLDER</td>\n",
       "      <td>6</td>\n",
       "      <td>2016-11-29</td>\n",
       "      <td>2.55</td>\n",
       "      <td>United Kingdom</td>\n",
       "      <td>17850</td>\n",
       "    </tr>\n",
       "    <tr>\n",
       "      <th>1</th>\n",
       "      <td>536365</td>\n",
       "      <td>71053</td>\n",
       "      <td>WHITE METAL LANTERN</td>\n",
       "      <td>6</td>\n",
       "      <td>2016-11-29</td>\n",
       "      <td>3.39</td>\n",
       "      <td>United Kingdom</td>\n",
       "      <td>17850</td>\n",
       "    </tr>\n",
       "    <tr>\n",
       "      <th>2</th>\n",
       "      <td>536365</td>\n",
       "      <td>84406B</td>\n",
       "      <td>CREAM CUPID HEARTS COAT HANGER</td>\n",
       "      <td>8</td>\n",
       "      <td>2016-11-29</td>\n",
       "      <td>2.75</td>\n",
       "      <td>United Kingdom</td>\n",
       "      <td>17850</td>\n",
       "    </tr>\n",
       "    <tr>\n",
       "      <th>3</th>\n",
       "      <td>536365</td>\n",
       "      <td>84029G</td>\n",
       "      <td>KNITTED UNION FLAG HOT WATER BOTTLE</td>\n",
       "      <td>6</td>\n",
       "      <td>2016-11-29</td>\n",
       "      <td>3.39</td>\n",
       "      <td>United Kingdom</td>\n",
       "      <td>17850</td>\n",
       "    </tr>\n",
       "    <tr>\n",
       "      <th>4</th>\n",
       "      <td>536365</td>\n",
       "      <td>84029E</td>\n",
       "      <td>RED WOOLLY HOTTIE WHITE HEART.</td>\n",
       "      <td>6</td>\n",
       "      <td>2016-11-29</td>\n",
       "      <td>3.39</td>\n",
       "      <td>United Kingdom</td>\n",
       "      <td>17850</td>\n",
       "    </tr>\n",
       "  </tbody>\n",
       "</table>\n",
       "</div>"
      ],
      "text/plain": [
       "  invoice_no stock_code                          description  quantity  \\\n",
       "0     536365     85123A   WHITE HANGING HEART T-LIGHT HOLDER         6   \n",
       "1     536365      71053                  WHITE METAL LANTERN         6   \n",
       "2     536365     84406B       CREAM CUPID HEARTS COAT HANGER         8   \n",
       "3     536365     84029G  KNITTED UNION FLAG HOT WATER BOTTLE         6   \n",
       "4     536365     84029E       RED WOOLLY HOTTIE WHITE HEART.         6   \n",
       "\n",
       "  invoice_date  unit_price         country  customer_id  \n",
       "0   2016-11-29        2.55  United Kingdom        17850  \n",
       "1   2016-11-29        3.39  United Kingdom        17850  \n",
       "2   2016-11-29        2.75  United Kingdom        17850  \n",
       "3   2016-11-29        3.39  United Kingdom        17850  \n",
       "4   2016-11-29        3.39  United Kingdom        17850  "
      ]
     },
     "execution_count": 18,
     "metadata": {},
     "output_type": "execute_result"
    }
   ],
   "source": [
    "# invoice date\n",
    "df2['invoice_date'] = pd.to_datetime( df2['invoice_date'], format='%d-%b-%y' )\n",
    "\n",
    "# customer_id\n",
    "df2['customer_id'] = df2['customer_id'].astype( int )\n",
    "df2.head()"
   ]
  },
  {
   "cell_type": "code",
   "execution_count": 19,
   "id": "508d1ef1",
   "metadata": {
    "ExecuteTime": {
     "end_time": "2022-05-30T21:06:58.947063Z",
     "start_time": "2022-05-30T21:06:58.928058Z"
    }
   },
   "outputs": [
    {
     "data": {
      "text/plain": [
       "invoice_no              object\n",
       "stock_code              object\n",
       "description             object\n",
       "quantity                 int64\n",
       "invoice_date    datetime64[ns]\n",
       "unit_price             float64\n",
       "country                 object\n",
       "customer_id              int32\n",
       "dtype: object"
      ]
     },
     "execution_count": 19,
     "metadata": {},
     "output_type": "execute_result"
    }
   ],
   "source": [
    "df2.dtypes"
   ]
  },
  {
   "cell_type": "markdown",
   "id": "32ade075",
   "metadata": {},
   "source": [
    "## 2.7. Descriptive Statistics"
   ]
  },
  {
   "cell_type": "code",
   "execution_count": 20,
   "id": "7baf76c3",
   "metadata": {
    "ExecuteTime": {
     "end_time": "2022-05-30T21:06:59.281111Z",
     "start_time": "2022-05-30T21:06:59.269108Z"
    }
   },
   "outputs": [],
   "source": [
    "num_attributes = df2.select_dtypes( include=['int32', 'int64', 'float64'] )\n",
    "cat_attributes = df2.select_dtypes( exclude=['int32', 'int64', 'float64', 'datetime64[ns]'] )"
   ]
  },
  {
   "cell_type": "markdown",
   "id": "77945845",
   "metadata": {},
   "source": [
    "### 2.7.1. Numerical Attributes"
   ]
  },
  {
   "cell_type": "code",
   "execution_count": 21,
   "id": "d960dd9e",
   "metadata": {
    "ExecuteTime": {
     "end_time": "2022-05-30T21:06:59.677688Z",
     "start_time": "2022-05-30T21:06:59.587179Z"
    }
   },
   "outputs": [
    {
     "data": {
      "text/html": [
       "<div>\n",
       "<style scoped>\n",
       "    .dataframe tbody tr th:only-of-type {\n",
       "        vertical-align: middle;\n",
       "    }\n",
       "\n",
       "    .dataframe tbody tr th {\n",
       "        vertical-align: top;\n",
       "    }\n",
       "\n",
       "    .dataframe thead th {\n",
       "        text-align: right;\n",
       "    }\n",
       "</style>\n",
       "<table border=\"1\" class=\"dataframe\">\n",
       "  <thead>\n",
       "    <tr style=\"text-align: right;\">\n",
       "      <th></th>\n",
       "      <th>attributes</th>\n",
       "      <th>min</th>\n",
       "      <th>max</th>\n",
       "      <th>range</th>\n",
       "      <th>mean</th>\n",
       "      <th>median</th>\n",
       "      <th>std</th>\n",
       "      <th>skew</th>\n",
       "      <th>kurtosis</th>\n",
       "    </tr>\n",
       "  </thead>\n",
       "  <tbody>\n",
       "    <tr>\n",
       "      <th>0</th>\n",
       "      <td>quantity</td>\n",
       "      <td>-80995.00</td>\n",
       "      <td>80995.0</td>\n",
       "      <td>161990.00</td>\n",
       "      <td>9.552250</td>\n",
       "      <td>3.00</td>\n",
       "      <td>218.080957</td>\n",
       "      <td>-0.264076</td>\n",
       "      <td>119769.160031</td>\n",
       "    </tr>\n",
       "    <tr>\n",
       "      <th>1</th>\n",
       "      <td>unit_price</td>\n",
       "      <td>-11062.06</td>\n",
       "      <td>38970.0</td>\n",
       "      <td>50032.06</td>\n",
       "      <td>4.611114</td>\n",
       "      <td>2.08</td>\n",
       "      <td>96.759764</td>\n",
       "      <td>186.506972</td>\n",
       "      <td>59005.719097</td>\n",
       "    </tr>\n",
       "    <tr>\n",
       "      <th>2</th>\n",
       "      <td>customer_id</td>\n",
       "      <td>12346.00</td>\n",
       "      <td>22709.0</td>\n",
       "      <td>10363.00</td>\n",
       "      <td>16688.840453</td>\n",
       "      <td>16249.00</td>\n",
       "      <td>2911.408666</td>\n",
       "      <td>0.487449</td>\n",
       "      <td>-0.804287</td>\n",
       "    </tr>\n",
       "  </tbody>\n",
       "</table>\n",
       "</div>"
      ],
      "text/plain": [
       "    attributes       min      max      range          mean    median  \\\n",
       "0     quantity -80995.00  80995.0  161990.00      9.552250      3.00   \n",
       "1   unit_price -11062.06  38970.0   50032.06      4.611114      2.08   \n",
       "2  customer_id  12346.00  22709.0   10363.00  16688.840453  16249.00   \n",
       "\n",
       "           std        skew       kurtosis  \n",
       "0   218.080957   -0.264076  119769.160031  \n",
       "1    96.759764  186.506972   59005.719097  \n",
       "2  2911.408666    0.487449      -0.804287  "
      ]
     },
     "execution_count": 21,
     "metadata": {},
     "output_type": "execute_result"
    }
   ],
   "source": [
    "# central tendency\n",
    "_mean   = pd.DataFrame( num_attributes.apply( np.mean ) ).T\n",
    "_median = pd.DataFrame( num_attributes.apply( np.median ) ).T\n",
    "\n",
    "# dispersion\n",
    "_std   = pd.DataFrame( num_attributes.apply( np.std ) ).T\n",
    "_min   = pd.DataFrame( num_attributes.apply( np.min ) ).T\n",
    "_max   = pd.DataFrame( num_attributes.apply( np.max ) ).T\n",
    "_range = pd.DataFrame( num_attributes.apply( lambda x: x.max() - x.min() ) ).T\n",
    "_skew  = pd.DataFrame( num_attributes.apply( lambda x: x.skew() ) ).T\n",
    "_kurtosis  = pd.DataFrame( num_attributes.apply( lambda x: x.kurtosis() ) ).T\n",
    "\n",
    "# concatenate\n",
    "summary = pd.concat( [_min, _max, _range, _mean, _median, _std, _skew, _kurtosis] ).T.reset_index()\n",
    "summary.columns = ['attributes', 'min', 'max', 'range', 'mean', 'median', 'std', 'skew', 'kurtosis']\n",
    "summary"
   ]
  },
  {
   "cell_type": "markdown",
   "id": "e47a9177",
   "metadata": {},
   "source": [
    "* **Negative quantity** - It could mean a returning.\n",
    "* **Unit price equal to zero** - Could it mean a promotion?"
   ]
  },
  {
   "cell_type": "markdown",
   "id": "6694850a",
   "metadata": {},
   "source": [
    "### 2.7.2. Categorical Attributes"
   ]
  },
  {
   "cell_type": "code",
   "execution_count": 22,
   "id": "4bcf075f",
   "metadata": {
    "ExecuteTime": {
     "end_time": "2022-05-30T21:07:00.082762Z",
     "start_time": "2022-05-30T21:07:00.070759Z"
    }
   },
   "outputs": [
    {
     "data": {
      "text/html": [
       "<div>\n",
       "<style scoped>\n",
       "    .dataframe tbody tr th:only-of-type {\n",
       "        vertical-align: middle;\n",
       "    }\n",
       "\n",
       "    .dataframe tbody tr th {\n",
       "        vertical-align: top;\n",
       "    }\n",
       "\n",
       "    .dataframe thead th {\n",
       "        text-align: right;\n",
       "    }\n",
       "</style>\n",
       "<table border=\"1\" class=\"dataframe\">\n",
       "  <thead>\n",
       "    <tr style=\"text-align: right;\">\n",
       "      <th></th>\n",
       "      <th>invoice_no</th>\n",
       "      <th>stock_code</th>\n",
       "      <th>description</th>\n",
       "      <th>country</th>\n",
       "    </tr>\n",
       "  </thead>\n",
       "  <tbody>\n",
       "    <tr>\n",
       "      <th>0</th>\n",
       "      <td>536365</td>\n",
       "      <td>85123A</td>\n",
       "      <td>WHITE HANGING HEART T-LIGHT HOLDER</td>\n",
       "      <td>United Kingdom</td>\n",
       "    </tr>\n",
       "    <tr>\n",
       "      <th>1</th>\n",
       "      <td>536365</td>\n",
       "      <td>71053</td>\n",
       "      <td>WHITE METAL LANTERN</td>\n",
       "      <td>United Kingdom</td>\n",
       "    </tr>\n",
       "    <tr>\n",
       "      <th>2</th>\n",
       "      <td>536365</td>\n",
       "      <td>84406B</td>\n",
       "      <td>CREAM CUPID HEARTS COAT HANGER</td>\n",
       "      <td>United Kingdom</td>\n",
       "    </tr>\n",
       "    <tr>\n",
       "      <th>3</th>\n",
       "      <td>536365</td>\n",
       "      <td>84029G</td>\n",
       "      <td>KNITTED UNION FLAG HOT WATER BOTTLE</td>\n",
       "      <td>United Kingdom</td>\n",
       "    </tr>\n",
       "    <tr>\n",
       "      <th>4</th>\n",
       "      <td>536365</td>\n",
       "      <td>84029E</td>\n",
       "      <td>RED WOOLLY HOTTIE WHITE HEART.</td>\n",
       "      <td>United Kingdom</td>\n",
       "    </tr>\n",
       "  </tbody>\n",
       "</table>\n",
       "</div>"
      ],
      "text/plain": [
       "  invoice_no stock_code                          description         country\n",
       "0     536365     85123A   WHITE HANGING HEART T-LIGHT HOLDER  United Kingdom\n",
       "1     536365      71053                  WHITE METAL LANTERN  United Kingdom\n",
       "2     536365     84406B       CREAM CUPID HEARTS COAT HANGER  United Kingdom\n",
       "3     536365     84029G  KNITTED UNION FLAG HOT WATER BOTTLE  United Kingdom\n",
       "4     536365     84029E       RED WOOLLY HOTTIE WHITE HEART.  United Kingdom"
      ]
     },
     "execution_count": 22,
     "metadata": {},
     "output_type": "execute_result"
    }
   ],
   "source": [
    "cat_attributes.head()"
   ]
  },
  {
   "cell_type": "markdown",
   "id": "f2ddd253",
   "metadata": {
    "ExecuteTime": {
     "end_time": "2022-04-15T15:06:14.613143Z",
     "start_time": "2022-04-15T15:06:14.608214Z"
    }
   },
   "source": [
    "#### 2.7.2.1. Invoice_no"
   ]
  },
  {
   "cell_type": "code",
   "execution_count": 23,
   "id": "88669ce3",
   "metadata": {
    "ExecuteTime": {
     "end_time": "2022-05-30T21:07:01.082766Z",
     "start_time": "2022-05-30T21:07:00.375608Z"
    }
   },
   "outputs": [
    {
     "data": {
      "text/html": [
       "<div>\n",
       "<style scoped>\n",
       "    .dataframe tbody tr th:only-of-type {\n",
       "        vertical-align: middle;\n",
       "    }\n",
       "\n",
       "    .dataframe tbody tr th {\n",
       "        vertical-align: top;\n",
       "    }\n",
       "\n",
       "    .dataframe thead th {\n",
       "        text-align: right;\n",
       "    }\n",
       "</style>\n",
       "<table border=\"1\" class=\"dataframe\">\n",
       "  <thead>\n",
       "    <tr style=\"text-align: right;\">\n",
       "      <th></th>\n",
       "      <th>invoice_no</th>\n",
       "      <th>stock_code</th>\n",
       "      <th>description</th>\n",
       "      <th>quantity</th>\n",
       "      <th>invoice_date</th>\n",
       "      <th>unit_price</th>\n",
       "      <th>country</th>\n",
       "      <th>customer_id</th>\n",
       "    </tr>\n",
       "  </thead>\n",
       "  <tbody>\n",
       "    <tr>\n",
       "      <th>141</th>\n",
       "      <td>C536379</td>\n",
       "      <td>D</td>\n",
       "      <td>Discount</td>\n",
       "      <td>-1</td>\n",
       "      <td>2016-11-29</td>\n",
       "      <td>27.50</td>\n",
       "      <td>United Kingdom</td>\n",
       "      <td>14527</td>\n",
       "    </tr>\n",
       "    <tr>\n",
       "      <th>154</th>\n",
       "      <td>C536383</td>\n",
       "      <td>35004C</td>\n",
       "      <td>SET OF 3 COLOURED  FLYING DUCKS</td>\n",
       "      <td>-1</td>\n",
       "      <td>2016-11-29</td>\n",
       "      <td>4.65</td>\n",
       "      <td>United Kingdom</td>\n",
       "      <td>15311</td>\n",
       "    </tr>\n",
       "    <tr>\n",
       "      <th>235</th>\n",
       "      <td>C536391</td>\n",
       "      <td>22556</td>\n",
       "      <td>PLASTERS IN TIN CIRCUS PARADE</td>\n",
       "      <td>-12</td>\n",
       "      <td>2016-11-29</td>\n",
       "      <td>1.65</td>\n",
       "      <td>United Kingdom</td>\n",
       "      <td>17548</td>\n",
       "    </tr>\n",
       "    <tr>\n",
       "      <th>236</th>\n",
       "      <td>C536391</td>\n",
       "      <td>21984</td>\n",
       "      <td>PACK OF 12 PINK PAISLEY TISSUES</td>\n",
       "      <td>-24</td>\n",
       "      <td>2016-11-29</td>\n",
       "      <td>0.29</td>\n",
       "      <td>United Kingdom</td>\n",
       "      <td>17548</td>\n",
       "    </tr>\n",
       "    <tr>\n",
       "      <th>237</th>\n",
       "      <td>C536391</td>\n",
       "      <td>21983</td>\n",
       "      <td>PACK OF 12 BLUE PAISLEY TISSUES</td>\n",
       "      <td>-24</td>\n",
       "      <td>2016-11-29</td>\n",
       "      <td>0.29</td>\n",
       "      <td>United Kingdom</td>\n",
       "      <td>17548</td>\n",
       "    </tr>\n",
       "    <tr>\n",
       "      <th>238</th>\n",
       "      <td>C536391</td>\n",
       "      <td>21980</td>\n",
       "      <td>PACK OF 12 RED RETROSPOT TISSUES</td>\n",
       "      <td>-24</td>\n",
       "      <td>2016-11-29</td>\n",
       "      <td>0.29</td>\n",
       "      <td>United Kingdom</td>\n",
       "      <td>17548</td>\n",
       "    </tr>\n",
       "    <tr>\n",
       "      <th>239</th>\n",
       "      <td>C536391</td>\n",
       "      <td>21484</td>\n",
       "      <td>CHICK GREY HOT WATER BOTTLE</td>\n",
       "      <td>-12</td>\n",
       "      <td>2016-11-29</td>\n",
       "      <td>3.45</td>\n",
       "      <td>United Kingdom</td>\n",
       "      <td>17548</td>\n",
       "    </tr>\n",
       "    <tr>\n",
       "      <th>240</th>\n",
       "      <td>C536391</td>\n",
       "      <td>22557</td>\n",
       "      <td>PLASTERS IN TIN VINTAGE PAISLEY</td>\n",
       "      <td>-12</td>\n",
       "      <td>2016-11-29</td>\n",
       "      <td>1.65</td>\n",
       "      <td>United Kingdom</td>\n",
       "      <td>17548</td>\n",
       "    </tr>\n",
       "    <tr>\n",
       "      <th>241</th>\n",
       "      <td>C536391</td>\n",
       "      <td>22553</td>\n",
       "      <td>PLASTERS IN TIN SKULLS</td>\n",
       "      <td>-24</td>\n",
       "      <td>2016-11-29</td>\n",
       "      <td>1.65</td>\n",
       "      <td>United Kingdom</td>\n",
       "      <td>17548</td>\n",
       "    </tr>\n",
       "    <tr>\n",
       "      <th>939</th>\n",
       "      <td>C536506</td>\n",
       "      <td>22960</td>\n",
       "      <td>JAM MAKING SET WITH JARS</td>\n",
       "      <td>-6</td>\n",
       "      <td>2016-11-29</td>\n",
       "      <td>4.25</td>\n",
       "      <td>United Kingdom</td>\n",
       "      <td>17897</td>\n",
       "    </tr>\n",
       "  </tbody>\n",
       "</table>\n",
       "</div>"
      ],
      "text/plain": [
       "    invoice_no stock_code                        description  quantity  \\\n",
       "141    C536379          D                           Discount        -1   \n",
       "154    C536383     35004C    SET OF 3 COLOURED  FLYING DUCKS        -1   \n",
       "235    C536391      22556     PLASTERS IN TIN CIRCUS PARADE        -12   \n",
       "236    C536391      21984   PACK OF 12 PINK PAISLEY TISSUES        -24   \n",
       "237    C536391      21983   PACK OF 12 BLUE PAISLEY TISSUES        -24   \n",
       "238    C536391      21980  PACK OF 12 RED RETROSPOT TISSUES        -24   \n",
       "239    C536391      21484        CHICK GREY HOT WATER BOTTLE       -12   \n",
       "240    C536391      22557   PLASTERS IN TIN VINTAGE PAISLEY        -12   \n",
       "241    C536391      22553             PLASTERS IN TIN SKULLS       -24   \n",
       "939    C536506      22960           JAM MAKING SET WITH JARS        -6   \n",
       "\n",
       "    invoice_date  unit_price         country  customer_id  \n",
       "141   2016-11-29       27.50  United Kingdom        14527  \n",
       "154   2016-11-29        4.65  United Kingdom        15311  \n",
       "235   2016-11-29        1.65  United Kingdom        17548  \n",
       "236   2016-11-29        0.29  United Kingdom        17548  \n",
       "237   2016-11-29        0.29  United Kingdom        17548  \n",
       "238   2016-11-29        0.29  United Kingdom        17548  \n",
       "239   2016-11-29        3.45  United Kingdom        17548  \n",
       "240   2016-11-29        1.65  United Kingdom        17548  \n",
       "241   2016-11-29        1.65  United Kingdom        17548  \n",
       "939   2016-11-29        4.25  United Kingdom        17897  "
      ]
     },
     "execution_count": 23,
     "metadata": {},
     "output_type": "execute_result"
    }
   ],
   "source": [
    "# cat_attributes['invoice_no'].astype( int ) # It throws an error\n",
    "index = df2['invoice_no'].apply( lambda x: bool( re.search( '[^0-9]+', x ) ) )\n",
    "df2[index].head(10)"
   ]
  },
  {
   "cell_type": "code",
   "execution_count": 24,
   "id": "39be9eab",
   "metadata": {
    "ExecuteTime": {
     "end_time": "2022-05-30T21:07:01.098770Z",
     "start_time": "2022-05-30T21:07:01.083766Z"
    }
   },
   "outputs": [
    {
     "data": {
      "text/plain": [
       "3839"
      ]
     },
     "execution_count": 24,
     "metadata": {},
     "output_type": "execute_result"
    }
   ],
   "source": [
    "# unique values\n",
    "len( df2.loc[index, 'invoice_no'].drop_duplicates()  )"
   ]
  },
  {
   "cell_type": "code",
   "execution_count": 25,
   "id": "90cf40bd",
   "metadata": {
    "ExecuteTime": {
     "end_time": "2022-05-30T21:07:01.114773Z",
     "start_time": "2022-05-30T21:07:01.100771Z"
    }
   },
   "outputs": [
    {
     "name": "stdout",
     "output_type": "stream",
     "text": [
      "Total number of invoices with a letter: 9291\n",
      "Total number of invoices with a letter and negative quantity: 9288\n"
     ]
    }
   ],
   "source": [
    "# checking if all invoices with a letter indicates has a negative quantity\n",
    "df_letter_invoices = df2[index]\n",
    "print( 'Total number of invoices with a letter: {}'.format( len( df_letter_invoices ) ) )\n",
    "print( 'Total number of invoices with a letter and negative quantity: {}'.format( len( df_letter_invoices[ df_letter_invoices['quantity'] < 0 ] ) ) )"
   ]
  },
  {
   "cell_type": "markdown",
   "id": "6d09c229",
   "metadata": {},
   "source": [
    "#### 2.7.2.2. Stock_code"
   ]
  },
  {
   "cell_type": "code",
   "execution_count": 26,
   "id": "ef285792",
   "metadata": {
    "ExecuteTime": {
     "end_time": "2022-05-30T21:07:03.530754Z",
     "start_time": "2022-05-30T21:07:02.830596Z"
    }
   },
   "outputs": [
    {
     "data": {
      "text/html": [
       "<div>\n",
       "<style scoped>\n",
       "    .dataframe tbody tr th:only-of-type {\n",
       "        vertical-align: middle;\n",
       "    }\n",
       "\n",
       "    .dataframe tbody tr th {\n",
       "        vertical-align: top;\n",
       "    }\n",
       "\n",
       "    .dataframe thead th {\n",
       "        text-align: right;\n",
       "    }\n",
       "</style>\n",
       "<table border=\"1\" class=\"dataframe\">\n",
       "  <thead>\n",
       "    <tr style=\"text-align: right;\">\n",
       "      <th></th>\n",
       "      <th>invoice_no</th>\n",
       "      <th>stock_code</th>\n",
       "      <th>description</th>\n",
       "      <th>quantity</th>\n",
       "      <th>invoice_date</th>\n",
       "      <th>unit_price</th>\n",
       "      <th>country</th>\n",
       "      <th>customer_id</th>\n",
       "    </tr>\n",
       "  </thead>\n",
       "  <tbody>\n",
       "    <tr>\n",
       "      <th>45</th>\n",
       "      <td>536370</td>\n",
       "      <td>POST</td>\n",
       "      <td>POSTAGE</td>\n",
       "      <td>3</td>\n",
       "      <td>2016-11-29</td>\n",
       "      <td>18.00</td>\n",
       "      <td>France</td>\n",
       "      <td>12583</td>\n",
       "    </tr>\n",
       "    <tr>\n",
       "      <th>141</th>\n",
       "      <td>C536379</td>\n",
       "      <td>D</td>\n",
       "      <td>Discount</td>\n",
       "      <td>-1</td>\n",
       "      <td>2016-11-29</td>\n",
       "      <td>27.50</td>\n",
       "      <td>United Kingdom</td>\n",
       "      <td>14527</td>\n",
       "    </tr>\n",
       "    <tr>\n",
       "      <th>386</th>\n",
       "      <td>536403</td>\n",
       "      <td>POST</td>\n",
       "      <td>POSTAGE</td>\n",
       "      <td>1</td>\n",
       "      <td>2016-11-29</td>\n",
       "      <td>15.00</td>\n",
       "      <td>Netherlands</td>\n",
       "      <td>12791</td>\n",
       "    </tr>\n",
       "    <tr>\n",
       "      <th>1123</th>\n",
       "      <td>536527</td>\n",
       "      <td>POST</td>\n",
       "      <td>POSTAGE</td>\n",
       "      <td>1</td>\n",
       "      <td>2016-11-29</td>\n",
       "      <td>18.00</td>\n",
       "      <td>Germany</td>\n",
       "      <td>12662</td>\n",
       "    </tr>\n",
       "    <tr>\n",
       "      <th>1423</th>\n",
       "      <td>536540</td>\n",
       "      <td>C2</td>\n",
       "      <td>CARRIAGE</td>\n",
       "      <td>1</td>\n",
       "      <td>2016-11-29</td>\n",
       "      <td>50.00</td>\n",
       "      <td>EIRE</td>\n",
       "      <td>14911</td>\n",
       "    </tr>\n",
       "    <tr>\n",
       "      <th>1814</th>\n",
       "      <td>536544</td>\n",
       "      <td>DOT</td>\n",
       "      <td>DOTCOM POSTAGE</td>\n",
       "      <td>1</td>\n",
       "      <td>2016-11-29</td>\n",
       "      <td>569.77</td>\n",
       "      <td>United Kingdom</td>\n",
       "      <td>19001</td>\n",
       "    </tr>\n",
       "    <tr>\n",
       "      <th>2239</th>\n",
       "      <td>536569</td>\n",
       "      <td>M</td>\n",
       "      <td>Manual</td>\n",
       "      <td>1</td>\n",
       "      <td>2016-11-29</td>\n",
       "      <td>1.25</td>\n",
       "      <td>United Kingdom</td>\n",
       "      <td>16274</td>\n",
       "    </tr>\n",
       "    <tr>\n",
       "      <th>2250</th>\n",
       "      <td>536569</td>\n",
       "      <td>M</td>\n",
       "      <td>Manual</td>\n",
       "      <td>1</td>\n",
       "      <td>2016-11-29</td>\n",
       "      <td>18.95</td>\n",
       "      <td>United Kingdom</td>\n",
       "      <td>16274</td>\n",
       "    </tr>\n",
       "    <tr>\n",
       "      <th>3041</th>\n",
       "      <td>536592</td>\n",
       "      <td>DOT</td>\n",
       "      <td>DOTCOM POSTAGE</td>\n",
       "      <td>1</td>\n",
       "      <td>2016-11-29</td>\n",
       "      <td>607.49</td>\n",
       "      <td>United Kingdom</td>\n",
       "      <td>19014</td>\n",
       "    </tr>\n",
       "    <tr>\n",
       "      <th>4406</th>\n",
       "      <td>536779</td>\n",
       "      <td>BANK CHARGES</td>\n",
       "      <td>Bank Charges</td>\n",
       "      <td>1</td>\n",
       "      <td>2016-11-30</td>\n",
       "      <td>15.00</td>\n",
       "      <td>United Kingdom</td>\n",
       "      <td>15823</td>\n",
       "    </tr>\n",
       "  </tbody>\n",
       "</table>\n",
       "</div>"
      ],
      "text/plain": [
       "     invoice_no    stock_code     description  quantity invoice_date  \\\n",
       "45       536370          POST         POSTAGE         3   2016-11-29   \n",
       "141     C536379             D        Discount        -1   2016-11-29   \n",
       "386      536403          POST         POSTAGE         1   2016-11-29   \n",
       "1123     536527          POST         POSTAGE         1   2016-11-29   \n",
       "1423     536540            C2        CARRIAGE         1   2016-11-29   \n",
       "1814     536544           DOT  DOTCOM POSTAGE         1   2016-11-29   \n",
       "2239     536569             M          Manual         1   2016-11-29   \n",
       "2250     536569             M          Manual         1   2016-11-29   \n",
       "3041     536592           DOT  DOTCOM POSTAGE         1   2016-11-29   \n",
       "4406     536779  BANK CHARGES    Bank Charges         1   2016-11-30   \n",
       "\n",
       "      unit_price         country  customer_id  \n",
       "45         18.00          France        12583  \n",
       "141        27.50  United Kingdom        14527  \n",
       "386        15.00     Netherlands        12791  \n",
       "1123       18.00         Germany        12662  \n",
       "1423       50.00            EIRE        14911  \n",
       "1814      569.77  United Kingdom        19001  \n",
       "2239        1.25  United Kingdom        16274  \n",
       "2250       18.95  United Kingdom        16274  \n",
       "3041      607.49  United Kingdom        19014  \n",
       "4406       15.00  United Kingdom        15823  "
      ]
     },
     "execution_count": 26,
     "metadata": {},
     "output_type": "execute_result"
    }
   ],
   "source": [
    "index = df2['stock_code'].apply( lambda x: bool( re.search( '^[a-zA-Z]+.*$', x ) ) )\n",
    "df2[index].head(10)"
   ]
  },
  {
   "cell_type": "code",
   "execution_count": 27,
   "id": "a9d91d14",
   "metadata": {
    "ExecuteTime": {
     "end_time": "2022-05-30T21:07:03.546758Z",
     "start_time": "2022-05-30T21:07:03.532756Z"
    }
   },
   "outputs": [
    {
     "name": "stdout",
     "output_type": "stream",
     "text": [
      "33\n",
      "['POST' 'D' 'C2' 'DOT' 'M' 'BANK CHARGES' 'S' 'AMAZONFEE' 'DCGS0076'\n",
      " 'DCGS0003' 'gift_0001_40' 'DCGS0070' 'm' 'gift_0001_50' 'gift_0001_30'\n",
      " 'gift_0001_20' 'DCGS0055' 'DCGS0072' 'DCGS0074' 'DCGS0069' 'DCGS0057'\n",
      " 'DCGSSBOY' 'DCGSSGIRL' 'gift_0001_10' 'PADS' 'DCGS0004' 'DCGS0073'\n",
      " 'DCGS0071' 'DCGS0068' 'DCGS0067' 'DCGS0066P' 'B' 'CRUK']\n"
     ]
    }
   ],
   "source": [
    "# unique values\n",
    "print( len( df2.loc[index, 'stock_code'].drop_duplicates() ) )\n",
    "print( df2.loc[index, 'stock_code'].unique())"
   ]
  },
  {
   "cell_type": "markdown",
   "id": "991f34bc",
   "metadata": {},
   "source": [
    "#### 2.7.2.3. Country"
   ]
  },
  {
   "cell_type": "code",
   "execution_count": 28,
   "id": "3b1a4632",
   "metadata": {
    "ExecuteTime": {
     "end_time": "2022-05-30T21:07:03.594769Z",
     "start_time": "2022-05-30T21:07:03.547758Z"
    }
   },
   "outputs": [
    {
     "data": {
      "text/plain": [
       "United Kingdom          0.914320\n",
       "Germany                 0.017521\n",
       "France                  0.015790\n",
       "EIRE                    0.015124\n",
       "Spain                   0.004674\n",
       "Netherlands             0.004375\n",
       "Belgium                 0.003818\n",
       "Switzerland             0.003694\n",
       "Portugal                0.002803\n",
       "Australia               0.002323\n",
       "Norway                  0.002004\n",
       "Italy                   0.001482\n",
       "Channel Islands         0.001399\n",
       "Finland                 0.001283\n",
       "Cyprus                  0.001148\n",
       "Sweden                  0.000853\n",
       "Unspecified             0.000823\n",
       "Austria                 0.000740\n",
       "Denmark                 0.000718\n",
       "Japan                   0.000661\n",
       "Poland                  0.000629\n",
       "Israel                  0.000548\n",
       "USA                     0.000537\n",
       "Hong Kong               0.000531\n",
       "Singapore               0.000423\n",
       "Iceland                 0.000336\n",
       "Canada                  0.000279\n",
       "Greece                  0.000269\n",
       "Malta                   0.000234\n",
       "United Arab Emirates    0.000125\n",
       "European Community      0.000113\n",
       "RSA                     0.000107\n",
       "Lebanon                 0.000083\n",
       "Lithuania               0.000065\n",
       "Brazil                  0.000059\n",
       "Czech Republic          0.000055\n",
       "Bahrain                 0.000035\n",
       "Saudi Arabia            0.000018\n",
       "Name: country, dtype: float64"
      ]
     },
     "execution_count": 28,
     "metadata": {},
     "output_type": "execute_result"
    }
   ],
   "source": [
    "df2['country'].value_counts( normalize=True )"
   ]
  },
  {
   "cell_type": "markdown",
   "id": "9f5c57bf",
   "metadata": {},
   "source": [
    "# 3. Data Filtering"
   ]
  },
  {
   "cell_type": "code",
   "execution_count": 29,
   "id": "bcfa9a5a",
   "metadata": {
    "ExecuteTime": {
     "end_time": "2022-05-30T21:07:03.641591Z",
     "start_time": "2022-05-30T21:07:03.619587Z"
    }
   },
   "outputs": [],
   "source": [
    "df3 = df2.copy()"
   ]
  },
  {
   "cell_type": "markdown",
   "id": "d986a3d8",
   "metadata": {},
   "source": [
    "## 3.1. Numerical Attributes"
   ]
  },
  {
   "cell_type": "code",
   "execution_count": 30,
   "id": "19107338",
   "metadata": {
    "ExecuteTime": {
     "end_time": "2022-05-30T21:07:04.269795Z",
     "start_time": "2022-05-30T21:07:04.138766Z"
    }
   },
   "outputs": [],
   "source": [
    "# unit price > 0\n",
    "df3 = df3.loc[ df3['unit_price'] > 0.010, : ]\n",
    "\n",
    "# stock code == number\n",
    "df3 = df3[~df3['stock_code'].isin( ['POST', 'D', 'C2', 'DOT', 'M', 'BANK, CHARGES', 'S', 'AMAZONFEE', 'DCGS0076'\n",
    ", 'DCGS0003', 'gift_0001_40', 'DCGS0070', 'm', 'gift_0001_50', 'gift_0001_30'\n",
    ", 'gift_0001_20', 'DCGS0055', 'DCGS0072', 'DCGS0074', 'DCGS0069', 'DCGS0057'\n",
    ", 'DCGSSBOY', 'DCGSSGIRL', 'gift_0001_10', 'PADS', 'DCGS0004', 'DCGS0073'\n",
    ", 'DCGS0071', 'DCGS0068', 'DCGS0067', 'DCGS0066P', 'B', 'CRUK'] )]\n",
    "\n",
    "# quantity - negative numbears means product returns\n",
    "df3_returns = df3.loc[df3['quantity'] < 0, :]\n",
    "df3_purchases = df3.loc[df3['quantity'] > 0, :]"
   ]
  },
  {
   "cell_type": "markdown",
   "id": "12ead3d3",
   "metadata": {},
   "source": [
    "## 3.2. Categorical Attributes"
   ]
  },
  {
   "cell_type": "code",
   "execution_count": 31,
   "id": "9e281367",
   "metadata": {
    "ExecuteTime": {
     "end_time": "2022-05-30T21:07:04.519605Z",
     "start_time": "2022-05-30T21:07:04.494589Z"
    }
   },
   "outputs": [],
   "source": [
    "# drop description\n",
    "df3 = df3.drop( columns='description', axis=1 )"
   ]
  },
  {
   "cell_type": "code",
   "execution_count": 32,
   "id": "44eb83a2",
   "metadata": {
    "ExecuteTime": {
     "end_time": "2022-05-30T21:07:05.627614Z",
     "start_time": "2022-05-30T21:07:05.569602Z"
    }
   },
   "outputs": [],
   "source": [
    "# map\n",
    "df3 = df3[~df3['country'].isin( ['European Community', 'Unspecified'] )]"
   ]
  },
  {
   "cell_type": "code",
   "execution_count": 33,
   "id": "015990a2",
   "metadata": {
    "ExecuteTime": {
     "end_time": "2022-05-30T21:07:05.767663Z",
     "start_time": "2022-05-30T21:07:05.725650Z"
    }
   },
   "outputs": [],
   "source": [
    "# bad users (based on the Univariate Analysis)\n",
    "df3 = df3[~df3['customer_id'].isin( [16446] )]"
   ]
  },
  {
   "cell_type": "markdown",
   "id": "103755e2",
   "metadata": {},
   "source": [
    "# 4. Feature Engineering"
   ]
  },
  {
   "cell_type": "code",
   "execution_count": 34,
   "id": "640fdd5f",
   "metadata": {
    "ExecuteTime": {
     "end_time": "2022-05-30T21:07:06.363629Z",
     "start_time": "2022-05-30T21:07:06.342624Z"
    }
   },
   "outputs": [],
   "source": [
    "df4 = df3.copy()\n",
    "df_purchases = df3_purchases.copy()\n",
    "df_returns = df3_returns.copy()"
   ]
  },
  {
   "cell_type": "markdown",
   "id": "d32d4895",
   "metadata": {},
   "source": [
    "## 4.1. Feature Creation"
   ]
  },
  {
   "cell_type": "markdown",
   "id": "6bf363a4",
   "metadata": {},
   "source": [
    "The dataset granularity should be customers, because the clusters will be for customers, but it is a unique key composed of product (stock_code) and date (invoice_date). So it is necessary to change the granularity."
   ]
  },
  {
   "cell_type": "code",
   "execution_count": 35,
   "id": "01261285",
   "metadata": {
    "ExecuteTime": {
     "end_time": "2022-05-30T21:07:07.855679Z",
     "start_time": "2022-05-30T21:07:07.818593Z"
    }
   },
   "outputs": [
    {
     "data": {
      "text/html": [
       "<div>\n",
       "<style scoped>\n",
       "    .dataframe tbody tr th:only-of-type {\n",
       "        vertical-align: middle;\n",
       "    }\n",
       "\n",
       "    .dataframe tbody tr th {\n",
       "        vertical-align: top;\n",
       "    }\n",
       "\n",
       "    .dataframe thead th {\n",
       "        text-align: right;\n",
       "    }\n",
       "</style>\n",
       "<table border=\"1\" class=\"dataframe\">\n",
       "  <thead>\n",
       "    <tr style=\"text-align: right;\">\n",
       "      <th></th>\n",
       "      <th>customer_id</th>\n",
       "    </tr>\n",
       "  </thead>\n",
       "  <tbody>\n",
       "    <tr>\n",
       "      <th>0</th>\n",
       "      <td>17850</td>\n",
       "    </tr>\n",
       "    <tr>\n",
       "      <th>1</th>\n",
       "      <td>13047</td>\n",
       "    </tr>\n",
       "    <tr>\n",
       "      <th>2</th>\n",
       "      <td>12583</td>\n",
       "    </tr>\n",
       "    <tr>\n",
       "      <th>3</th>\n",
       "      <td>13748</td>\n",
       "    </tr>\n",
       "    <tr>\n",
       "      <th>4</th>\n",
       "      <td>15100</td>\n",
       "    </tr>\n",
       "  </tbody>\n",
       "</table>\n",
       "</div>"
      ],
      "text/plain": [
       "   customer_id\n",
       "0        17850\n",
       "1        13047\n",
       "2        12583\n",
       "3        13748\n",
       "4        15100"
      ]
     },
     "execution_count": 35,
     "metadata": {},
     "output_type": "execute_result"
    }
   ],
   "source": [
    "# data reference\n",
    "df_ref = df4[['customer_id']].drop_duplicates( ignore_index=True )\n",
    "df_ref.head()"
   ]
  },
  {
   "cell_type": "markdown",
   "id": "f200eabf",
   "metadata": {},
   "source": [
    "### 4.1.1. Gross Revenue"
   ]
  },
  {
   "cell_type": "code",
   "execution_count": 36,
   "id": "b3765a2e",
   "metadata": {
    "ExecuteTime": {
     "end_time": "2022-05-30T21:07:08.170444Z",
     "start_time": "2022-05-30T21:07:08.120433Z"
    }
   },
   "outputs": [
    {
     "data": {
      "text/html": [
       "<div>\n",
       "<style scoped>\n",
       "    .dataframe tbody tr th:only-of-type {\n",
       "        vertical-align: middle;\n",
       "    }\n",
       "\n",
       "    .dataframe tbody tr th {\n",
       "        vertical-align: top;\n",
       "    }\n",
       "\n",
       "    .dataframe thead th {\n",
       "        text-align: right;\n",
       "    }\n",
       "</style>\n",
       "<table border=\"1\" class=\"dataframe\">\n",
       "  <thead>\n",
       "    <tr style=\"text-align: right;\">\n",
       "      <th></th>\n",
       "      <th>customer_id</th>\n",
       "      <th>gross_revenue</th>\n",
       "    </tr>\n",
       "  </thead>\n",
       "  <tbody>\n",
       "    <tr>\n",
       "      <th>0</th>\n",
       "      <td>17850</td>\n",
       "      <td>5391.21</td>\n",
       "    </tr>\n",
       "    <tr>\n",
       "      <th>1</th>\n",
       "      <td>13047</td>\n",
       "      <td>3232.59</td>\n",
       "    </tr>\n",
       "    <tr>\n",
       "      <th>2</th>\n",
       "      <td>12583</td>\n",
       "      <td>6705.38</td>\n",
       "    </tr>\n",
       "    <tr>\n",
       "      <th>3</th>\n",
       "      <td>13748</td>\n",
       "      <td>948.25</td>\n",
       "    </tr>\n",
       "    <tr>\n",
       "      <th>4</th>\n",
       "      <td>15100</td>\n",
       "      <td>876.00</td>\n",
       "    </tr>\n",
       "  </tbody>\n",
       "</table>\n",
       "</div>"
      ],
      "text/plain": [
       "   customer_id  gross_revenue\n",
       "0        17850        5391.21\n",
       "1        13047        3232.59\n",
       "2        12583        6705.38\n",
       "3        13748         948.25\n",
       "4        15100         876.00"
      ]
     },
     "execution_count": 36,
     "metadata": {},
     "output_type": "execute_result"
    }
   ],
   "source": [
    "# Gross Revenue (quantity * price)\n",
    "df_purchases['gross_revenue'] = df_purchases['quantity'] * df_purchases['unit_price']\n",
    "\n",
    "# Monetary\n",
    "df_monetary = df_purchases[['customer_id', 'gross_revenue']].groupby( 'customer_id' ).sum().reset_index()\n",
    "df_ref = pd.merge( df_ref, df_monetary, on='customer_id',  how='left')\n",
    "df_ref.head()"
   ]
  },
  {
   "cell_type": "markdown",
   "id": "ede4b46a",
   "metadata": {},
   "source": [
    "### 4.1.2. Recency - Day from last purchase"
   ]
  },
  {
   "cell_type": "code",
   "execution_count": 37,
   "id": "68e910f8",
   "metadata": {
    "ExecuteTime": {
     "end_time": "2022-05-30T21:07:09.407809Z",
     "start_time": "2022-05-30T21:07:09.357798Z"
    }
   },
   "outputs": [
    {
     "data": {
      "text/html": [
       "<div>\n",
       "<style scoped>\n",
       "    .dataframe tbody tr th:only-of-type {\n",
       "        vertical-align: middle;\n",
       "    }\n",
       "\n",
       "    .dataframe tbody tr th {\n",
       "        vertical-align: top;\n",
       "    }\n",
       "\n",
       "    .dataframe thead th {\n",
       "        text-align: right;\n",
       "    }\n",
       "</style>\n",
       "<table border=\"1\" class=\"dataframe\">\n",
       "  <thead>\n",
       "    <tr style=\"text-align: right;\">\n",
       "      <th></th>\n",
       "      <th>customer_id</th>\n",
       "      <th>gross_revenue</th>\n",
       "      <th>recency_days</th>\n",
       "    </tr>\n",
       "  </thead>\n",
       "  <tbody>\n",
       "    <tr>\n",
       "      <th>0</th>\n",
       "      <td>17850</td>\n",
       "      <td>5391.21</td>\n",
       "      <td>372.0</td>\n",
       "    </tr>\n",
       "    <tr>\n",
       "      <th>1</th>\n",
       "      <td>13047</td>\n",
       "      <td>3232.59</td>\n",
       "      <td>56.0</td>\n",
       "    </tr>\n",
       "    <tr>\n",
       "      <th>2</th>\n",
       "      <td>12583</td>\n",
       "      <td>6705.38</td>\n",
       "      <td>2.0</td>\n",
       "    </tr>\n",
       "    <tr>\n",
       "      <th>3</th>\n",
       "      <td>13748</td>\n",
       "      <td>948.25</td>\n",
       "      <td>95.0</td>\n",
       "    </tr>\n",
       "    <tr>\n",
       "      <th>4</th>\n",
       "      <td>15100</td>\n",
       "      <td>876.00</td>\n",
       "      <td>333.0</td>\n",
       "    </tr>\n",
       "  </tbody>\n",
       "</table>\n",
       "</div>"
      ],
      "text/plain": [
       "   customer_id  gross_revenue  recency_days\n",
       "0        17850        5391.21         372.0\n",
       "1        13047        3232.59          56.0\n",
       "2        12583        6705.38           2.0\n",
       "3        13748         948.25          95.0\n",
       "4        15100         876.00         333.0"
      ]
     },
     "execution_count": 37,
     "metadata": {},
     "output_type": "execute_result"
    }
   ],
   "source": [
    "df_recency = df_purchases[['customer_id', 'invoice_date']].groupby( 'customer_id' ).max().reset_index()\n",
    "df_recency['recency_days'] = ( df_purchases['invoice_date'].max() - df_recency['invoice_date'] ).dt.days\n",
    "df_recency = df_recency[['customer_id', 'recency_days']].copy()\n",
    "df_ref = pd.merge( df_ref, df_recency, on='customer_id', how='left' )\n",
    "df_ref.head()"
   ]
  },
  {
   "cell_type": "markdown",
   "id": "6b3d685a",
   "metadata": {},
   "source": [
    "### 4.1.5. Quantity of Products Purchased"
   ]
  },
  {
   "cell_type": "code",
   "execution_count": 38,
   "id": "27f881fa",
   "metadata": {
    "ExecuteTime": {
     "end_time": "2022-05-30T21:07:09.676533Z",
     "start_time": "2022-05-30T21:07:09.637525Z"
    }
   },
   "outputs": [
    {
     "data": {
      "text/html": [
       "<div>\n",
       "<style scoped>\n",
       "    .dataframe tbody tr th:only-of-type {\n",
       "        vertical-align: middle;\n",
       "    }\n",
       "\n",
       "    .dataframe tbody tr th {\n",
       "        vertical-align: top;\n",
       "    }\n",
       "\n",
       "    .dataframe thead th {\n",
       "        text-align: right;\n",
       "    }\n",
       "</style>\n",
       "<table border=\"1\" class=\"dataframe\">\n",
       "  <thead>\n",
       "    <tr style=\"text-align: right;\">\n",
       "      <th></th>\n",
       "      <th>customer_id</th>\n",
       "      <th>gross_revenue</th>\n",
       "      <th>recency_days</th>\n",
       "      <th>qtd_products</th>\n",
       "    </tr>\n",
       "  </thead>\n",
       "  <tbody>\n",
       "    <tr>\n",
       "      <th>0</th>\n",
       "      <td>17850</td>\n",
       "      <td>5391.21</td>\n",
       "      <td>372.0</td>\n",
       "      <td>1733.0</td>\n",
       "    </tr>\n",
       "    <tr>\n",
       "      <th>1</th>\n",
       "      <td>13047</td>\n",
       "      <td>3232.59</td>\n",
       "      <td>56.0</td>\n",
       "      <td>1390.0</td>\n",
       "    </tr>\n",
       "    <tr>\n",
       "      <th>2</th>\n",
       "      <td>12583</td>\n",
       "      <td>6705.38</td>\n",
       "      <td>2.0</td>\n",
       "      <td>5028.0</td>\n",
       "    </tr>\n",
       "    <tr>\n",
       "      <th>3</th>\n",
       "      <td>13748</td>\n",
       "      <td>948.25</td>\n",
       "      <td>95.0</td>\n",
       "      <td>439.0</td>\n",
       "    </tr>\n",
       "    <tr>\n",
       "      <th>4</th>\n",
       "      <td>15100</td>\n",
       "      <td>876.00</td>\n",
       "      <td>333.0</td>\n",
       "      <td>80.0</td>\n",
       "    </tr>\n",
       "  </tbody>\n",
       "</table>\n",
       "</div>"
      ],
      "text/plain": [
       "   customer_id  gross_revenue  recency_days  qtd_products\n",
       "0        17850        5391.21         372.0        1733.0\n",
       "1        13047        3232.59          56.0        1390.0\n",
       "2        12583        6705.38           2.0        5028.0\n",
       "3        13748         948.25          95.0         439.0\n",
       "4        15100         876.00         333.0          80.0"
      ]
     },
     "execution_count": 38,
     "metadata": {},
     "output_type": "execute_result"
    }
   ],
   "source": [
    "df_freq = df_purchases[['customer_id', 'quantity']].groupby( 'customer_id' ).sum().rename( columns={\"quantity\":\"qtd_products\"}).reset_index()\n",
    "df_ref = pd.merge( df_ref, df_freq, on='customer_id', how='left' )\n",
    "df_ref.head()"
   ]
  },
  {
   "cell_type": "markdown",
   "id": "73fa2276",
   "metadata": {},
   "source": [
    "### 4.1.8. Returns"
   ]
  },
  {
   "cell_type": "code",
   "execution_count": 39,
   "id": "1e48bf17",
   "metadata": {
    "ExecuteTime": {
     "end_time": "2022-05-30T21:07:09.959700Z",
     "start_time": "2022-05-30T21:07:09.928693Z"
    }
   },
   "outputs": [
    {
     "data": {
      "text/html": [
       "<div>\n",
       "<style scoped>\n",
       "    .dataframe tbody tr th:only-of-type {\n",
       "        vertical-align: middle;\n",
       "    }\n",
       "\n",
       "    .dataframe tbody tr th {\n",
       "        vertical-align: top;\n",
       "    }\n",
       "\n",
       "    .dataframe thead th {\n",
       "        text-align: right;\n",
       "    }\n",
       "</style>\n",
       "<table border=\"1\" class=\"dataframe\">\n",
       "  <thead>\n",
       "    <tr style=\"text-align: right;\">\n",
       "      <th></th>\n",
       "      <th>customer_id</th>\n",
       "      <th>gross_revenue</th>\n",
       "      <th>recency_days</th>\n",
       "      <th>qtd_products</th>\n",
       "      <th>qtd_returns</th>\n",
       "    </tr>\n",
       "  </thead>\n",
       "  <tbody>\n",
       "    <tr>\n",
       "      <th>0</th>\n",
       "      <td>17850</td>\n",
       "      <td>5391.21</td>\n",
       "      <td>372.0</td>\n",
       "      <td>1733.0</td>\n",
       "      <td>40.0</td>\n",
       "    </tr>\n",
       "    <tr>\n",
       "      <th>1</th>\n",
       "      <td>13047</td>\n",
       "      <td>3232.59</td>\n",
       "      <td>56.0</td>\n",
       "      <td>1390.0</td>\n",
       "      <td>35.0</td>\n",
       "    </tr>\n",
       "    <tr>\n",
       "      <th>2</th>\n",
       "      <td>12583</td>\n",
       "      <td>6705.38</td>\n",
       "      <td>2.0</td>\n",
       "      <td>5028.0</td>\n",
       "      <td>50.0</td>\n",
       "    </tr>\n",
       "    <tr>\n",
       "      <th>3</th>\n",
       "      <td>13748</td>\n",
       "      <td>948.25</td>\n",
       "      <td>95.0</td>\n",
       "      <td>439.0</td>\n",
       "      <td>0.0</td>\n",
       "    </tr>\n",
       "    <tr>\n",
       "      <th>4</th>\n",
       "      <td>15100</td>\n",
       "      <td>876.00</td>\n",
       "      <td>333.0</td>\n",
       "      <td>80.0</td>\n",
       "      <td>22.0</td>\n",
       "    </tr>\n",
       "  </tbody>\n",
       "</table>\n",
       "</div>"
      ],
      "text/plain": [
       "   customer_id  gross_revenue  recency_days  qtd_products  qtd_returns\n",
       "0        17850        5391.21         372.0        1733.0         40.0\n",
       "1        13047        3232.59          56.0        1390.0         35.0\n",
       "2        12583        6705.38           2.0        5028.0         50.0\n",
       "3        13748         948.25          95.0         439.0          0.0\n",
       "4        15100         876.00         333.0          80.0         22.0"
      ]
     },
     "execution_count": 39,
     "metadata": {},
     "output_type": "execute_result"
    }
   ],
   "source": [
    "df_ret = df_returns[['customer_id', 'quantity']].groupby( 'customer_id' ).sum().reset_index().rename( columns={\"quantity\":\"qtd_returns\"} )\n",
    "df_ret['qtd_returns'] = df_ret['qtd_returns'] * -1\n",
    "df_ref = pd.merge( df_ref, df_ret, how='left', on='customer_id' )\n",
    "df_ref.loc[df_ref['qtd_returns'].isna(), 'qtd_returns'] = 0\n",
    "df_ref.head()"
   ]
  },
  {
   "cell_type": "markdown",
   "id": "f42d72be",
   "metadata": {},
   "source": [
    "### 4.1.9. Frequency Purchase"
   ]
  },
  {
   "cell_type": "code",
   "execution_count": 40,
   "id": "ad805966",
   "metadata": {
    "ExecuteTime": {
     "end_time": "2022-05-30T21:07:11.355452Z",
     "start_time": "2022-05-30T21:07:10.221597Z"
    }
   },
   "outputs": [
    {
     "data": {
      "text/html": [
       "<div>\n",
       "<style scoped>\n",
       "    .dataframe tbody tr th:only-of-type {\n",
       "        vertical-align: middle;\n",
       "    }\n",
       "\n",
       "    .dataframe tbody tr th {\n",
       "        vertical-align: top;\n",
       "    }\n",
       "\n",
       "    .dataframe thead th {\n",
       "        text-align: right;\n",
       "    }\n",
       "</style>\n",
       "<table border=\"1\" class=\"dataframe\">\n",
       "  <thead>\n",
       "    <tr style=\"text-align: right;\">\n",
       "      <th></th>\n",
       "      <th>customer_id</th>\n",
       "      <th>gross_revenue</th>\n",
       "      <th>recency_days</th>\n",
       "      <th>qtd_products</th>\n",
       "      <th>qtd_returns</th>\n",
       "      <th>frequency</th>\n",
       "    </tr>\n",
       "  </thead>\n",
       "  <tbody>\n",
       "    <tr>\n",
       "      <th>0</th>\n",
       "      <td>17850</td>\n",
       "      <td>5391.21</td>\n",
       "      <td>372.0</td>\n",
       "      <td>1733.0</td>\n",
       "      <td>40.0</td>\n",
       "      <td>17.000000</td>\n",
       "    </tr>\n",
       "    <tr>\n",
       "      <th>1</th>\n",
       "      <td>13047</td>\n",
       "      <td>3232.59</td>\n",
       "      <td>56.0</td>\n",
       "      <td>1390.0</td>\n",
       "      <td>35.0</td>\n",
       "      <td>0.028302</td>\n",
       "    </tr>\n",
       "    <tr>\n",
       "      <th>2</th>\n",
       "      <td>12583</td>\n",
       "      <td>6705.38</td>\n",
       "      <td>2.0</td>\n",
       "      <td>5028.0</td>\n",
       "      <td>50.0</td>\n",
       "      <td>0.040323</td>\n",
       "    </tr>\n",
       "    <tr>\n",
       "      <th>3</th>\n",
       "      <td>13748</td>\n",
       "      <td>948.25</td>\n",
       "      <td>95.0</td>\n",
       "      <td>439.0</td>\n",
       "      <td>0.0</td>\n",
       "      <td>0.017921</td>\n",
       "    </tr>\n",
       "    <tr>\n",
       "      <th>4</th>\n",
       "      <td>15100</td>\n",
       "      <td>876.00</td>\n",
       "      <td>333.0</td>\n",
       "      <td>80.0</td>\n",
       "      <td>22.0</td>\n",
       "      <td>0.073171</td>\n",
       "    </tr>\n",
       "  </tbody>\n",
       "</table>\n",
       "</div>"
      ],
      "text/plain": [
       "   customer_id  gross_revenue  recency_days  qtd_products  qtd_returns  \\\n",
       "0        17850        5391.21         372.0        1733.0         40.0   \n",
       "1        13047        3232.59          56.0        1390.0         35.0   \n",
       "2        12583        6705.38           2.0        5028.0         50.0   \n",
       "3        13748         948.25          95.0         439.0          0.0   \n",
       "4        15100         876.00         333.0          80.0         22.0   \n",
       "\n",
       "   frequency  \n",
       "0  17.000000  \n",
       "1   0.028302  \n",
       "2   0.040323  \n",
       "3   0.017921  \n",
       "4   0.073171  "
      ]
     },
     "execution_count": 40,
     "metadata": {},
     "output_type": "execute_result"
    }
   ],
   "source": [
    "df_aux = ( df_purchases[['customer_id', 'invoice_no', 'invoice_date']].drop_duplicates()\n",
    "                                                                      .groupby( 'customer_id' )\n",
    "                                                                      .agg( max_date = ('invoice_date', 'max'),\n",
    "                                                                            min_date = ('invoice_date', 'min'),\n",
    "                                                                            days     = ('invoice_date', lambda x: (( x.max() - x.min() ).days) + 1 ),\n",
    "                                                                            buy      = ('invoice_no', 'count') ) ).reset_index()\n",
    "\n",
    "# frequency \n",
    "df_aux['frequency'] = df_aux[['buy', 'days']].apply( lambda x: x['buy'] / x['days'] if x['days'] != 0 else 0, axis=1 )\n",
    "\n",
    "# merge\n",
    "df_ref = pd.merge( df_ref, df_aux[['customer_id', 'frequency']], on='customer_id', how='left' )\n",
    "df_ref.head()"
   ]
  },
  {
   "cell_type": "markdown",
   "id": "f97d36d0",
   "metadata": {},
   "source": [
    "## 4.2. Checking NAs"
   ]
  },
  {
   "cell_type": "code",
   "execution_count": 41,
   "id": "a7b28f46",
   "metadata": {
    "ExecuteTime": {
     "end_time": "2022-05-30T21:07:11.370455Z",
     "start_time": "2022-05-30T21:07:11.357453Z"
    }
   },
   "outputs": [
    {
     "data": {
      "text/plain": [
       "customer_id       0\n",
       "gross_revenue    91\n",
       "recency_days     91\n",
       "qtd_products     91\n",
       "qtd_returns       0\n",
       "frequency        91\n",
       "dtype: int64"
      ]
     },
     "execution_count": 41,
     "metadata": {},
     "output_type": "execute_result"
    }
   ],
   "source": [
    "# checking possible NAs created by the merge\n",
    "df_ref.isna().sum()"
   ]
  },
  {
   "cell_type": "markdown",
   "id": "94d6e891",
   "metadata": {
    "ExecuteTime": {
     "end_time": "2022-03-26T14:43:53.830875Z",
     "start_time": "2022-03-26T14:43:53.816872Z"
    }
   },
   "source": [
    "# 5. EDA"
   ]
  },
  {
   "cell_type": "code",
   "execution_count": 48,
   "id": "5b52f4ae",
   "metadata": {
    "ExecuteTime": {
     "end_time": "2022-05-30T21:09:32.959965Z",
     "start_time": "2022-05-30T21:09:32.940962Z"
    }
   },
   "outputs": [],
   "source": [
    "df5 = df_ref.dropna().copy()"
   ]
  },
  {
   "cell_type": "markdown",
   "id": "0540b671",
   "metadata": {},
   "source": [
    "# 6. Data Preparation"
   ]
  },
  {
   "cell_type": "code",
   "execution_count": 49,
   "id": "03fb9fc3",
   "metadata": {
    "ExecuteTime": {
     "end_time": "2022-05-30T21:09:41.431701Z",
     "start_time": "2022-05-30T21:09:40.000725Z"
    }
   },
   "outputs": [],
   "source": [
    "cols_select = ['gross_revenue', 'recency_days', 'qtd_products', 'frequency', 'qtd_returns']\n",
    "df6 = df5[ cols_select ].copy()\n",
    "\n",
    "gross_revenue_scaler = pickle.load( fs.open( path_s3 + 'gross_revenue_scaler.pkl', 'rb' ) )\n",
    "recency_days_scaler  = pickle.load( fs.open( path_s3 + 'recency_days_scaler.pkl', 'rb' ) )\n",
    "qtd_productse_scaler = pickle.load( fs.open( path_s3 + 'qtd_products_scaler.pkl', 'rb' ) )\n",
    "qtd_returns_scaler   = pickle.load( fs.open( path_s3 + 'qtd_returns_scaler.pkl', 'rb' ) )\n",
    "frequency_scaler     = pickle.load( fs.open( path_s3 + 'frequency_scaler.pkl', 'rb' ) )\n",
    "\n",
    "df6['gross_revenue'] = gross_revenue_scaler.fit_transform( df6[['gross_revenue']] )\n",
    "df6['recency_days']  = recency_days_scaler.fit_transform( df6[['recency_days']] )\n",
    "df6['qtd_products']  = qtd_productse_scaler.fit_transform( df6[['qtd_products']] )\n",
    "df6['qtd_returns']   = qtd_returns_scaler.fit_transform( df6[['qtd_returns']] )\n",
    "df6['frequency']     = frequency_scaler.fit_transform( df6[['frequency']] )"
   ]
  },
  {
   "cell_type": "markdown",
   "id": "07c6fa42",
   "metadata": {},
   "source": [
    "# 7. Feature Selection"
   ]
  },
  {
   "cell_type": "code",
   "execution_count": 50,
   "id": "1f92b43c",
   "metadata": {
    "ExecuteTime": {
     "end_time": "2022-05-30T21:09:41.447706Z",
     "start_time": "2022-05-30T21:09:41.433703Z"
    }
   },
   "outputs": [],
   "source": [
    "df7 = df6.copy()"
   ]
  },
  {
   "cell_type": "markdown",
   "id": "f9a5cc6f",
   "metadata": {},
   "source": [
    "# 8. Hyperparameter Fine-Tunning"
   ]
  },
  {
   "cell_type": "code",
   "execution_count": 51,
   "id": "7e206aa7",
   "metadata": {
    "ExecuteTime": {
     "end_time": "2022-05-30T21:09:44.283563Z",
     "start_time": "2022-05-30T21:09:44.263558Z"
    }
   },
   "outputs": [
    {
     "data": {
      "text/html": [
       "<div>\n",
       "<style scoped>\n",
       "    .dataframe tbody tr th:only-of-type {\n",
       "        vertical-align: middle;\n",
       "    }\n",
       "\n",
       "    .dataframe tbody tr th {\n",
       "        vertical-align: top;\n",
       "    }\n",
       "\n",
       "    .dataframe thead th {\n",
       "        text-align: right;\n",
       "    }\n",
       "</style>\n",
       "<table border=\"1\" class=\"dataframe\">\n",
       "  <thead>\n",
       "    <tr style=\"text-align: right;\">\n",
       "      <th></th>\n",
       "      <th>gross_revenue</th>\n",
       "      <th>recency_days</th>\n",
       "      <th>qtd_products</th>\n",
       "      <th>frequency</th>\n",
       "      <th>qtd_returns</th>\n",
       "    </tr>\n",
       "  </thead>\n",
       "  <tbody>\n",
       "    <tr>\n",
       "      <th>0</th>\n",
       "      <td>0.019312</td>\n",
       "      <td>0.997319</td>\n",
       "      <td>0.008799</td>\n",
       "      <td>1.000000</td>\n",
       "      <td>0.000539</td>\n",
       "    </tr>\n",
       "    <tr>\n",
       "      <th>1</th>\n",
       "      <td>0.011579</td>\n",
       "      <td>0.150134</td>\n",
       "      <td>0.007056</td>\n",
       "      <td>0.001345</td>\n",
       "      <td>0.000472</td>\n",
       "    </tr>\n",
       "    <tr>\n",
       "      <th>2</th>\n",
       "      <td>0.024020</td>\n",
       "      <td>0.005362</td>\n",
       "      <td>0.025538</td>\n",
       "      <td>0.002052</td>\n",
       "      <td>0.000674</td>\n",
       "    </tr>\n",
       "    <tr>\n",
       "      <th>3</th>\n",
       "      <td>0.003396</td>\n",
       "      <td>0.254692</td>\n",
       "      <td>0.002225</td>\n",
       "      <td>0.000734</td>\n",
       "      <td>0.000000</td>\n",
       "    </tr>\n",
       "    <tr>\n",
       "      <th>4</th>\n",
       "      <td>0.003137</td>\n",
       "      <td>0.892761</td>\n",
       "      <td>0.000401</td>\n",
       "      <td>0.003985</td>\n",
       "      <td>0.000296</td>\n",
       "    </tr>\n",
       "  </tbody>\n",
       "</table>\n",
       "</div>"
      ],
      "text/plain": [
       "   gross_revenue  recency_days  qtd_products  frequency  qtd_returns\n",
       "0       0.019312      0.997319      0.008799   1.000000     0.000539\n",
       "1       0.011579      0.150134      0.007056   0.001345     0.000472\n",
       "2       0.024020      0.005362      0.025538   0.002052     0.000674\n",
       "3       0.003396      0.254692      0.002225   0.000734     0.000000\n",
       "4       0.003137      0.892761      0.000401   0.003985     0.000296"
      ]
     },
     "execution_count": 51,
     "metadata": {},
     "output_type": "execute_result"
    }
   ],
   "source": [
    "X = df7.copy()\n",
    "X.head()"
   ]
  },
  {
   "cell_type": "markdown",
   "id": "e1123e52",
   "metadata": {},
   "source": [
    "# 9. Model Training"
   ]
  },
  {
   "cell_type": "markdown",
   "id": "4da209ab",
   "metadata": {},
   "source": [
    "## 9.1. K-Means"
   ]
  },
  {
   "cell_type": "code",
   "execution_count": 52,
   "id": "dc85fb4c",
   "metadata": {
    "ExecuteTime": {
     "end_time": "2022-05-30T21:11:23.482938Z",
     "start_time": "2022-05-30T21:11:23.300884Z"
    }
   },
   "outputs": [],
   "source": [
    "# model definition\n",
    "k = 7\n",
    "\n",
    "kmeans = KMeans( init='random', n_clusters=k, max_iter=300, random_state=42 )\n",
    "\n",
    "# model training\n",
    "kmeans.fit( X )\n",
    "\n",
    "# clustering\n",
    "labels = kmeans.labels_"
   ]
  },
  {
   "cell_type": "markdown",
   "id": "9094b159",
   "metadata": {},
   "source": [
    "## 9.2. Cluster Validation"
   ]
  },
  {
   "cell_type": "code",
   "execution_count": 53,
   "id": "253e675f",
   "metadata": {
    "ExecuteTime": {
     "end_time": "2022-05-30T21:11:25.347448Z",
     "start_time": "2022-05-30T21:11:24.895947Z"
    }
   },
   "outputs": [
    {
     "name": "stdout",
     "output_type": "stream",
     "text": [
      "WSS value: 19.792970466910933\n",
      "SS value: 0.5064375809181464\n"
     ]
    }
   ],
   "source": [
    "# WSS \n",
    "print( 'WSS value: {}'.format( kmeans.inertia_ ) )\n",
    "\n",
    "# SS\n",
    "print( 'SS value: {}'.format( silhouette_score( X, labels, metric='euclidean' ) ) )"
   ]
  },
  {
   "cell_type": "markdown",
   "id": "52d2a408",
   "metadata": {},
   "source": [
    "# 10. Cluster Analysis"
   ]
  },
  {
   "cell_type": "code",
   "execution_count": 115,
   "id": "8b089cfd",
   "metadata": {
    "ExecuteTime": {
     "end_time": "2022-05-30T16:07:40.291464Z",
     "start_time": "2022-05-30T16:07:40.277462Z"
    }
   },
   "outputs": [
    {
     "data": {
      "text/html": [
       "<div>\n",
       "<style scoped>\n",
       "    .dataframe tbody tr th:only-of-type {\n",
       "        vertical-align: middle;\n",
       "    }\n",
       "\n",
       "    .dataframe tbody tr th {\n",
       "        vertical-align: top;\n",
       "    }\n",
       "\n",
       "    .dataframe thead th {\n",
       "        text-align: right;\n",
       "    }\n",
       "</style>\n",
       "<table border=\"1\" class=\"dataframe\">\n",
       "  <thead>\n",
       "    <tr style=\"text-align: right;\">\n",
       "      <th></th>\n",
       "      <th>gross_revenue</th>\n",
       "      <th>recency_days</th>\n",
       "      <th>qtd_products</th>\n",
       "      <th>frequency</th>\n",
       "      <th>qtd_returns</th>\n",
       "      <th>cluster</th>\n",
       "    </tr>\n",
       "  </thead>\n",
       "  <tbody>\n",
       "    <tr>\n",
       "      <th>0</th>\n",
       "      <td>0.019312</td>\n",
       "      <td>0.997319</td>\n",
       "      <td>0.008799</td>\n",
       "      <td>1.000000</td>\n",
       "      <td>0.000539</td>\n",
       "      <td>0</td>\n",
       "    </tr>\n",
       "    <tr>\n",
       "      <th>1</th>\n",
       "      <td>0.011579</td>\n",
       "      <td>0.150134</td>\n",
       "      <td>0.007056</td>\n",
       "      <td>0.001345</td>\n",
       "      <td>0.000472</td>\n",
       "      <td>3</td>\n",
       "    </tr>\n",
       "    <tr>\n",
       "      <th>2</th>\n",
       "      <td>0.024020</td>\n",
       "      <td>0.005362</td>\n",
       "      <td>0.025538</td>\n",
       "      <td>0.002052</td>\n",
       "      <td>0.000674</td>\n",
       "      <td>2</td>\n",
       "    </tr>\n",
       "    <tr>\n",
       "      <th>3</th>\n",
       "      <td>0.003396</td>\n",
       "      <td>0.254692</td>\n",
       "      <td>0.002225</td>\n",
       "      <td>0.000734</td>\n",
       "      <td>0.000000</td>\n",
       "      <td>6</td>\n",
       "    </tr>\n",
       "    <tr>\n",
       "      <th>4</th>\n",
       "      <td>0.003137</td>\n",
       "      <td>0.892761</td>\n",
       "      <td>0.000401</td>\n",
       "      <td>0.003985</td>\n",
       "      <td>0.000296</td>\n",
       "      <td>0</td>\n",
       "    </tr>\n",
       "  </tbody>\n",
       "</table>\n",
       "</div>"
      ],
      "text/plain": [
       "   gross_revenue  recency_days  qtd_products  frequency  qtd_returns  cluster\n",
       "0       0.019312      0.997319      0.008799   1.000000     0.000539        0\n",
       "1       0.011579      0.150134      0.007056   0.001345     0.000472        3\n",
       "2       0.024020      0.005362      0.025538   0.002052     0.000674        2\n",
       "3       0.003396      0.254692      0.002225   0.000734     0.000000        6\n",
       "4       0.003137      0.892761      0.000401   0.003985     0.000296        0"
      ]
     },
     "execution_count": 115,
     "metadata": {},
     "output_type": "execute_result"
    }
   ],
   "source": [
    "df10 = X.copy()\n",
    "df10['cluster'] = labels\n",
    "df10.head()"
   ]
  },
  {
   "cell_type": "markdown",
   "id": "e23f6bf3",
   "metadata": {},
   "source": [
    "## 10.2. Cluster Profile"
   ]
  },
  {
   "cell_type": "code",
   "execution_count": 116,
   "id": "a98d4b05",
   "metadata": {
    "ExecuteTime": {
     "end_time": "2022-05-30T16:07:40.322471Z",
     "start_time": "2022-05-30T16:07:40.293466Z"
    }
   },
   "outputs": [
    {
     "data": {
      "text/html": [
       "<div>\n",
       "<style scoped>\n",
       "    .dataframe tbody tr th:only-of-type {\n",
       "        vertical-align: middle;\n",
       "    }\n",
       "\n",
       "    .dataframe tbody tr th {\n",
       "        vertical-align: top;\n",
       "    }\n",
       "\n",
       "    .dataframe thead th {\n",
       "        text-align: right;\n",
       "    }\n",
       "</style>\n",
       "<table border=\"1\" class=\"dataframe\">\n",
       "  <thead>\n",
       "    <tr style=\"text-align: right;\">\n",
       "      <th></th>\n",
       "      <th>customer_id</th>\n",
       "      <th>gross_revenue</th>\n",
       "      <th>recency_days</th>\n",
       "      <th>qtd_products</th>\n",
       "      <th>frequency</th>\n",
       "      <th>qtd_returns</th>\n",
       "      <th>cluster</th>\n",
       "    </tr>\n",
       "  </thead>\n",
       "  <tbody>\n",
       "    <tr>\n",
       "      <th>0</th>\n",
       "      <td>17850</td>\n",
       "      <td>5391.21</td>\n",
       "      <td>372</td>\n",
       "      <td>1733</td>\n",
       "      <td>17.000000</td>\n",
       "      <td>40</td>\n",
       "      <td>0</td>\n",
       "    </tr>\n",
       "    <tr>\n",
       "      <th>1</th>\n",
       "      <td>13047</td>\n",
       "      <td>3232.59</td>\n",
       "      <td>56</td>\n",
       "      <td>1390</td>\n",
       "      <td>0.028302</td>\n",
       "      <td>35</td>\n",
       "      <td>3</td>\n",
       "    </tr>\n",
       "    <tr>\n",
       "      <th>2</th>\n",
       "      <td>12583</td>\n",
       "      <td>6705.38</td>\n",
       "      <td>2</td>\n",
       "      <td>5028</td>\n",
       "      <td>0.040323</td>\n",
       "      <td>50</td>\n",
       "      <td>2</td>\n",
       "    </tr>\n",
       "    <tr>\n",
       "      <th>3</th>\n",
       "      <td>13748</td>\n",
       "      <td>948.25</td>\n",
       "      <td>95</td>\n",
       "      <td>439</td>\n",
       "      <td>0.017921</td>\n",
       "      <td>0</td>\n",
       "      <td>6</td>\n",
       "    </tr>\n",
       "    <tr>\n",
       "      <th>4</th>\n",
       "      <td>15100</td>\n",
       "      <td>876.00</td>\n",
       "      <td>333</td>\n",
       "      <td>80</td>\n",
       "      <td>0.073171</td>\n",
       "      <td>22</td>\n",
       "      <td>0</td>\n",
       "    </tr>\n",
       "  </tbody>\n",
       "</table>\n",
       "</div>"
      ],
      "text/plain": [
       "   customer_id  gross_revenue  recency_days  qtd_products  frequency  \\\n",
       "0        17850        5391.21           372          1733  17.000000   \n",
       "1        13047        3232.59            56          1390   0.028302   \n",
       "2        12583        6705.38             2          5028   0.040323   \n",
       "3        13748         948.25            95           439   0.017921   \n",
       "4        15100         876.00           333            80   0.073171   \n",
       "\n",
       "   qtd_returns  cluster  \n",
       "0           40        0  \n",
       "1           35        3  \n",
       "2           50        2  \n",
       "3            0        6  \n",
       "4           22        0  "
      ]
     },
     "execution_count": 116,
     "metadata": {},
     "output_type": "execute_result"
    }
   ],
   "source": [
    "df10_aux = df5[cols_select].copy()\n",
    "df10_aux['cluster'] = labels\n",
    "\n",
    "# change dtypes\n",
    "df10_aux['recency_days'] = df10_aux['recency_days'].astype( int )\n",
    "df10_aux['qtd_products'] = df10_aux['qtd_products'].astype( int )\n",
    "df10_aux['qtd_returns'] = df10_aux['qtd_returns'].astype( int )\n",
    "\n",
    "# show\n",
    "df10_aux.head()"
   ]
  },
  {
   "cell_type": "code",
   "execution_count": 117,
   "id": "cf201f2c",
   "metadata": {
    "ExecuteTime": {
     "end_time": "2022-05-30T16:07:40.370482Z",
     "start_time": "2022-05-30T16:07:40.323472Z"
    }
   },
   "outputs": [
    {
     "data": {
      "text/html": [
       "<div>\n",
       "<style scoped>\n",
       "    .dataframe tbody tr th:only-of-type {\n",
       "        vertical-align: middle;\n",
       "    }\n",
       "\n",
       "    .dataframe tbody tr th {\n",
       "        vertical-align: top;\n",
       "    }\n",
       "\n",
       "    .dataframe thead th {\n",
       "        text-align: right;\n",
       "    }\n",
       "</style>\n",
       "<table border=\"1\" class=\"dataframe\">\n",
       "  <thead>\n",
       "    <tr style=\"text-align: right;\">\n",
       "      <th></th>\n",
       "      <th>cluster</th>\n",
       "      <th>qtd_customers</th>\n",
       "      <th>perc_customer</th>\n",
       "      <th>avg_gross_revenue</th>\n",
       "      <th>avg_recency_days</th>\n",
       "      <th>avg_frequency</th>\n",
       "      <th>avg_qtd_products</th>\n",
       "      <th>avg_returns</th>\n",
       "    </tr>\n",
       "  </thead>\n",
       "  <tbody>\n",
       "    <tr>\n",
       "      <th>1</th>\n",
       "      <td>1</td>\n",
       "      <td>11</td>\n",
       "      <td>0.193152</td>\n",
       "      <td>132552.812727</td>\n",
       "      <td>8.909091</td>\n",
       "      <td>0.167604</td>\n",
       "      <td>74822.818182</td>\n",
       "      <td>1644.181818</td>\n",
       "    </tr>\n",
       "    <tr>\n",
       "      <th>2</th>\n",
       "      <td>2</td>\n",
       "      <td>2036</td>\n",
       "      <td>35.750658</td>\n",
       "      <td>2674.559926</td>\n",
       "      <td>15.952849</td>\n",
       "      <td>0.247945</td>\n",
       "      <td>1510.527014</td>\n",
       "      <td>32.810904</td>\n",
       "    </tr>\n",
       "    <tr>\n",
       "      <th>3</th>\n",
       "      <td>3</td>\n",
       "      <td>1137</td>\n",
       "      <td>19.964881</td>\n",
       "      <td>1094.174485</td>\n",
       "      <td>61.361478</td>\n",
       "      <td>0.513579</td>\n",
       "      <td>635.213720</td>\n",
       "      <td>8.231310</td>\n",
       "    </tr>\n",
       "    <tr>\n",
       "      <th>0</th>\n",
       "      <td>0</td>\n",
       "      <td>569</td>\n",
       "      <td>9.991220</td>\n",
       "      <td>925.640914</td>\n",
       "      <td>340.086116</td>\n",
       "      <td>0.977187</td>\n",
       "      <td>388.226714</td>\n",
       "      <td>132.462214</td>\n",
       "    </tr>\n",
       "    <tr>\n",
       "      <th>6</th>\n",
       "      <td>6</td>\n",
       "      <td>588</td>\n",
       "      <td>10.324846</td>\n",
       "      <td>907.503844</td>\n",
       "      <td>119.605442</td>\n",
       "      <td>0.589450</td>\n",
       "      <td>495.520408</td>\n",
       "      <td>4.013605</td>\n",
       "    </tr>\n",
       "    <tr>\n",
       "      <th>5</th>\n",
       "      <td>5</td>\n",
       "      <td>716</td>\n",
       "      <td>12.572432</td>\n",
       "      <td>675.770908</td>\n",
       "      <td>186.074022</td>\n",
       "      <td>0.760309</td>\n",
       "      <td>273.953911</td>\n",
       "      <td>4.416201</td>\n",
       "    </tr>\n",
       "    <tr>\n",
       "      <th>4</th>\n",
       "      <td>4</td>\n",
       "      <td>638</td>\n",
       "      <td>11.202809</td>\n",
       "      <td>634.957398</td>\n",
       "      <td>260.957680</td>\n",
       "      <td>0.907916</td>\n",
       "      <td>255.611285</td>\n",
       "      <td>19.264890</td>\n",
       "    </tr>\n",
       "  </tbody>\n",
       "</table>\n",
       "</div>"
      ],
      "text/plain": [
       "   cluster  qtd_customers  perc_customer  avg_gross_revenue  avg_recency_days  \\\n",
       "1        1             11       0.193152      132552.812727          8.909091   \n",
       "2        2           2036      35.750658        2674.559926         15.952849   \n",
       "3        3           1137      19.964881        1094.174485         61.361478   \n",
       "0        0            569       9.991220         925.640914        340.086116   \n",
       "6        6            588      10.324846         907.503844        119.605442   \n",
       "5        5            716      12.572432         675.770908        186.074022   \n",
       "4        4            638      11.202809         634.957398        260.957680   \n",
       "\n",
       "   avg_frequency  avg_qtd_products  avg_returns  \n",
       "1       0.167604      74822.818182  1644.181818  \n",
       "2       0.247945       1510.527014    32.810904  \n",
       "3       0.513579        635.213720     8.231310  \n",
       "0       0.977187        388.226714   132.462214  \n",
       "6       0.589450        495.520408     4.013605  \n",
       "5       0.760309        273.953911     4.416201  \n",
       "4       0.907916        255.611285    19.264890  "
      ]
     },
     "execution_count": 117,
     "metadata": {},
     "output_type": "execute_result"
    }
   ],
   "source": [
    "# number of customers\n",
    "df_cluster = df10_aux[['customer_id', 'cluster']].groupby( 'cluster' ).count().reset_index()\n",
    "df_cluster['perc_customer'] = 100 * df_cluster['customer_id'] / df_cluster['customer_id'].sum()\n",
    "\n",
    "# Avg Gross revenue\n",
    "df_avg_gross_rev = df10_aux[['gross_revenue', 'cluster']].groupby( 'cluster' ).mean().reset_index()\n",
    "df_cluster = pd.merge( df_cluster, df_avg_gross_rev, how='inner', on='cluster' )\n",
    "\n",
    "# Avg Recency days\n",
    "df_avg_rec_days = df10_aux[['recency_days', 'cluster']].groupby( 'cluster' ).mean().reset_index()\n",
    "df_cluster = pd.merge( df_cluster, df_avg_rec_days, how='inner', on='cluster' )\n",
    "\n",
    "# Avg frequency\n",
    "df_avg_invoice_no = df10_aux[['frequency', 'cluster']].groupby( 'cluster' ).mean().reset_index()\n",
    "df_cluster = pd.merge( df_cluster, df_avg_invoice_no, how='inner', on='cluster' )\n",
    "\n",
    "# Avg quantity of products\n",
    "df_avg_qtd_products = df10_aux[['qtd_products', 'cluster']].groupby( 'cluster' ).mean().reset_index()\n",
    "df_cluster = pd.merge( df_cluster, df_avg_qtd_products, how='inner', on='cluster' )\n",
    "\n",
    "# Avg returns\n",
    "df_returns = df10_aux[['qtd_returns', 'cluster']].groupby( 'cluster' ).mean().reset_index()\n",
    "df_cluster = pd.merge( df_cluster, df_returns, how='inner', on='cluster' )\n",
    "\n",
    "# rename columns\n",
    "df_cluster.rename( columns={ \"customer_id\":\"qtd_customers\", \"gross_revenue\":\"avg_gross_revenue\", \"recency_days\":\"avg_recency_days\", \"frequency\":\"avg_frequency\",\"qtd_products\":\"avg_qtd_products\" ,\"qtd_returns\":\"avg_returns\"}, inplace=True )\n",
    "df_cluster.sort_values( by=['avg_gross_revenue'], ascending=False )"
   ]
  },
  {
   "cell_type": "markdown",
   "id": "c5c0563a",
   "metadata": {},
   "source": [
    "* **Clusters**:\n",
    "\n",
    "**1.** Insiders\n",
    "\n",
    "**2.** 'More products'\n",
    "\n",
    "**3.** 'Spend money'\n",
    "\n",
    "**0.** 'Even more products'\n",
    "\n",
    "**6.** 'More frequency'\n",
    "\n",
    "**5.** 'Even more frequency'\n",
    "\n",
    "**4.** 'Less days'"
   ]
  },
  {
   "cell_type": "markdown",
   "id": "faaf0a38",
   "metadata": {},
   "source": [
    "# 11. Deploy To Production"
   ]
  },
  {
   "cell_type": "code",
   "execution_count": 118,
   "id": "7da71e24",
   "metadata": {
    "ExecuteTime": {
     "end_time": "2022-05-30T16:08:10.659732Z",
     "start_time": "2022-05-30T16:08:10.641728Z"
    }
   },
   "outputs": [
    {
     "data": {
      "text/plain": [
       "customer_id        int32\n",
       "gross_revenue    float64\n",
       "recency_days       int32\n",
       "qtd_products       int32\n",
       "frequency        float64\n",
       "qtd_returns        int32\n",
       "cluster            int32\n",
       "dtype: object"
      ]
     },
     "execution_count": 118,
     "metadata": {},
     "output_type": "execute_result"
    }
   ],
   "source": [
    "df10_aux.dtypes"
   ]
  },
  {
   "cell_type": "markdown",
   "id": "16bc5431",
   "metadata": {},
   "source": [
    "## 11.1. Insert Into SQLite"
   ]
  },
  {
   "cell_type": "code",
   "execution_count": 119,
   "id": "025df606",
   "metadata": {
    "ExecuteTime": {
     "end_time": "2022-05-30T16:08:11.480298Z",
     "start_time": "2022-05-30T16:08:11.470350Z"
    }
   },
   "outputs": [],
   "source": [
    "# database connection\n",
    "host = 'insidersdb.clicbbkmgcqj.us-east-1.rds.amazonaws.com'\n",
    "port = '5432'\n",
    "database = 'postgres'\n",
    "user =  os.environ.get( 'user_postgreSQL' )\n",
    "pwd = os.environ.get( 'pwd_postgreSQL' )\n",
    "\n",
    "endpoint = 'postgresql://{}:{}@{}/postgres'.format( user, pwd, host, port )"
   ]
  },
  {
   "cell_type": "code",
   "execution_count": 120,
   "id": "1b217f32",
   "metadata": {
    "ExecuteTime": {
     "end_time": "2022-05-30T16:08:15.091224Z",
     "start_time": "2022-05-30T16:08:11.743278Z"
    }
   },
   "outputs": [],
   "source": [
    "# create connection\n",
    "conn = create_engine( endpoint )\n",
    "\n",
    "# drop table\n",
    "query_drop_insiders = \"\"\"\n",
    "    DROP TABLE insiders\n",
    "\"\"\"\n",
    "\n",
    "conn.execute( query_drop_insiders )\n",
    "\n",
    "## create table\n",
    "query_create_table_insiders = \"\"\"\n",
    "    CREATE TABLE insiders (\n",
    "        customer_id     INTEGER,\n",
    "        gross_revenue   REAL,\n",
    "        recency_days    INTEGER,\n",
    "        qtd_products    INTEGER,   \n",
    "        frequency       REAL,\n",
    "        qtd_returns     INTEGER,\n",
    "        cluster         INTEGER\n",
    "    )\n",
    "\n",
    "\"\"\"\n",
    "\n",
    "conn.execute( query_create_table_insiders );"
   ]
  },
  {
   "cell_type": "code",
   "execution_count": 121,
   "id": "541553c4",
   "metadata": {
    "ExecuteTime": {
     "end_time": "2022-05-30T16:08:17.178025Z",
     "start_time": "2022-05-30T16:08:15.093225Z"
    }
   },
   "outputs": [],
   "source": [
    "# insert table\n",
    "df10_aux.to_sql( 'insiders', con=conn, if_exists='append', index=False );"
   ]
  },
  {
   "cell_type": "code",
   "execution_count": 122,
   "id": "9b20d1ab",
   "metadata": {
    "ExecuteTime": {
     "end_time": "2022-05-30T16:08:18.342251Z",
     "start_time": "2022-05-30T16:08:17.180027Z"
    }
   },
   "outputs": [],
   "source": [
    "# consulting database\n",
    "query = \"\"\" \n",
    "    SELECT * FROM INSIDERS \n",
    "\"\"\"\n",
    "\n",
    "df = pd.read_sql_query( query, conn )"
   ]
  },
  {
   "cell_type": "code",
   "execution_count": 123,
   "id": "367ee976",
   "metadata": {
    "ExecuteTime": {
     "end_time": "2022-05-30T16:08:18.454292Z",
     "start_time": "2022-05-30T16:08:18.446290Z"
    }
   },
   "outputs": [
    {
     "data": {
      "text/plain": [
       "(5695, 7)"
      ]
     },
     "execution_count": 123,
     "metadata": {},
     "output_type": "execute_result"
    }
   ],
   "source": [
    "df.shape"
   ]
  }
 ],
 "metadata": {
  "kernelspec": {
   "display_name": "Python 3 (ipykernel)",
   "language": "python",
   "name": "python3"
  },
  "language_info": {
   "codemirror_mode": {
    "name": "ipython",
    "version": 3
   },
   "file_extension": ".py",
   "mimetype": "text/x-python",
   "name": "python",
   "nbconvert_exporter": "python",
   "pygments_lexer": "ipython3",
   "version": "3.8.12"
  }
 },
 "nbformat": 4,
 "nbformat_minor": 5
}
