{
 "cells": [
  {
   "cell_type": "markdown",
   "id": "826f913f",
   "metadata": {},
   "source": [
    "# **High Value Customer Identification (Insiders)**"
   ]
  },
  {
   "cell_type": "markdown",
   "id": "03d4b8ea",
   "metadata": {
    "ExecuteTime": {
     "end_time": "2022-03-21T22:31:08.134542Z",
     "start_time": "2022-03-21T22:31:08.129541Z"
    },
    "heading_collapsed": true
   },
   "source": [
    "## Solution Planning"
   ]
  },
  {
   "cell_type": "markdown",
   "id": "6dbb638b",
   "metadata": {
    "heading_collapsed": true,
    "hidden": true
   },
   "source": [
    "### Input"
   ]
  },
  {
   "cell_type": "markdown",
   "id": "794fa322",
   "metadata": {
    "hidden": true
   },
   "source": [
    "**1. Business Problem**\n",
    "- Select the most valuable customers to join a loyalty program.\n",
    "\n",
    "**2. Dataset**\n",
    "- E-commerce sales throughout one year."
   ]
  },
  {
   "cell_type": "markdown",
   "id": "254f252c",
   "metadata": {
    "heading_collapsed": true,
    "hidden": true
   },
   "source": [
    "### Output"
   ]
  },
  {
   "cell_type": "markdown",
   "id": "73bd23d7",
   "metadata": {
    "hidden": true
   },
   "source": [
    "**1. A list with the seleced customers.**\n",
    "   - Format: \n",
    "   \n",
    "|      client_id  |   is_insider  |  \n",
    "|:---------------:|:-------------:|\n",
    "|  10323          |   yes/1       | \n",
    "|  32415\t\t  |    no/1       | \n",
    "\n",
    "**2. Report with the business questions' answers:**\n",
    "- Who are the eligible customers to the program?\n",
    "- How many customers will be part of the group?\n",
    "- What are the main characteristics of these customers?\n",
    "- What is the percentage of revenue contribution from the Insiders?\n",
    "- What is the expected revenue from the Insiders for the next few months?\n",
    "- What are the conditions for a person to be eligible as an Insider?\n",
    "- What are the conditions for a person to be removed from the Insiders?\n",
    "- What is the guarantee that the Insiders are better than the rest?\n",
    "- What actions could be done by the marketing team to increase the revenue?"
   ]
  },
  {
   "cell_type": "markdown",
   "id": "a0ec819a",
   "metadata": {
    "hidden": true
   },
   "source": [
    "### Tasks"
   ]
  },
  {
   "cell_type": "markdown",
   "id": "9be3b4d8",
   "metadata": {
    "ExecuteTime": {
     "end_time": "2022-03-21T22:58:04.642732Z",
     "start_time": "2022-03-21T22:58:04.611725Z"
    },
    "hidden": true
   },
   "source": [
    "**1. Who are the eligible customers to the program?**\n",
    "- What is being eligible? What is \"the most valuable customers\"?\n",
    "- Valuable customers as:\n",
    "    - Revenue:\n",
    "        - High average ticket;\n",
    "        - High life time value (LTV);\n",
    "        - Low recency;\n",
    "        - High basket size;\n",
    "        - Low churn probability;\n",
    "        - High LTV prediction;\n",
    "        - High propensity to buy.\n",
    "        \n",
    "    - Cost:\n",
    "        - Low return rate.  \n",
    "   \n",
    "    - Shopping experience:\n",
    "        - High evaluation score.\n",
    "\n",
    "**2. How many customers will be part of the group?**\n",
    "- Customers that are Insiders divided by total customers.\n",
    "\n",
    "**3. What are the main attributes of these customers?**\n",
    "- Get customers characteristcs, such as:\n",
    "    - Age;\n",
    "    - Location;\n",
    "    - ...\n",
    "- Get consuption characteristics, such as:\n",
    "    - Clustering attributes.\n",
    "    \n",
    "    \n",
    "**4. What is the percentage of revenue contribution from the Insiders?**\n",
    "- Revenue contribution from the Insiders divided by total revenue.\n",
    "\n",
    "**5. What is the expected revenue from the Insiders for the next few months?**\n",
    "- Insiders' LTV;\n",
    "- Cohort analysis.\n",
    "\n",
    "**6. What are the conditions for a person to be eligible as an Insider?**\n",
    "- Define periodicity;\n",
    "- The person needs to be similiar to an Insider.\n",
    "\n",
    "\n",
    "**7. What are the conditions for a person to be removed from the Insiders?**\n",
    "- Define periodicity;\n",
    "- The person needs to be different in a certain level to an Insider.\n",
    "\n",
    "**8. What is the guarantee that the Insiders are better than the rest?**\n",
    "- A/B Testing;\n",
    "- A/B Bayesian Testing;\n",
    "- Hypothesis Testing.\n",
    "\n",
    "**9. What actions could be done by the marketing team to increase the revenue?**\n",
    "- Discount;\n",
    "- Purchase preference;\n",
    "- Low shipping;\n",
    "- ..."
   ]
  },
  {
   "cell_type": "markdown",
   "id": "1592a746",
   "metadata": {
    "heading_collapsed": true
   },
   "source": [
    "## Solution Benchmark"
   ]
  },
  {
   "cell_type": "markdown",
   "id": "88910dd0",
   "metadata": {
    "heading_collapsed": true,
    "hidden": true
   },
   "source": [
    "### RFM Model"
   ]
  },
  {
   "cell_type": "markdown",
   "id": "2ba2304c",
   "metadata": {
    "hidden": true
   },
   "source": [
    "**1. Recency:**\n",
    "- Time since the last purchase;\n",
    "- Responsiveness.\n",
    "\n",
    "**2. Frequency:**\n",
    "- Mean time between transactions;\n",
    "- Engagement.\n",
    "\n",
    "**3. Monetary:**\n",
    "- Total spent;\n",
    "- Revenue."
   ]
  },
  {
   "cell_type": "markdown",
   "id": "f91b0568",
   "metadata": {
    "hidden": true
   },
   "source": [
    "![](img/rfm.png)"
   ]
  },
  {
   "cell_type": "markdown",
   "id": "b1e84a85",
   "metadata": {
    "hidden": true
   },
   "source": [
    "**1. Champions**\n",
    "- Recent and frequent purchases, with high value;\n",
    "- Prizes for these customers.\n",
    "\n",
    "**2. Potential Loyalists**\n",
    "- Recent purchases, with a good frequency and good value;\n",
    "- Loyalty program and Upsell.\n",
    "\n",
    "**3. New Customers**\n",
    "- Recent purchase and low frequency;\n",
    "- Relationship building and offers.\n",
    "\n",
    "**4. At Risk Customer**\n",
    "- It has been a long time since the last purchase;\n",
    "- Reactivation campaigns, offers and products.\n",
    "\n",
    "**5. Can't Lose Them**\n",
    "- Understand the causes and offer some benefits."
   ]
  },
  {
   "cell_type": "markdown",
   "id": "8f44b1f5",
   "metadata": {
    "hidden": true
   },
   "source": []
  },
  {
   "cell_type": "code",
   "execution_count": null,
   "id": "66408846",
   "metadata": {
    "hidden": true
   },
   "outputs": [],
   "source": []
  },
  {
   "cell_type": "code",
   "execution_count": null,
   "id": "7d9ebd13",
   "metadata": {
    "hidden": true
   },
   "outputs": [],
   "source": []
  },
  {
   "cell_type": "code",
   "execution_count": null,
   "id": "f4cd2965",
   "metadata": {
    "hidden": true
   },
   "outputs": [],
   "source": []
  }
 ],
 "metadata": {
  "kernelspec": {
   "display_name": "Python 3 (ipykernel)",
   "language": "python",
   "name": "python3"
  },
  "language_info": {
   "codemirror_mode": {
    "name": "ipython",
    "version": 3
   },
   "file_extension": ".py",
   "mimetype": "text/x-python",
   "name": "python",
   "nbconvert_exporter": "python",
   "pygments_lexer": "ipython3",
   "version": "3.8.12"
  }
 },
 "nbformat": 4,
 "nbformat_minor": 5
}
