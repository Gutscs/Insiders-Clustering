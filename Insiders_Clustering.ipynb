{
 "cells": [
  {
   "cell_type": "markdown",
   "id": "826f913f",
   "metadata": {},
   "source": [
    "# **High Value Customer Identification (Insiders)**"
   ]
  },
  {
   "cell_type": "markdown",
   "id": "03d4b8ea",
   "metadata": {
    "ExecuteTime": {
     "end_time": "2022-03-21T22:31:08.134542Z",
     "start_time": "2022-03-21T22:31:08.129541Z"
    },
    "heading_collapsed": true
   },
   "source": [
    "## Solution Planning"
   ]
  },
  {
   "cell_type": "markdown",
   "id": "6dbb638b",
   "metadata": {
    "heading_collapsed": true,
    "hidden": true
   },
   "source": [
    "### Input"
   ]
  },
  {
   "cell_type": "markdown",
   "id": "794fa322",
   "metadata": {
    "hidden": true
   },
   "source": [
    "**1. Business Problem**\n",
    "- Select the most valuable customers to join a loyalty program.\n",
    "\n",
    "**2. Dataset**\n",
    "- E-commerce sales throughout one year."
   ]
  },
  {
   "cell_type": "markdown",
   "id": "254f252c",
   "metadata": {
    "heading_collapsed": true,
    "hidden": true
   },
   "source": [
    "### Output"
   ]
  },
  {
   "cell_type": "markdown",
   "id": "73bd23d7",
   "metadata": {
    "hidden": true
   },
   "source": [
    "**1. A list with the seleced customers.**\n",
    "   - Format: \n",
    "   \n",
    "|      client_id  |   is_insider  |  \n",
    "|:---------------:|:-------------:|\n",
    "|  10323          |   yes/1       | \n",
    "|  32415\t\t  |    no/1       | \n",
    "\n",
    "**2. Report with the business questions' answers:**\n",
    "- Who are the eligible customers to the program?\n",
    "- How many customers will be part of the group?\n",
    "- What are the main characteristics of these customers?\n",
    "- What is the percentage of revenue contribution from the Insiders?\n",
    "- What is the expected revenue from the Insiders for the next few months?\n",
    "- What are the conditions for a person to be eligible as an Insider?\n",
    "- What are the conditions for a person to be removed from the Insiders?\n",
    "- What is the guarantee that the Insiders are better than the rest?\n",
    "- What actions could be done by the marketing team to increase the revenue?"
   ]
  },
  {
   "cell_type": "markdown",
   "id": "a0ec819a",
   "metadata": {
    "hidden": true
   },
   "source": [
    "### Tasks"
   ]
  },
  {
   "cell_type": "markdown",
   "id": "9be3b4d8",
   "metadata": {
    "ExecuteTime": {
     "end_time": "2022-03-21T22:58:04.642732Z",
     "start_time": "2022-03-21T22:58:04.611725Z"
    },
    "hidden": true
   },
   "source": [
    "**1. Who are the eligible customers to the program?**\n",
    "- What is being eligible? What is \"the most valuable customers\"?\n",
    "- Valuable customers as:\n",
    "    - Revenue:\n",
    "        - High average ticket;\n",
    "        - High life time value (LTV);\n",
    "        - Low recency;\n",
    "        - High basket size;\n",
    "        - Low churn probability;\n",
    "        - High LTV prediction;\n",
    "        - High propensity to buy.\n",
    "        \n",
    "    - Cost:\n",
    "        - Low return rate.  \n",
    "   \n",
    "    - Shopping experience:\n",
    "        - High evaluation score.\n",
    "\n",
    "**2. How many customers will be part of the group?**\n",
    "- Customers that are Insiders divided by total customers.\n",
    "\n",
    "**3. What are the main attributes of these customers?**\n",
    "- Get customers characteristcs, such as:\n",
    "    - Age;\n",
    "    - Location;\n",
    "    - ...\n",
    "- Get consuption characteristics, such as:\n",
    "    - Clustering attributes.\n",
    "    \n",
    "    \n",
    "**4. What is the percentage of revenue contribution from the Insiders?**\n",
    "- Revenue contribution from the Insiders divided by total revenue.\n",
    "\n",
    "**5. What is the expected revenue from the Insiders for the next few months?**\n",
    "- Insiders' LTV;\n",
    "- Cohort analysis.\n",
    "\n",
    "**6. What are the conditions for a person to be eligible as an Insider?**\n",
    "- Define periodicity;\n",
    "- The person needs to be similiar to an Insider.\n",
    "\n",
    "\n",
    "**7. What are the conditions for a person to be removed from the Insiders?**\n",
    "- Define periodicity;\n",
    "- The person needs to be different in a certain level to an Insider.\n",
    "\n",
    "**8. What is the guarantee that the Insiders are better than the rest?**\n",
    "- A/B Testing;\n",
    "- A/B Bayesian Testing;\n",
    "- Hypothesis Testing.\n",
    "\n",
    "**9. What actions could be done by the marketing team to increase the revenue?**\n",
    "- Discount;\n",
    "- Purchase preference;\n",
    "- Low shipping;\n",
    "- ..."
   ]
  },
  {
   "cell_type": "markdown",
   "id": "1592a746",
   "metadata": {},
   "source": [
    "## Solution Benchmark"
   ]
  },
  {
   "cell_type": "markdown",
   "id": "88910dd0",
   "metadata": {},
   "source": [
    "### RFM Model"
   ]
  },
  {
   "cell_type": "markdown",
   "id": "2ba2304c",
   "metadata": {},
   "source": [
    "**1. Recency:**\n",
    "- Time since the last purchase;\n",
    "- Responsiveness.\n",
    "\n",
    "**2. Frequency:**\n",
    "- Mean time between transactions;\n",
    "- Engagement.\n",
    "\n",
    "**3. Monetary:**\n",
    "- Total spent;\n",
    "- Revenue."
   ]
  },
  {
   "cell_type": "markdown",
   "id": "f91b0568",
   "metadata": {},
   "source": [
    "![](img/rfm.png)"
   ]
  },
  {
   "cell_type": "markdown",
   "id": "b1e84a85",
   "metadata": {},
   "source": [
    "**1. Champions**\n",
    "- Recent and frequent purchases, with high value;\n",
    "- Prizes for these customers.\n",
    "\n",
    "**2. Potential Loyalists**\n",
    "- Recent purchases, with a good frequency and good value;\n",
    "- Loyalty program and Upsell.\n",
    "\n",
    "**3. New Customers**\n",
    "- Recent purchase and low frequency;\n",
    "- Relationship building and offers.\n",
    "\n",
    "**4. At Risk Customer**\n",
    "- It has been a long time since the last purchase;\n",
    "- Reactivation campaigns, offers and products.\n",
    "\n",
    "**5. Can't Lose Them**\n",
    "- Understand the causes and offer some benefits."
   ]
  },
  {
   "cell_type": "markdown",
   "id": "8f44b1f5",
   "metadata": {},
   "source": []
  },
  {
   "cell_type": "markdown",
   "id": "baf5b796",
   "metadata": {
    "ExecuteTime": {
     "end_time": "2022-03-23T00:25:21.044668Z",
     "start_time": "2022-03-23T00:25:21.029162Z"
    }
   },
   "source": [
    "# 1. Imports"
   ]
  },
  {
   "cell_type": "code",
   "execution_count": 1,
   "id": "7d9ebd13",
   "metadata": {
    "ExecuteTime": {
     "end_time": "2022-03-26T18:24:24.141656Z",
     "start_time": "2022-03-26T18:24:21.955089Z"
    }
   },
   "outputs": [],
   "source": [
    "import pandas  as pd\n",
    "import numpy   as np\n",
    "import seaborn as sns\n",
    "\n",
    "from matplotlib              import pyplot as plt\n",
    "\n",
    "from IPython.core.display    import HTML\n",
    "from IPython.display         import Image\n",
    "\n",
    "from sklearn.cluster         import KMeans\n",
    "from yellowbrick.cluster     import KElbowVisualizer"
   ]
  },
  {
   "cell_type": "markdown",
   "id": "a375f1dd",
   "metadata": {},
   "source": [
    "## 1.1. Helper Functions"
   ]
  },
  {
   "cell_type": "code",
   "execution_count": 2,
   "id": "3126c10b",
   "metadata": {
    "ExecuteTime": {
     "end_time": "2022-03-26T18:24:24.157663Z",
     "start_time": "2022-03-26T18:24:24.142658Z"
    }
   },
   "outputs": [],
   "source": [
    "def jupyter_settings():\n",
    "    %matplotlib inline\n",
    "\n",
    "    plt.style.use( 'bmh' )\n",
    "    plt.rcParams['figure.figsize'] = [20,8]\n",
    "    plt.rcParams['font.size'] = 11\n",
    "\n",
    "    display( HTML( '<style>.container { width:80% !important; }</style>' ) )\n",
    "    pd.options.display.max_columns = None\n",
    "    pd.options.display.max_rows = None\n",
    "    pd.set_option( 'display.expand_frame_repr', False )\n",
    "    pd.set_option( 'display.max_columns', None )\n",
    "\n",
    "    sns.set_style(\"darkgrid\")\n",
    "    sns.set_palette(\"muted\")"
   ]
  },
  {
   "cell_type": "code",
   "execution_count": 3,
   "id": "c0d571c0",
   "metadata": {
    "ExecuteTime": {
     "end_time": "2022-03-26T18:24:24.172862Z",
     "start_time": "2022-03-26T18:24:24.158663Z"
    }
   },
   "outputs": [
    {
     "data": {
      "text/html": [
       "<style>.container { width:80% !important; }</style>"
      ],
      "text/plain": [
       "<IPython.core.display.HTML object>"
      ]
     },
     "metadata": {},
     "output_type": "display_data"
    }
   ],
   "source": [
    "jupyter_settings()"
   ]
  },
  {
   "cell_type": "markdown",
   "id": "ac35f79b",
   "metadata": {},
   "source": [
    "## 1.2. Load Dataset"
   ]
  },
  {
   "cell_type": "code",
   "execution_count": 4,
   "id": "9b8f06fe",
   "metadata": {
    "ExecuteTime": {
     "end_time": "2022-03-26T18:24:24.799656Z",
     "start_time": "2022-03-26T18:24:24.175863Z"
    }
   },
   "outputs": [],
   "source": [
    "# load data\n",
    "df_raw = pd.read_csv( 'data/Ecommerce.csv',  encoding= 'unicode_escape' )\n",
    "\n",
    "# drop extra column\n",
    "df_raw.drop( columns='Unnamed: 8', axis=1, inplace=True)"
   ]
  },
  {
   "cell_type": "code",
   "execution_count": 5,
   "id": "106e92fe",
   "metadata": {
    "ExecuteTime": {
     "end_time": "2022-03-26T18:24:24.814661Z",
     "start_time": "2022-03-26T18:24:24.801657Z"
    }
   },
   "outputs": [
    {
     "data": {
      "text/html": [
       "<div>\n",
       "<style scoped>\n",
       "    .dataframe tbody tr th:only-of-type {\n",
       "        vertical-align: middle;\n",
       "    }\n",
       "\n",
       "    .dataframe tbody tr th {\n",
       "        vertical-align: top;\n",
       "    }\n",
       "\n",
       "    .dataframe thead th {\n",
       "        text-align: right;\n",
       "    }\n",
       "</style>\n",
       "<table border=\"1\" class=\"dataframe\">\n",
       "  <thead>\n",
       "    <tr style=\"text-align: right;\">\n",
       "      <th></th>\n",
       "      <th>InvoiceNo</th>\n",
       "      <th>StockCode</th>\n",
       "      <th>Description</th>\n",
       "      <th>Quantity</th>\n",
       "      <th>InvoiceDate</th>\n",
       "      <th>UnitPrice</th>\n",
       "      <th>CustomerID</th>\n",
       "      <th>Country</th>\n",
       "    </tr>\n",
       "  </thead>\n",
       "  <tbody>\n",
       "    <tr>\n",
       "      <th>0</th>\n",
       "      <td>536365</td>\n",
       "      <td>85123A</td>\n",
       "      <td>WHITE HANGING HEART T-LIGHT HOLDER</td>\n",
       "      <td>6</td>\n",
       "      <td>29-Nov-16</td>\n",
       "      <td>2.55</td>\n",
       "      <td>17850.0</td>\n",
       "      <td>United Kingdom</td>\n",
       "    </tr>\n",
       "    <tr>\n",
       "      <th>1</th>\n",
       "      <td>536365</td>\n",
       "      <td>71053</td>\n",
       "      <td>WHITE METAL LANTERN</td>\n",
       "      <td>6</td>\n",
       "      <td>29-Nov-16</td>\n",
       "      <td>3.39</td>\n",
       "      <td>17850.0</td>\n",
       "      <td>United Kingdom</td>\n",
       "    </tr>\n",
       "    <tr>\n",
       "      <th>2</th>\n",
       "      <td>536365</td>\n",
       "      <td>84406B</td>\n",
       "      <td>CREAM CUPID HEARTS COAT HANGER</td>\n",
       "      <td>8</td>\n",
       "      <td>29-Nov-16</td>\n",
       "      <td>2.75</td>\n",
       "      <td>17850.0</td>\n",
       "      <td>United Kingdom</td>\n",
       "    </tr>\n",
       "    <tr>\n",
       "      <th>3</th>\n",
       "      <td>536365</td>\n",
       "      <td>84029G</td>\n",
       "      <td>KNITTED UNION FLAG HOT WATER BOTTLE</td>\n",
       "      <td>6</td>\n",
       "      <td>29-Nov-16</td>\n",
       "      <td>3.39</td>\n",
       "      <td>17850.0</td>\n",
       "      <td>United Kingdom</td>\n",
       "    </tr>\n",
       "    <tr>\n",
       "      <th>4</th>\n",
       "      <td>536365</td>\n",
       "      <td>84029E</td>\n",
       "      <td>RED WOOLLY HOTTIE WHITE HEART.</td>\n",
       "      <td>6</td>\n",
       "      <td>29-Nov-16</td>\n",
       "      <td>3.39</td>\n",
       "      <td>17850.0</td>\n",
       "      <td>United Kingdom</td>\n",
       "    </tr>\n",
       "  </tbody>\n",
       "</table>\n",
       "</div>"
      ],
      "text/plain": [
       "  InvoiceNo StockCode                          Description  Quantity InvoiceDate  UnitPrice  CustomerID         Country\n",
       "0    536365    85123A   WHITE HANGING HEART T-LIGHT HOLDER         6   29-Nov-16       2.55     17850.0  United Kingdom\n",
       "1    536365     71053                  WHITE METAL LANTERN         6   29-Nov-16       3.39     17850.0  United Kingdom\n",
       "2    536365    84406B       CREAM CUPID HEARTS COAT HANGER         8   29-Nov-16       2.75     17850.0  United Kingdom\n",
       "3    536365    84029G  KNITTED UNION FLAG HOT WATER BOTTLE         6   29-Nov-16       3.39     17850.0  United Kingdom\n",
       "4    536365    84029E       RED WOOLLY HOTTIE WHITE HEART.         6   29-Nov-16       3.39     17850.0  United Kingdom"
      ]
     },
     "execution_count": 5,
     "metadata": {},
     "output_type": "execute_result"
    }
   ],
   "source": [
    "df_raw.head()"
   ]
  },
  {
   "cell_type": "markdown",
   "id": "eb0991ff",
   "metadata": {},
   "source": [
    "# 2. Data Description"
   ]
  },
  {
   "cell_type": "code",
   "execution_count": 6,
   "id": "6000d0cb",
   "metadata": {
    "ExecuteTime": {
     "end_time": "2022-03-26T18:24:24.830656Z",
     "start_time": "2022-03-26T18:24:24.815662Z"
    }
   },
   "outputs": [],
   "source": [
    "df2 = df_raw.copy()"
   ]
  },
  {
   "cell_type": "markdown",
   "id": "d1419773",
   "metadata": {},
   "source": [
    "## 2.1. Rename Columns"
   ]
  },
  {
   "cell_type": "code",
   "execution_count": 7,
   "id": "4d993c29",
   "metadata": {
    "ExecuteTime": {
     "end_time": "2022-03-26T18:24:24.846660Z",
     "start_time": "2022-03-26T18:24:24.831656Z"
    }
   },
   "outputs": [
    {
     "data": {
      "text/html": [
       "<div>\n",
       "<style scoped>\n",
       "    .dataframe tbody tr th:only-of-type {\n",
       "        vertical-align: middle;\n",
       "    }\n",
       "\n",
       "    .dataframe tbody tr th {\n",
       "        vertical-align: top;\n",
       "    }\n",
       "\n",
       "    .dataframe thead th {\n",
       "        text-align: right;\n",
       "    }\n",
       "</style>\n",
       "<table border=\"1\" class=\"dataframe\">\n",
       "  <thead>\n",
       "    <tr style=\"text-align: right;\">\n",
       "      <th></th>\n",
       "      <th>invoice_no</th>\n",
       "      <th>stock_code</th>\n",
       "      <th>description</th>\n",
       "      <th>quantity</th>\n",
       "      <th>invoice_date</th>\n",
       "      <th>unit_price</th>\n",
       "      <th>customer_id</th>\n",
       "      <th>country</th>\n",
       "    </tr>\n",
       "  </thead>\n",
       "  <tbody>\n",
       "    <tr>\n",
       "      <th>0</th>\n",
       "      <td>536365</td>\n",
       "      <td>85123A</td>\n",
       "      <td>WHITE HANGING HEART T-LIGHT HOLDER</td>\n",
       "      <td>6</td>\n",
       "      <td>29-Nov-16</td>\n",
       "      <td>2.55</td>\n",
       "      <td>17850.0</td>\n",
       "      <td>United Kingdom</td>\n",
       "    </tr>\n",
       "    <tr>\n",
       "      <th>1</th>\n",
       "      <td>536365</td>\n",
       "      <td>71053</td>\n",
       "      <td>WHITE METAL LANTERN</td>\n",
       "      <td>6</td>\n",
       "      <td>29-Nov-16</td>\n",
       "      <td>3.39</td>\n",
       "      <td>17850.0</td>\n",
       "      <td>United Kingdom</td>\n",
       "    </tr>\n",
       "    <tr>\n",
       "      <th>2</th>\n",
       "      <td>536365</td>\n",
       "      <td>84406B</td>\n",
       "      <td>CREAM CUPID HEARTS COAT HANGER</td>\n",
       "      <td>8</td>\n",
       "      <td>29-Nov-16</td>\n",
       "      <td>2.75</td>\n",
       "      <td>17850.0</td>\n",
       "      <td>United Kingdom</td>\n",
       "    </tr>\n",
       "    <tr>\n",
       "      <th>3</th>\n",
       "      <td>536365</td>\n",
       "      <td>84029G</td>\n",
       "      <td>KNITTED UNION FLAG HOT WATER BOTTLE</td>\n",
       "      <td>6</td>\n",
       "      <td>29-Nov-16</td>\n",
       "      <td>3.39</td>\n",
       "      <td>17850.0</td>\n",
       "      <td>United Kingdom</td>\n",
       "    </tr>\n",
       "    <tr>\n",
       "      <th>4</th>\n",
       "      <td>536365</td>\n",
       "      <td>84029E</td>\n",
       "      <td>RED WOOLLY HOTTIE WHITE HEART.</td>\n",
       "      <td>6</td>\n",
       "      <td>29-Nov-16</td>\n",
       "      <td>3.39</td>\n",
       "      <td>17850.0</td>\n",
       "      <td>United Kingdom</td>\n",
       "    </tr>\n",
       "  </tbody>\n",
       "</table>\n",
       "</div>"
      ],
      "text/plain": [
       "  invoice_no stock_code                          description  quantity invoice_date  unit_price  customer_id         country\n",
       "0     536365     85123A   WHITE HANGING HEART T-LIGHT HOLDER         6    29-Nov-16        2.55      17850.0  United Kingdom\n",
       "1     536365      71053                  WHITE METAL LANTERN         6    29-Nov-16        3.39      17850.0  United Kingdom\n",
       "2     536365     84406B       CREAM CUPID HEARTS COAT HANGER         8    29-Nov-16        2.75      17850.0  United Kingdom\n",
       "3     536365     84029G  KNITTED UNION FLAG HOT WATER BOTTLE         6    29-Nov-16        3.39      17850.0  United Kingdom\n",
       "4     536365     84029E       RED WOOLLY HOTTIE WHITE HEART.         6    29-Nov-16        3.39      17850.0  United Kingdom"
      ]
     },
     "execution_count": 7,
     "metadata": {},
     "output_type": "execute_result"
    }
   ],
   "source": [
    "cols_new = ['invoice_no', 'stock_code', 'description', 'quantity', 'invoice_date', 'unit_price', 'customer_id', 'country']\n",
    "\n",
    "# rename columns\n",
    "df2.columns = cols_new\n",
    "df2.head()"
   ]
  },
  {
   "cell_type": "markdown",
   "id": "3232b8e7",
   "metadata": {},
   "source": [
    "## 2.2. Data Dimensions"
   ]
  },
  {
   "cell_type": "code",
   "execution_count": 8,
   "id": "0972cafd",
   "metadata": {
    "ExecuteTime": {
     "end_time": "2022-03-26T18:24:24.862658Z",
     "start_time": "2022-03-26T18:24:24.847662Z"
    }
   },
   "outputs": [
    {
     "name": "stdout",
     "output_type": "stream",
     "text": [
      "Number of rows: 541909\n",
      "Number of columns: 8\n"
     ]
    }
   ],
   "source": [
    "print( 'Number of rows: {}'.format( df2.shape[0] ) )\n",
    "print( 'Number of columns: {}'.format( df2.shape[1] ) )"
   ]
  },
  {
   "cell_type": "markdown",
   "id": "819d18a4",
   "metadata": {},
   "source": [
    "## 2.3. Data Types"
   ]
  },
  {
   "cell_type": "code",
   "execution_count": 9,
   "id": "3208575b",
   "metadata": {
    "ExecuteTime": {
     "end_time": "2022-03-26T18:24:24.877928Z",
     "start_time": "2022-03-26T18:24:24.863659Z"
    }
   },
   "outputs": [
    {
     "data": {
      "text/plain": [
       "invoice_no       object\n",
       "stock_code       object\n",
       "description      object\n",
       "quantity          int64\n",
       "invoice_date     object\n",
       "unit_price      float64\n",
       "customer_id     float64\n",
       "country          object\n",
       "dtype: object"
      ]
     },
     "execution_count": 9,
     "metadata": {},
     "output_type": "execute_result"
    }
   ],
   "source": [
    "df2.dtypes"
   ]
  },
  {
   "cell_type": "markdown",
   "id": "4e5abbf5",
   "metadata": {},
   "source": [
    "## 2.4. Check NA"
   ]
  },
  {
   "cell_type": "code",
   "execution_count": 10,
   "id": "d58df37e",
   "metadata": {
    "ExecuteTime": {
     "end_time": "2022-03-26T18:24:25.244331Z",
     "start_time": "2022-03-26T18:24:24.880930Z"
    }
   },
   "outputs": [
    {
     "data": {
      "text/plain": [
       "invoice_no           0\n",
       "stock_code           0\n",
       "description       1454\n",
       "quantity             0\n",
       "invoice_date         0\n",
       "unit_price           0\n",
       "customer_id     135080\n",
       "country              0\n",
       "dtype: int64"
      ]
     },
     "execution_count": 10,
     "metadata": {},
     "output_type": "execute_result"
    }
   ],
   "source": [
    "df2.isna().sum()"
   ]
  },
  {
   "cell_type": "markdown",
   "id": "1890d61e",
   "metadata": {},
   "source": [
    "## 2.5. Replace NA"
   ]
  },
  {
   "cell_type": "code",
   "execution_count": 11,
   "id": "cee272b3",
   "metadata": {
    "ExecuteTime": {
     "end_time": "2022-03-26T18:24:25.356358Z",
     "start_time": "2022-03-26T18:24:25.245333Z"
    }
   },
   "outputs": [
    {
     "name": "stdout",
     "output_type": "stream",
     "text": [
      "Removed data: 24.93%\n",
      "Rows left: 406829\n"
     ]
    }
   ],
   "source": [
    "# remove NA\n",
    "df2 = df2.dropna( subset=['description', 'customer_id'] )\n",
    "print( 'Removed data: {:.2f}%'.format( ( 1 - ( df2.shape[0] / df_raw.shape[0] ) ) * 100 ) )\n",
    "print( 'Rows left: {}'.format( df2.shape[0]  ) )"
   ]
  },
  {
   "cell_type": "code",
   "execution_count": 12,
   "id": "4d166356",
   "metadata": {
    "ExecuteTime": {
     "end_time": "2022-03-26T18:24:25.640046Z",
     "start_time": "2022-03-26T18:24:25.357359Z"
    }
   },
   "outputs": [
    {
     "data": {
      "text/plain": [
       "invoice_no      0\n",
       "stock_code      0\n",
       "description     0\n",
       "quantity        0\n",
       "invoice_date    0\n",
       "unit_price      0\n",
       "customer_id     0\n",
       "country         0\n",
       "dtype: int64"
      ]
     },
     "execution_count": 12,
     "metadata": {},
     "output_type": "execute_result"
    }
   ],
   "source": [
    "df2.isna().sum()"
   ]
  },
  {
   "cell_type": "markdown",
   "id": "19b8a8c4",
   "metadata": {},
   "source": [
    "## 2.6. Change dtypes"
   ]
  },
  {
   "cell_type": "code",
   "execution_count": 13,
   "id": "a316bb83",
   "metadata": {
    "ExecuteTime": {
     "end_time": "2022-03-26T18:24:25.703060Z",
     "start_time": "2022-03-26T18:24:25.641047Z"
    }
   },
   "outputs": [
    {
     "data": {
      "text/html": [
       "<div>\n",
       "<style scoped>\n",
       "    .dataframe tbody tr th:only-of-type {\n",
       "        vertical-align: middle;\n",
       "    }\n",
       "\n",
       "    .dataframe tbody tr th {\n",
       "        vertical-align: top;\n",
       "    }\n",
       "\n",
       "    .dataframe thead th {\n",
       "        text-align: right;\n",
       "    }\n",
       "</style>\n",
       "<table border=\"1\" class=\"dataframe\">\n",
       "  <thead>\n",
       "    <tr style=\"text-align: right;\">\n",
       "      <th></th>\n",
       "      <th>invoice_no</th>\n",
       "      <th>stock_code</th>\n",
       "      <th>description</th>\n",
       "      <th>quantity</th>\n",
       "      <th>invoice_date</th>\n",
       "      <th>unit_price</th>\n",
       "      <th>customer_id</th>\n",
       "      <th>country</th>\n",
       "    </tr>\n",
       "  </thead>\n",
       "  <tbody>\n",
       "    <tr>\n",
       "      <th>0</th>\n",
       "      <td>536365</td>\n",
       "      <td>85123A</td>\n",
       "      <td>WHITE HANGING HEART T-LIGHT HOLDER</td>\n",
       "      <td>6</td>\n",
       "      <td>2016-11-29</td>\n",
       "      <td>2.55</td>\n",
       "      <td>17850</td>\n",
       "      <td>United Kingdom</td>\n",
       "    </tr>\n",
       "    <tr>\n",
       "      <th>1</th>\n",
       "      <td>536365</td>\n",
       "      <td>71053</td>\n",
       "      <td>WHITE METAL LANTERN</td>\n",
       "      <td>6</td>\n",
       "      <td>2016-11-29</td>\n",
       "      <td>3.39</td>\n",
       "      <td>17850</td>\n",
       "      <td>United Kingdom</td>\n",
       "    </tr>\n",
       "    <tr>\n",
       "      <th>2</th>\n",
       "      <td>536365</td>\n",
       "      <td>84406B</td>\n",
       "      <td>CREAM CUPID HEARTS COAT HANGER</td>\n",
       "      <td>8</td>\n",
       "      <td>2016-11-29</td>\n",
       "      <td>2.75</td>\n",
       "      <td>17850</td>\n",
       "      <td>United Kingdom</td>\n",
       "    </tr>\n",
       "    <tr>\n",
       "      <th>3</th>\n",
       "      <td>536365</td>\n",
       "      <td>84029G</td>\n",
       "      <td>KNITTED UNION FLAG HOT WATER BOTTLE</td>\n",
       "      <td>6</td>\n",
       "      <td>2016-11-29</td>\n",
       "      <td>3.39</td>\n",
       "      <td>17850</td>\n",
       "      <td>United Kingdom</td>\n",
       "    </tr>\n",
       "    <tr>\n",
       "      <th>4</th>\n",
       "      <td>536365</td>\n",
       "      <td>84029E</td>\n",
       "      <td>RED WOOLLY HOTTIE WHITE HEART.</td>\n",
       "      <td>6</td>\n",
       "      <td>2016-11-29</td>\n",
       "      <td>3.39</td>\n",
       "      <td>17850</td>\n",
       "      <td>United Kingdom</td>\n",
       "    </tr>\n",
       "  </tbody>\n",
       "</table>\n",
       "</div>"
      ],
      "text/plain": [
       "  invoice_no stock_code                          description  quantity invoice_date  unit_price  customer_id         country\n",
       "0     536365     85123A   WHITE HANGING HEART T-LIGHT HOLDER         6   2016-11-29        2.55        17850  United Kingdom\n",
       "1     536365      71053                  WHITE METAL LANTERN         6   2016-11-29        3.39        17850  United Kingdom\n",
       "2     536365     84406B       CREAM CUPID HEARTS COAT HANGER         8   2016-11-29        2.75        17850  United Kingdom\n",
       "3     536365     84029G  KNITTED UNION FLAG HOT WATER BOTTLE         6   2016-11-29        3.39        17850  United Kingdom\n",
       "4     536365     84029E       RED WOOLLY HOTTIE WHITE HEART.         6   2016-11-29        3.39        17850  United Kingdom"
      ]
     },
     "execution_count": 13,
     "metadata": {},
     "output_type": "execute_result"
    }
   ],
   "source": [
    "# invoice date\n",
    "df2['invoice_date'] = pd.to_datetime( df2['invoice_date'], format='%d-%b-%y' )\n",
    "\n",
    "# customer_id\n",
    "df2['customer_id'] = df2['customer_id'].astype( int )\n",
    "df2.head()"
   ]
  },
  {
   "cell_type": "code",
   "execution_count": 14,
   "id": "508d1ef1",
   "metadata": {
    "ExecuteTime": {
     "end_time": "2022-03-26T18:24:25.718659Z",
     "start_time": "2022-03-26T18:24:25.704060Z"
    }
   },
   "outputs": [
    {
     "data": {
      "text/plain": [
       "invoice_no              object\n",
       "stock_code              object\n",
       "description             object\n",
       "quantity                 int64\n",
       "invoice_date    datetime64[ns]\n",
       "unit_price             float64\n",
       "customer_id              int32\n",
       "country                 object\n",
       "dtype: object"
      ]
     },
     "execution_count": 14,
     "metadata": {},
     "output_type": "execute_result"
    }
   ],
   "source": [
    "df2.dtypes"
   ]
  },
  {
   "cell_type": "markdown",
   "id": "32ade075",
   "metadata": {
    "heading_collapsed": true
   },
   "source": [
    "## 2.7. Descriptive Statistics"
   ]
  },
  {
   "cell_type": "markdown",
   "id": "103755e2",
   "metadata": {},
   "source": [
    "# 3. Feature Engineering"
   ]
  },
  {
   "cell_type": "code",
   "execution_count": 15,
   "id": "640fdd5f",
   "metadata": {
    "ExecuteTime": {
     "end_time": "2022-03-26T18:24:25.734659Z",
     "start_time": "2022-03-26T18:24:25.719659Z"
    }
   },
   "outputs": [],
   "source": [
    "df3 = df2.copy()"
   ]
  },
  {
   "cell_type": "markdown",
   "id": "d32d4895",
   "metadata": {},
   "source": [
    "## 3.1. Feature Creation"
   ]
  },
  {
   "cell_type": "markdown",
   "id": "6bf363a4",
   "metadata": {},
   "source": [
    "The dataset granularity should be customers, because the clusters will be for customers, but it is a unique key composed of product (stock_code) and date (invoice_date). So it is necessary to change the granularity."
   ]
  },
  {
   "cell_type": "code",
   "execution_count": 16,
   "id": "01261285",
   "metadata": {
    "ExecuteTime": {
     "end_time": "2022-03-26T18:24:25.766664Z",
     "start_time": "2022-03-26T18:24:25.736658Z"
    }
   },
   "outputs": [
    {
     "data": {
      "text/html": [
       "<div>\n",
       "<style scoped>\n",
       "    .dataframe tbody tr th:only-of-type {\n",
       "        vertical-align: middle;\n",
       "    }\n",
       "\n",
       "    .dataframe tbody tr th {\n",
       "        vertical-align: top;\n",
       "    }\n",
       "\n",
       "    .dataframe thead th {\n",
       "        text-align: right;\n",
       "    }\n",
       "</style>\n",
       "<table border=\"1\" class=\"dataframe\">\n",
       "  <thead>\n",
       "    <tr style=\"text-align: right;\">\n",
       "      <th></th>\n",
       "      <th>customer_id</th>\n",
       "    </tr>\n",
       "  </thead>\n",
       "  <tbody>\n",
       "    <tr>\n",
       "      <th>0</th>\n",
       "      <td>17850</td>\n",
       "    </tr>\n",
       "    <tr>\n",
       "      <th>1</th>\n",
       "      <td>13047</td>\n",
       "    </tr>\n",
       "    <tr>\n",
       "      <th>2</th>\n",
       "      <td>12583</td>\n",
       "    </tr>\n",
       "    <tr>\n",
       "      <th>3</th>\n",
       "      <td>13748</td>\n",
       "    </tr>\n",
       "    <tr>\n",
       "      <th>4</th>\n",
       "      <td>15100</td>\n",
       "    </tr>\n",
       "  </tbody>\n",
       "</table>\n",
       "</div>"
      ],
      "text/plain": [
       "   customer_id\n",
       "0        17850\n",
       "1        13047\n",
       "2        12583\n",
       "3        13748\n",
       "4        15100"
      ]
     },
     "execution_count": 16,
     "metadata": {},
     "output_type": "execute_result"
    }
   ],
   "source": [
    "# data reference\n",
    "df_ref = df2[['customer_id']].drop_duplicates( ignore_index=True )\n",
    "df_ref.head()"
   ]
  },
  {
   "cell_type": "code",
   "execution_count": 17,
   "id": "5aef23bb",
   "metadata": {
    "ExecuteTime": {
     "end_time": "2022-03-26T18:24:25.814658Z",
     "start_time": "2022-03-26T18:24:25.767665Z"
    }
   },
   "outputs": [
    {
     "data": {
      "text/html": [
       "<div>\n",
       "<style scoped>\n",
       "    .dataframe tbody tr th:only-of-type {\n",
       "        vertical-align: middle;\n",
       "    }\n",
       "\n",
       "    .dataframe tbody tr th {\n",
       "        vertical-align: top;\n",
       "    }\n",
       "\n",
       "    .dataframe thead th {\n",
       "        text-align: right;\n",
       "    }\n",
       "</style>\n",
       "<table border=\"1\" class=\"dataframe\">\n",
       "  <thead>\n",
       "    <tr style=\"text-align: right;\">\n",
       "      <th></th>\n",
       "      <th>customer_id</th>\n",
       "      <th>gross_revenue</th>\n",
       "    </tr>\n",
       "  </thead>\n",
       "  <tbody>\n",
       "    <tr>\n",
       "      <th>0</th>\n",
       "      <td>17850</td>\n",
       "      <td>5288.63</td>\n",
       "    </tr>\n",
       "    <tr>\n",
       "      <th>1</th>\n",
       "      <td>13047</td>\n",
       "      <td>3079.10</td>\n",
       "    </tr>\n",
       "    <tr>\n",
       "      <th>2</th>\n",
       "      <td>12583</td>\n",
       "      <td>7187.34</td>\n",
       "    </tr>\n",
       "    <tr>\n",
       "      <th>3</th>\n",
       "      <td>13748</td>\n",
       "      <td>948.25</td>\n",
       "    </tr>\n",
       "    <tr>\n",
       "      <th>4</th>\n",
       "      <td>15100</td>\n",
       "      <td>635.10</td>\n",
       "    </tr>\n",
       "  </tbody>\n",
       "</table>\n",
       "</div>"
      ],
      "text/plain": [
       "   customer_id  gross_revenue\n",
       "0        17850        5288.63\n",
       "1        13047        3079.10\n",
       "2        12583        7187.34\n",
       "3        13748         948.25\n",
       "4        15100         635.10"
      ]
     },
     "execution_count": 17,
     "metadata": {},
     "output_type": "execute_result"
    }
   ],
   "source": [
    "# Gross Revenue (quantity * price)\n",
    "df2['gross_revenue'] = df2['quantity'] * df2['unit_price']\n",
    "\n",
    "# Monetary\n",
    "df_monetary = df2[['customer_id', 'gross_revenue']].groupby( 'customer_id' ).sum().reset_index()\n",
    "df_ref = pd.merge( df_ref, df_monetary, on='customer_id',  how='left')\n",
    "df_ref.head()"
   ]
  },
  {
   "cell_type": "code",
   "execution_count": 18,
   "id": "9f3a6186",
   "metadata": {
    "ExecuteTime": {
     "end_time": "2022-03-26T18:24:25.861658Z",
     "start_time": "2022-03-26T18:24:25.816659Z"
    }
   },
   "outputs": [
    {
     "data": {
      "text/html": [
       "<div>\n",
       "<style scoped>\n",
       "    .dataframe tbody tr th:only-of-type {\n",
       "        vertical-align: middle;\n",
       "    }\n",
       "\n",
       "    .dataframe tbody tr th {\n",
       "        vertical-align: top;\n",
       "    }\n",
       "\n",
       "    .dataframe thead th {\n",
       "        text-align: right;\n",
       "    }\n",
       "</style>\n",
       "<table border=\"1\" class=\"dataframe\">\n",
       "  <thead>\n",
       "    <tr style=\"text-align: right;\">\n",
       "      <th></th>\n",
       "      <th>customer_id</th>\n",
       "      <th>gross_revenue</th>\n",
       "      <th>recency_days</th>\n",
       "    </tr>\n",
       "  </thead>\n",
       "  <tbody>\n",
       "    <tr>\n",
       "      <th>0</th>\n",
       "      <td>17850</td>\n",
       "      <td>5288.63</td>\n",
       "      <td>302</td>\n",
       "    </tr>\n",
       "    <tr>\n",
       "      <th>1</th>\n",
       "      <td>13047</td>\n",
       "      <td>3079.10</td>\n",
       "      <td>31</td>\n",
       "    </tr>\n",
       "    <tr>\n",
       "      <th>2</th>\n",
       "      <td>12583</td>\n",
       "      <td>7187.34</td>\n",
       "      <td>2</td>\n",
       "    </tr>\n",
       "    <tr>\n",
       "      <th>3</th>\n",
       "      <td>13748</td>\n",
       "      <td>948.25</td>\n",
       "      <td>95</td>\n",
       "    </tr>\n",
       "    <tr>\n",
       "      <th>4</th>\n",
       "      <td>15100</td>\n",
       "      <td>635.10</td>\n",
       "      <td>330</td>\n",
       "    </tr>\n",
       "  </tbody>\n",
       "</table>\n",
       "</div>"
      ],
      "text/plain": [
       "   customer_id  gross_revenue  recency_days\n",
       "0        17850        5288.63           302\n",
       "1        13047        3079.10            31\n",
       "2        12583        7187.34             2\n",
       "3        13748         948.25            95\n",
       "4        15100         635.10           330"
      ]
     },
     "execution_count": 18,
     "metadata": {},
     "output_type": "execute_result"
    }
   ],
   "source": [
    "# Recency - Last day purchase\n",
    "df_recency = df2[['customer_id', 'invoice_date']].groupby( 'customer_id' ).max().reset_index()\n",
    "df_recency['recency_days'] = ( df2['invoice_date'].max() - df_recency['invoice_date'] ).dt.days\n",
    "df_recency = df_recency[['customer_id', 'recency_days']].copy()\n",
    "df_ref = pd.merge( df_ref, df_recency, on='customer_id', how='left' )\n",
    "df_ref.head()"
   ]
  },
  {
   "cell_type": "code",
   "execution_count": 19,
   "id": "6e44f299",
   "metadata": {
    "ExecuteTime": {
     "end_time": "2022-03-26T18:24:25.941658Z",
     "start_time": "2022-03-26T18:24:25.862661Z"
    }
   },
   "outputs": [
    {
     "data": {
      "text/html": [
       "<div>\n",
       "<style scoped>\n",
       "    .dataframe tbody tr th:only-of-type {\n",
       "        vertical-align: middle;\n",
       "    }\n",
       "\n",
       "    .dataframe tbody tr th {\n",
       "        vertical-align: top;\n",
       "    }\n",
       "\n",
       "    .dataframe thead th {\n",
       "        text-align: right;\n",
       "    }\n",
       "</style>\n",
       "<table border=\"1\" class=\"dataframe\">\n",
       "  <thead>\n",
       "    <tr style=\"text-align: right;\">\n",
       "      <th></th>\n",
       "      <th>customer_id</th>\n",
       "      <th>gross_revenue</th>\n",
       "      <th>recency_days</th>\n",
       "      <th>invoice_no</th>\n",
       "    </tr>\n",
       "  </thead>\n",
       "  <tbody>\n",
       "    <tr>\n",
       "      <th>0</th>\n",
       "      <td>17850</td>\n",
       "      <td>5288.63</td>\n",
       "      <td>302</td>\n",
       "      <td>35</td>\n",
       "    </tr>\n",
       "    <tr>\n",
       "      <th>1</th>\n",
       "      <td>13047</td>\n",
       "      <td>3079.10</td>\n",
       "      <td>31</td>\n",
       "      <td>18</td>\n",
       "    </tr>\n",
       "    <tr>\n",
       "      <th>2</th>\n",
       "      <td>12583</td>\n",
       "      <td>7187.34</td>\n",
       "      <td>2</td>\n",
       "      <td>18</td>\n",
       "    </tr>\n",
       "    <tr>\n",
       "      <th>3</th>\n",
       "      <td>13748</td>\n",
       "      <td>948.25</td>\n",
       "      <td>95</td>\n",
       "      <td>5</td>\n",
       "    </tr>\n",
       "    <tr>\n",
       "      <th>4</th>\n",
       "      <td>15100</td>\n",
       "      <td>635.10</td>\n",
       "      <td>330</td>\n",
       "      <td>6</td>\n",
       "    </tr>\n",
       "  </tbody>\n",
       "</table>\n",
       "</div>"
      ],
      "text/plain": [
       "   customer_id  gross_revenue  recency_days  invoice_no\n",
       "0        17850        5288.63           302          35\n",
       "1        13047        3079.10            31          18\n",
       "2        12583        7187.34             2          18\n",
       "3        13748         948.25            95           5\n",
       "4        15100         635.10           330           6"
      ]
     },
     "execution_count": 19,
     "metadata": {},
     "output_type": "execute_result"
    }
   ],
   "source": [
    "# Frequency\n",
    "df_freq = df2[['customer_id', 'invoice_no']].drop_duplicates().groupby( 'customer_id' ).count().reset_index()\n",
    "df_ref = pd.merge( df_ref, df_freq, on='customer_id', how='left' )\n",
    "df_ref.head()"
   ]
  },
  {
   "cell_type": "code",
   "execution_count": 20,
   "id": "a7b28f46",
   "metadata": {
    "ExecuteTime": {
     "end_time": "2022-03-26T18:24:25.956661Z",
     "start_time": "2022-03-26T18:24:25.942659Z"
    }
   },
   "outputs": [
    {
     "data": {
      "text/plain": [
       "customer_id      0\n",
       "gross_revenue    0\n",
       "recency_days     0\n",
       "invoice_no       0\n",
       "dtype: int64"
      ]
     },
     "execution_count": 20,
     "metadata": {},
     "output_type": "execute_result"
    }
   ],
   "source": [
    "# checking possible NAs created by the merge\n",
    "df_ref.isna().sum()"
   ]
  },
  {
   "cell_type": "markdown",
   "id": "9f5c57bf",
   "metadata": {},
   "source": [
    "# 4. Data Filtering"
   ]
  },
  {
   "cell_type": "code",
   "execution_count": 21,
   "id": "bcfa9a5a",
   "metadata": {
    "ExecuteTime": {
     "end_time": "2022-03-26T18:24:25.972657Z",
     "start_time": "2022-03-26T18:24:25.957661Z"
    }
   },
   "outputs": [],
   "source": [
    "df4 = df_ref.copy()"
   ]
  },
  {
   "cell_type": "markdown",
   "id": "94d6e891",
   "metadata": {
    "ExecuteTime": {
     "end_time": "2022-03-26T14:43:53.830875Z",
     "start_time": "2022-03-26T14:43:53.816872Z"
    }
   },
   "source": [
    "# 5. EDA"
   ]
  },
  {
   "cell_type": "code",
   "execution_count": 22,
   "id": "5b52f4ae",
   "metadata": {
    "ExecuteTime": {
     "end_time": "2022-03-26T18:24:25.988659Z",
     "start_time": "2022-03-26T18:24:25.973659Z"
    }
   },
   "outputs": [],
   "source": [
    "df5 = df4.copy()"
   ]
  },
  {
   "cell_type": "markdown",
   "id": "0540b671",
   "metadata": {},
   "source": [
    "# 6. Data Preparation"
   ]
  },
  {
   "cell_type": "code",
   "execution_count": 23,
   "id": "03fb9fc3",
   "metadata": {
    "ExecuteTime": {
     "end_time": "2022-03-26T18:24:26.004662Z",
     "start_time": "2022-03-26T18:24:25.989658Z"
    }
   },
   "outputs": [],
   "source": [
    "df6 = df5.copy()"
   ]
  },
  {
   "cell_type": "markdown",
   "id": "07c6fa42",
   "metadata": {},
   "source": [
    "# 7. Feature Selection"
   ]
  },
  {
   "cell_type": "code",
   "execution_count": 24,
   "id": "c85d38a3",
   "metadata": {
    "ExecuteTime": {
     "end_time": "2022-03-26T18:24:26.020660Z",
     "start_time": "2022-03-26T18:24:26.005662Z"
    }
   },
   "outputs": [],
   "source": [
    "df7 = df6.copy()"
   ]
  },
  {
   "cell_type": "markdown",
   "id": "f9a5cc6f",
   "metadata": {},
   "source": [
    "# 8. Hyperparameter Fine-Tunning"
   ]
  },
  {
   "cell_type": "code",
   "execution_count": 40,
   "id": "7e206aa7",
   "metadata": {
    "ExecuteTime": {
     "end_time": "2022-03-26T18:26:39.727004Z",
     "start_time": "2022-03-26T18:26:39.719001Z"
    }
   },
   "outputs": [],
   "source": [
    "X = df7.drop( columns=['customer_id'] )\n",
    "\n",
    "clusters = [2, 3, 4, 5, 6, 7, 8, 9, 10] "
   ]
  },
  {
   "cell_type": "markdown",
   "id": "8e5022aa",
   "metadata": {},
   "source": [
    "## 8.1. Within-Cluster Sum of Squares ( WSS ) ( Elbow Method )"
   ]
  },
  {
   "cell_type": "code",
   "execution_count": 26,
   "id": "181856a7",
   "metadata": {
    "ExecuteTime": {
     "end_time": "2022-03-26T18:24:26.791658Z",
     "start_time": "2022-03-26T18:24:26.037658Z"
    }
   },
   "outputs": [
    {
     "data": {
      "image/png": "[encoded data removed]",
      "text/plain": [
       "<Figure size 1440x576 with 1 Axes>"
      ]
     },
     "metadata": {},
     "output_type": "display_data"
    }
   ],
   "source": [
    "wss = []\n",
    "for k in clusters:\n",
    "    # model definition\n",
    "    kmeans = KMeans( init='random', n_clusters=k, n_init=10, max_iter=300, random_state=42 )\n",
    "    \n",
    "    # model training\n",
    "    kmeans.fit( X )\n",
    "    \n",
    "    # validation\n",
    "    wss.append( kmeans.inertia_ )\n",
    "    \n",
    "# plot wss\n",
    "plt.plot( clusters, wss, linestyle='--', marker='o' )\n",
    "plt.xlabel( 'K' )\n",
    "plt.ylabel( 'Wss' );"
   ]
  },
  {
   "cell_type": "code",
   "execution_count": 36,
   "id": "0dadf0ab",
   "metadata": {
    "ExecuteTime": {
     "end_time": "2022-03-26T18:26:14.716862Z",
     "start_time": "2022-03-26T18:26:12.693062Z"
    }
   },
   "outputs": [
    {
     "data": {
      "image/png": "[encoded data removed]",
      "text/plain": [
       "<Figure size 1440x576 with 1 Axes>"
      ]
     },
     "metadata": {},
     "output_type": "display_data"
    }
   ],
   "source": [
    "kmeans = KElbowVisualizer( KMeans( init='random', n_init=10, max_iter=300, random_state=0  ), k=clusters, timings=False )\n",
    "kmeans.fit( X )\n",
    "kmeans.show();"
   ]
  },
  {
   "cell_type": "markdown",
   "id": "9124930c",
   "metadata": {},
   "source": [
    "# 8.2. Silhouette Score"
   ]
  },
  {
   "cell_type": "code",
   "execution_count": 41,
   "id": "56d12bb9",
   "metadata": {
    "ExecuteTime": {
     "end_time": "2022-03-26T18:26:46.697085Z",
     "start_time": "2022-03-26T18:26:42.353128Z"
    }
   },
   "outputs": [
    {
     "name": "stderr",
     "output_type": "stream",
     "text": [
      "C:\\Users\\gutsc\\anaconda3\\envs\\insiders_clustering\\lib\\site-packages\\yellowbrick\\utils\\kneed.py:182: YellowbrickWarning: No \"knee\" or \"elbow point\" detected This could be due to bad clustering, no actual clusters being formed etc.\n",
      "  warnings.warn(warning_message, YellowbrickWarning)\n",
      "C:\\Users\\gutsc\\anaconda3\\envs\\insiders_clustering\\lib\\site-packages\\yellowbrick\\utils\\kneed.py:140: YellowbrickWarning: No 'knee' or 'elbow point' detected This could be due to bad clustering, no actual clusters being formed etc.\n",
      "  warnings.warn(warning_message, YellowbrickWarning)\n",
      "C:\\Users\\gutsc\\anaconda3\\envs\\insiders_clustering\\lib\\site-packages\\yellowbrick\\cluster\\elbow.py:343: YellowbrickWarning: No 'knee' or 'elbow' point detected, pass `locate_elbow=False` to remove the warning\n",
      "  warnings.warn(warning_message, YellowbrickWarning)\n"
     ]
    },
    {
     "data": {
      "image/png": "[encoded data removed]",
      "text/plain": [
       "<Figure size 1440x576 with 1 Axes>"
      ]
     },
     "metadata": {},
     "output_type": "display_data"
    }
   ],
   "source": [
    "kmeans = KElbowVisualizer( KMeans( init='random', n_init=10, max_iter=300, random_state=0  ), k=clusters, timings=False, metric='silhouette' )\n",
    "kmeans.fit( X )\n",
    "kmeans.show();"
   ]
  }
 ],
 "metadata": {
  "kernelspec": {
   "display_name": "Python 3 (ipykernel)",
   "language": "python",
   "name": "python3"
  },
  "language_info": {
   "codemirror_mode": {
    "name": "ipython",
    "version": 3
   },
   "file_extension": ".py",
   "mimetype": "text/x-python",
   "name": "python",
   "nbconvert_exporter": "python",
   "pygments_lexer": "ipython3",
   "version": "3.8.12"
  }
 },
 "nbformat": 4,
 "nbformat_minor": 5
}
