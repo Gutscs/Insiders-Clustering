{
 "cells": [
  {
   "cell_type": "markdown",
   "id": "826f913f",
   "metadata": {
    "heading_collapsed": true
   },
   "source": [
    "# **High Value Customer Identification (Insiders)**"
   ]
  },
  {
   "cell_type": "markdown",
   "id": "03d4b8ea",
   "metadata": {
    "ExecuteTime": {
     "end_time": "2022-03-21T22:31:08.134542Z",
     "start_time": "2022-03-21T22:31:08.129541Z"
    },
    "heading_collapsed": true,
    "hidden": true
   },
   "source": [
    "## Solution Planning"
   ]
  },
  {
   "cell_type": "markdown",
   "id": "6dbb638b",
   "metadata": {
    "heading_collapsed": true,
    "hidden": true
   },
   "source": [
    "### Input"
   ]
  },
  {
   "cell_type": "markdown",
   "id": "794fa322",
   "metadata": {
    "hidden": true
   },
   "source": [
    "**1. Business Problem**\n",
    "- Select the most valuable customers to join a loyalty program.\n",
    "\n",
    "**2. Dataset**\n",
    "- E-commerce sales throughout one year."
   ]
  },
  {
   "cell_type": "markdown",
   "id": "254f252c",
   "metadata": {
    "heading_collapsed": true,
    "hidden": true
   },
   "source": [
    "### Output"
   ]
  },
  {
   "cell_type": "markdown",
   "id": "73bd23d7",
   "metadata": {
    "hidden": true
   },
   "source": [
    "**1. A list with the seleced customers.**\n",
    "   - Format: \n",
    "   \n",
    "|      client_id  |   is_insider  |  \n",
    "|:---------------:|:-------------:|\n",
    "|  10323          |   yes/1       | \n",
    "|  32415\t\t  |    no/1       | \n",
    "\n",
    "**2. Report with the business questions' answers:**\n",
    "- Who are the eligible customers to the program?\n",
    "- How many customers will be part of the group?\n",
    "- What are the main characteristics of these customers?\n",
    "- What is the percentage of revenue contribution from the Insiders?\n",
    "- What is the expected revenue from the Insiders for the next few months?\n",
    "- What are the conditions for a person to be eligible as an Insider?\n",
    "- What are the conditions for a person to be removed from the Insiders?\n",
    "- What is the guarantee that the Insiders are better than the rest?\n",
    "- What actions could be done by the marketing team to increase the revenue?"
   ]
  },
  {
   "cell_type": "markdown",
   "id": "a0ec819a",
   "metadata": {
    "hidden": true
   },
   "source": [
    "### Tasks"
   ]
  },
  {
   "cell_type": "markdown",
   "id": "9be3b4d8",
   "metadata": {
    "ExecuteTime": {
     "end_time": "2022-03-21T22:58:04.642732Z",
     "start_time": "2022-03-21T22:58:04.611725Z"
    },
    "hidden": true
   },
   "source": [
    "**1. Who are the eligible customers to the program?**\n",
    "- What is being eligible? What is \"the most valuable customers\"?\n",
    "- Valuable customers as:\n",
    "    - Revenue:\n",
    "        - High average ticket;\n",
    "        - High life time value (LTV);\n",
    "        - Low recency;\n",
    "        - High basket size;\n",
    "        - Low churn probability;\n",
    "        - High LTV prediction;\n",
    "        - High propensity to buy.\n",
    "        \n",
    "    - Cost:\n",
    "        - Low return rate.  \n",
    "   \n",
    "    - Shopping experience:\n",
    "        - High evaluation score.\n",
    "\n",
    "**2. How many customers will be part of the group?**\n",
    "- Customers that are Insiders divided by total customers.\n",
    "\n",
    "**3. What are the main attributes of these customers?**\n",
    "- Get customers characteristcs, such as:\n",
    "    - Age;\n",
    "    - Location;\n",
    "    - ...\n",
    "- Get consuption characteristics, such as:\n",
    "    - Clustering attributes.\n",
    "    \n",
    "    \n",
    "**4. What is the percentage of revenue contribution from the Insiders?**\n",
    "- Revenue contribution from the Insiders divided by total revenue.\n",
    "\n",
    "**5. What is the expected revenue from the Insiders for the next few months?**\n",
    "- Insiders' LTV;\n",
    "- Cohort analysis.\n",
    "\n",
    "**6. What are the conditions for a person to be eligible as an Insider?**\n",
    "- Define periodicity;\n",
    "- The person needs to be similiar to an Insider.\n",
    "\n",
    "\n",
    "**7. What are the conditions for a person to be removed from the Insiders?**\n",
    "- Define periodicity;\n",
    "- The person needs to be different in a certain level to an Insider.\n",
    "\n",
    "**8. What is the guarantee that the Insiders are better than the rest?**\n",
    "- A/B Testing;\n",
    "- A/B Bayesian Testing;\n",
    "- Hypothesis Testing.\n",
    "\n",
    "**9. What actions could be done by the marketing team to increase the revenue?**\n",
    "- Discount;\n",
    "- Purchase preference;\n",
    "- Low shipping;\n",
    "- ..."
   ]
  },
  {
   "cell_type": "markdown",
   "id": "1592a746",
   "metadata": {
    "hidden": true
   },
   "source": [
    "## Solution Benchmark"
   ]
  },
  {
   "cell_type": "markdown",
   "id": "88910dd0",
   "metadata": {
    "hidden": true
   },
   "source": [
    "### RFM Model"
   ]
  },
  {
   "cell_type": "markdown",
   "id": "2ba2304c",
   "metadata": {
    "hidden": true
   },
   "source": [
    "**1. Recency:**\n",
    "- Time since the last purchase;\n",
    "- Responsiveness.\n",
    "\n",
    "**2. Frequency:**\n",
    "- Mean time between transactions;\n",
    "- Engagement.\n",
    "\n",
    "**3. Monetary:**\n",
    "- Total spent;\n",
    "- Revenue."
   ]
  },
  {
   "cell_type": "markdown",
   "id": "f91b0568",
   "metadata": {
    "hidden": true
   },
   "source": [
    "![](img/rfm.png)"
   ]
  },
  {
   "cell_type": "markdown",
   "id": "b1e84a85",
   "metadata": {
    "hidden": true
   },
   "source": [
    "**1. Champions**\n",
    "- Recent and frequent purchases, with high value;\n",
    "- Prizes for these customers.\n",
    "\n",
    "**2. Potential Loyalists**\n",
    "- Recent purchases, with a good frequency and good value;\n",
    "- Loyalty program and Upsell.\n",
    "\n",
    "**3. New Customers**\n",
    "- Recent purchase and low frequency;\n",
    "- Relationship building and offers.\n",
    "\n",
    "**4. At Risk Customer**\n",
    "- It has been a long time since the last purchase;\n",
    "- Reactivation campaigns, offers and products.\n",
    "\n",
    "**5. Can't Lose Them**\n",
    "- Understand the causes and offer some benefits."
   ]
  },
  {
   "cell_type": "markdown",
   "id": "8f44b1f5",
   "metadata": {
    "hidden": true
   },
   "source": []
  },
  {
   "cell_type": "markdown",
   "id": "baf5b796",
   "metadata": {
    "ExecuteTime": {
     "end_time": "2022-03-23T00:25:21.044668Z",
     "start_time": "2022-03-23T00:25:21.029162Z"
    },
    "heading_collapsed": true
   },
   "source": [
    "# 1. Imports"
   ]
  },
  {
   "cell_type": "code",
   "execution_count": 1,
   "id": "7d9ebd13",
   "metadata": {
    "ExecuteTime": {
     "end_time": "2022-03-23T01:30:12.502016Z",
     "start_time": "2022-03-23T01:30:10.856892Z"
    },
    "hidden": true
   },
   "outputs": [],
   "source": [
    "import pandas  as pd\n",
    "import numpy   as np\n",
    "import seaborn as sns\n",
    "\n",
    "from matplotlib              import pyplot as plt\n",
    "\n",
    "from IPython.core.display    import HTML\n",
    "from IPython.display         import Image"
   ]
  },
  {
   "cell_type": "markdown",
   "id": "a375f1dd",
   "metadata": {
    "hidden": true
   },
   "source": [
    "## 1.1. Helper Functions"
   ]
  },
  {
   "cell_type": "code",
   "execution_count": 2,
   "id": "3126c10b",
   "metadata": {
    "ExecuteTime": {
     "end_time": "2022-03-23T01:30:13.399559Z",
     "start_time": "2022-03-23T01:30:13.385554Z"
    },
    "hidden": true
   },
   "outputs": [],
   "source": [
    "def jupyter_settings():\n",
    "    %matplotlib inline\n",
    "\n",
    "    plt.style.use( 'bmh' )\n",
    "    plt.rcParams['figure.figsize'] = [20,8]\n",
    "    plt.rcParams['font.size'] = 11\n",
    "\n",
    "    display( HTML( '<style>.container { width:80% !important; }</style>' ) )\n",
    "    pd.options.display.max_columns = None\n",
    "    pd.options.display.max_rows = None\n",
    "    pd.set_option( 'display.expand_frame_repr', False )\n",
    "    pd.set_option( 'display.max_columns', None )\n",
    "\n",
    "    sns.set_style(\"darkgrid\")\n",
    "    sns.set_palette(\"muted\")"
   ]
  },
  {
   "cell_type": "code",
   "execution_count": 3,
   "id": "c0d571c0",
   "metadata": {
    "ExecuteTime": {
     "end_time": "2022-03-23T01:30:14.272495Z",
     "start_time": "2022-03-23T01:30:14.251489Z"
    },
    "hidden": true
   },
   "outputs": [
    {
     "data": {
      "text/html": [
       "<style>.container { width:80% !important; }</style>"
      ],
      "text/plain": [
       "<IPython.core.display.HTML object>"
      ]
     },
     "metadata": {},
     "output_type": "display_data"
    }
   ],
   "source": [
    "jupyter_settings()"
   ]
  },
  {
   "cell_type": "markdown",
   "id": "ac35f79b",
   "metadata": {
    "hidden": true
   },
   "source": [
    "## 1.2. Load Dataset"
   ]
  },
  {
   "cell_type": "code",
   "execution_count": 5,
   "id": "9b8f06fe",
   "metadata": {
    "ExecuteTime": {
     "end_time": "2022-03-23T01:30:49.450448Z",
     "start_time": "2022-03-23T01:30:48.821236Z"
    },
    "hidden": true
   },
   "outputs": [],
   "source": [
    "# load data\n",
    "df_raw = pd.read_csv( 'data/Ecommerce.csv',  encoding= 'unicode_escape' )\n",
    "\n",
    "# drop extra column\n",
    "df_raw.drop( columns='Unnamed: 8', axis=1, inplace=True)"
   ]
  },
  {
   "cell_type": "code",
   "execution_count": 6,
   "id": "106e92fe",
   "metadata": {
    "ExecuteTime": {
     "end_time": "2022-03-23T01:30:50.125544Z",
     "start_time": "2022-03-23T01:30:50.107540Z"
    },
    "hidden": true
   },
   "outputs": [
    {
     "data": {
      "text/html": [
       "<div>\n",
       "<style scoped>\n",
       "    .dataframe tbody tr th:only-of-type {\n",
       "        vertical-align: middle;\n",
       "    }\n",
       "\n",
       "    .dataframe tbody tr th {\n",
       "        vertical-align: top;\n",
       "    }\n",
       "\n",
       "    .dataframe thead th {\n",
       "        text-align: right;\n",
       "    }\n",
       "</style>\n",
       "<table border=\"1\" class=\"dataframe\">\n",
       "  <thead>\n",
       "    <tr style=\"text-align: right;\">\n",
       "      <th></th>\n",
       "      <th>InvoiceNo</th>\n",
       "      <th>StockCode</th>\n",
       "      <th>Description</th>\n",
       "      <th>Quantity</th>\n",
       "      <th>InvoiceDate</th>\n",
       "      <th>UnitPrice</th>\n",
       "      <th>CustomerID</th>\n",
       "      <th>Country</th>\n",
       "    </tr>\n",
       "  </thead>\n",
       "  <tbody>\n",
       "    <tr>\n",
       "      <th>0</th>\n",
       "      <td>536365</td>\n",
       "      <td>85123A</td>\n",
       "      <td>WHITE HANGING HEART T-LIGHT HOLDER</td>\n",
       "      <td>6</td>\n",
       "      <td>29-Nov-16</td>\n",
       "      <td>2.55</td>\n",
       "      <td>17850.0</td>\n",
       "      <td>United Kingdom</td>\n",
       "    </tr>\n",
       "    <tr>\n",
       "      <th>1</th>\n",
       "      <td>536365</td>\n",
       "      <td>71053</td>\n",
       "      <td>WHITE METAL LANTERN</td>\n",
       "      <td>6</td>\n",
       "      <td>29-Nov-16</td>\n",
       "      <td>3.39</td>\n",
       "      <td>17850.0</td>\n",
       "      <td>United Kingdom</td>\n",
       "    </tr>\n",
       "    <tr>\n",
       "      <th>2</th>\n",
       "      <td>536365</td>\n",
       "      <td>84406B</td>\n",
       "      <td>CREAM CUPID HEARTS COAT HANGER</td>\n",
       "      <td>8</td>\n",
       "      <td>29-Nov-16</td>\n",
       "      <td>2.75</td>\n",
       "      <td>17850.0</td>\n",
       "      <td>United Kingdom</td>\n",
       "    </tr>\n",
       "    <tr>\n",
       "      <th>3</th>\n",
       "      <td>536365</td>\n",
       "      <td>84029G</td>\n",
       "      <td>KNITTED UNION FLAG HOT WATER BOTTLE</td>\n",
       "      <td>6</td>\n",
       "      <td>29-Nov-16</td>\n",
       "      <td>3.39</td>\n",
       "      <td>17850.0</td>\n",
       "      <td>United Kingdom</td>\n",
       "    </tr>\n",
       "    <tr>\n",
       "      <th>4</th>\n",
       "      <td>536365</td>\n",
       "      <td>84029E</td>\n",
       "      <td>RED WOOLLY HOTTIE WHITE HEART.</td>\n",
       "      <td>6</td>\n",
       "      <td>29-Nov-16</td>\n",
       "      <td>3.39</td>\n",
       "      <td>17850.0</td>\n",
       "      <td>United Kingdom</td>\n",
       "    </tr>\n",
       "  </tbody>\n",
       "</table>\n",
       "</div>"
      ],
      "text/plain": [
       "  InvoiceNo StockCode                          Description  Quantity InvoiceDate  UnitPrice  CustomerID         Country\n",
       "0    536365    85123A   WHITE HANGING HEART T-LIGHT HOLDER         6   29-Nov-16       2.55     17850.0  United Kingdom\n",
       "1    536365     71053                  WHITE METAL LANTERN         6   29-Nov-16       3.39     17850.0  United Kingdom\n",
       "2    536365    84406B       CREAM CUPID HEARTS COAT HANGER         8   29-Nov-16       2.75     17850.0  United Kingdom\n",
       "3    536365    84029G  KNITTED UNION FLAG HOT WATER BOTTLE         6   29-Nov-16       3.39     17850.0  United Kingdom\n",
       "4    536365    84029E       RED WOOLLY HOTTIE WHITE HEART.         6   29-Nov-16       3.39     17850.0  United Kingdom"
      ]
     },
     "execution_count": 6,
     "metadata": {},
     "output_type": "execute_result"
    }
   ],
   "source": [
    "df_raw.head()"
   ]
  },
  {
   "cell_type": "markdown",
   "id": "eb0991ff",
   "metadata": {
    "heading_collapsed": true
   },
   "source": [
    "# 2. Data Description"
   ]
  },
  {
   "cell_type": "code",
   "execution_count": 21,
   "id": "6000d0cb",
   "metadata": {
    "ExecuteTime": {
     "end_time": "2022-03-23T01:42:49.787600Z",
     "start_time": "2022-03-23T01:42:49.773605Z"
    },
    "hidden": true
   },
   "outputs": [],
   "source": [
    "df2 = df_raw.copy()"
   ]
  },
  {
   "cell_type": "markdown",
   "id": "d1419773",
   "metadata": {
    "hidden": true
   },
   "source": [
    "## 2.1. Rename Columns"
   ]
  },
  {
   "cell_type": "code",
   "execution_count": 22,
   "id": "4d993c29",
   "metadata": {
    "ExecuteTime": {
     "end_time": "2022-03-23T01:42:50.751207Z",
     "start_time": "2022-03-23T01:42:50.740260Z"
    },
    "hidden": true
   },
   "outputs": [
    {
     "data": {
      "text/html": [
       "<div>\n",
       "<style scoped>\n",
       "    .dataframe tbody tr th:only-of-type {\n",
       "        vertical-align: middle;\n",
       "    }\n",
       "\n",
       "    .dataframe tbody tr th {\n",
       "        vertical-align: top;\n",
       "    }\n",
       "\n",
       "    .dataframe thead th {\n",
       "        text-align: right;\n",
       "    }\n",
       "</style>\n",
       "<table border=\"1\" class=\"dataframe\">\n",
       "  <thead>\n",
       "    <tr style=\"text-align: right;\">\n",
       "      <th></th>\n",
       "      <th>invoice_no</th>\n",
       "      <th>stock_code</th>\n",
       "      <th>description</th>\n",
       "      <th>quantity</th>\n",
       "      <th>invoice_date</th>\n",
       "      <th>unit_price</th>\n",
       "      <th>customer_id</th>\n",
       "      <th>country</th>\n",
       "    </tr>\n",
       "  </thead>\n",
       "  <tbody>\n",
       "    <tr>\n",
       "      <th>0</th>\n",
       "      <td>536365</td>\n",
       "      <td>85123A</td>\n",
       "      <td>WHITE HANGING HEART T-LIGHT HOLDER</td>\n",
       "      <td>6</td>\n",
       "      <td>29-Nov-16</td>\n",
       "      <td>2.55</td>\n",
       "      <td>17850.0</td>\n",
       "      <td>United Kingdom</td>\n",
       "    </tr>\n",
       "    <tr>\n",
       "      <th>1</th>\n",
       "      <td>536365</td>\n",
       "      <td>71053</td>\n",
       "      <td>WHITE METAL LANTERN</td>\n",
       "      <td>6</td>\n",
       "      <td>29-Nov-16</td>\n",
       "      <td>3.39</td>\n",
       "      <td>17850.0</td>\n",
       "      <td>United Kingdom</td>\n",
       "    </tr>\n",
       "    <tr>\n",
       "      <th>2</th>\n",
       "      <td>536365</td>\n",
       "      <td>84406B</td>\n",
       "      <td>CREAM CUPID HEARTS COAT HANGER</td>\n",
       "      <td>8</td>\n",
       "      <td>29-Nov-16</td>\n",
       "      <td>2.75</td>\n",
       "      <td>17850.0</td>\n",
       "      <td>United Kingdom</td>\n",
       "    </tr>\n",
       "    <tr>\n",
       "      <th>3</th>\n",
       "      <td>536365</td>\n",
       "      <td>84029G</td>\n",
       "      <td>KNITTED UNION FLAG HOT WATER BOTTLE</td>\n",
       "      <td>6</td>\n",
       "      <td>29-Nov-16</td>\n",
       "      <td>3.39</td>\n",
       "      <td>17850.0</td>\n",
       "      <td>United Kingdom</td>\n",
       "    </tr>\n",
       "    <tr>\n",
       "      <th>4</th>\n",
       "      <td>536365</td>\n",
       "      <td>84029E</td>\n",
       "      <td>RED WOOLLY HOTTIE WHITE HEART.</td>\n",
       "      <td>6</td>\n",
       "      <td>29-Nov-16</td>\n",
       "      <td>3.39</td>\n",
       "      <td>17850.0</td>\n",
       "      <td>United Kingdom</td>\n",
       "    </tr>\n",
       "  </tbody>\n",
       "</table>\n",
       "</div>"
      ],
      "text/plain": [
       "  invoice_no stock_code                          description  quantity invoice_date  unit_price  customer_id         country\n",
       "0     536365     85123A   WHITE HANGING HEART T-LIGHT HOLDER         6    29-Nov-16        2.55      17850.0  United Kingdom\n",
       "1     536365      71053                  WHITE METAL LANTERN         6    29-Nov-16        3.39      17850.0  United Kingdom\n",
       "2     536365     84406B       CREAM CUPID HEARTS COAT HANGER         8    29-Nov-16        2.75      17850.0  United Kingdom\n",
       "3     536365     84029G  KNITTED UNION FLAG HOT WATER BOTTLE         6    29-Nov-16        3.39      17850.0  United Kingdom\n",
       "4     536365     84029E       RED WOOLLY HOTTIE WHITE HEART.         6    29-Nov-16        3.39      17850.0  United Kingdom"
      ]
     },
     "execution_count": 22,
     "metadata": {},
     "output_type": "execute_result"
    }
   ],
   "source": [
    "cols_new = ['invoice_no', 'stock_code', 'description', 'quantity', 'invoice_date', 'unit_price', 'customer_id', 'country']\n",
    "\n",
    "# rename columns\n",
    "df2.columns = cols_new\n",
    "df2.head()"
   ]
  },
  {
   "cell_type": "markdown",
   "id": "3232b8e7",
   "metadata": {
    "hidden": true
   },
   "source": [
    "## 2.2. Data Dimensions"
   ]
  },
  {
   "cell_type": "code",
   "execution_count": 23,
   "id": "0972cafd",
   "metadata": {
    "ExecuteTime": {
     "end_time": "2022-03-23T01:42:51.849595Z",
     "start_time": "2022-03-23T01:42:51.844594Z"
    },
    "hidden": true
   },
   "outputs": [
    {
     "name": "stdout",
     "output_type": "stream",
     "text": [
      "Number of rows: 541909\n",
      "Number of columns: 8\n"
     ]
    }
   ],
   "source": [
    "print( 'Number of rows: {}'.format( df2.shape[0] ) )\n",
    "print( 'Number of columns: {}'.format( df2.shape[1] ) )"
   ]
  },
  {
   "cell_type": "markdown",
   "id": "819d18a4",
   "metadata": {
    "hidden": true
   },
   "source": [
    "## 2.3. Data Types"
   ]
  },
  {
   "cell_type": "code",
   "execution_count": 24,
   "id": "3208575b",
   "metadata": {
    "ExecuteTime": {
     "end_time": "2022-03-23T01:42:53.097504Z",
     "start_time": "2022-03-23T01:42:53.091502Z"
    },
    "hidden": true
   },
   "outputs": [
    {
     "data": {
      "text/plain": [
       "invoice_no       object\n",
       "stock_code       object\n",
       "description      object\n",
       "quantity          int64\n",
       "invoice_date     object\n",
       "unit_price      float64\n",
       "customer_id     float64\n",
       "country          object\n",
       "dtype: object"
      ]
     },
     "execution_count": 24,
     "metadata": {},
     "output_type": "execute_result"
    }
   ],
   "source": [
    "df2.dtypes"
   ]
  },
  {
   "cell_type": "markdown",
   "id": "4e5abbf5",
   "metadata": {
    "hidden": true
   },
   "source": [
    "## 2.4. Check NA"
   ]
  },
  {
   "cell_type": "code",
   "execution_count": 25,
   "id": "d58df37e",
   "metadata": {
    "ExecuteTime": {
     "end_time": "2022-03-23T01:42:55.656812Z",
     "start_time": "2022-03-23T01:42:55.298732Z"
    },
    "hidden": true
   },
   "outputs": [
    {
     "data": {
      "text/plain": [
       "invoice_no           0\n",
       "stock_code           0\n",
       "description       1454\n",
       "quantity             0\n",
       "invoice_date         0\n",
       "unit_price           0\n",
       "customer_id     135080\n",
       "country              0\n",
       "dtype: int64"
      ]
     },
     "execution_count": 25,
     "metadata": {},
     "output_type": "execute_result"
    }
   ],
   "source": [
    "df2.isna().sum()"
   ]
  },
  {
   "cell_type": "markdown",
   "id": "1890d61e",
   "metadata": {
    "hidden": true
   },
   "source": [
    "## 2.5. Replace NA"
   ]
  },
  {
   "cell_type": "code",
   "execution_count": 29,
   "id": "cee272b3",
   "metadata": {
    "ExecuteTime": {
     "end_time": "2022-03-23T01:45:16.604692Z",
     "start_time": "2022-03-23T01:45:16.519533Z"
    },
    "hidden": true
   },
   "outputs": [
    {
     "name": "stdout",
     "output_type": "stream",
     "text": [
      "Removed data: 24.93%\n",
      "Rows left: 406829\n"
     ]
    }
   ],
   "source": [
    "# remove NA\n",
    "df2 = df2.dropna( subset=['description', 'customer_id'] )\n",
    "print( 'Removed data: {:.2f}%'.format( ( 1 - ( df2.shape[0] / df_raw.shape[0] ) ) * 100 ) )\n",
    "print( 'Rows left: {}'.format( df2.shape[0]  ) )"
   ]
  },
  {
   "cell_type": "code",
   "execution_count": 30,
   "id": "4d166356",
   "metadata": {
    "ExecuteTime": {
     "end_time": "2022-03-23T01:45:33.181177Z",
     "start_time": "2022-03-23T01:45:32.913749Z"
    },
    "hidden": true
   },
   "outputs": [
    {
     "data": {
      "text/plain": [
       "invoice_no      0\n",
       "stock_code      0\n",
       "description     0\n",
       "quantity        0\n",
       "invoice_date    0\n",
       "unit_price      0\n",
       "customer_id     0\n",
       "country         0\n",
       "dtype: int64"
      ]
     },
     "execution_count": 30,
     "metadata": {},
     "output_type": "execute_result"
    }
   ],
   "source": [
    "df2.isna().sum()"
   ]
  },
  {
   "cell_type": "markdown",
   "id": "19b8a8c4",
   "metadata": {
    "hidden": true
   },
   "source": [
    "## 2.6. Change dtypes"
   ]
  },
  {
   "cell_type": "code",
   "execution_count": 34,
   "id": "a316bb83",
   "metadata": {
    "ExecuteTime": {
     "end_time": "2022-03-23T01:48:30.274121Z",
     "start_time": "2022-03-23T01:48:30.242114Z"
    },
    "hidden": true
   },
   "outputs": [
    {
     "data": {
      "text/html": [
       "<div>\n",
       "<style scoped>\n",
       "    .dataframe tbody tr th:only-of-type {\n",
       "        vertical-align: middle;\n",
       "    }\n",
       "\n",
       "    .dataframe tbody tr th {\n",
       "        vertical-align: top;\n",
       "    }\n",
       "\n",
       "    .dataframe thead th {\n",
       "        text-align: right;\n",
       "    }\n",
       "</style>\n",
       "<table border=\"1\" class=\"dataframe\">\n",
       "  <thead>\n",
       "    <tr style=\"text-align: right;\">\n",
       "      <th></th>\n",
       "      <th>invoice_no</th>\n",
       "      <th>stock_code</th>\n",
       "      <th>description</th>\n",
       "      <th>quantity</th>\n",
       "      <th>invoice_date</th>\n",
       "      <th>unit_price</th>\n",
       "      <th>customer_id</th>\n",
       "      <th>country</th>\n",
       "    </tr>\n",
       "  </thead>\n",
       "  <tbody>\n",
       "    <tr>\n",
       "      <th>0</th>\n",
       "      <td>536365</td>\n",
       "      <td>85123A</td>\n",
       "      <td>WHITE HANGING HEART T-LIGHT HOLDER</td>\n",
       "      <td>6</td>\n",
       "      <td>2016-11-29</td>\n",
       "      <td>2.55</td>\n",
       "      <td>17850</td>\n",
       "      <td>United Kingdom</td>\n",
       "    </tr>\n",
       "    <tr>\n",
       "      <th>1</th>\n",
       "      <td>536365</td>\n",
       "      <td>71053</td>\n",
       "      <td>WHITE METAL LANTERN</td>\n",
       "      <td>6</td>\n",
       "      <td>2016-11-29</td>\n",
       "      <td>3.39</td>\n",
       "      <td>17850</td>\n",
       "      <td>United Kingdom</td>\n",
       "    </tr>\n",
       "    <tr>\n",
       "      <th>2</th>\n",
       "      <td>536365</td>\n",
       "      <td>84406B</td>\n",
       "      <td>CREAM CUPID HEARTS COAT HANGER</td>\n",
       "      <td>8</td>\n",
       "      <td>2016-11-29</td>\n",
       "      <td>2.75</td>\n",
       "      <td>17850</td>\n",
       "      <td>United Kingdom</td>\n",
       "    </tr>\n",
       "    <tr>\n",
       "      <th>3</th>\n",
       "      <td>536365</td>\n",
       "      <td>84029G</td>\n",
       "      <td>KNITTED UNION FLAG HOT WATER BOTTLE</td>\n",
       "      <td>6</td>\n",
       "      <td>2016-11-29</td>\n",
       "      <td>3.39</td>\n",
       "      <td>17850</td>\n",
       "      <td>United Kingdom</td>\n",
       "    </tr>\n",
       "    <tr>\n",
       "      <th>4</th>\n",
       "      <td>536365</td>\n",
       "      <td>84029E</td>\n",
       "      <td>RED WOOLLY HOTTIE WHITE HEART.</td>\n",
       "      <td>6</td>\n",
       "      <td>2016-11-29</td>\n",
       "      <td>3.39</td>\n",
       "      <td>17850</td>\n",
       "      <td>United Kingdom</td>\n",
       "    </tr>\n",
       "  </tbody>\n",
       "</table>\n",
       "</div>"
      ],
      "text/plain": [
       "  invoice_no stock_code                          description  quantity invoice_date  unit_price  customer_id         country\n",
       "0     536365     85123A   WHITE HANGING HEART T-LIGHT HOLDER         6   2016-11-29        2.55        17850  United Kingdom\n",
       "1     536365      71053                  WHITE METAL LANTERN         6   2016-11-29        3.39        17850  United Kingdom\n",
       "2     536365     84406B       CREAM CUPID HEARTS COAT HANGER         8   2016-11-29        2.75        17850  United Kingdom\n",
       "3     536365     84029G  KNITTED UNION FLAG HOT WATER BOTTLE         6   2016-11-29        3.39        17850  United Kingdom\n",
       "4     536365     84029E       RED WOOLLY HOTTIE WHITE HEART.         6   2016-11-29        3.39        17850  United Kingdom"
      ]
     },
     "execution_count": 34,
     "metadata": {},
     "output_type": "execute_result"
    }
   ],
   "source": [
    "# invoice date\n",
    "df2['invoice_date'] = pd.to_datetime( df2['invoice_date'], format='%d-%b-%y' )\n",
    "\n",
    "# customer_id\n",
    "df2['customer_id'] = df2['customer_id'].astype( int )\n",
    "df2.head()"
   ]
  },
  {
   "cell_type": "code",
   "execution_count": 35,
   "id": "508d1ef1",
   "metadata": {
    "ExecuteTime": {
     "end_time": "2022-03-23T01:48:50.932788Z",
     "start_time": "2022-03-23T01:48:50.921786Z"
    },
    "hidden": true
   },
   "outputs": [
    {
     "data": {
      "text/plain": [
       "invoice_no              object\n",
       "stock_code              object\n",
       "description             object\n",
       "quantity                 int64\n",
       "invoice_date    datetime64[ns]\n",
       "unit_price             float64\n",
       "customer_id              int32\n",
       "country                 object\n",
       "dtype: object"
      ]
     },
     "execution_count": 35,
     "metadata": {},
     "output_type": "execute_result"
    }
   ],
   "source": [
    "df2.dtypes"
   ]
  }
 ],
 "metadata": {
  "kernelspec": {
   "display_name": "Python 3 (ipykernel)",
   "language": "python",
   "name": "python3"
  },
  "language_info": {
   "codemirror_mode": {
    "name": "ipython",
    "version": 3
   },
   "file_extension": ".py",
   "mimetype": "text/x-python",
   "name": "python",
   "nbconvert_exporter": "python",
   "pygments_lexer": "ipython3",
   "version": "3.8.12"
  }
 },
 "nbformat": 4,
 "nbformat_minor": 5
}
